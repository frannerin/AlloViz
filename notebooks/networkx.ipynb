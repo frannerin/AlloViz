{
 "cells": [
  {
   "cell_type": "markdown",
   "id": "d22f2260-263c-446d-bd8d-562df50a0fd9",
   "metadata": {},
   "source": [
    "# Use of NetworkX algorithms\n",
    "\n",
    "[![Binder](https://mybinder.org/badge_logo.svg)](https://mybinder.org/v2/gh/frannerin/AlloViz/HEAD?labpath=notebooks%2Fnetworkx.ipynb)"
   ]
  },
  {
   "cell_type": "code",
   "execution_count": 1,
   "id": "ced01365",
   "metadata": {},
   "outputs": [],
   "source": [
    "import AlloViz"
   ]
  },
  {
   "cell_type": "markdown",
   "id": "1246eada-adb5-4b1f-bba7-25742106a758",
   "metadata": {
    "tags": []
   },
   "source": [
    "## System setup"
   ]
  },
  {
   "cell_type": "markdown",
   "id": "0b493782-6b66-4e66-a39e-6932167f5056",
   "metadata": {},
   "source": [
    "We are going to use the GPCRmd structure and simulations of GPCR Beta-2 adrenergic receptor (B2AR) in the inactive form bound to carazolol (inverse agonist, [160](https://gpcrmd.org/view/160/)). The network will be built with `PyInteraph2_Contacts`, which measures the distance-based residue contacts along the trajectory, and will be filtered with the `Spatially_distant` filter to leave out residue pairs too close to each other, with a minimum distance of 20 Angstroms."
   ]
  },
  {
   "cell_type": "code",
   "execution_count": 2,
   "id": "572d3f7c-ca4c-4f78-a520-ae128a98be1c",
   "metadata": {},
   "outputs": [
    {
     "name": "stderr",
     "output_type": "stream",
     "text": [
      "/home/frann/miniconda3/envs/alloviznew/lib/python3.9/site-packages/MDAnalysis/coordinates/PDB.py:431: UserWarning: 1 A^3 CRYST1 record, this is usually a placeholder. Unit cell dimensions will be set to None.\n",
      "  warnings.warn(\"1 A^3 CRYST1 record,\"\n"
     ]
    }
   ],
   "source": [
    "system = AlloViz.Protein(pdb=\"data/160/protein.pdb\",\n",
    "                         trajs=\"data/160/traj_1.xtc\",\n",
    "                         path=\"data/160\")"
   ]
  },
  {
   "cell_type": "code",
   "execution_count": 3,
   "id": "3f1f408c-fb9b-4a30-92e0-e4f43e13e960",
   "metadata": {
    "tags": []
   },
   "outputs": [
    {
     "name": "stdout",
     "output_type": "stream",
     "text": [
      "PyInteraph2_Contacts\n",
      "adding raw data of PyInteraph2_Contacts for data/160/protein.pdb:  ['data/160/data/PyInteraph2_Contacts/raw/1.pq']\n",
      "Please, make sure to correctly cite the package used to compute the network: PyInteraph2 (https://github.com/ELELAB/pyinteraph2)\n"
     ]
    },
    {
     "data": {
      "text/plain": [
       "<AlloViz.Wrappers.PyInteraph2_w.PyInteraph2_Contacts at 0x7fbee7b8c8b0>"
      ]
     },
     "execution_count": 3,
     "metadata": {},
     "output_type": "execute_result"
    }
   ],
   "source": [
    "system.calculate(pkgs=\"PyInteraph2_Contacts\")"
   ]
  },
  {
   "cell_type": "code",
   "execution_count": 4,
   "id": "ba3c8852-0f39-4d38-83e5-acb9a4ad5730",
   "metadata": {},
   "outputs": [
    {
     "data": {
      "text/plain": [
       "<AlloViz.AlloViz.Filtering.Filtering at 0x7fbee8625a60>"
      ]
     },
     "execution_count": 4,
     "metadata": {},
     "output_type": "execute_result"
    }
   ],
   "source": [
    "system.filter(filterings=\"Spatially_distant\", Interresidue_distance=20)\n",
    "# the same as doing: system.PyInteraph2_Contacts.filter(filterings=\"Spatially_distant\", Interresidue_distance=20)"
   ]
  },
  {
   "cell_type": "markdown",
   "id": "021c253f-caf5-4804-9190-1bbf2dab1fbd",
   "metadata": {},
   "source": [
    "Filtered networks are stored as NetworkX Graph objects and can be passed to NetworkX analysis functions."
   ]
  },
  {
   "cell_type": "code",
   "execution_count": 5,
   "id": "979c9295-b7f0-4546-9482-5d86b654522c",
   "metadata": {},
   "outputs": [
    {
     "data": {
      "text/plain": [
       "{'weight': <networkx.classes.graph.Graph at 0x7fbf740448e0>}"
      ]
     },
     "execution_count": 5,
     "metadata": {},
     "output_type": "execute_result"
    }
   ],
   "source": [
    "system.PyInteraph2_Contacts.Spatially_distant.graphs"
   ]
  },
  {
   "cell_type": "code",
   "execution_count": 6,
   "id": "b400a126-c973-4c38-b9a7-b7482315cda3",
   "metadata": {},
   "outputs": [],
   "source": [
    "graph = system.PyInteraph2_Contacts.Spatially_distant.graphs[\"weight\"]"
   ]
  },
  {
   "cell_type": "markdown",
   "id": "2d5af2d8-e9c7-438c-b1a1-21e2bdf47b44",
   "metadata": {},
   "source": [
    "## NetworkX\n",
    "\n",
    "To use NetworkX's functions, we must specify that the edge weights are stored with the name \"weight\". For example, if we want to use NetworkX's shortest paths analysis:"
   ]
  },
  {
   "cell_type": "code",
   "execution_count": 7,
   "id": "8ecb2047-1690-484b-8245-2597b74af57c",
   "metadata": {},
   "outputs": [],
   "source": [
    "from networkx.algorithms.shortest_paths.generic import shortest_path"
   ]
  },
  {
   "cell_type": "code",
   "execution_count": 8,
   "id": "6363f252-35b3-48ee-bc73-d437c7837193",
   "metadata": {
    "scrolled": true,
    "tags": []
   },
   "outputs": [],
   "source": [
    "paths = shortest_path(graph, weight=\"weight\")"
   ]
  },
  {
   "cell_type": "markdown",
   "id": "050f444f-a7b9-4115-af7c-cc3ce89ef1f8",
   "metadata": {},
   "source": [
    "For example, to view all analyzed shortest paths between residue `ALA:134` and any other residue that is connected to it, after the network has been filtered:"
   ]
  },
  {
   "cell_type": "code",
   "execution_count": 9,
   "id": "823fc04f-f326-4792-b5ad-d3b56eaa67fb",
   "metadata": {
    "scrolled": true,
    "tags": []
   },
   "outputs": [
    {
     "data": {
      "text/plain": [
       "{'ALA:134': ['ALA:134'],\n",
       " 'GLY:257': ['ALA:134', 'GLY:257'],\n",
       " 'PRO:138': ['ALA:134', 'GLY:257', 'PRO:138'],\n",
       " 'PHE:139': ['ALA:134', 'GLY:257', 'PHE:139'],\n",
       " 'TYR:141': ['ALA:134', 'GLY:257', 'TYR:141'],\n",
       " 'GLN:142': ['ALA:134', 'GLY:257', 'GLN:142'],\n",
       " 'SER:143': ['ALA:134', 'GLY:257', 'SER:143'],\n",
       " 'GLN:229': ['ALA:134', 'GLY:257', 'GLN:229'],\n",
       " 'LEU:258': ['ALA:134', 'GLY:257', 'PHE:139', 'LEU:258'],\n",
       " 'ARG:259': ['ALA:134', 'GLY:257', 'GLN:142', 'ARG:259'],\n",
       " 'GLY:238': ['ALA:134', 'GLY:257', 'PRO:138', 'GLY:238'],\n",
       " 'GLU:225': ['ALA:134', 'GLY:257', 'GLN:142', 'ARG:259', 'GLU:225'],\n",
       " 'VAL:242': ['ALA:134', 'GLY:257', 'GLN:142', 'ARG:259', 'VAL:242'],\n",
       " 'GLN:224': ['ALA:134', 'GLY:257', 'GLN:142', 'ARG:259', 'VAL:242', 'GLN:224'],\n",
       " 'ARG:228': ['ALA:134', 'GLY:257', 'GLN:142', 'ARG:259', 'VAL:242', 'ARG:228'],\n",
       " 'GLN:231': ['ALA:134', 'GLY:257', 'GLN:142', 'ARG:259', 'VAL:242', 'GLN:231'],\n",
       " 'HIS:269': ['ALA:134', 'GLY:257', 'GLN:142', 'ARG:259', 'VAL:242', 'HIS:269'],\n",
       " 'PHE:240': ['ALA:134',\n",
       "  'GLY:257',\n",
       "  'GLN:142',\n",
       "  'ARG:259',\n",
       "  'VAL:242',\n",
       "  'ARG:228',\n",
       "  'PHE:240'],\n",
       " 'HIS:241': ['ALA:134',\n",
       "  'GLY:257',\n",
       "  'GLN:142',\n",
       "  'ARG:259',\n",
       "  'VAL:242',\n",
       "  'ARG:228',\n",
       "  'HIS:241'],\n",
       " 'LEU:266': ['ALA:134',\n",
       "  'GLY:257',\n",
       "  'GLN:142',\n",
       "  'ARG:259',\n",
       "  'VAL:242',\n",
       "  'ARG:228',\n",
       "  'PHE:240',\n",
       "  'LEU:266'],\n",
       " 'LYS:227': ['ALA:134',\n",
       "  'GLY:257',\n",
       "  'GLN:142',\n",
       "  'ARG:259',\n",
       "  'VAL:242',\n",
       "  'ARG:228',\n",
       "  'HIS:241',\n",
       "  'LYS:227']}"
      ]
     },
     "execution_count": 9,
     "metadata": {},
     "output_type": "execute_result"
    }
   ],
   "source": [
    "paths[\"ALA:134\"]"
   ]
  },
  {
   "cell_type": "markdown",
   "id": "61cd3cb8-6ab8-4036-b006-ee067b2c25f2",
   "metadata": {},
   "source": [
    "## Alternative NetworkX's centrality analyses and visualization"
   ]
  },
  {
   "cell_type": "markdown",
   "id": "f5ad5912-5779-4c0c-9b70-d434046edc8f",
   "metadata": {},
   "source": [
    "AlloViz's `analyze` method allows to use any NetworkX analysis that returns a list of node values or edge values (e.g., node or edge centrality analyses), and its posterior visualization with the `view` method.\n",
    "\n",
    "The absolute Python import of the analysis function with a custom short name for it must be passed as a dictionary to the `analyze` method. The default node_dict and edge_dict (with \"btw\" and \"cfb\") are already part of the Analysis module:"
   ]
  },
  {
   "cell_type": "code",
   "execution_count": 10,
   "id": "36714491-7474-4261-b32b-3e3b07bd936c",
   "metadata": {},
   "outputs": [
    {
     "data": {
      "text/plain": [
       "{'btw': 'networkx.algorithms.centrality.betweenness_centrality',\n",
       " 'cfb': 'networkx.algorithms.centrality.current_flow_betweenness_centrality'}"
      ]
     },
     "execution_count": 10,
     "metadata": {},
     "output_type": "execute_result"
    }
   ],
   "source": [
    "AlloViz.AlloViz.Analysis.nodes_dict"
   ]
  },
  {
   "cell_type": "markdown",
   "id": "88c43e6f-f52e-4f85-9c88-3a03443349d7",
   "metadata": {},
   "source": [
    "Therefore, a new centrality analysis function for the nodes (e.g., [load centrality](https://networkx.org/documentation/stable/reference/algorithms/generated/networkx.algorithms.centrality.load_centrality.html)) can be used with:"
   ]
  },
  {
   "cell_type": "code",
   "execution_count": 11,
   "id": "26c920fc-942e-4eac-8883-d4e543726ffc",
   "metadata": {},
   "outputs": [
    {
     "name": "stdout",
     "output_type": "stream",
     "text": [
      "adding analyzed nodes <AlloViz.Wrappers.PyInteraph2_w.PyInteraph2_Contacts object at 0x7fbee7b8c8b0> Spatially_distant data of for data/160/protein.pdb\n"
     ]
    }
   ],
   "source": [
    "system.analyze(elements=\"nodes\", metrics=\"load\", nodes_dict={\"load\": \"networkx.algorithms.centrality.load_centrality\"})"
   ]
  },
  {
   "cell_type": "markdown",
   "id": "0932ff13-7e75-4aa3-9375-cb7eafafc9f3",
   "metadata": {},
   "source": [
    "The load centrality of a node is the fraction of all shortest paths that pass through that node. The results can be visualized as a usual:"
   ]
  },
  {
   "cell_type": "code",
   "execution_count": 12,
   "id": "aa7ca24c-24ed-456e-81ce-5604602419e2",
   "metadata": {},
   "outputs": [
    {
     "data": {
      "application/vnd.jupyter.widget-view+json": {
       "model_id": "9f9eafe801ac491c8fdd879480c55f50",
       "version_major": 2,
       "version_minor": 0
      },
      "text/plain": []
     },
     "metadata": {},
     "output_type": "display_data"
    },
    {
     "name": "stderr",
     "output_type": "stream",
     "text": [
      "/home/frann/miniconda3/envs/alloviznew/lib/python3.9/site-packages/MDAnalysis/coordinates/PDB.py:431: UserWarning: 1 A^3 CRYST1 record, this is usually a placeholder. Unit cell dimensions will be set to None.\n",
      "  warnings.warn(\"1 A^3 CRYST1 record,\"\n"
     ]
    },
    {
     "data": {
      "application/vnd.jupyter.widget-view+json": {
       "model_id": "e447d089cfa243fbb190eaca0862550c",
       "version_major": 2,
       "version_minor": 0
      },
      "text/plain": [
       "NGLWidget()"
      ]
     },
     "metadata": {},
     "output_type": "display_data"
    },
    {
     "data": {
      "image/png": "[encoded data removed]",
      "text/plain": [
       "<Figure size 640x480 with 2 Axes>"
      ]
     },
     "metadata": {},
     "output_type": "display_data"
    }
   ],
   "source": [
    "system.view(\"PyInteraph2_Contacts\", \"load\", \"Spatially_distant\", \"nodes\")"
   ]
  }
 ],
 "metadata": {
  "kernelspec": {
   "display_name": "Python 3 (ipykernel)",
   "language": "python",
   "name": "python3"
  },
  "language_info": {
   "codemirror_mode": {
    "name": "ipython",
    "version": 3
   },
   "file_extension": ".py",
   "mimetype": "text/x-python",
   "name": "python",
   "nbconvert_exporter": "python",
   "pygments_lexer": "ipython3",
   "version": "3.9.18"
  },
  "toc-autonumbering": false,
  "toc-showtags": true,
  "widgets": {
   "application/vnd.jupyter.widget-state+json": {
    "state": {
     "1618f7f7e8e2414fa2a5f31e2bf5db03": {
      "model_module": "@jupyter-widgets/base",
      "model_module_version": "1.2.0",
      "model_name": "LayoutModel",
      "state": {}
     },
     "1822791399754279aa25aa2aac1ddf8d": {
      "model_module": "@jupyter-widgets/base",
      "model_module_version": "1.2.0",
      "model_name": "LayoutModel",
      "state": {}
     },
     "3cf29be14e774266b1f3d1319663f6cd": {
      "model_module": "@jupyter-widgets/controls",
      "model_module_version": "1.5.0",
      "model_name": "SliderStyleModel",
      "state": {
       "description_width": ""
      }
     },
     "5ad366cb041f4d7297b1fa593647b2bf": {
      "model_module": "@jupyter-widgets/controls",
      "model_module_version": "1.5.0",
      "model_name": "HBoxModel",
      "state": {
       "children": [
        "IPY_MODEL_8771c97f6ecd413bb997b52766399f39",
        "IPY_MODEL_c11eeed3b9314908b2565e060327720e"
       ],
       "layout": "IPY_MODEL_1822791399754279aa25aa2aac1ddf8d"
      }
     },
     "5b57f8618898415eaeefab0fba9393a9": {
      "model_module": "@jupyter-widgets/base",
      "model_module_version": "1.2.0",
      "model_name": "LayoutModel",
      "state": {}
     },
     "6e49dc573951414594b01b0de627e678": {
      "model_module": "@jupyter-widgets/controls",
      "model_module_version": "1.5.0",
      "model_name": "LinkModel",
      "state": {
       "source": [
        "IPY_MODEL_8771c97f6ecd413bb997b52766399f39",
        "max"
       ],
       "target": [
        "IPY_MODEL_e447d089cfa243fbb190eaca0862550c",
        "max_frame"
       ]
      }
     },
     "71f4389f4f0a43498af75df790252f08": {
      "model_module": "@jupyter-widgets/base",
      "model_module_version": "1.2.0",
      "model_name": "LayoutModel",
      "state": {}
     },
     "79aebbce5e1640b58cc14270db2ccd00": {
      "model_module": "@jupyter-widgets/controls",
      "model_module_version": "1.5.0",
      "model_name": "ImageModel",
      "state": {
       "layout": "IPY_MODEL_9c3f0fe53fc049908838ee9286d40923",
       "width": "900.0"
      }
     },
     "7c2d7813249c44d8bbe0a9611a857ba9": {
      "model_module": "@jupyter-widgets/controls",
      "model_module_version": "1.5.0",
      "model_name": "ButtonModel",
      "state": {
       "icon": "compress",
       "layout": "IPY_MODEL_be770fd7585047099e30f527f25105e5",
       "style": "IPY_MODEL_b1404d804853491b99885f2788739cce"
      }
     },
     "8771c97f6ecd413bb997b52766399f39": {
      "model_module": "@jupyter-widgets/controls",
      "model_module_version": "1.5.0",
      "model_name": "PlayModel",
      "state": {
       "layout": "IPY_MODEL_8f27b52982c74a04849226a7a7ebd649",
       "max": 0,
       "style": "IPY_MODEL_e91f713619e84dd69fcd41dae5215635"
      }
     },
     "8be235a33fd1424888592672d12afd3a": {
      "model_module": "@jupyter-widgets/controls",
      "model_module_version": "1.5.0",
      "model_name": "LinkModel",
      "state": {
       "source": [
        "IPY_MODEL_c11eeed3b9314908b2565e060327720e",
        "max"
       ],
       "target": [
        "IPY_MODEL_e447d089cfa243fbb190eaca0862550c",
        "max_frame"
       ]
      }
     },
     "8f27b52982c74a04849226a7a7ebd649": {
      "model_module": "@jupyter-widgets/base",
      "model_module_version": "1.2.0",
      "model_name": "LayoutModel",
      "state": {}
     },
     "9c3f0fe53fc049908838ee9286d40923": {
      "model_module": "@jupyter-widgets/base",
      "model_module_version": "1.2.0",
      "model_name": "LayoutModel",
      "state": {}
     },
     "9f9eafe801ac491c8fdd879480c55f50": {
      "model_module": "nglview-js-widgets",
      "model_module_version": "3.0.6",
      "model_name": "ColormakerRegistryModel",
      "state": {
       "_msg_ar": [],
       "_msg_q": [],
       "_ready": true,
       "layout": "IPY_MODEL_1618f7f7e8e2414fa2a5f31e2bf5db03"
      }
     },
     "b1404d804853491b99885f2788739cce": {
      "model_module": "@jupyter-widgets/controls",
      "model_module_version": "1.5.0",
      "model_name": "ButtonStyleModel",
      "state": {}
     },
     "b4769d48485041b1af01c4cd6b659b36": {
      "model_module": "@jupyter-widgets/controls",
      "model_module_version": "1.5.0",
      "model_name": "LinkModel",
      "state": {
       "source": [
        "IPY_MODEL_8771c97f6ecd413bb997b52766399f39",
        "value"
       ],
       "target": [
        "IPY_MODEL_c11eeed3b9314908b2565e060327720e",
        "value"
       ]
      }
     },
     "be770fd7585047099e30f527f25105e5": {
      "model_module": "@jupyter-widgets/base",
      "model_module_version": "1.2.0",
      "model_name": "LayoutModel",
      "state": {
       "width": "34px"
      }
     },
     "c11eeed3b9314908b2565e060327720e": {
      "model_module": "@jupyter-widgets/controls",
      "model_module_version": "1.5.0",
      "model_name": "IntSliderModel",
      "state": {
       "layout": "IPY_MODEL_5b57f8618898415eaeefab0fba9393a9",
       "max": 0,
       "style": "IPY_MODEL_3cf29be14e774266b1f3d1319663f6cd"
      }
     },
     "e447d089cfa243fbb190eaca0862550c": {
      "model_module": "nglview-js-widgets",
      "model_module_version": "3.0.6",
      "model_name": "NGLModel",
      "state": {
       "_camera_orientation": [
        148.00208896429157,
        0,
        0,
        0,
        0,
        148.00208896429157,
        0,
        0,
        0,
        0,
        148.00208896429157,
        0,
        1.6864995956420898,
        -2.1429996490478516,
        11.79800033569336,
        1
       ],
       "_camera_str": "orthographic",
       "_gui_theme": null,
       "_ibtn_fullscreen": "IPY_MODEL_7c2d7813249c44d8bbe0a9611a857ba9",
       "_igui": null,
       "_iplayer": "IPY_MODEL_5ad366cb041f4d7297b1fa593647b2bf",
       "_ngl_color_dict": {},
       "_ngl_coordinate_resource": {},
       "_ngl_full_stage_parameters": {
        "ambientColor": 14540253,
        "ambientIntensity": 0.2,
        "backgroundColor": "white",
        "cameraEyeSep": 0.3,
        "cameraFov": 40,
        "cameraType": "perspective",
        "clipDist": 10,
        "clipFar": 100,
        "clipMode": "scene",
        "clipNear": 0,
        "clipScale": "relative",
        "fogFar": 100,
        "fogNear": 50,
        "hoverTimeout": 0,
        "impostor": true,
        "lightColor": 14540253,
        "lightIntensity": 1,
        "mousePreset": "default",
        "panSpeed": 1,
        "quality": "medium",
        "rotateSpeed": 2,
        "sampleLevel": 0,
        "tooltip": true,
        "workerDefault": true,
        "zoomSpeed": 1.2
       },
       "_ngl_msg_archive": [
        {
         "args": [
          {
           "binary": false,
           "data": "HEADER    \nTITLE     MDANALYSIS FRAME 0: Created by PDBWriter\nREMARK     285 UNITARY VALUES FOR THE UNIT CELL AUTOMATICALLY SET\nREMARK     285 BY MDANALYSIS PDBWRITER BECAUSE UNIT CELL INFORMATION\nREMARK     285 WAS MISSING.\nREMARK     285 PROTEIN DATA BANK CONVENTIONS REQUIRE THAT\nREMARK     285 CRYST1 RECORD IS INCLUDED, BUT THE VALUES ON\nREMARK     285 THIS RECORD ARE MEANINGLESS.\nCRYST1    1.000    1.000    1.000  90.00  90.00  90.00 P 1           1\nREMARK     285 UNITARY VALUES FOR THE UNIT CELL AUTOMATICALLY SET\nREMARK     285 BY MDANALYSIS PDBWRITER BECAUSE UNIT CELL INFORMATION\nREMARK     285 WAS MISSING.\nREMARK     285 PROTEIN DATA BANK CONVENTIONS REQUIRE THAT\nREMARK     285 CRYST1 RECORD IS INCLUDED, BUT THE VALUES ON\nREMARK     285 THIS RECORD ARE MEANINGLESS.\nATOM      1  CAY GLN A  26     -13.131  23.795  24.288  0.00  0.00      P0   C\nATOM      2  HY1 GLN A  26     -13.405  24.138  25.186  0.00  0.00      P0   H\nATOM      3  HY2 GLN A  26     -13.651  24.261  23.572  0.00  0.00      P0   H\nATOM      4  HY3 GLN A  26     -12.152  23.945  24.150  0.00  0.00      P0   H\nATOM      5  CY  GLN A  26     -13.321  22.815  24.242  0.00  0.00      P0   C\nATOM      6  OY  GLN A  26     -13.047  22.472  23.344  0.00  0.00      P0   O\nATOM      7  N   GLN A  26     -13.718  22.519  25.111  0.00  1.00      P0   N\nATOM      8  HN  GLN A  26     -13.992  22.862  26.009  0.00  0.00      P0   H\nATOM      9  CA  GLN A  26     -13.996  21.080  25.044  0.00  1.25      P0   C\nATOM     10  HA  GLN A  26     -13.136  20.604  24.839  0.00  0.00      P0   H\nATOM     11  CB  GLN A  26     -14.449  20.531  26.414  0.00  0.00      P0   C\nATOM     12  HB1 GLN A  26     -14.906  19.655  26.269  0.00  0.00      P0   H\nATOM     13  HB2 GLN A  26     -15.085  21.182  26.822  0.00  0.00      P0   H\nATOM     14  CG  GLN A  26     -13.296  20.312  27.393  0.00  0.00      P0   C\nATOM     15  HG1 GLN A  26     -12.947  21.206  27.673  0.00  0.00      P0   H\nATOM     16  HG2 GLN A  26     -12.576  19.804  26.922  0.00  0.00      P0   H\nATOM     17  CD  GLN A  26     -13.716  19.543  28.620  0.00  0.00      P0   C\nATOM     18  OE1 GLN A  26     -14.354  20.079  29.528  0.00  0.00      P0   O\nATOM     19  NE2 GLN A  26     -13.346  18.275  28.686  0.00  0.00      P0   N\nATOM     20 HE21 GLN A  26     -13.583  17.698  29.493  0.00  0.00      P0   H\nATOM     21 HE22 GLN A  26     -12.814  17.886  27.906  0.00  0.00      P0   H\nATOM     22  C   GLN A  26     -14.989  20.751  23.905  0.00  1.00      P0   C\nATOM     23  O   GLN A  26     -15.489  19.628  23.819  0.00  1.00      P0   O\nATOM     24  N   GLU A  27     -15.219  21.732  23.004  0.00  1.00      P0   N\nATOM     25  HN  GLU A  27     -14.681  22.616  23.211  0.00  0.00      P0   H\nATOM     26  CA  GLU A  27     -16.118  21.613  21.846  0.00  1.26      P0   C\nATOM     27  HA  GLU A  27     -16.590  20.729  21.871  0.00  0.00      P0   H\nATOM     28  CB  GLU A  27     -17.250  22.663  21.894  0.00  0.00      P0   C\nATOM     29  HB1 GLU A  27     -17.801  22.465  22.693  0.00  0.00      P0   H\nATOM     30  HB2 GLU A  27     -17.782  22.559  21.063  0.00  0.00      P0   H\nATOM     31  CG  GLU A  27     -16.812  24.120  21.982  0.00  0.00      P0   C\nATOM     32  HG1 GLU A  27     -16.272  24.329  21.177  0.00  0.00      P0   H\nATOM     33  HG2 GLU A  27     -16.274  24.228  22.807  0.00  0.00      P0   H\nATOM     34  CD  GLU A  27     -17.947  25.126  22.042  0.00  0.00      P0   C\nATOM     35  OE1 GLU A  27     -18.762  25.170  21.092  0.00  0.00      P0   O\nATOM     36  OE2 GLU A  27     -17.993  25.906  23.021  0.00  0.00      P0   O\nATOM     37  C   GLU A  27     -15.322  21.722  20.517  0.00  1.00      P0   C\nATOM     38  O   GLU A  27     -15.806  21.277  19.470  0.00  1.00      P0   O\nATOM     39  N   ARG A  28     -14.292  22.597  20.460  0.00  1.00      P0   N\nATOM     40  HN  ARG A  28     -14.150  23.126  21.363  0.00  0.00      P0   H\nATOM     41  CA  ARG A  28     -13.431  22.820  19.278  0.00  1.27      P0   C\nATOM     42  HA  ARG A  28     -13.992  23.244  18.547  0.00  0.00      P0   H\nATOM     43  CB  ARG A  28     -12.343  23.875  19.575  0.00  0.00      P0   C\nATOM     44  HB1 ARG A  28     -12.792  24.690  19.931  0.00  0.00      P0   H\nATOM     45  HB2 ARG A  28     -11.879  24.088  18.719  0.00  0.00      P0   H\nATOM     46  CG  ARG A  28     -11.282  23.438  20.591  0.00  0.00      P0   C\nATOM     47  HG1 ARG A  28     -11.529  22.539  20.956  0.00  0.00      P0   H\nATOM     48  HG2 ARG A  28     -11.254  24.101  21.341  0.00  0.00      P0   H\nATOM     49  CD  ARG A  28      -9.887  23.339  19.989  0.00  0.00      P0   C\nATOM     50  HD1 ARG A  28      -9.225  23.357  20.740  0.00  0.00      P0   H\nATOM     51  HD2 ARG A  28      -9.745  24.138  19.402  0.00  0.00      P0   H\nATOM     52  NE  ARG A  28      -9.681  22.121  19.198  0.00  0.00      P0   N\nATOM     53  HE  ARG A  28     -10.465  21.496  19.091  0.00  0.00      P0   H\nATOM     54  CZ  ARG A  28      -8.534  21.784  18.611  0.00  0.00      P0   C\nATOM     55  NH1 ARG A  28      -7.467  22.570  18.721  0.00  0.00      P0   N\nATOM     56 HH11 ARG A  28      -7.510  23.406  19.257  0.00  0.00      P0   H\nATOM     57 HH12 ARG A  28      -6.613  22.310  18.256  0.00  0.00      P0   H\nATOM     58  NH2 ARG A  28      -8.443  20.659  17.914  0.00  0.00      P0   N\nATOM     59 HH21 ARG A  28      -9.239  20.049  17.846  0.00  0.00      P0   H\nATOM     60 HH22 ARG A  28      -7.594  20.413  17.460  0.00  0.00      P0   H\nATOM     61  C   ARG A  28     -12.801  21.524  18.711  0.00  1.00      P0   C\nATOM     62  O   ARG A  28     -12.377  21.490  17.551  0.00  1.00      P0   O\nATOM     63  N   ASP A  29     -12.602  20.535  19.611  0.00  1.00      P0   N\nATOM     64  HN  ASP A  29     -12.844  20.840  20.601  0.00  0.00      P0   H\nATOM     65  CA  ASP A  29     -12.121  19.218  19.296  0.00  1.28      P0   C\nATOM     66  HA  ASP A  29     -11.319  19.322  18.706  0.00  0.00      P0   H\nATOM     67  CB  ASP A  29     -11.972  18.314  20.533  0.00  0.00      P0   C\nATOM     68  HB1 ASP A  29     -11.643  17.437  20.229  0.00  0.00      P0   H\nATOM     69  HB2 ASP A  29     -12.854  18.246  20.966  0.00  0.00      P0   H\nATOM     70  CG  ASP A  29     -10.981  18.903  21.516  0.00  0.00      P0   C\nATOM     71  OD1 ASP A  29      -9.978  19.517  21.069  0.00  0.00      P0   O\nATOM     72  OD2 ASP A  29     -11.230  18.754  22.743  0.00  0.00      P0   O\nATOM     73  C   ASP A  29     -13.176  18.512  18.497  0.00  1.00      P0   C\nATOM     74  O   ASP A  29     -12.884  17.833  17.512  0.00  1.00      P0   O\nATOM     75  N   GLU A  30     -14.446  18.679  18.917  0.00  1.00      P0   N\nATOM     76  HN  GLU A  30     -14.538  19.399  19.676  0.00  0.00      P0   H\nATOM     77  CA  GLU A  30     -15.558  17.943  18.376  0.00  1.29      P0   C\nATOM     78  HA  GLU A  30     -15.422  16.955  18.538  0.00  0.00      P0   H\nATOM     79  CB  GLU A  30     -16.885  18.349  19.029  0.00  0.00      P0   C\nATOM     80  HB1 GLU A  30     -17.608  17.909  18.537  0.00  0.00      P0   H\nATOM     81  HB2 GLU A  30     -16.944  19.327  19.004  0.00  0.00      P0   H\nATOM     82  CG  GLU A  30     -16.990  17.917  20.488  0.00  0.00      P0   C\nATOM     83  HG1 GLU A  30     -17.709  18.404  20.901  0.00  0.00      P0   H\nATOM     84  HG2 GLU A  30     -16.124  18.010  20.896  0.00  0.00      P0   H\nATOM     85  CD  GLU A  30     -17.357  16.443  20.500  0.00  0.00      P0   C\nATOM     86  OE1 GLU A  30     -16.586  15.632  19.922  0.00  0.00      P0   O\nATOM     87  OE2 GLU A  30     -18.420  16.106  21.089  0.00  0.00      P0   O\nATOM     88  C   GLU A  30     -15.697  18.207  16.917  0.00  1.00      P0   C\nATOM     89  O   GLU A  30     -15.909  17.289  16.128  0.00  1.00      P0   O\nATOM     90  N   VAL A  31     -15.578  19.481  16.523  0.00  1.00      P0   N\nATOM     91  HN  VAL A  31     -15.408  20.158  17.285  0.00  0.00      P0   H\nATOM     92  CA  VAL A  31     -15.686  19.848  15.114  0.00  1.30      P0   C\nATOM     93  HA  VAL A  31     -16.555  19.486  14.762  0.00  0.00      P0   H\nATOM     94  CB  VAL A  31     -15.709  21.382  14.963  0.00  0.00      P0   C\nATOM     95  HB  VAL A  31     -14.873  21.739  15.371  0.00  0.00      P0   H\nATOM     96  CG1 VAL A  31     -15.696  21.782  13.495  0.00  0.00      P0   C\nATOM     97 HG11 VAL A  31     -14.990  22.474  13.343  0.00  0.00      P0   H\nATOM     98 HG12 VAL A  31     -15.500  20.979  12.932  0.00  0.00      P0   H\nATOM     99 HG13 VAL A  31     -16.589  22.156  13.242  0.00  0.00      P0   H\nATOM    100  CG2 VAL A  31     -16.932  21.967  15.661  0.00  0.00      P0   C\nATOM    101 HG21 VAL A  31     -17.326  22.684  15.088  0.00  0.00      P0   H\nATOM    102 HG22 VAL A  31     -16.655  22.352  16.541  0.00  0.00      P0   H\nATOM    103 HG23 VAL A  31     -17.606  21.243  15.807  0.00  0.00      P0   H\nATOM    104  C   VAL A  31     -14.555  19.218  14.313  0.00  1.00      P0   C\nATOM    105  O   VAL A  31     -14.738  18.853  13.145  0.00  1.00      P0   O\nATOM    106  N   TRP A  32     -13.377  19.063  14.923  0.00  1.00      P0   N\nATOM    107  HN  TRP A  32     -13.335  19.407  15.893  0.00  0.00      P0   H\nATOM    108  CA  TRP A  32     -12.255  18.445  14.224  0.00  1.31      P0   C\nATOM    109  HA  TRP A  32     -12.113  18.950  13.364  0.00  0.00      P0   H\nATOM    110  CB  TRP A  32     -10.992  18.533  15.083  0.00  0.00      P0   C\nATOM    111  HB1 TRP A  32     -11.178  18.129  15.971  0.00  0.00      P0   H\nATOM    112  HB2 TRP A  32     -10.735  19.488  15.181  0.00  0.00      P0   H\nATOM    113  CG  TRP A  32      -9.815  17.811  14.501  0.00  0.00      P0   C\nATOM    114  CD1 TRP A  32      -8.890  18.316  13.635  0.00  0.00      P0   C\nATOM    115  HD1 TRP A  32      -8.887  19.248  13.276  0.00  0.00      P0   H\nATOM    116  NE1 TRP A  32      -7.958  17.355  13.324  0.00  0.00      P0   N\nATOM    117  HE1 TRP A  32      -7.179  17.476  12.711  0.00  0.00      P0   H\nATOM    118  CE2 TRP A  32      -8.272  16.201  13.993  0.00  0.00      P0   C\nATOM    119  CD2 TRP A  32      -9.435  16.452  14.747  0.00  0.00      P0   C\nATOM    120  CE3 TRP A  32      -9.968  15.423  15.529  0.00  0.00      P0   C\nATOM    121  HE3 TRP A  32     -10.791  15.567  16.074  0.00  0.00      P0   H\nATOM    122  CZ3 TRP A  32      -9.332  14.196  15.534  0.00  0.00      P0   C\nATOM    123  HZ3 TRP A  32      -9.706  13.457  16.088  0.00  0.00      P0   H\nATOM    124  CZ2 TRP A  32      -7.631  14.964  14.001  0.00  0.00      P0   C\nATOM    125  HZ2 TRP A  32      -6.802  14.819  13.452  0.00  0.00      P0   H\nATOM    126  CH2 TRP A  32      -8.175  13.977  14.776  0.00  0.00      P0   C\nATOM    127  HH2 TRP A  32      -7.743  13.073  14.809  0.00  0.00      P0   H\nATOM    128  C   TRP A  32     -12.560  16.997  13.861  0.00  1.00      P0   C\nATOM    129  O   TRP A  32     -12.213  16.538  12.767  0.00  1.00      P0   O\nATOM    130  N   VAL A  33     -13.210  16.260  14.768  0.00  1.00      P0   N\nATOM    131  HN  VAL A  33     -13.418  16.738  15.656  0.00  0.00      P0   H\nATOM    132  CA  VAL A  33     -13.579  14.877  14.475  0.00  1.32      P0   C\nATOM    133  HA  VAL A  33     -12.750  14.387  14.188  0.00  0.00      P0   H\nATOM    134  CB  VAL A  33     -14.133  14.195  15.739  0.00  0.00      P0   C\nATOM    135  HB  VAL A  33     -14.922  14.719  16.045  0.00  0.00      P0   H\nATOM    136  CG1 VAL A  33     -14.626  12.793  15.418  0.00  0.00      P0   C\nATOM    137 HG11 VAL A  33     -15.616  12.810  15.276  0.00  0.00      P0   H\nATOM    138 HG12 VAL A  33     -14.178  12.464  14.586  0.00  0.00      P0   H\nATOM    139 HG13 VAL A  33     -14.409  12.178  16.177  0.00  0.00      P0   H\nATOM    140  CG2 VAL A  33     -13.069  14.155  16.825  0.00  0.00      P0   C\nATOM    141 HG21 VAL A  33     -12.196  14.456  16.443  0.00  0.00      P0   H\nATOM    142 HG22 VAL A  33     -12.982  13.220  17.168  0.00  0.00      P0   H\nATOM    143 HG23 VAL A  33     -13.337  14.764  17.573  0.00  0.00      P0   H\nATOM    144  C   VAL A  33     -14.577  14.827  13.326  0.00  1.00      P0   C\nATOM    145  O   VAL A  33     -14.449  14.011  12.405  0.00  1.00      P0   O\nATOM    146  N   VAL A  34     -15.579  15.708  13.357  0.00  1.00      P0   N\nATOM    147  HN  VAL A  34     -15.589  16.334  14.176  0.00  0.00      P0   H\nATOM    148  CA  VAL A  34     -16.571  15.747  12.286  0.00  1.33      P0   C\nATOM    149  HA  VAL A  34     -16.930  14.817  12.157  0.00  0.00      P0   H\nATOM    150  CB  VAL A  34     -17.744  16.664  12.680  0.00  0.00      P0   C\nATOM    151  HB  VAL A  34     -17.381  17.581  12.811  0.00  0.00      P0   H\nATOM    152  CG1 VAL A  34     -18.763  16.744  11.553  0.00  0.00      P0   C\nATOM    153 HG11 VAL A  34     -19.221  17.633  11.579  0.00  0.00      P0   H\nATOM    154 HG12 VAL A  34     -18.299  16.635  10.674  0.00  0.00      P0   H\nATOM    155 HG13 VAL A  34     -19.441  16.017  11.663  0.00  0.00      P0   H\nATOM    156  CG2 VAL A  34     -18.396  16.164  13.961  0.00  0.00      P0   C\nATOM    157 HG21 VAL A  34     -18.343  15.166  13.991  0.00  0.00      P0   H\nATOM    158 HG22 VAL A  34     -19.354  16.450  13.977  0.00  0.00      P0   H\nATOM    159 HG23 VAL A  34     -17.917  16.552  14.748  0.00  0.00      P0   H\nATOM    160  C   VAL A  34     -15.925  16.190  10.978  0.00  1.00      P0   C\nATOM    161  O   VAL A  34     -16.135  15.575   9.926  0.00  1.00      P0   O\nATOM    162  N   GLY A  35     -15.123  17.255  11.027  0.00  1.00      P0   N\nATOM    163  HN  GLY A  35     -14.990  17.665  11.960  0.00  0.00      P0   H\nATOM    164  CA  GLY A  35     -14.506  17.761   9.811  0.00  1.34      P0   C\nATOM    165  HA1 GLY A  35     -14.023  18.630  10.017  0.00  0.00      P0   H\nATOM    166  HA2 GLY A  35     -15.230  17.978   9.132  0.00  0.00      P0   H\nATOM    167  C   GLY A  35     -13.525  16.779   9.198  0.00  1.00      P0   C\nATOM    168  O   GLY A  35     -13.516  16.572   7.982  0.00  1.00      P0   O\nATOM    169  N   MET A  36     -12.686  16.159  10.032  0.00  1.00      P0   N\nATOM    170  HN  MET A  36     -12.748  16.447  11.015  0.00  0.00      P0   H\nATOM    171  CA  MET A  36     -11.765  15.148   9.527  0.00  1.35      P0   C\nATOM    172  HA  MET A  36     -11.320  15.513   8.698  0.00  0.00      P0   H\nATOM    173  CB  MET A  36     -10.686  14.852  10.570  0.00  0.00      P0   C\nATOM    174  HB1 MET A  36     -11.082  14.262  11.290  0.00  0.00      P0   H\nATOM    175  HB2 MET A  36     -10.403  15.720  11.003  0.00  0.00      P0   H\nATOM    176  CG  MET A  36      -9.447  14.166  10.017  0.00  0.00      P0   C\nATOM    177  HG1 MET A  36      -9.735  13.301   9.546  0.00  0.00      P0   H\nATOM    178  HG2 MET A  36      -8.862  13.867  10.805  0.00  0.00      P0   H\nATOM    179  SD  MET A  36      -8.511  15.222   8.893  0.00  0.00      P0   S\nATOM    180  CE  MET A  36      -7.083  14.192   8.562  0.00  0.00      P0   C\nATOM    181  HE1 MET A  36      -7.361  13.396   8.020  0.00  0.00      P0   H\nATOM    182  HE2 MET A  36      -6.401  14.718   8.052  0.00  0.00      P0   H\nATOM    183  HE3 MET A  36      -6.685  13.882   9.426  0.00  0.00      P0   H\nATOM    184  C   MET A  36     -12.496  13.867   9.142  0.00  1.00      P0   C\nATOM    185  O   MET A  36     -12.005  13.106   8.300  0.00  1.00      P0   O\nATOM    186  N   GLY A  37     -13.658  13.611   9.743  0.00  1.00      P0   N\nATOM    187  HN  GLY A  37     -13.957  14.306  10.439  0.00  0.00      P0   H\nATOM    188  CA  GLY A  37     -14.410  12.416   9.400  0.00  1.36      P0   C\nATOM    189  HA1 GLY A  37     -15.152  12.279  10.079  0.00  0.00      P0   H\nATOM    190  HA2 GLY A  37     -13.800  11.607   9.460  0.00  0.00      P0   H\nATOM    191  C   GLY A  37     -15.011  12.487   8.011  0.00  1.00      P0   C\nATOM    192  O   GLY A  37     -15.109  11.473   7.313  0.00  1.00      P0   O\nATOM    193  N   ILE A  38     -15.421  13.683   7.587  0.00  1.00      P0   N\nATOM    194  HN  ILE A  38     -15.342  14.445   8.274  0.00  0.00      P0   H\nATOM    195  CA  ILE A  38     -15.938  13.847   6.234  0.00  1.37      P0   C\nATOM    196  HA  ILE A  38     -16.589  13.099   6.088  0.00  0.00      P0   H\nATOM    197  CB  ILE A  38     -16.618  15.220   6.084  0.00  0.00      P0   C\nATOM    198  HB  ILE A  38     -15.933  15.922   6.249  0.00  0.00      P0   H\nATOM    199  CG2 ILE A  38     -17.172  15.376   4.680  0.00  0.00      P0   C\nATOM    200 HG21 ILE A  38     -16.430  15.262   4.022  0.00  0.00      P0   H\nATOM    201 HG22 ILE A  38     -17.572  16.288   4.588  0.00  0.00      P0   H\nATOM    202 HG23 ILE A  38     -17.873  14.682   4.527  0.00  0.00      P0   H\nATOM    203  CG1 ILE A  38     -17.730  15.390   7.123  0.00  0.00      P0   C\nATOM    204 HG11 ILE A  38     -18.108  16.311   7.027  0.00  0.00      P0   H\nATOM    205 HG12 ILE A  38     -17.326  15.308   8.034  0.00  0.00      P0   H\nATOM    206  CD  ILE A  38     -18.856  14.387   6.993  0.00  0.00      P0   C\nATOM    207  HD1 ILE A  38     -19.278  14.478   6.093  0.00  0.00      P0   H\nATOM    208  HD2 ILE A  38     -19.539  14.562   7.701  0.00  0.00      P0   H\nATOM    209  HD3 ILE A  38     -18.491  13.463   7.100  0.00  0.00      P0   H\nATOM    210  C   ILE A  38     -14.821  13.660   5.215  0.00  1.00      P0   C\nATOM    211  O   ILE A  38     -15.022  13.044   4.163  0.00  1.00      P0   O\nATOM    212  N   VAL A  39     -13.627  14.175   5.519  0.00  1.00      P0   N\nATOM    213  HN  VAL A  39     -13.571  14.636   6.441  0.00  0.00      P0   H\nATOM    214  CA  VAL A  39     -12.505  14.074   4.588  0.00  1.38      P0   C\nATOM    215  HA  VAL A  39     -12.799  14.445   3.701  0.00  0.00      P0   H\nATOM    216  CB  VAL A  39     -11.316  14.913   5.091  0.00  0.00      P0   C\nATOM    217  HB  VAL A  39     -11.073  14.581   5.997  0.00  0.00      P0   H\nATOM    218  CG1 VAL A  39     -10.100  14.706   4.200  0.00  0.00      P0   C\nATOM    219 HG11 VAL A  39     -10.077  13.759   3.881  0.00  0.00      P0   H\nATOM    220 HG12 VAL A  39     -10.154  15.320   3.413  0.00  0.00      P0   H\nATOM    221 HG13 VAL A  39      -9.268  14.903   4.719  0.00  0.00      P0   H\nATOM    222  CG2 VAL A  39     -11.697  16.382   5.152  0.00  0.00      P0   C\nATOM    223 HG21 VAL A  39     -11.361  16.846   4.332  0.00  0.00      P0   H\nATOM    224 HG22 VAL A  39     -11.287  16.798   5.964  0.00  0.00      P0   H\nATOM    225 HG23 VAL A  39     -12.693  16.465   5.199  0.00  0.00      P0   H\nATOM    226  C   VAL A  39     -12.112  12.616   4.382  0.00  1.00      P0   C\nATOM    227  O   VAL A  39     -11.923  12.158   3.248  0.00  1.00      P0   O\nATOM    228  N   MET A  40     -11.982  11.864   5.478  0.00  1.00      P0   N\nATOM    229  HN  MET A  40     -12.154  12.349   6.368  0.00  0.00      P0   H\nATOM    230  CA  MET A  40     -11.619  10.456   5.368  0.00  1.39      P0   C\nATOM    231  HA  MET A  40     -10.785  10.390   4.802  0.00  0.00      P0   H\nATOM    232  CB  MET A  40     -11.307   9.882   6.751  0.00  0.00      P0   C\nATOM    233  HB1 MET A  40     -11.185   8.884   6.671  0.00  0.00      P0   H\nATOM    234  HB2 MET A  40     -12.091  10.054   7.361  0.00  0.00      P0   H\nATOM    235  CG  MET A  40     -10.059  10.468   7.399  0.00  0.00      P0   C\nATOM    236  HG1 MET A  40     -10.182  11.484   7.482  0.00  0.00      P0   H\nATOM    237  HG2 MET A  40      -9.270  10.342   6.754  0.00  0.00      P0   H\nATOM    238  SD  MET A  40      -9.689   9.737   9.008  0.00  0.00      P0   S\nATOM    239  CE  MET A  40      -8.139  10.543   9.407  0.00  0.00      P0   C\nATOM    240  HE1 MET A  40      -8.168  11.496   9.100  0.00  0.00      P0   H\nATOM    241  HE2 MET A  40      -7.993  10.518  10.398  0.00  0.00      P0   H\nATOM    242  HE3 MET A  40      -7.387  10.069   8.949  0.00  0.00      P0   H\nATOM    243  C   MET A  40     -12.713   9.642   4.688  0.00  1.00      P0   C\nATOM    244  O   MET A  40     -12.417   8.645   4.020  0.00  1.00      P0   O\nATOM    245  N   SER A  41     -13.977  10.048   4.839  0.00  1.00      P0   N\nATOM    246  HN  SER A  41     -14.111  10.852   5.463  0.00  0.00      P0   H\nATOM    247  CA  SER A  41     -15.056   9.358   4.141  0.00  1.40      P0   C\nATOM    248  HA  SER A  41     -14.948   8.369   4.297  0.00  0.00      P0   H\nATOM    249  CB  SER A  41     -16.410   9.800   4.696  0.00  0.00      P0   C\nATOM    250  HB1 SER A  41     -16.423   9.635   5.679  0.00  0.00      P0   H\nATOM    251  HB2 SER A  41     -17.128   9.271   4.252  0.00  0.00      P0   H\nATOM    252  OG  SER A  41     -16.637  11.178   4.457  0.00  0.00      P0   O\nATOM    253  HG1 SER A  41     -15.890  11.547   3.905  0.00  0.00      P0   H\nATOM    254  C   SER A  41     -14.984   9.605   2.640  0.00  1.00      P0   C\nATOM    255  O   SER A  41     -15.282   8.709   1.842  0.00  1.00      P0   O\nATOM    256  N   LEU A  42     -14.589  10.816   2.235  0.00  1.00      P0   N\nATOM    257  HN  LEU A  42     -14.428  11.500   2.987  0.00  0.00      P0   H\nATOM    258  CA  LEU A  42     -14.413  11.100   0.816  0.00  1.41      P0   C\nATOM    259  HA  LEU A  42     -15.252  10.829   0.327  0.00  0.00      P0   H\nATOM    260  CB  LEU A  42     -14.210  12.600   0.597  0.00  0.00      P0   C\nATOM    261  HB1 LEU A  42     -14.033  12.746  -0.374  0.00  0.00      P0   H\nATOM    262  HB2 LEU A  42     -13.414  12.882   1.132  0.00  0.00      P0   H\nATOM    263  CG  LEU A  42     -15.370  13.517   0.992  0.00  0.00      P0   C\nATOM    264  HG  LEU A  42     -15.584  13.371   1.958  0.00  0.00      P0   H\nATOM    265  CD1 LEU A  42     -14.998  14.973   0.769  0.00  0.00      P0   C\nATOM    266 HD11 LEU A  42     -14.199  15.204   1.326  0.00  0.00      P0   H\nATOM    267 HD12 LEU A  42     -15.766  15.559   1.031  0.00  0.00      P0   H\nATOM    268 HD13 LEU A  42     -14.783  15.121  -0.197  0.00  0.00      P0   H\nATOM    269  CD2 LEU A  42     -16.630  13.157   0.220  0.00  0.00      P0   C\nATOM    270 HD21 LEU A  42     -16.462  13.256  -0.761  0.00  0.00      P0   H\nATOM    271 HD22 LEU A  42     -16.887  12.211   0.418  0.00  0.00      P0   H\nATOM    272 HD23 LEU A  42     -17.375  13.766   0.492  0.00  0.00      P0   H\nATOM    273  C   LEU A  42     -13.244  10.318   0.230  0.00  1.00      P0   C\nATOM    274  O   LEU A  42     -13.273   9.955  -0.951  0.00  1.00      P0   O\nATOM    275  N   ILE A  43     -12.211  10.055   1.036  0.00  1.00      P0   N\nATOM    276  HN  ILE A  43     -12.271  10.469   1.978  0.00  0.00      P0   H\nATOM    277  CA  ILE A  43     -11.094   9.233   0.574  0.00  1.42      P0   C\nATOM    278  HA  ILE A  43     -10.799   9.624  -0.299  0.00  0.00      P0   H\nATOM    279  CB  ILE A  43      -9.957   9.238   1.612  0.00  0.00      P0   C\nATOM    280  HB  ILE A  43     -10.334   8.945   2.484  0.00  0.00      P0   H\nATOM    281  CG2 ILE A  43      -8.855   8.270   1.206  0.00  0.00      P0   C\nATOM    282 HG21 ILE A  43      -9.248   7.359   1.098  0.00  0.00      P0   H\nATOM    283 HG22 ILE A  43      -8.155   8.258   1.917  0.00  0.00      P0   H\nATOM    284 HG23 ILE A  43      -8.458   8.574   0.342  0.00  0.00      P0   H\nATOM    285  CG1 ILE A  43      -9.397  10.651   1.788  0.00  0.00      P0   C\nATOM    286 HG11 ILE A  43     -10.140  11.245   2.097  0.00  0.00      P0   H\nATOM    287 HG12 ILE A  43      -9.077  10.977   0.901  0.00  0.00      P0   H\nATOM    288  CD  ILE A  43      -8.260  10.737   2.784  0.00  0.00      P0   C\nATOM    289  HD1 ILE A  43      -8.580  10.429   3.678  0.00  0.00      P0   H\nATOM    290  HD2 ILE A  43      -7.946  11.683   2.848  0.00  0.00      P0   H\nATOM    291  HD3 ILE A  43      -7.509  10.154   2.478  0.00  0.00      P0   H\nATOM    292  C   ILE A  43     -11.572   7.816   0.278  0.00  1.00      P0   C\nATOM    293  O   ILE A  43     -11.225   7.226  -0.752  0.00  1.00      P0   O\nATOM    294  N   VAL A  44     -12.376   7.253   1.182  0.00  1.00      P0   N\nATOM    295  HN  VAL A  44     -12.558   7.822   2.023  0.00  0.00      P0   H\nATOM    296  CA  VAL A  44     -12.941   5.924   0.961  0.00  1.43      P0   C\nATOM    297  HA  VAL A  44     -12.182   5.281   0.826  0.00  0.00      P0   H\nATOM    298  CB  VAL A  44     -13.752   5.476   2.191  0.00  0.00      P0   C\nATOM    299  HB  VAL A  44     -14.438   6.175   2.372  0.00  0.00      P0   H\nATOM    300  CG1 VAL A  44     -14.498   4.183   1.899  0.00  0.00      P0   C\nATOM    301 HG11 VAL A  44     -13.847   3.425   1.851  0.00  0.00      P0   H\nATOM    302 HG12 VAL A  44     -15.160   4.007   2.628  0.00  0.00      P0   H\nATOM    303 HG13 VAL A  44     -14.979   4.265   1.026  0.00  0.00      P0   H\nATOM    304  CG2 VAL A  44     -12.840   5.312   3.394  0.00  0.00      P0   C\nATOM    305 HG21 VAL A  44     -12.509   4.368   3.433  0.00  0.00      P0   H\nATOM    306 HG22 VAL A  44     -13.350   5.522   4.228  0.00  0.00      P0   H\nATOM    307 HG23 VAL A  44     -12.063   5.937   3.309  0.00  0.00      P0   H\nATOM    308  C   VAL A  44     -13.795   5.916  -0.300  0.00  1.00      P0   C\nATOM    309  O   VAL A  44     -13.692   5.012  -1.138  0.00  1.00      P0   O\nATOM    310  N   LEU A  45     -14.648   6.931  -0.454  0.00  1.00      P0   N\nATOM    311  HN  LEU A  45     -14.639   7.632   0.299  0.00  0.00      P0   H\nATOM    312  CA  LEU A  45     -15.514   6.998  -1.627  0.00  1.44      P0   C\nATOM    313  HA  LEU A  45     -16.037   6.139  -1.689  0.00  0.00      P0   H\nATOM    314  CB  LEU A  45     -16.512   8.144  -1.471  0.00  0.00      P0   C\nATOM    315  HB1 LEU A  45     -15.994   8.989  -1.368  0.00  0.00      P0   H\nATOM    316  HB2 LEU A  45     -17.049   7.972  -0.647  0.00  0.00      P0   H\nATOM    317  CG  LEU A  45     -17.499   8.352  -2.621  0.00  0.00      P0   C\nATOM    318  HG  LEU A  45     -16.987   8.548  -3.458  0.00  0.00      P0   H\nATOM    319  CD1 LEU A  45     -18.350   7.109  -2.830  0.00  0.00      P0   C\nATOM    320 HD11 LEU A  45     -17.759   6.331  -3.048  0.00  0.00      P0   H\nATOM    321 HD12 LEU A  45     -18.989   7.263  -3.584  0.00  0.00      P0   H\nATOM    322 HD13 LEU A  45     -18.865   6.911  -1.995  0.00  0.00      P0   H\nATOM    323  CD2 LEU A  45     -18.370   9.568  -2.355  0.00  0.00      P0   C\nATOM    324 HD21 LEU A  45     -18.882   9.435  -1.507  0.00  0.00      P0   H\nATOM    325 HD22 LEU A  45     -17.794  10.382  -2.270  0.00  0.00      P0   H\nATOM    326 HD23 LEU A  45     -19.011   9.695  -3.113  0.00  0.00      P0   H\nATOM    327  C   LEU A  45     -14.702   7.159  -2.905  0.00  1.00      P0   C\nATOM    328  O   LEU A  45     -15.036   6.568  -3.939  0.00  1.00      P0   O\nATOM    329  N   ALA A  46     -13.625   7.949  -2.857  0.00  1.00      P0   N\nATOM    330  HN  ALA A  46     -13.443   8.393  -1.949  0.00  0.00      P0   H\nATOM    331  CA  ALA A  46     -12.796   8.133  -4.045  0.00  1.45      P0   C\nATOM    332  HA  ALA A  46     -13.394   8.372  -4.823  0.00  0.00      P0   H\nATOM    333  CB  ALA A  46     -11.827   9.298  -3.841  0.00  0.00      P0   C\nATOM    334  HB1 ALA A  46     -12.101   9.818  -3.033  0.00  0.00      P0   H\nATOM    335  HB2 ALA A  46     -11.848   9.891  -4.644  0.00  0.00      P0   H\nATOM    336  HB3 ALA A  46     -10.903   8.942  -3.713  0.00  0.00      P0   H\nATOM    337  C   ALA A  46     -12.026   6.866  -4.397  0.00  1.00      P0   C\nATOM    338  O   ALA A  46     -11.802   6.587  -5.580  0.00  1.00      P0   O\nATOM    339  N   ILE A  47     -11.614   6.093  -3.392  0.00  1.00      P0   N\nATOM    340  HN  ILE A  47     -11.855   6.429  -2.449  0.00  0.00      P0   H\nATOM    341  CA  ILE A  47     -10.873   4.865  -3.658  0.00  1.46      P0   C\nATOM    342  HA  ILE A  47     -10.209   5.087  -4.376  0.00  0.00      P0   H\nATOM    343  CB  ILE A  47     -10.172   4.373  -2.380  0.00  0.00      P0   C\nATOM    344  HB  ILE A  47     -10.833   4.404  -1.636  0.00  0.00      P0   H\nATOM    345  CG2 ILE A  47      -9.682   2.949  -2.558  0.00  0.00      P0   C\nATOM    346 HG21 ILE A  47     -10.457   2.364  -2.793  0.00  0.00      P0   H\nATOM    347 HG22 ILE A  47      -9.269   2.637  -1.704  0.00  0.00      P0   H\nATOM    348 HG23 ILE A  47      -9.005   2.925  -3.291  0.00  0.00      P0   H\nATOM    349  CG1 ILE A  47      -9.007   5.293  -2.019  0.00  0.00      P0   C\nATOM    350 HG11 ILE A  47      -9.365   6.217  -1.889  0.00  0.00      P0   H\nATOM    351 HG12 ILE A  47      -8.363   5.302  -2.781  0.00  0.00      P0   H\nATOM    352  CD  ILE A  47      -8.275   4.876  -0.761  0.00  0.00      P0   C\nATOM    353  HD1 ILE A  47      -8.911   4.881   0.009  0.00  0.00      P0   H\nATOM    354  HD2 ILE A  47      -7.530   5.517  -0.584  0.00  0.00      P0   H\nATOM    355  HD3 ILE A  47      -7.906   3.956  -0.883  0.00  0.00      P0   H\nATOM    356  C   ILE A  47     -11.798   3.800  -4.234  0.00  1.00      P0   C\nATOM    357  O   ILE A  47     -11.494   3.179  -5.259  0.00  1.00      P0   O\nATOM    358  N   VAL A  48     -12.944   3.578  -3.586  0.00  1.00      P0   N\nATOM    359  HN  VAL A  48     -13.115   4.191  -2.774  0.00  0.00      P0   H\nATOM    360  CA  VAL A  48     -13.864   2.531  -4.026  0.00  1.47      P0   C\nATOM    361  HA  VAL A  48     -13.352   1.668  -4.082  0.00  0.00      P0   H\nATOM    362  CB  VAL A  48     -15.003   2.348  -3.008  0.00  0.00      P0   C\nATOM    363  HB  VAL A  48     -15.469   3.220  -2.914  0.00  0.00      P0   H\nATOM    364  CG1 VAL A  48     -16.025   1.352  -3.536  0.00  0.00      P0   C\nATOM    365 HG11 VAL A  48     -15.815   0.440  -3.185  0.00  0.00      P0   H\nATOM    366 HG12 VAL A  48     -16.940   1.622  -3.235  0.00  0.00      P0   H\nATOM    367 HG13 VAL A  48     -15.995   1.340  -4.535  0.00  0.00      P0   H\nATOM    368  CG2 VAL A  48     -14.446   1.894  -1.672  0.00  0.00      P0   C\nATOM    369 HG21 VAL A  48     -13.976   2.659  -1.230  0.00  0.00      P0   H\nATOM    370 HG22 VAL A  48     -13.799   1.144  -1.818  0.00  0.00      P0   H\nATOM    371 HG23 VAL A  48     -15.195   1.579  -1.089  0.00  0.00      P0   H\nATOM    372  C   VAL A  48     -14.407   2.847  -5.413  0.00  1.00      P0   C\nATOM    373  O   VAL A  48     -14.285   2.046  -6.346  0.00  1.00      P0   O\nATOM    374  N   PHE A  49     -15.017   4.026  -5.566  0.00  1.00      P0   N\nATOM    375  HN  PHE A  49     -15.039   4.622  -4.726  0.00  0.00      P0   H\nATOM    376  CA  PHE A  49     -15.599   4.398  -6.851  0.00  1.48      P0   C\nATOM    377  HA  PHE A  49     -16.239   3.662  -7.108  0.00  0.00      P0   H\nATOM    378  CB  PHE A  49     -16.329   5.735  -6.728  0.00  0.00      P0   C\nATOM    379  HB1 PHE A  49     -15.748   6.352  -6.215  0.00  0.00      P0   H\nATOM    380  HB2 PHE A  49     -17.183   5.572  -6.256  0.00  0.00      P0   H\nATOM    381  CG  PHE A  49     -16.643   6.382  -8.047  0.00  0.00      P0   C\nATOM    382  CD1 PHE A  49     -17.704   5.938  -8.818  0.00  0.00      P0   C\nATOM    383  HD1 PHE A  49     -18.267   5.180  -8.497  0.00  0.00      P0   H\nATOM    384  CE1 PHE A  49     -17.995   6.535 -10.030  0.00  0.00      P0   C\nATOM    385  HE1 PHE A  49     -18.769   6.195 -10.581  0.00  0.00      P0   H\nATOM    386  CZ  PHE A  49     -17.226   7.590 -10.480  0.00  0.00      P0   C\nATOM    387  HZ  PHE A  49     -17.440   8.023 -11.358  0.00  0.00      P0   H\nATOM    388  CD2 PHE A  49     -15.882   7.442  -8.510  0.00  0.00      P0   C\nATOM    389  HD2 PHE A  49     -15.115   7.778  -7.958  0.00  0.00      P0   H\nATOM    390  CE2 PHE A  49     -16.167   8.043  -9.720  0.00  0.00      P0   C\nATOM    391  HE2 PHE A  49     -15.594   8.815 -10.046  0.00  0.00      P0   H\nATOM    392  C   PHE A  49     -14.545   4.467  -7.949  0.00  1.00      P0   C\nATOM    393  O   PHE A  49     -14.835   4.149  -9.108  0.00  1.00      P0   O\nATOM    394  N   GLY A  50     -13.323   4.875  -7.609  0.00  1.00      P0   N\nATOM    395  HN  GLY A  50     -13.196   5.121  -6.621  0.00  0.00      P0   H\nATOM    396  CA  GLY A  50     -12.277   4.948  -8.617  0.00  1.49      P0   C\nATOM    397  HA1 GLY A  50     -11.478   5.442  -8.236  0.00  0.00      P0   H\nATOM    398  HA2 GLY A  50     -12.612   5.485  -9.409  0.00  0.00      P0   H\nATOM    399  C   GLY A  50     -11.837   3.577  -9.093  0.00  1.00      P0   C\nATOM    400  O   GLY A  50     -11.700   3.339 -10.296  0.00  1.00      P0   O\nATOM    401  N   ASN A  51     -11.611   2.655  -8.156  0.00  1.00      P0   N\nATOM    402  HN  ASN A  51     -11.817   2.946  -7.192  0.00  0.00      P0   H\nATOM    403  CA  ASN A  51     -11.106   1.336  -8.525  0.00  1.50      P0   C\nATOM    404  HA  ASN A  51     -10.412   1.474  -9.246  0.00  0.00      P0   H\nATOM    405  CB  ASN A  51     -10.470   0.658  -7.312  0.00  0.00      P0   C\nATOM    406  HB1 ASN A  51     -10.268  -0.288  -7.551  0.00  0.00      P0   H\nATOM    407  HB2 ASN A  51     -11.118   0.692  -6.557  0.00  0.00      P0   H\nATOM    408  CG  ASN A  51      -9.186   1.334  -6.880  0.00  0.00      P0   C\nATOM    409  OD1 ASN A  51      -8.120   1.082  -7.441  0.00  0.00      P0   O\nATOM    410  ND2 ASN A  51      -9.282   2.201  -5.879  0.00  0.00      P0   N\nATOM    411 HD21 ASN A  51     -10.171   2.373  -5.450  0.00  0.00      P0   H\nATOM    412 HD22 ASN A  51      -8.471   2.684  -5.551  0.00  0.00      P0   H\nATOM    413  C   ASN A  51     -12.195   0.454  -9.118  0.00  1.00      P0   C\nATOM    414  O   ASN A  51     -11.918  -0.344 -10.021  0.00  1.00      P0   O\nATOM    415  N   VAL A  52     -13.434   0.573  -8.632  0.00  1.00      P0   N\nATOM    416  HN  VAL A  52     -13.545   1.231  -7.857  0.00  0.00      P0   H\nATOM    417  CA  VAL A  52     -14.520  -0.213  -9.212  0.00  1.51      P0   C\nATOM    418  HA  VAL A  52     -14.243  -1.179  -9.209  0.00  0.00      P0   H\nATOM    419  CB  VAL A  52     -15.801  -0.086  -8.361  0.00  0.00      P0   C\nATOM    420  HB  VAL A  52     -15.533  -0.157  -7.403  0.00  0.00      P0   H\nATOM    421  CG1 VAL A  52     -16.444   1.278  -8.545  0.00  0.00      P0   C\nATOM    422 HG11 VAL A  52     -16.645   1.677  -7.651  0.00  0.00      P0   H\nATOM    423 HG12 VAL A  52     -15.818   1.880  -9.043  0.00  0.00      P0   H\nATOM    424 HG13 VAL A  52     -17.293   1.181  -9.064  0.00  0.00      P0   H\nATOM    425  CG2 VAL A  52     -16.785  -1.193  -8.707  0.00  0.00      P0   C\nATOM    426 HG21 VAL A  52     -17.705  -0.807  -8.776  0.00  0.00      P0   H\nATOM    427 HG22 VAL A  52     -16.765  -1.889  -7.990  0.00  0.00      P0   H\nATOM    428 HG23 VAL A  52     -16.526  -1.603  -9.581  0.00  0.00      P0   H\nATOM    429  C   VAL A  52     -14.759   0.204 -10.657  0.00  1.00      P0   C\nATOM    430  O   VAL A  52     -15.204  -0.604 -11.482  0.00  1.00      P0   O\nATOM    431  N   LEU A  53     -14.453   1.460 -10.992  0.00  1.00      P0   N\nATOM    432  HN  LEU A  53     -14.146   2.059 -10.211  0.00  0.00      P0   H\nATOM    433  CA  LEU A  53     -14.560   1.908 -12.374  0.00  1.52      P0   C\nATOM    434  HA  LEU A  53     -15.461   1.637 -12.732  0.00  0.00      P0   H\nATOM    435  CB  LEU A  53     -14.467   3.433 -12.432  0.00  0.00      P0   C\nATOM    436  HB1 LEU A  53     -13.611   3.704 -11.984  0.00  0.00      P0   H\nATOM    437  HB2 LEU A  53     -15.239   3.806 -11.910  0.00  0.00      P0   H\nATOM    438  CG  LEU A  53     -14.488   4.100 -13.807  0.00  0.00      P0   C\nATOM    439  HG  LEU A  53     -13.700   3.780 -14.336  0.00  0.00      P0   H\nATOM    440  CD1 LEU A  53     -15.768   3.759 -14.553  0.00  0.00      P0   C\nATOM    441 HD11 LEU A  53     -15.831   2.768 -14.676  0.00  0.00      P0   H\nATOM    442 HD12 LEU A  53     -15.762   4.204 -15.449  0.00  0.00      P0   H\nATOM    443 HD13 LEU A  53     -16.558   4.080 -14.028  0.00  0.00      P0   H\nATOM    444  CD2 LEU A  53     -14.323   5.606 -13.670  0.00  0.00      P0   C\nATOM    445 HD21 LEU A  53     -15.071   5.976 -13.119  0.00  0.00      P0   H\nATOM    446 HD22 LEU A  53     -13.451   5.809 -13.225  0.00  0.00      P0   H\nATOM    447 HD23 LEU A  53     -14.339   6.028 -14.577  0.00  0.00      P0   H\nATOM    448  C   LEU A  53     -13.486   1.264 -13.241  0.00  1.00      P0   C\nATOM    449  O   LEU A  53     -13.747   0.892 -14.391  0.00  1.00      P0   O\nATOM    450  N   VAL A  54     -12.274   1.116 -12.702  0.00  1.00      P0   N\nATOM    451  HN  VAL A  54     -12.169   1.491 -11.748  0.00  0.00      P0   H\nATOM    452  CA  VAL A  54     -11.201   0.465 -13.446  0.00  1.53      P0   C\nATOM    453  HA  VAL A  54     -11.138   0.899 -14.351  0.00  0.00      P0   H\nATOM    454  CB  VAL A  54      -9.856   0.661 -12.724  0.00  0.00      P0   C\nATOM    455  HB  VAL A  54      -9.919   0.206 -11.840  0.00  0.00      P0   H\nATOM    456  CG1 VAL A  54      -8.738  -0.014 -13.494  0.00  0.00      P0   C\nATOM    457 HG11 VAL A  54      -8.844  -1.007 -13.442  0.00  0.00      P0   H\nATOM    458 HG12 VAL A  54      -8.769   0.272 -14.453  0.00  0.00      P0   H\nATOM    459 HG13 VAL A  54      -7.854   0.244 -13.101  0.00  0.00      P0   H\nATOM    460  CG2 VAL A  54      -9.565   2.142 -12.539  0.00  0.00      P0   C\nATOM    461 HG21 VAL A  54      -8.663   2.252 -12.123  0.00  0.00      P0   H\nATOM    462 HG22 VAL A  54     -10.262   2.545 -11.944  0.00  0.00      P0   H\nATOM    463 HG23 VAL A  54      -9.582   2.595 -13.430  0.00  0.00      P0   H\nATOM    464  C   VAL A  54     -11.515  -1.011 -13.653  0.00  1.00      P0   C\nATOM    465  O   VAL A  54     -11.292  -1.560 -14.739  0.00  1.00      P0   O\nATOM    466  N   ILE A  55     -12.034  -1.678 -12.620  0.00  1.00      P0   N\nATOM    467  HN  ILE A  55     -12.157  -1.125 -11.758  0.00  0.00      P0   H\nATOM    468  CA  ILE A  55     -12.391  -3.090 -12.742  0.00  1.54      P0   C\nATOM    469  HA  ILE A  55     -11.574  -3.556 -13.089  0.00  0.00      P0   H\nATOM    470  CB  ILE A  55     -12.834  -3.655 -11.381  0.00  0.00      P0   C\nATOM    471  HB  ILE A  55     -13.641  -3.150 -11.087  0.00  0.00      P0   H\nATOM    472  CG2 ILE A  55     -13.216  -5.123 -11.513  0.00  0.00      P0   C\nATOM    473 HG21 ILE A  55     -13.926  -5.212 -12.208  0.00  0.00      P0   H\nATOM    474 HG22 ILE A  55     -13.556  -5.450 -10.633  0.00  0.00      P0   H\nATOM    475 HG23 ILE A  55     -12.408  -5.643 -11.781  0.00  0.00      P0   H\nATOM    476  CG1 ILE A  55     -11.743  -3.460 -10.324  0.00  0.00      P0   C\nATOM    477 HG11 ILE A  55     -12.111  -3.760  -9.441  0.00  0.00      P0   H\nATOM    478 HG12 ILE A  55     -11.540  -2.482 -10.260  0.00  0.00      P0   H\nATOM    479  CD  ILE A  55     -10.469  -4.212 -10.603  0.00  0.00      P0   C\nATOM    480  HD1 ILE A  55     -10.661  -5.192 -10.646  0.00  0.00      P0   H\nATOM    481  HD2 ILE A  55      -9.809  -4.035  -9.873  0.00  0.00      P0   H\nATOM    482  HD3 ILE A  55     -10.086  -3.909 -11.476  0.00  0.00      P0   H\nATOM    483  C   ILE A  55     -13.477  -3.271 -13.793  0.00  1.00      P0   C\nATOM    484  O   ILE A  55     -13.408  -4.172 -14.637  0.00  1.00      P0   O\nATOM    485  N   THR A  56     -14.496  -2.411 -13.759  0.00  1.00      P0   N\nATOM    486  HN  THR A  56     -14.423  -1.669 -13.049  0.00  0.00      P0   H\nATOM    487  CA  THR A  56     -15.616  -2.551 -14.684  0.00  1.55      P0   C\nATOM    488  HA  THR A  56     -15.944  -3.505 -14.647  0.00  0.00      P0   H\nATOM    489  CB  THR A  56     -16.765  -1.640 -14.256  0.00  0.00      P0   C\nATOM    490  HB  THR A  56     -16.459  -0.667 -14.312  0.00  0.00      P0   H\nATOM    491  OG1 THR A  56     -17.112  -1.917 -12.894  0.00  0.00      P0   O\nATOM    492  HG1 THR A  56     -16.445  -1.497 -12.271  0.00  0.00      P0   H\nATOM    493  CG2 THR A  56     -17.983  -1.865 -15.138  0.00  0.00      P0   C\nATOM    494 HG21 THR A  56     -17.852  -1.413 -16.023  0.00  0.00      P0   H\nATOM    495 HG22 THR A  56     -18.800  -1.486 -14.694  0.00  0.00      P0   H\nATOM    496 HG23 THR A  56     -18.118  -2.848 -15.288  0.00  0.00      P0   H\nATOM    497  C   THR A  56     -15.196  -2.246 -16.117  0.00  1.00      P0   C\nATOM    498  O   THR A  56     -15.653  -2.909 -17.057  0.00  1.00      P0   O\nATOM    499  N   ALA A  57     -14.320  -1.255 -16.303  0.00  1.00      P0   N\nATOM    500  HN  ALA A  57     -13.965  -0.815 -15.441  0.00  0.00      P0   H\nATOM    501  CA  ALA A  57     -13.921  -0.856 -17.649  0.00  1.56      P0   C\nATOM    502  HA  ALA A  57     -14.751  -0.635 -18.180  0.00  0.00      P0   H\nATOM    503  CB  ALA A  57     -13.066   0.408 -17.588  0.00  0.00      P0   C\nATOM    504  HB1 ALA A  57     -12.258   0.234 -17.028  0.00  0.00      P0   H\nATOM    505  HB2 ALA A  57     -13.599   1.149 -17.185  0.00  0.00      P0   H\nATOM    506  HB3 ALA A  57     -12.784   0.663 -18.512  0.00  0.00      P0   H\nATOM    507  C   ALA A  57     -13.172  -1.973 -18.365  0.00  1.00      P0   C\nATOM    508  O   ALA A  57     -13.318  -2.150 -19.581  0.00  1.00      P0   O\nATOM    509  N   ILE A  58     -12.365  -2.737 -17.630  0.00  1.00      P0   N\nATOM    510  HN  ILE A  58     -12.325  -2.503 -16.630  0.00  0.00      P0   H\nATOM    511  CA  ILE A  58     -11.609  -3.818 -18.250  0.00  1.57      P0   C\nATOM    512  HA  ILE A  58     -11.389  -3.513 -19.181  0.00  0.00      P0   H\nATOM    513  CB  ILE A  58     -10.331  -4.099 -17.441  0.00  0.00      P0   C\nATOM    514  HB  ILE A  58     -10.602  -4.387 -16.528  0.00  0.00      P0   H\nATOM    515  CG2 ILE A  58      -9.511  -5.194 -18.099  0.00  0.00      P0   C\nATOM    516 HG21 ILE A  58     -10.070  -6.018 -18.177  0.00  0.00      P0   H\nATOM    517 HG22 ILE A  58      -8.707  -5.382 -17.536  0.00  0.00      P0   H\nATOM    518 HG23 ILE A  58      -9.227  -4.888 -19.006  0.00  0.00      P0   H\nATOM    519  CG1 ILE A  58      -9.496  -2.826 -17.308  0.00  0.00      P0   C\nATOM    520 HG11 ILE A  58     -10.072  -2.117 -16.904  0.00  0.00      P0   H\nATOM    521 HG12 ILE A  58      -9.220  -2.533 -18.222  0.00  0.00      P0   H\nATOM    522  CD  ILE A  58      -8.263  -2.998 -16.453  0.00  0.00      P0   C\nATOM    523  HD1 ILE A  58      -8.533  -3.275 -15.532  0.00  0.00      P0   H\nATOM    524  HD2 ILE A  58      -7.766  -2.132 -16.408  0.00  0.00      P0   H\nATOM    525  HD3 ILE A  58      -7.676  -3.701 -16.854  0.00  0.00      P0   H\nATOM    526  C   ILE A  58     -12.472  -5.066 -18.393  0.00  1.00      P0   C\nATOM    527  O   ILE A  58     -12.399  -5.771 -19.406  0.00  1.00      P0   O\nATOM    528  N   ALA A  59     -13.305  -5.357 -17.393  0.00  1.00      P0   N\nATOM    529  HN  ALA A  59     -13.322  -4.673 -16.622  0.00  0.00      P0   H\nATOM    530  CA  ALA A  59     -14.115  -6.569 -17.430  0.00  1.58      P0   C\nATOM    531  HA  ALA A  59     -13.515  -7.353 -17.664  0.00  0.00      P0   H\nATOM    532  CB  ALA A  59     -14.698  -6.854 -16.045  0.00  0.00      P0   C\nATOM    533  HB1 ALA A  59     -14.212  -7.623 -15.633  0.00  0.00      P0   H\nATOM    534  HB2 ALA A  59     -15.667  -7.079 -16.134  0.00  0.00      P0   H\nATOM    535  HB3 ALA A  59     -14.593  -6.046 -15.469  0.00  0.00      P0   H\nATOM    536  C   ALA A  59     -15.235  -6.494 -18.458  0.00  1.00      P0   C\nATOM    537  O   ALA A  59     -15.732  -7.540 -18.890  0.00  1.00      P0   O\nATOM    538  N   LYS A  60     -15.648  -5.293 -18.831  0.00  1.00      P0   N\nATOM    539  HN  LYS A  60     -15.170  -4.496 -18.378  0.00  0.00      P0   H\nATOM    540  CA  LYS A  60     -16.714  -5.135 -19.826  0.00  1.59      P0   C\nATOM    541  HA  LYS A  60     -17.341  -5.941 -19.756  0.00  0.00      P0   H\nATOM    542  CB  LYS A  60     -17.555  -3.908 -19.484  0.00  0.00      P0   C\nATOM    543  HB1 LYS A  60     -16.948  -3.115 -19.469  0.00  0.00      P0   H\nATOM    544  HB2 LYS A  60     -17.947  -4.047 -18.577  0.00  0.00      P0   H\nATOM    545  CG  LYS A  60     -18.662  -3.655 -20.458  0.00  0.00      P0   C\nATOM    546  HG1 LYS A  60     -19.034  -4.540 -20.770  0.00  0.00      P0   H\nATOM    547  HG2 LYS A  60     -18.288  -3.173 -21.262  0.00  0.00      P0   H\nATOM    548  CD  LYS A  60     -19.752  -2.846 -19.863  0.00  0.00      P0   C\nATOM    549  HD1 LYS A  60     -19.386  -1.980 -19.543  0.00  0.00      P0   H\nATOM    550  HD2 LYS A  60     -20.167  -3.348 -19.114  0.00  0.00      P0   H\nATOM    551  CE  LYS A  60     -20.785  -2.580 -20.900  0.00  0.00      P0   C\nATOM    552  HE1 LYS A  60     -21.021  -3.441 -21.353  0.00  0.00      P0   H\nATOM    553  HE2 LYS A  60     -20.413  -1.942 -21.575  0.00  0.00      P0   H\nATOM    554  NZ  LYS A  60     -21.939  -2.019 -20.266  0.00  0.00      P0   N\nATOM    555  HZ1 LYS A  60     -21.701  -1.625 -19.368  0.00  0.00      P0   H\nATOM    556  HZ2 LYS A  60     -22.648  -2.722 -20.120  0.00  0.00      P0   H\nATOM    557  HZ3 LYS A  60     -22.340  -1.286 -20.832  0.00  0.00      P0   H\nATOM    558  C   LYS A  60     -16.236  -5.020 -21.271  0.00  1.00      P0   C\nATOM    559  O   LYS A  60     -16.820  -5.650 -22.157  0.00  1.00      P0   O\nATOM    560  N   PHE A  61     -15.410  -4.002 -21.524  0.00  1.00      P0   N\nATOM    561  HN  PHE A  61     -15.159  -3.425 -20.711  0.00  0.00      P0   H\nATOM    562  CA  PHE A  61     -14.923  -3.769 -22.878  0.00  1.60      P0   C\nATOM    563  HA  PHE A  61     -15.713  -3.858 -23.493  0.00  0.00      P0   H\nATOM    564  CB  PHE A  61     -14.283  -2.387 -22.975  0.00  0.00      P0   C\nATOM    565  HB1 PHE A  61     -13.906  -2.291 -23.884  0.00  0.00      P0   H\nATOM    566  HB2 PHE A  61     -13.577  -2.330 -22.285  0.00  0.00      P0   H\nATOM    567  CG  PHE A  61     -15.246  -1.258 -22.749  0.00  0.00      P0   C\nATOM    568  CD1 PHE A  61     -15.959  -0.716 -23.806  0.00  0.00      P0   C\nATOM    569  HD1 PHE A  61     -15.830  -1.080 -24.728  0.00  0.00      P0   H\nATOM    570  CE1 PHE A  61     -16.848   0.320 -23.603  0.00  0.00      P0   C\nATOM    571  HE1 PHE A  61     -17.356   0.703 -24.386  0.00  0.00      P0   H\nATOM    572  CZ  PHE A  61     -17.034   0.828 -22.333  0.00  0.00      P0   C\nATOM    573  HZ  PHE A  61     -17.680   1.580 -22.186  0.00  0.00      P0   H\nATOM    574  CD2 PHE A  61     -15.444  -0.740 -21.479  0.00  0.00      P0   C\nATOM    575  HD2 PHE A  61     -14.937  -1.125 -20.704  0.00  0.00      P0   H\nATOM    576  CE2 PHE A  61     -16.331   0.298 -21.269  0.00  0.00      P0   C\nATOM    577  HE2 PHE A  61     -16.461   0.667 -20.333  0.00  0.00      P0   H\nATOM    578  C   PHE A  61     -13.926  -4.847 -23.284  0.00  1.00      P0   C\nATOM    579  O   PHE A  61     -12.922  -5.072 -22.601  0.00  1.00      P0   O\nATOM    580  N   GLU A  62     -14.203  -5.510 -24.409  0.00  1.00      P0   N\nATOM    581  HN  GLU A  62     -15.069  -5.207 -24.890  0.00  0.00      P0   H\nATOM    582  CA  GLU A  62     -13.334  -6.573 -24.898  0.00 12.48      P0   C\nATOM    583  HA  GLU A  62     -13.089  -7.190 -24.129  0.00  0.00      P0   H\nATOM    584  CB  GLU A  62     -14.092  -7.452 -25.896  0.00  0.00      P0   C\nATOM    585  HB1 GLU A  62     -13.503  -8.199 -26.145  0.00  0.00      P0   H\nATOM    586  HB2 GLU A  62     -14.329  -6.891 -26.669  0.00  0.00      P0   H\nATOM    587  CG  GLU A  62     -15.380  -8.044 -25.344  0.00  0.00      P0   C\nATOM    588  HG1 GLU A  62     -15.811  -8.566 -26.057  0.00  0.00      P0   H\nATOM    589  HG2 GLU A  62     -15.946  -7.306 -25.027  0.00  0.00      P0   H\nATOM    590  CD  GLU A  62     -15.141  -8.978 -24.172  0.00  0.00      P0   C\nATOM    591  OE1 GLU A  62     -14.100  -9.669 -24.161  0.00  0.00      P0   O\nATOM    592  OE2 GLU A  62     -15.992  -9.017 -23.259  0.00  0.00      P0   O\nATOM    593  C   GLU A  62     -12.060  -6.045 -25.544  0.00  1.00      P0   C\nATOM    594  O   GLU A  62     -11.108  -6.812 -25.723  0.00  1.00      P0   O\nATOM    595  N   ARG A  63     -12.017  -4.760 -25.898  0.00  1.00      P0   N\nATOM    596  HN  ARG A  63     -12.883  -4.225 -25.708  0.00  0.00      P0   H\nATOM    597  CA  ARG A  63     -10.824  -4.185 -26.505  0.00 12.49      P0   C\nATOM    598  HA  ARG A  63     -10.445  -4.851 -27.170  0.00  0.00      P0   H\nATOM    599  CB  ARG A  63     -11.190  -2.926 -27.294  0.00  0.00      P0   C\nATOM    600  HB1 ARG A  63     -11.915  -3.161 -27.936  0.00  0.00      P0   H\nATOM    601  HB2 ARG A  63     -10.381  -2.623 -27.790  0.00  0.00      P0   H\nATOM    602  CG  ARG A  63     -11.677  -1.772 -26.434  0.00  0.00      P0   C\nATOM    603  HG1 ARG A  63     -10.937  -1.462 -25.844  0.00  0.00      P0   H\nATOM    604  HG2 ARG A  63     -12.452  -2.070 -25.884  0.00  0.00      P0   H\nATOM    605  CD  ARG A  63     -12.124  -0.597 -27.288  0.00  0.00      P0   C\nATOM    606  HD1 ARG A  63     -13.084  -0.731 -27.519  0.00  0.00      P0   H\nATOM    607  HD2 ARG A  63     -11.571  -0.586 -28.116  0.00  0.00      P0   H\nATOM    608  NE  ARG A  63     -11.969   0.675 -26.588  0.00  0.00      P0   N\nATOM    609  HE  ARG A  63     -12.741   1.007 -26.036  0.00  0.00      P0   H\nATOM    610  CZ  ARG A  63     -10.869   1.420 -26.637  0.00  0.00      P0   C\nATOM    611  NH1 ARG A  63      -9.827   1.019 -27.354  0.00  0.00      P0   N\nATOM    612 HH11 ARG A  63      -9.865   0.173 -27.875  0.00  0.00      P0   H\nATOM    613 HH12 ARG A  63      -8.990   1.585 -27.368  0.00  0.00      P0   H\nATOM    614  NH2 ARG A  63     -10.809   2.565 -25.970  0.00  0.00      P0   N\nATOM    615 HH21 ARG A  63     -11.605   2.879 -25.443  0.00  0.00      P0   H\nATOM    616 HH22 ARG A  63      -9.981   3.117 -25.988  0.00  0.00      P0   H\nATOM    617  C   ARG A  63      -9.744  -3.855 -25.483  0.00  1.00      P0   C\nATOM    618  O   ARG A  63      -8.590  -3.640 -25.871  0.00  1.00      P0   O\nATOM    619  N   LEU A  64     -10.087  -3.811 -24.194  0.00  1.00      P0   N\nATOM    620  HN  LEU A  64     -11.101  -4.000 -24.016  0.00  0.00      P0   H\nATOM    621  CA  LEU A  64      -9.134  -3.525 -23.129  0.00 12.50      P0   C\nATOM    622  HA  LEU A  64      -8.338  -3.045 -23.530  0.00  0.00      P0   H\nATOM    623  CB  LEU A  64      -9.760  -2.583 -22.099  0.00  0.00      P0   C\nATOM    624  HB1 LEU A  64      -9.079  -2.422 -21.379  0.00  0.00      P0   H\nATOM    625  HB2 LEU A  64     -10.553  -3.052 -21.698  0.00  0.00      P0   H\nATOM    626  CG  LEU A  64     -10.242  -1.213 -22.579  0.00  0.00      P0   C\nATOM    627  HG  LEU A  64     -10.922  -1.343 -23.299  0.00  0.00      P0   H\nATOM    628  CD1 LEU A  64     -10.864  -0.440 -21.428  0.00  0.00      P0   C\nATOM    629 HD11 LEU A  64     -11.644  -0.950 -21.063  0.00  0.00      P0   H\nATOM    630 HD12 LEU A  64     -11.176   0.454 -21.754  0.00  0.00      P0   H\nATOM    631 HD13 LEU A  64     -10.185  -0.311 -20.705  0.00  0.00      P0   H\nATOM    632  CD2 LEU A  64      -9.102  -0.422 -23.200  0.00  0.00      P0   C\nATOM    633 HD21 LEU A  64      -8.379  -0.288 -22.522  0.00  0.00      P0   H\nATOM    634 HD22 LEU A  64      -8.732  -0.924 -23.983  0.00  0.00      P0   H\nATOM    635 HD23 LEU A  64      -9.439   0.468 -23.506  0.00  0.00      P0   H\nATOM    636  C   LEU A  64      -8.632  -4.791 -22.442  0.00  1.00      P0   C\nATOM    637  O   LEU A  64      -8.170  -4.726 -21.298  0.00  1.00      P0   O\nATOM    638  N   GLN A  65      -8.708  -5.936 -23.117  0.00  1.00      P0   N\nATOM    639  HN  GLN A  65      -9.065  -5.842 -24.091  0.00  0.00      P0   H\nATOM    640  CA  GLN A  65      -8.319  -7.218 -22.528  0.00 12.51      P0   C\nATOM    641  HA  GLN A  65      -8.400  -7.139 -21.533  0.00  0.00      P0   H\nATOM    642  CB  GLN A  65      -9.241  -8.326 -23.023  0.00  0.00      P0   C\nATOM    643  HB1 GLN A  65      -8.958  -9.194 -22.602  0.00  0.00      P0   H\nATOM    644  HB2 GLN A  65      -9.146  -8.405 -24.020  0.00  0.00      P0   H\nATOM    645  CG  GLN A  65     -10.712  -8.110 -22.707  0.00  0.00      P0   C\nATOM    646  HG1 GLN A  65     -11.258  -8.469 -23.464  0.00  0.00      P0   H\nATOM    647  HG2 GLN A  65     -10.878  -7.129 -22.611  0.00  0.00      P0   H\nATOM    648  CD  GLN A  65     -11.142  -8.802 -21.430  0.00  0.00      P0   C\nATOM    649  OE1 GLN A  65     -10.310  -9.271 -20.653  0.00  0.00      P0   O\nATOM    650  NE2 GLN A  65     -12.450  -8.878 -21.210  0.00  0.00      P0   N\nATOM    651 HE21 GLN A  65     -12.815  -9.342 -20.378  0.00  0.00      P0   H\nATOM    652 HE22 GLN A  65     -13.081  -8.461 -21.893  0.00  0.00      P0   H\nATOM    653  C   GLN A  65      -6.855  -7.518 -22.855  0.00  1.00      P0   C\nATOM    654  O   GLN A  65      -6.522  -8.410 -23.638  0.00  1.00      P0   O\nATOM    655  N   THR A  66      -5.970  -6.749 -22.230  0.00  1.00      P0   N\nATOM    656  HN  THR A  66      -6.391  -6.010 -21.625  0.00  0.00      P0   H\nATOM    657  CA  THR A  66      -4.535  -6.930 -22.384  0.00  2.37      P0   C\nATOM    658  HA  THR A  66      -4.371  -7.611 -23.105  0.00  0.00      P0   H\nATOM    659  CB  THR A  66      -3.843  -5.624 -22.790  0.00  0.00      P0   C\nATOM    660  HB  THR A  66      -2.857  -5.815 -22.978  0.00  0.00      P0   H\nATOM    661  OG1 THR A  66      -3.916  -4.681 -21.714  0.00  0.00      P0   O\nATOM    662  HG1 THR A  66      -3.289  -3.912 -21.880  0.00  0.00      P0   H\nATOM    663  CG2 THR A  66      -4.502  -5.032 -24.027  0.00  0.00      P0   C\nATOM    664 HG21 THR A  66      -4.532  -5.718 -24.758  0.00  0.00      P0   H\nATOM    665 HG22 THR A  66      -3.979  -4.237 -24.345  0.00  0.00      P0   H\nATOM    666 HG23 THR A  66      -5.438  -4.744 -23.808  0.00  0.00      P0   H\nATOM    667  C   THR A  66      -3.930  -7.451 -21.087  0.00  1.00      P0   C\nATOM    668  O   THR A  66      -4.496  -7.293 -20.003  0.00  1.00      P0   O\nATOM    669  N   VAL A  67      -2.758  -8.080 -21.221  0.00  1.00      P0   N\nATOM    670  HN  VAL A  67      -2.381  -8.100 -22.183  0.00  0.00      P0   H\nATOM    671  CA  VAL A  67      -2.088  -8.682 -20.071  0.00  2.38      P0   C\nATOM    672  HA  VAL A  67      -2.712  -9.360 -19.666  0.00  0.00      P0   H\nATOM    673  CB  VAL A  67      -0.811  -9.414 -20.524  0.00  0.00      P0   C\nATOM    674  HB  VAL A  67      -0.197  -8.736 -20.917  0.00  0.00      P0   H\nATOM    675  CG1 VAL A  67      -0.095 -10.027 -19.332  0.00  0.00      P0   C\nATOM    676 HG11 VAL A  67       0.249  -9.300 -18.737  0.00  0.00      P0   H\nATOM    677 HG12 VAL A  67      -0.731 -10.603 -18.818  0.00  0.00      P0   H\nATOM    678 HG13 VAL A  67       0.673 -10.584 -19.652  0.00  0.00      P0   H\nATOM    679  CG2 VAL A  67      -1.149 -10.478 -21.556  0.00  0.00      P0   C\nATOM    680 HG21 VAL A  67      -0.449 -11.192 -21.537  0.00  0.00      P0   H\nATOM    681 HG22 VAL A  67      -1.178 -10.060 -22.464  0.00  0.00      P0   H\nATOM    682 HG23 VAL A  67      -2.041 -10.876 -21.340  0.00  0.00      P0   H\nATOM    683  C   VAL A  67      -1.786  -7.628 -19.014  0.00  1.00      P0   C\nATOM    684  O   VAL A  67      -1.936  -7.874 -17.811  0.00  1.00      P0   O\nATOM    685  N   THR A  68      -1.357  -6.440 -19.445  0.00  1.00      P0   N\nATOM    686  HN  THR A  68      -1.242  -6.355 -20.462  0.00  0.00      P0   H\nATOM    687  CA  THR A  68      -1.084  -5.367 -18.495  0.00  2.39      P0   C\nATOM    688  HA  THR A  68      -0.409  -5.700 -17.824  0.00  0.00      P0   H\nATOM    689  CB  THR A  68      -0.477  -4.166 -19.219  0.00  0.00      P0   C\nATOM    690  HB  THR A  68      -1.125  -3.850 -19.942  0.00  0.00      P0   H\nATOM    691  OG1 THR A  68       0.743  -4.561 -19.858  0.00  0.00      P0   O\nATOM    692  HG1 THR A  68       0.685  -4.405 -20.851  0.00  0.00      P0   H\nATOM    693  CG2 THR A  68      -0.187  -3.039 -18.239  0.00  0.00      P0   C\nATOM    694 HG21 THR A  68      -0.158  -3.400 -17.304  0.00  0.00      P0   H\nATOM    695 HG22 THR A  68      -0.906  -2.341 -18.300  0.00  0.00      P0   H\nATOM    696 HG23 THR A  68       0.698  -2.618 -18.456  0.00  0.00      P0   H\nATOM    697  C   THR A  68      -2.346  -4.963 -17.745  0.00  1.00      P0   C\nATOM    698  O   THR A  68      -2.307  -4.715 -16.534  0.00  1.00      P0   O\nATOM    699  N   ASN A  69      -3.482  -4.905 -18.444  0.00  1.00      P0   N\nATOM    700  HN  ASN A  69      -3.393  -5.107 -19.448  0.00  0.00      P0   H\nATOM    701  CA  ASN A  69      -4.738  -4.574 -17.781  0.00  2.40      P0   C\nATOM    702  HA  ASN A  69      -4.580  -3.731 -17.248  0.00  0.00      P0   H\nATOM    703  CB  ASN A  69      -5.836  -4.345 -18.816  0.00  0.00      P0   C\nATOM    704  HB1 ASN A  69      -6.705  -4.247 -18.337  0.00  0.00      P0   H\nATOM    705  HB2 ASN A  69      -5.867  -5.136 -19.423  0.00  0.00      P0   H\nATOM    706  CG  ASN A  69      -5.599  -3.104 -19.649  0.00  0.00      P0   C\nATOM    707  OD1 ASN A  69      -6.475  -2.669 -20.398  0.00  0.00      P0   O\nATOM    708  ND2 ASN A  69      -4.411  -2.525 -19.523  0.00  0.00      P0   N\nATOM    709 HD21 ASN A  69      -3.726  -2.918 -18.904  0.00  0.00      P0   H\nATOM    710 HD22 ASN A  69      -4.194  -1.699 -20.042  0.00  0.00      P0   H\nATOM    711  C   ASN A  69      -5.155  -5.654 -16.792  0.00  1.00      P0   C\nATOM    712  O   ASN A  69      -5.853  -5.359 -15.815  0.00  1.00      P0   O\nATOM    713  N   TYR A  70      -4.752  -6.906 -17.027  0.00  1.00      P0   N\nATOM    714  HN  TYR A  70      -4.276  -7.057 -17.923  0.00  0.00      P0   H\nATOM    715  CA  TYR A  70      -4.998  -7.948 -16.037  0.00  2.41      P0   C\nATOM    716  HA  TYR A  70      -5.984  -7.964 -15.832  0.00  0.00      P0   H\nATOM    717  CB  TYR A  70      -4.598  -9.316 -16.590  0.00  0.00      P0   C\nATOM    718  HB1 TYR A  70      -4.458  -9.936 -15.821  0.00  0.00      P0   H\nATOM    719  HB2 TYR A  70      -3.744  -9.210 -17.097  0.00  0.00      P0   H\nATOM    720  CG  TYR A  70      -5.622  -9.936 -17.513  0.00  0.00      P0   C\nATOM    721  CD1 TYR A  70      -6.785 -10.503 -17.008  0.00  0.00      P0   C\nATOM    722  HD1 TYR A  70      -6.946 -10.498 -16.018  0.00  0.00      P0   H\nATOM    723  CE1 TYR A  70      -7.722 -11.074 -17.845  0.00  0.00      P0   C\nATOM    724  HE1 TYR A  70      -8.560 -11.476 -17.465  0.00  0.00      P0   H\nATOM    725  CZ  TYR A  70      -7.502 -11.088 -19.206  0.00  0.00      P0   C\nATOM    726  OH  TYR A  70      -8.435 -11.658 -20.039  0.00  0.00      P0   O\nATOM    727  HH  TYR A  70      -9.090 -10.961 -20.325  0.00  0.00      P0   H\nATOM    728  CD2 TYR A  70      -5.421  -9.967 -18.886  0.00  0.00      P0   C\nATOM    729  HD2 TYR A  70      -4.587  -9.569 -19.269  0.00  0.00      P0   H\nATOM    730  CE2 TYR A  70      -6.354 -10.536 -19.732  0.00  0.00      P0   C\nATOM    731  HE2 TYR A  70      -6.196 -10.549 -20.721  0.00  0.00      P0   H\nATOM    732  C   TYR A  70      -4.250  -7.654 -14.744  0.00  1.00      P0   C\nATOM    733  O   TYR A  70      -4.801  -7.815 -13.649  0.00  1.00      P0   O\nATOM    734  N   PHE A  71      -2.994  -7.216 -14.853  0.00  1.00      P0   N\nATOM    735  HN  PHE A  71      -2.618  -7.194 -15.812  0.00  0.00      P0   H\nATOM    736  CA  PHE A  71      -2.246  -6.809 -13.670  0.00  2.42      P0   C\nATOM    737  HA  PHE A  71      -2.377  -7.528 -12.977  0.00  0.00      P0   H\nATOM    738  CB  PHE A  71      -0.766  -6.646 -14.018  0.00  0.00      P0   C\nATOM    739  HB1 PHE A  71      -0.287  -6.388 -13.192  0.00  0.00      P0   H\nATOM    740  HB2 PHE A  71      -0.692  -5.945 -14.711  0.00  0.00      P0   H\nATOM    741  CG  PHE A  71      -0.128  -7.898 -14.554  0.00  0.00      P0   C\nATOM    742  CD1 PHE A  71      -0.543  -9.147 -14.120  0.00  0.00      P0   C\nATOM    743  HD1 PHE A  71      -1.274  -9.220 -13.445  0.00  0.00      P0   H\nATOM    744  CE1 PHE A  71       0.041 -10.301 -14.614  0.00  0.00      P0   C\nATOM    745  HE1 PHE A  71      -0.276 -11.200 -14.283  0.00  0.00      P0   H\nATOM    746  CZ  PHE A  71       1.050 -10.216 -15.552  0.00  0.00      P0   C\nATOM    747  HZ  PHE A  71       1.472 -11.051 -15.908  0.00  0.00      P0   H\nATOM    748  CD2 PHE A  71       0.887  -7.827 -15.497  0.00  0.00      P0   C\nATOM    749  HD2 PHE A  71       1.197  -6.932 -15.822  0.00  0.00      P0   H\nATOM    750  CE2 PHE A  71       1.474  -8.978 -15.996  0.00  0.00      P0   C\nATOM    751  HE2 PHE A  71       2.215  -8.904 -16.685  0.00  0.00      P0   H\nATOM    752  C   PHE A  71      -2.803  -5.521 -13.078  0.00  1.00      P0   C\nATOM    753  O   PHE A  71      -2.748  -5.326 -11.857  0.00  1.00      P0   O\nATOM    754  N   ILE A  72      -3.339  -4.633 -13.921  0.00  1.00      P0   N\nATOM    755  HN  ILE A  72      -3.242  -4.866 -14.922  0.00  0.00      P0   H\nATOM    756  CA  ILE A  72      -4.005  -3.432 -13.424  0.00  2.43      P0   C\nATOM    757  HA  ILE A  72      -3.370  -3.007 -12.776  0.00  0.00      P0   H\nATOM    758  CB  ILE A  72      -4.338  -2.484 -14.591  0.00  0.00      P0   C\nATOM    759  HB  ILE A  72      -4.770  -3.020 -15.309  0.00  0.00      P0   H\nATOM    760  CG2 ILE A  72      -5.302  -1.398 -14.147  0.00  0.00      P0   C\nATOM    761 HG21 ILE A  72      -6.125  -1.825 -13.777  0.00  0.00      P0   H\nATOM    762 HG22 ILE A  72      -5.538  -0.830 -14.934  0.00  0.00      P0   H\nATOM    763 HG23 ILE A  72      -4.863  -0.840 -13.445  0.00  0.00      P0   H\nATOM    764  CG1 ILE A  72      -3.060  -1.866 -15.166  0.00  0.00      P0   C\nATOM    765 HG11 ILE A  72      -2.475  -2.605 -15.493  0.00  0.00      P0   H\nATOM    766 HG12 ILE A  72      -2.588  -1.381 -14.435  0.00  0.00      P0   H\nATOM    767  CD  ILE A  72      -3.315  -0.906 -16.310  0.00  0.00      P0   C\nATOM    768  HD1 ILE A  72      -3.775  -1.392 -17.053  0.00  0.00      P0   H\nATOM    769  HD2 ILE A  72      -2.445  -0.542 -16.635  0.00  0.00      P0   H\nATOM    770  HD3 ILE A  72      -3.894  -0.157 -15.990  0.00  0.00      P0   H\nATOM    771  C   ILE A  72      -5.251  -3.808 -12.632  0.00  1.00      P0   C\nATOM    772  O   ILE A  72      -5.540  -3.220 -11.583  0.00  1.00      P0   O\nATOM    773  N   THR A  73      -6.008  -4.793 -13.124  0.00  1.00      P0   N\nATOM    774  HN  THR A  73      -5.731  -5.139 -14.052  0.00  0.00      P0   H\nATOM    775  CA  THR A  73      -7.139  -5.310 -12.361  0.00  2.44      P0   C\nATOM    776  HA  THR A  73      -7.777  -4.551 -12.180  0.00  0.00      P0   H\nATOM    777  CB  THR A  73      -7.878  -6.375 -13.173  0.00  0.00      P0   C\nATOM    778  HB  THR A  73      -7.219  -7.107 -13.443  0.00  0.00      P0   H\nATOM    779  OG1 THR A  73      -8.402  -5.788 -14.371  0.00  0.00      P0   O\nATOM    780  HG1 THR A  73      -7.655  -5.572 -15.009  0.00  0.00      P0   H\nATOM    781  CG2 THR A  73      -9.023  -6.978 -12.366  0.00  0.00      P0   C\nATOM    782 HG21 THR A  73      -9.901  -6.666 -12.738  0.00  0.00      P0   H\nATOM    783 HG22 THR A  73      -8.949  -6.691 -11.408  0.00  0.00      P0   H\nATOM    784 HG23 THR A  73      -8.981  -7.979 -12.415  0.00  0.00      P0   H\nATOM    785  C   THR A  73      -6.681  -5.879 -11.024  0.00  1.00      P0   C\nATOM    786  O   THR A  73      -7.322  -5.651  -9.991  0.00  1.00      P0   O\nATOM    787  N   SER A  74      -5.566  -6.615 -11.022  0.00  1.00      P0   N\nATOM    788  HN  SER A  74      -5.146  -6.779 -11.947  0.00  0.00      P0   H\nATOM    789  CA  SER A  74      -5.020  -7.128  -9.771  0.00  2.45      P0   C\nATOM    790  HA  SER A  74      -5.747  -7.643  -9.301  0.00  0.00      P0   H\nATOM    791  CB  SER A  74      -3.849  -8.068 -10.058  0.00  0.00      P0   C\nATOM    792  HB1 SER A  74      -3.171  -7.579 -10.601  0.00  0.00      P0   H\nATOM    793  HB2 SER A  74      -4.187  -8.857 -10.564  0.00  0.00      P0   H\nATOM    794  OG  SER A  74      -3.242  -8.515  -8.859  0.00  0.00      P0   O\nATOM    795  HG1 SER A  74      -2.435  -9.062  -9.077  0.00  0.00      P0   H\nATOM    796  C   SER A  74      -4.583  -5.993  -8.854  0.00  1.00      P0   C\nATOM    797  O   SER A  74      -4.780  -6.056  -7.634  0.00  1.00      P0   O\nATOM    798  N   LEU A  75      -3.993  -4.940  -9.425  0.00  1.00      P0   N\nATOM    799  HN  LEU A  75      -3.865  -5.008 -10.446  0.00  0.00      P0   H\nATOM    800  CA  LEU A  75      -3.576  -3.796  -8.623  0.00  2.46      P0   C\nATOM    801  HA  LEU A  75      -3.055  -4.134  -7.828  0.00  0.00      P0   H\nATOM    802  CB  LEU A  75      -2.651  -2.897  -9.442  0.00  0.00      P0   C\nATOM    803  HB1 LEU A  75      -3.106  -2.695 -10.306  0.00  0.00      P0   H\nATOM    804  HB2 LEU A  75      -1.806  -3.400  -9.613  0.00  0.00      P0   H\nATOM    805  CG  LEU A  75      -2.262  -1.561  -8.808  0.00  0.00      P0   C\nATOM    806  HG  LEU A  75      -3.094  -1.074  -8.543  0.00  0.00      P0   H\nATOM    807  CD1 LEU A  75      -1.395  -1.786  -7.582  0.00  0.00      P0   C\nATOM    808 HD11 LEU A  75      -1.899  -2.330  -6.909  0.00  0.00      P0   H\nATOM    809 HD12 LEU A  75      -1.149  -0.904  -7.178  0.00  0.00      P0   H\nATOM    810 HD13 LEU A  75      -0.562  -2.273  -7.845  0.00  0.00      P0   H\nATOM    811  CD2 LEU A  75      -1.561  -0.669  -9.820  0.00  0.00      P0   C\nATOM    812 HD21 LEU A  75      -0.732  -1.122 -10.149  0.00  0.00      P0   H\nATOM    813 HD22 LEU A  75      -2.171  -0.493 -10.592  0.00  0.00      P0   H\nATOM    814 HD23 LEU A  75      -1.315   0.200  -9.388  0.00  0.00      P0   H\nATOM    815  C   LEU A  75      -4.777  -3.009  -8.113  0.00  1.00      P0   C\nATOM    816  O   LEU A  75      -4.797  -2.581  -6.952  0.00  1.00      P0   O\nATOM    817  N   ALA A  76      -5.787  -2.807  -8.963  0.00  1.00      P0   N\nATOM    818  HN  ALA A  76      -5.650  -3.188  -9.908  0.00  0.00      P0   H\nATOM    819  CA  ALA A  76      -6.980  -2.088  -8.532  0.00  2.47      P0   C\nATOM    820  HA  ALA A  76      -6.700  -1.199  -8.141  0.00  0.00      P0   H\nATOM    821  CB  ALA A  76      -7.878  -1.786  -9.731  0.00  0.00      P0   C\nATOM    822  HB1 ALA A  76      -7.386  -1.994 -10.574  0.00  0.00      P0   H\nATOM    823  HB2 ALA A  76      -8.130  -0.819  -9.721  0.00  0.00      P0   H\nATOM    824  HB3 ALA A  76      -8.702  -2.346  -9.677  0.00  0.00      P0   H\nATOM    825  C   ALA A  76      -7.752  -2.863  -7.471  0.00  1.00      P0   C\nATOM    826  O   ALA A  76      -8.376  -2.252  -6.597  0.00  1.00      P0   O\nATOM    827  N   CYS A  77      -7.728  -4.197  -7.531  0.00  1.00      P0   N\nATOM    828  HN  CYS A  77      -7.252  -4.594  -8.349  0.00  0.00      P0   H\nATOM    829  CA  CYS A  77      -8.352  -4.991  -6.477  0.00  2.48      P0   C\nATOM    830  HA  CYS A  77      -9.307  -4.688  -6.378  0.00  0.00      P0   H\nATOM    831  CB  CYS A  77      -8.348  -6.474  -6.850  0.00  0.00      P0   C\nATOM    832  HB1 CYS A  77      -8.521  -7.003  -6.015  0.00  0.00      P0   H\nATOM    833  HB2 CYS A  77      -7.435  -6.703  -7.197  0.00  0.00      P0   H\nATOM    834  SG  CYS A  77      -9.566  -6.956  -8.092  0.00  0.00      P0   S\nATOM    835  HG1 CYS A  77      -9.209  -8.238  -8.186  0.00  0.00      P0   H\nATOM    836  C   CYS A  77      -7.647  -4.779  -5.145  0.00  1.00      P0   C\nATOM    837  O   CYS A  77      -8.294  -4.711  -4.094  0.00  1.00      P0   O\nATOM    838  N   ALA A  78      -6.315  -4.678  -5.170  0.00  1.00      P0   N\nATOM    839  HN  ALA A  78      -5.883  -4.786  -6.098  0.00  0.00      P0   H\nATOM    840  CA  ALA A  78      -5.569  -4.430  -3.942  0.00  2.49      P0   C\nATOM    841  HA  ALA A  78      -5.793  -5.151  -3.275  0.00  0.00      P0   H\nATOM    842  CB  ALA A  78      -4.068  -4.504  -4.213  0.00  0.00      P0   C\nATOM    843  HB1 ALA A  78      -3.590  -3.874  -3.604  0.00  0.00      P0   H\nATOM    844  HB2 ALA A  78      -3.889  -4.252  -5.162  0.00  0.00      P0   H\nATOM    845  HB3 ALA A  78      -3.748  -5.436  -4.049  0.00  0.00      P0   H\nATOM    846  C   ALA A  78      -5.940  -3.081  -3.341  0.00  1.00      P0   C\nATOM    847  O   ALA A  78      -6.124  -2.964  -2.124  0.00  1.00      P0   O\nATOM    848  N   ASP A  79      -6.063  -2.051  -4.181  0.00  1.00      P0   N\nATOM    849  HN  ASP A  79      -5.848  -2.258  -5.166  0.00  0.00      P0   H\nATOM    850  CA  ASP A  79      -6.477  -0.742  -3.689  0.00  2.50      P0   C\nATOM    851  HA  ASP A  79      -5.954  -0.561  -2.845  0.00  0.00      P0   H\nATOM    852  CB  ASP A  79      -6.188   0.331  -4.739  0.00  0.00      P0   C\nATOM    853  HB1 ASP A  79      -6.501   1.203  -4.383  0.00  0.00      P0   H\nATOM    854  HB2 ASP A  79      -6.683   0.093  -5.566  0.00  0.00      P0   H\nATOM    855  CG  ASP A  79      -4.710   0.439  -5.069  0.00  0.00      P0   C\nATOM    856  OD1 ASP A  79      -3.876   0.155  -4.182  0.00  0.00      P0   O\nATOM    857  OD2 ASP A  79      -4.382   0.809  -6.216  0.00  0.00      P0   O\nATOM    858  C   ASP A  79      -7.953  -0.728  -3.309  0.00  1.00      P0   C\nATOM    859  O   ASP A  79      -8.360   0.054  -2.444  0.00  1.00      P0   O\nATOM    860  N   LEU A  80      -8.762  -1.587  -3.935  0.00  1.00      P0   N\nATOM    861  HN  LEU A  80      -8.309  -2.183  -4.641  0.00  0.00      P0   H\nATOM    862  CA  LEU A  80     -10.184  -1.641  -3.607  0.00  2.51      P0   C\nATOM    863  HA  LEU A  80     -10.560  -0.708  -3.658  0.00  0.00      P0   H\nATOM    864  CB  LEU A  80     -10.923  -2.502  -4.631  0.00  0.00      P0   C\nATOM    865  HB1 LEU A  80     -10.519  -3.416  -4.610  0.00  0.00      P0   H\nATOM    866  HB2 LEU A  80     -10.777  -2.095  -5.535  0.00  0.00      P0   H\nATOM    867  CG  LEU A  80     -12.432  -2.668  -4.447  0.00  0.00      P0   C\nATOM    868  HG  LEU A  80     -12.606  -3.087  -3.556  0.00  0.00      P0   H\nATOM    869  CD1 LEU A  80     -13.132  -1.320  -4.520  0.00  0.00      P0   C\nATOM    870 HD11 LEU A  80     -12.783  -0.722  -3.798  0.00  0.00      P0   H\nATOM    871 HD12 LEU A  80     -14.117  -1.447  -4.399  0.00  0.00      P0   H\nATOM    872 HD13 LEU A  80     -12.959  -0.901  -5.411  0.00  0.00      P0   H\nATOM    873  CD2 LEU A  80     -12.994  -3.629  -5.485  0.00  0.00      P0   C\nATOM    874 HD21 LEU A  80     -12.816  -3.272  -6.402  0.00  0.00      P0   H\nATOM    875 HD22 LEU A  80     -12.556  -4.522  -5.386  0.00  0.00      P0   H\nATOM    876 HD23 LEU A  80     -13.980  -3.727  -5.351  0.00  0.00      P0   H\nATOM    877  C   LEU A  80     -10.405  -2.171  -2.195  0.00  1.00      P0   C\nATOM    878  O   LEU A  80     -11.231  -1.634  -1.447  0.00  1.00      P0   O\nATOM    879  N   VAL A  81      -9.676  -3.225  -1.812  0.00  1.00      P0   N\nATOM    880  HN  VAL A  81      -9.047  -3.608  -2.532  0.00  0.00      P0   H\nATOM    881  CA  VAL A  81      -9.796  -3.759  -0.459  0.00  2.52      P0   C\nATOM    882  HA  VAL A  81     -10.769  -3.941  -0.279  0.00  0.00      P0   H\nATOM    883  CB  VAL A  81      -9.032  -5.094  -0.347  0.00  0.00      P0   C\nATOM    884  HB  VAL A  81      -8.062  -4.896  -0.448  0.00  0.00      P0   H\nATOM    885  CG1 VAL A  81      -9.220  -5.710   1.033  0.00  0.00      P0   C\nATOM    886 HG11 VAL A  81     -10.113  -6.157   1.080  0.00  0.00      P0   H\nATOM    887 HG12 VAL A  81      -8.501  -6.384   1.198  0.00  0.00      P0   H\nATOM    888 HG13 VAL A  81      -9.170  -4.993   1.728  0.00  0.00      P0   H\nATOM    889  CG2 VAL A  81      -9.497  -6.056  -1.425  0.00  0.00      P0   C\nATOM    890 HG21 VAL A  81     -10.381  -5.754  -1.782  0.00  0.00      P0   H\nATOM    891 HG22 VAL A  81      -9.589  -6.973  -1.034  0.00  0.00      P0   H\nATOM    892 HG23 VAL A  81      -8.825  -6.074  -2.166  0.00  0.00      P0   H\nATOM    893  C   VAL A  81      -9.309  -2.745   0.567  0.00  1.00      P0   C\nATOM    894  O   VAL A  81      -9.824  -2.688   1.691  0.00  1.00      P0   O\nATOM    895  N   MET A  82      -8.318  -1.925   0.202  0.00  1.00      P0   N\nATOM    896  HN  MET A  82      -7.940  -2.089  -0.743  0.00  0.00      P0   H\nATOM    897  CA  MET A  82      -7.836  -0.884   1.105  0.00  2.53      P0   C\nATOM    898  HA  MET A  82      -7.494  -1.328   1.941  0.00  0.00      P0   H\nATOM    899  CB  MET A  82      -6.694  -0.109   0.451  0.00  0.00      P0   C\nATOM    900  HB1 MET A  82      -6.468   0.688   1.029  0.00  0.00      P0   H\nATOM    901  HB2 MET A  82      -7.005   0.236  -0.445  0.00  0.00      P0   H\nATOM    902  CG  MET A  82      -5.433  -0.923   0.242  0.00  0.00      P0   C\nATOM    903  HG1 MET A  82      -4.836  -0.434  -0.434  0.00  0.00      P0   H\nATOM    904  HG2 MET A  82      -5.686  -1.809  -0.206  0.00  0.00      P0   H\nATOM    905  SD  MET A  82      -4.545  -1.218   1.779  0.00  0.00      P0   S\nATOM    906  CE  MET A  82      -4.033   0.447   2.190  0.00  0.00      P0   C\nATOM    907  HE1 MET A  82      -4.268   0.645   3.143  0.00  0.00      P0   H\nATOM    908  HE2 MET A  82      -3.043   0.534   2.067  0.00  0.00      P0   H\nATOM    909  HE3 MET A  82      -4.500   1.100   1.592  0.00  0.00      P0   H\nATOM    910  C   MET A  82      -8.964   0.060   1.501  0.00  1.00      P0   C\nATOM    911  O   MET A  82      -9.172   0.335   2.688  0.00  1.00      P0   O\nATOM    912  N   GLY A  83      -9.705   0.563   0.516  0.00  1.00      P0   N\nATOM    913  HN  GLY A  83      -9.388   0.277  -0.442  0.00  0.00      P0   H\nATOM    914  CA  GLY A  83     -10.840   1.424   0.754  0.00  2.54      P0   C\nATOM    915  HA1 GLY A  83     -11.055   1.942  -0.108  0.00  0.00      P0   H\nATOM    916  HA2 GLY A  83     -10.579   2.142   1.440  0.00  0.00      P0   H\nATOM    917  C   GLY A  83     -12.089   0.722   1.229  0.00  1.00      P0   C\nATOM    918  O   GLY A  83     -13.131   1.366   1.376  0.00  1.00      P0   O\nATOM    919  N   LEU A  84     -12.023  -0.585   1.475  0.00  1.00      P0   N\nATOM    920  HN  LEU A  84     -11.098  -1.017   1.270  0.00  0.00      P0   H\nATOM    921  CA  LEU A  84     -13.161  -1.338   1.990  0.00  2.55      P0   C\nATOM    922  HA  LEU A  84     -13.924  -0.683   2.164  0.00  0.00      P0   H\nATOM    923  CB  LEU A  84     -13.669  -2.334   0.936  0.00  0.00      P0   C\nATOM    924  HB1 LEU A  84     -14.323  -2.940   1.382  0.00  0.00      P0   H\nATOM    925  HB2 LEU A  84     -12.884  -2.860   0.613  0.00  0.00      P0   H\nATOM    926  CG  LEU A  84     -14.360  -1.742  -0.296  0.00  0.00      P0   C\nATOM    927  HG  LEU A  84     -13.780  -1.023  -0.680  0.00  0.00      P0   H\nATOM    928  CD1 LEU A  84     -14.603  -2.813  -1.352  0.00  0.00      P0   C\nATOM    929 HD11 LEU A  84     -13.728  -3.208  -1.635  0.00  0.00      P0   H\nATOM    930 HD12 LEU A  84     -15.054  -2.403  -2.145  0.00  0.00      P0   H\nATOM    931 HD13 LEU A  84     -15.186  -3.532  -0.972  0.00  0.00      P0   H\nATOM    932  CD2 LEU A  84     -15.667  -1.074   0.098  0.00  0.00      P0   C\nATOM    933 HD21 LEU A  84     -16.276  -1.748   0.519  0.00  0.00      P0   H\nATOM    934 HD22 LEU A  84     -15.485  -0.339   0.752  0.00  0.00      P0   H\nATOM    935 HD23 LEU A  84     -16.108  -0.693  -0.715  0.00  0.00      P0   H\nATOM    936  C   LEU A  84     -12.878  -2.093   3.277  0.00  1.00      P0   C\nATOM    937  O   LEU A  84     -13.830  -2.400   4.008  0.00  1.00      P0   O\nATOM    938  N   ALA A  85     -11.623  -2.411   3.581  0.00  1.00      P0   N\nATOM    939  HN  ALA A  85     -10.914  -2.089   2.888  0.00  0.00      P0   H\nATOM    940  CA  ALA A  85     -11.279  -3.150   4.792  0.00  2.55      P0   C\nATOM    941  HA  ALA A  85     -12.113  -3.223   5.372  0.00  0.00      P0   H\nATOM    942  CB  ALA A  85     -10.870  -4.590   4.439  0.00  0.00      P0   C\nATOM    943  HB1 ALA A  85     -11.126  -5.194   5.189  0.00  0.00      P0   H\nATOM    944  HB2 ALA A  85      -9.883  -4.623   4.298  0.00  0.00      P0   H\nATOM    945  HB3 ALA A  85     -11.340  -4.868   3.605  0.00  0.00      P0   H\nATOM    946  C   ALA A  85     -10.179  -2.496   5.608  0.00  1.00      P0   C\nATOM    947  O   ALA A  85     -10.083  -2.779   6.806  0.00  1.00      P0   O\nATOM    948  N   VAL A  86      -9.369  -1.618   5.022  0.00  1.00      P0   N\nATOM    949  HN  VAL A  86      -9.597  -1.421   4.022  0.00  0.00      P0   H\nATOM    950  CA  VAL A  86      -8.254  -0.986   5.722  0.00  2.56      P0   C\nATOM    951  HA  VAL A  86      -8.100  -1.485   6.583  0.00  0.00      P0   H\nATOM    952  CB  VAL A  86      -6.951  -1.088   4.899  0.00  0.00      P0   C\nATOM    953  HB  VAL A  86      -7.097  -0.606   4.042  0.00  0.00      P0   H\nATOM    954  CG1 VAL A  86      -5.806  -0.382   5.618  0.00  0.00      P0   C\nATOM    955 HG11 VAL A  86      -5.931  -0.468   6.606  0.00  0.00      P0   H\nATOM    956 HG12 VAL A  86      -4.939  -0.802   5.353  0.00  0.00      P0   H\nATOM    957 HG13 VAL A  86      -5.801   0.585   5.365  0.00  0.00      P0   H\nATOM    958  CG2 VAL A  86      -6.587  -2.542   4.638  0.00  0.00      P0   C\nATOM    959 HG21 VAL A  86      -5.990  -2.869   5.370  0.00  0.00      P0   H\nATOM    960 HG22 VAL A  86      -6.113  -2.611   3.760  0.00  0.00      P0   H\nATOM    961 HG23 VAL A  86      -7.422  -3.092   4.615  0.00  0.00      P0   H\nATOM    962  C   VAL A  86      -8.569   0.470   6.076  0.00  1.00      P0   C\nATOM    963  O   VAL A  86      -8.570   0.842   7.248  0.00  1.00      P0   O\nATOM    964  N   VAL A  87      -8.850   1.308   5.065  0.00  1.00      P0   N\nATOM    965  HN  VAL A  87      -8.910   0.871   4.138  0.00  0.00      P0   H\nATOM    966  CA  VAL A  87      -9.048   2.736   5.318  0.00  2.57      P0   C\nATOM    967  HA  VAL A  87      -8.231   3.083   5.804  0.00  0.00      P0   H\nATOM    968  CB  VAL A  87      -9.091   3.513   3.994  0.00  0.00      P0   C\nATOM    969  HB  VAL A  87      -9.880   3.201   3.478  0.00  0.00      P0   H\nATOM    970  CG1 VAL A  87      -9.305   5.016   4.256  0.00  0.00      P0   C\nATOM    971 HG11 VAL A  87      -8.427   5.484   4.202  0.00  0.00      P0   H\nATOM    972 HG12 VAL A  87      -9.927   5.380   3.567  0.00  0.00      P0   H\nATOM    973 HG13 VAL A  87      -9.698   5.135   5.165  0.00  0.00      P0   H\nATOM    974  CG2 VAL A  87      -7.812   3.302   3.209  0.00  0.00      P0   C\nATOM    975 HG21 VAL A  87      -7.891   2.470   2.659  0.00  0.00      P0   H\nATOM    976 HG22 VAL A  87      -7.042   3.211   3.843  0.00  0.00      P0   H\nATOM    977 HG23 VAL A  87      -7.657   4.087   2.608  0.00  0.00      P0   H\nATOM    978  C   VAL A  87     -10.267   3.009   6.195  0.00  1.00      P0   C\nATOM    979  O   VAL A  87     -10.147   3.809   7.135  0.00  1.00      P0   O\nATOM    980  N   PRO A  88     -11.443   2.411   5.955  0.00  1.00      P0   N\nATOM    981  CD  PRO A  88     -11.836   1.531   4.842  0.00  0.00      P0   C\nATOM    982  HD1 PRO A  88     -11.397   1.829   3.991  0.00  0.00      P0   H\nATOM    983  HD2 PRO A  88     -11.572   0.585   5.035  0.00  0.00      P0   H\nATOM    984  CA  PRO A  88     -12.593   2.716   6.833  0.00  2.58      P0   C\nATOM    985  HA  PRO A  88     -12.844   3.699   6.747  0.00  0.00      P0   H\nATOM    986  CB  PRO A  88     -13.730   1.898   6.206  0.00  0.00      P0   C\nATOM    987  HB1 PRO A  88     -14.596   2.400   6.261  0.00  0.00      P0   H\nATOM    988  HB2 PRO A  88     -13.834   1.019   6.682  0.00  0.00      P0   H\nATOM    989  CG  PRO A  88     -13.315   1.694   4.789  0.00  0.00      P0   C\nATOM    990  HG1 PRO A  88     -13.574   2.489   4.231  0.00  0.00      P0   H\nATOM    991  HG2 PRO A  88     -13.759   0.877   4.408  0.00  0.00      P0   H\nATOM    992  C   PRO A  88     -12.364   2.342   8.288  0.00  1.00      P0   C\nATOM    993  O   PRO A  88     -12.706   3.123   9.186  0.00  1.00      P0   O\nATOM    994  N   PHE A  89     -11.799   1.162   8.549  0.00  1.00      P0   N\nATOM    995  HN  PHE A  89     -11.581   0.586   7.726  0.00  0.00      P0   H\nATOM    996  CA  PHE A  89     -11.530   0.763   9.925  0.00  2.59      P0   C\nATOM    997  HA  PHE A  89     -12.336   1.029  10.472  0.00  0.00      P0   H\nATOM    998  CB  PHE A  89     -11.308  -0.746   9.996  0.00  0.00      P0   C\nATOM    999  HB1 PHE A  89     -11.000  -0.965  10.910  0.00  0.00      P0   H\nATOM   1000  HB2 PHE A  89     -10.629  -0.985   9.319  0.00  0.00      P0   H\nATOM   1001  CG  PHE A  89     -12.545  -1.550   9.718  0.00  0.00      P0   C\nATOM   1002  CD1 PHE A  89     -13.769  -1.158  10.237  0.00  0.00      P0   C\nATOM   1003  HD1 PHE A  89     -13.828  -0.336  10.801  0.00  0.00      P0   H\nATOM   1004  CE1 PHE A  89     -14.912  -1.891   9.983  0.00  0.00      P0   C\nATOM   1005  HE1 PHE A  89     -15.792  -1.591  10.375  0.00  0.00      P0   H\nATOM   1006  CZ  PHE A  89     -14.843  -3.024   9.199  0.00  0.00      P0   C\nATOM   1007  HZ  PHE A  89     -15.673  -3.555   9.015  0.00  0.00      P0   H\nATOM   1008  CD2 PHE A  89     -12.491  -2.686   8.930  0.00  0.00      P0   C\nATOM   1009  HD2 PHE A  89     -11.613  -2.977   8.542  0.00  0.00      P0   H\nATOM   1010  CE2 PHE A  89     -13.631  -3.422   8.671  0.00  0.00      P0   C\nATOM   1011  HE2 PHE A  89     -13.570  -4.255   8.094  0.00  0.00      P0   H\nATOM   1012  C   PHE A  89     -10.338   1.513  10.507  0.00  1.00      P0   C\nATOM   1013  O   PHE A  89     -10.273   1.721  11.723  0.00  1.00      P0   O\nATOM   1014  N   GLY A  90      -9.388   1.924   9.664  0.00  1.00      P0   N\nATOM   1015  HN  GLY A  90      -9.499   1.609   8.690  0.00  0.00      P0   H\nATOM   1016  CA  GLY A  90      -8.295   2.755  10.137  0.00  2.60      P0   C\nATOM   1017  HA1 GLY A  90      -7.537   2.732   9.454  0.00  0.00      P0   H\nATOM   1018  HA2 GLY A  90      -7.917   2.355  10.996  0.00  0.00      P0   H\nATOM   1019  C   GLY A  90      -8.691   4.194  10.392  0.00  1.00      P0   C\nATOM   1020  O   GLY A  90      -7.970   4.910  11.095  0.00  1.00      P0   O\nATOM   1021  N   ALA A  91      -9.820   4.633   9.833  0.00  1.00      P0   N\nATOM   1022  HN  ALA A  91     -10.307   3.947   9.233  0.00  0.00      P0   H\nATOM   1023  CA  ALA A  91     -10.299   5.989  10.073  0.00  2.61      P0   C\nATOM   1024  HA  ALA A  91      -9.506   6.614  10.100  0.00  0.00      P0   H\nATOM   1025  CB  ALA A  91     -11.200   6.439   8.925  0.00  0.00      P0   C\nATOM   1026  HB1 ALA A  91     -11.740   5.663   8.604  0.00  0.00      P0   H\nATOM   1027  HB2 ALA A  91     -10.636   6.785   8.177  0.00  0.00      P0   H\nATOM   1028  HB3 ALA A  91     -11.810   7.161   9.246  0.00  0.00      P0   H\nATOM   1029  C   ALA A  91     -11.039   6.088  11.401  0.00  1.00      P0   C\nATOM   1030  O   ALA A  91     -10.885   7.075  12.128  0.00  1.00      P0   O\nATOM   1031  N   ALA A  92     -11.847   5.077  11.732  0.00  1.00      P0   N\nATOM   1032  HN  ALA A  92     -11.936   4.338  11.019  0.00  0.00      P0   H\nATOM   1033  CA  ALA A  92     -12.533   5.061  13.018  0.00  2.62      P0   C\nATOM   1034  HA  ALA A  92     -13.038   5.933  13.127  0.00  0.00      P0   H\nATOM   1035  CB  ALA A  92     -13.565   3.934  13.051  0.00  0.00      P0   C\nATOM   1036  HB1 ALA A  92     -13.857   3.780  13.994  0.00  0.00      P0   H\nATOM   1037  HB2 ALA A  92     -13.156   3.100  12.687  0.00  0.00      P0   H\nATOM   1038  HB3 ALA A  92     -14.354   4.191  12.495  0.00  0.00      P0   H\nATOM   1039  C   ALA A  92     -11.565   4.914  14.183  0.00  1.00      P0   C\nATOM   1040  O   ALA A  92     -11.913   5.275  15.313  0.00  1.00      P0   O\nATOM   1041  N   HIS A  93     -10.361   4.393  13.934  0.00  1.00      P0   N\nATOM   1042  HN  HIS A  93     -10.054   4.068  13.041  0.00  0.00      P0   H\nATOM   1043  CA  HIS A  93      -9.371   4.258  14.996  0.00  2.63      P0   C\nATOM   1044  HA  HIS A  93      -9.818   3.834  15.797  0.00  0.00      P0   H\nATOM   1045  CB  HIS A  93      -8.241   3.334  14.540  0.00  0.00      P0   C\nATOM   1046  HB1 HIS A  93      -7.800   3.789  13.767  0.00  0.00      P0   H\nATOM   1047  HB2 HIS A  93      -8.631   2.441  14.285  0.00  0.00      P0   H\nATOM   1048  ND1 HIS A  93      -7.470   2.629  16.838  0.00  0.00      P0   N\nATOM   1049  CG  HIS A  93      -7.185   3.107  15.577  0.00  0.00      P0   C\nATOM   1050  CE1 HIS A  93      -6.351   2.529  17.531  0.00  0.00      P0   C\nATOM   1051  HE1 HIS A  93      -6.274   2.212  18.472  0.00  0.00      P0   H\nATOM   1052  NE2 HIS A  93      -5.349   2.923  16.765  0.00  0.00      P0   N\nATOM   1053  HE2 HIS A  93      -4.391   2.966  17.047  0.00  0.00      P0   H\nATOM   1054  CD2 HIS A  93      -5.844   3.288  15.537  0.00  0.00      P0   C\nATOM   1055  HD2 HIS A  93      -5.218   3.654  14.736  0.00  0.00      P0   H\nATOM   1056  C   HIS A  93      -8.814   5.610  15.422  0.00  1.00      P0   C\nATOM   1057  O   HIS A  93      -8.386   5.769  16.571  0.00  1.00      P0   O\nATOM   1058  N   ILE A  94      -8.813   6.590  14.521  0.00  1.00      P0   N\nATOM   1059  HN  ILE A  94      -9.193   6.332  13.592  0.00  0.00      P0   H\nATOM   1060  CA  ILE A  94      -8.308   7.921  14.846  0.00  2.64      P0   C\nATOM   1061  HA  ILE A  94      -7.635   7.794  15.583  0.00  0.00      P0   H\nATOM   1062  CB  ILE A  94      -7.657   8.554  13.601  0.00  0.00      P0   C\nATOM   1063  HB  ILE A  94      -8.370   8.695  12.922  0.00  0.00      P0   H\nATOM   1064  CG2 ILE A  94      -7.027   9.894  13.949  0.00  0.00      P0   C\nATOM   1065 HG21 ILE A  94      -7.729  10.491  14.335  0.00  0.00      P0   H\nATOM   1066 HG22 ILE A  94      -6.653  10.301  13.118  0.00  0.00      P0   H\nATOM   1067 HG23 ILE A  94      -6.299   9.747  14.616  0.00  0.00      P0   H\nATOM   1068  CG1 ILE A  94      -6.614   7.610  13.005  0.00  0.00      P0   C\nATOM   1069 HG11 ILE A  94      -7.062   6.744  12.793  0.00  0.00      P0   H\nATOM   1070 HG12 ILE A  94      -5.908   7.448  13.691  0.00  0.00      P0   H\nATOM   1071  CD  ILE A  94      -5.970   8.146  11.752  0.00  0.00      P0   C\nATOM   1072  HD1 ILE A  94      -6.672   8.296  11.055  0.00  0.00      P0   H\nATOM   1073  HD2 ILE A  94      -5.300   7.486  11.412  0.00  0.00      P0   H\nATOM   1074  HD3 ILE A  94      -5.512   9.010  11.955  0.00  0.00      P0   H\nATOM   1075  C   ILE A  94      -9.407   8.814  15.406  0.00  1.00      P0   C\nATOM   1076  O   ILE A  94      -9.186   9.544  16.375  0.00  1.00      P0   O\nATOM   1077  N   LEU A  95     -10.598   8.769  14.804  0.00  1.00      P0   N\nATOM   1078  HN  LEU A  95     -10.674   8.097  14.028  0.00  0.00      P0   H\nATOM   1079  CA  LEU A  95     -11.686   9.632  15.251  0.00  2.65      P0   C\nATOM   1080  HA  LEU A  95     -11.359  10.586  15.253  0.00  0.00      P0   H\nATOM   1081  CB  LEU A  95     -12.861   9.536  14.276  0.00  0.00      P0   C\nATOM   1082  HB1 LEU A  95     -13.555  10.185  14.568  0.00  0.00      P0   H\nATOM   1083  HB2 LEU A  95     -13.215   8.608  14.314  0.00  0.00      P0   H\nATOM   1084  CG  LEU A  95     -12.538   9.842  12.812  0.00  0.00      P0   C\nATOM   1085  HG  LEU A  95     -11.817   9.221  12.502  0.00  0.00      P0   H\nATOM   1086  CD1 LEU A  95     -13.772   9.657  11.942  0.00  0.00      P0   C\nATOM   1087 HD11 LEU A  95     -14.092   8.711  12.012  0.00  0.00      P0   H\nATOM   1088 HD12 LEU A  95     -13.544   9.860  10.990  0.00  0.00      P0   H\nATOM   1089 HD13 LEU A  95     -14.495  10.276  12.250  0.00  0.00      P0   H\nATOM   1090  CD2 LEU A  95     -11.976  11.246  12.663  0.00  0.00      P0   C\nATOM   1091 HD21 LEU A  95     -12.646  11.912  12.990  0.00  0.00      P0   H\nATOM   1092 HD22 LEU A  95     -11.137  11.330  13.201  0.00  0.00      P0   H\nATOM   1093 HD23 LEU A  95     -11.772  11.426  11.701  0.00  0.00      P0   H\nATOM   1094  C   LEU A  95     -12.131   9.274  16.663  0.00  1.00      P0   C\nATOM   1095  O   LEU A  95     -12.365  10.161  17.492  0.00  1.00      P0   O\nATOM   1096  N   MET A  96     -12.245   7.984  16.954  0.00  1.00      P0   N\nATOM   1097  HN  MET A  96     -12.040   7.336  16.170  0.00  0.00      P0   H\nATOM   1098  CA  MET A  96     -12.633   7.526  18.293  0.00  2.66      P0   C\nATOM   1099  HA  MET A  96     -13.275   8.204  18.679  0.00  0.00      P0   H\nATOM   1100  CB  MET A  96     -13.343   6.181  18.213  0.00  0.00      P0   C\nATOM   1101  HB1 MET A  96     -13.436   5.806  19.142  0.00  0.00      P0   H\nATOM   1102  HB2 MET A  96     -12.781   5.549  17.668  0.00  0.00      P0   H\nATOM   1103  CG  MET A  96     -14.704   6.282  17.590  0.00  0.00      P0   C\nATOM   1104  HG1 MET A  96     -14.623   6.782  16.698  0.00  0.00      P0   H\nATOM   1105  HG2 MET A  96     -15.295   6.876  18.183  0.00  0.00      P0   H\nATOM   1106  SD  MET A  96     -15.444   4.680  17.356  0.00  0.00      P0   S\nATOM   1107  CE  MET A  96     -17.183   5.122  17.236  0.00  0.00      P0   C\nATOM   1108  HE1 MET A  96     -17.329   5.674  16.416  0.00  0.00      P0   H\nATOM   1109  HE2 MET A  96     -17.734   4.290  17.181  0.00  0.00      P0   H\nATOM   1110  HE3 MET A  96     -17.449   5.646  18.044  0.00  0.00      P0   H\nATOM   1111  C   MET A  96     -11.438   7.419  19.235  0.00  1.00      P0   C\nATOM   1112  O   MET A  96     -11.631   7.350  20.437  0.00  1.00      P0   O\nATOM   1113  N   LYS A  97     -10.215   7.597  18.737  0.00  1.00      P0   N\nATOM   1114  HN  LYS A  97     -10.206   7.765  17.694  0.00  0.00      P0   H\nATOM   1115  CA  LYS A  97      -8.990   7.569  19.534  0.00  2.67      P0   C\nATOM   1116  HA  LYS A  97      -8.208   7.807  18.935  0.00  0.00      P0   H\nATOM   1117  CB  LYS A  97      -9.033   8.639  20.630  0.00  0.00      P0   C\nATOM   1118  HB1 LYS A  97      -8.170   8.602  21.134  0.00  0.00      P0   H\nATOM   1119  HB2 LYS A  97      -9.787   8.419  21.249  0.00  0.00      P0   H\nATOM   1120  CG  LYS A  97      -9.231  10.062  20.125  0.00  0.00      P0   C\nATOM   1121  HG1 LYS A  97      -9.364  10.671  20.907  0.00  0.00      P0   H\nATOM   1122  HG2 LYS A  97     -10.044  10.089  19.542  0.00  0.00      P0   H\nATOM   1123  CD  LYS A  97      -8.034  10.546  19.322  0.00  0.00      P0   C\nATOM   1124  HD1 LYS A  97      -7.925   9.966  18.522  0.00  0.00      P0   H\nATOM   1125  HD2 LYS A  97      -7.223  10.505  19.895  0.00  0.00      P0   H\nATOM   1126  CE  LYS A  97      -8.227  11.982  18.856  0.00  0.00      P0   C\nATOM   1127  HE1 LYS A  97      -8.330  12.574  19.662  0.00  0.00      P0   H\nATOM   1128  HE2 LYS A  97      -9.067  12.036  18.308  0.00  0.00      P0   H\nATOM   1129  NZ  LYS A  97      -7.078  12.466  18.039  0.00  0.00      P0   N\nATOM   1130  HZ1 LYS A  97      -6.466  11.701  17.843  0.00  0.00      P0   H\nATOM   1131  HZ2 LYS A  97      -6.584  13.170  18.548  0.00  0.00      P0   H\nATOM   1132  HZ3 LYS A  97      -7.421  12.850  17.182  0.00  0.00      P0   H\nATOM   1133  C   LYS A  97      -8.726   6.199  20.154  0.00  1.00      P0   C\nATOM   1134  O   LYS A  97      -7.741   6.026  20.880  0.00  1.00      P0   O\nATOM   1135  N   MET A  98      -9.591   5.209  19.869  0.00  1.00      P0   N\nATOM   1136  HN  MET A  98     -10.352   5.487  19.215  0.00  0.00      P0   H\nATOM   1137  CA  MET A  98      -9.462   3.872  20.434  0.00 23.49      P0   C\nATOM   1138  HA  MET A  98      -8.507   3.727  20.678  0.00  0.00      P0   H\nATOM   1139  CB  MET A  98     -10.339   3.684  21.687  0.00  0.00      P0   C\nATOM   1140  HB1 MET A  98      -9.973   4.271  22.430  0.00  0.00      P0   H\nATOM   1141  HB2 MET A  98     -10.258   2.722  21.997  0.00  0.00      P0   H\nATOM   1142  CG  MET A  98     -11.826   4.006  21.514  0.00  0.00      P0   C\nATOM   1143  HG1 MET A  98     -11.911   4.733  20.788  0.00  0.00      P0   H\nATOM   1144  HG2 MET A  98     -12.155   4.459  22.379  0.00  0.00      P0   H\nATOM   1145  SD  MET A  98     -12.828   2.575  21.114  0.00  0.00      P0   S\nATOM   1146  CE  MET A  98     -12.839   1.731  22.702  0.00  0.00      P0   C\nATOM   1147  HE1 MET A  98     -11.914   1.416  22.916  0.00  0.00      P0   H\nATOM   1148  HE2 MET A  98     -13.150   2.362  23.411  0.00  0.00      P0   H\nATOM   1149  HE3 MET A  98     -13.457   0.947  22.656  0.00  0.00      P0   H\nATOM   1150  C   MET A  98      -9.838   2.875  19.360  0.00  1.00      P0   C\nATOM   1151  O   MET A  98     -10.534   3.226  18.400  0.00  1.00      P0   O\nATOM   1152  N   TRP A  99      -9.842   1.587  19.749  0.00  1.00      P0   N\nATOM   1153  HN  TRP A  99      -9.584   1.455  20.758  0.00  0.00      P0   H\nATOM   1154  CA  TRP A  99     -10.170   0.476  18.862  0.00 23.50      P0   C\nATOM   1155  HA  TRP A  99     -10.438   0.857  17.980  0.00  0.00      P0   H\nATOM   1156  CB  TRP A  99      -8.978  -0.471  18.706  0.00  0.00      P0   C\nATOM   1157  HB1 TRP A  99      -8.758  -0.862  19.593  0.00  0.00      P0   H\nATOM   1158  HB2 TRP A  99      -8.206   0.041  18.348  0.00  0.00      P0   H\nATOM   1159  CG  TRP A  99      -9.234  -1.609  17.768  0.00  0.00      P0   C\nATOM   1160  CD1 TRP A  99      -9.646  -2.867  18.098  0.00  0.00      P0   C\nATOM   1161  HD1 TRP A  99      -9.830  -3.187  19.026  0.00  0.00      P0   H\nATOM   1162  NE1 TRP A  99      -9.772  -3.635  16.965  0.00  0.00      P0   N\nATOM   1163  HE1 TRP A  99     -10.059  -4.592  16.939  0.00  0.00      P0   H\nATOM   1164  CE2 TRP A  99      -9.441  -2.875  15.875  0.00  0.00      P0   C\nATOM   1165  CD2 TRP A  99      -9.096  -1.592  16.343  0.00  0.00      P0   C\nATOM   1166  CE3 TRP A  99      -8.714  -0.616  15.417  0.00  0.00      P0   C\nATOM   1167  HE3 TRP A  99      -8.464   0.303  15.715  0.00  0.00      P0   H\nATOM   1168  CZ3 TRP A  99      -8.691  -0.946  14.075  0.00  0.00      P0   C\nATOM   1169  HZ3 TRP A  99      -8.420  -0.257  13.409  0.00  0.00      P0   H\nATOM   1170  CZ2 TRP A  99      -9.416  -3.207  14.521  0.00  0.00      P0   C\nATOM   1171  HZ2 TRP A  99      -9.668  -4.132  14.222  0.00  0.00      P0   H\nATOM   1172  CH2 TRP A  99      -9.039  -2.231  13.640  0.00  0.00      P0   C\nATOM   1173  HH2 TRP A  99      -9.009  -2.430  12.659  0.00  0.00      P0   H\nATOM   1174  C   TRP A  99     -11.373  -0.264  19.431  0.00  1.00      P0   C\nATOM   1175  O   TRP A  99     -11.345  -0.705  20.584  0.00  1.00      P0   O\nATOM   1176  N   THR A 100     -12.423  -0.400  18.625  0.00  1.00      P0   N\nATOM   1177  HN  THR A 100     -12.274  -0.028  17.659  0.00  0.00      P0   H\nATOM   1178  CA  THR A 100     -13.679  -1.016  19.051  0.00 23.51      P0   C\nATOM   1179  HA  THR A 100     -13.547  -1.403  19.970  0.00  0.00      P0   H\nATOM   1180  CB  THR A 100     -14.799   0.017  19.132  0.00  0.00      P0   C\nATOM   1181  HB  THR A 100     -15.676  -0.457  19.353  0.00  0.00      P0   H\nATOM   1182  OG1 THR A 100     -14.952   0.656  17.858  0.00  0.00      P0   O\nATOM   1183  HG1 THR A 100     -14.053   0.910  17.484  0.00  0.00      P0   H\nATOM   1184  CG2 THR A 100     -14.486   1.065  20.188  0.00  0.00      P0   C\nATOM   1185 HG21 THR A 100     -14.399   1.967  19.758  0.00  0.00      P0   H\nATOM   1186 HG22 THR A 100     -13.624   0.836  20.649  0.00  0.00      P0   H\nATOM   1187 HG23 THR A 100     -15.223   1.095  20.867  0.00  0.00      P0   H\nATOM   1188  C   THR A 100     -14.071  -2.143  18.106  0.00  1.00      P0   C\nATOM   1189  O   THR A 100     -15.196  -2.213  17.610  0.00  1.00      P0   O\nATOM   1190  N   PHE A 101     -13.130  -3.053  17.849  0.00  1.00      P0   N\nATOM   1191  HN  PHE A 101     -12.218  -2.880  18.302  0.00  0.00      P0   H\nATOM   1192  CA  PHE A 101     -13.408  -4.194  16.985  0.00 23.52      P0   C\nATOM   1193  HA  PHE A 101     -14.412  -4.323  16.982  0.00  0.00      P0   H\nATOM   1194  CB  PHE A 101     -12.904  -3.927  15.560  0.00  0.00      P0   C\nATOM   1195  HB1 PHE A 101     -13.162  -4.700  15.001  0.00  0.00      P0   H\nATOM   1196  HB2 PHE A 101     -11.923  -3.822  15.603  0.00  0.00      P0   H\nATOM   1197  CG  PHE A 101     -13.480  -2.686  14.935  0.00  0.00      P0   C\nATOM   1198  CD1 PHE A 101     -14.715  -2.716  14.308  0.00  0.00      P0   C\nATOM   1199  HD1 PHE A 101     -15.231  -3.568  14.269  0.00  0.00      P0   H\nATOM   1200  CE1 PHE A 101     -15.246  -1.575  13.734  0.00  0.00      P0   C\nATOM   1201  HE1 PHE A 101     -16.146  -1.619  13.282  0.00  0.00      P0   H\nATOM   1202  CZ  PHE A 101     -14.542  -0.388  13.782  0.00  0.00      P0   C\nATOM   1203  HZ  PHE A 101     -14.929   0.438  13.366  0.00  0.00      P0   H\nATOM   1204  CD2 PHE A 101     -12.785  -1.487  14.976  0.00  0.00      P0   C\nATOM   1205  HD2 PHE A 101     -11.891  -1.449  15.426  0.00  0.00      P0   H\nATOM   1206  CE2 PHE A 101     -13.311  -0.343  14.403  0.00  0.00      P0   C\nATOM   1207  HE2 PHE A 101     -12.787   0.525  14.444  0.00  0.00      P0   H\nATOM   1208  C   PHE A 101     -12.803  -5.490  17.512  0.00  1.00      P0   C\nATOM   1209  O   PHE A 101     -12.848  -6.506  16.807  0.00  1.00      P0   O\nATOM   1210  N   GLY A 102     -12.242  -5.492  18.719  0.00  1.00      P0   N\nATOM   1211  HN  GLY A 102     -12.272  -4.574  19.209  0.00  0.00      P0   H\nATOM   1212  CA  GLY A 102     -11.647  -6.684  19.282  0.00  3.21      P0   C\nATOM   1213  HA1 GLY A 102     -12.218  -7.491  19.047  0.00  0.00      P0   H\nATOM   1214  HA2 GLY A 102     -11.639  -6.613  20.295  0.00  0.00      P0   H\nATOM   1215  C   GLY A 102     -10.231  -6.918  18.789  0.00  1.00      P0   C\nATOM   1216  O   GLY A 102      -9.707  -6.220  17.919  0.00  1.00      P0   O\nATOM   1217  N   ASN A 103      -9.595  -7.933  19.375  0.00  1.00      P0   N\nATOM   1218  HN  ASN A 103     -10.137  -8.415  20.117  0.00  0.00      P0   H\nATOM   1219  CA  ASN A 103      -8.245  -8.313  18.984  0.00  3.22      P0   C\nATOM   1220  HA  ASN A 103      -7.766  -7.465  18.700  0.00  0.00      P0   H\nATOM   1221  CB  ASN A 103      -7.512  -8.963  20.163  0.00  0.00      P0   C\nATOM   1222  HB1 ASN A 103      -6.627  -9.288  19.841  0.00  0.00      P0   H\nATOM   1223  HB2 ASN A 103      -8.061  -9.727  20.490  0.00  0.00      P0   H\nATOM   1224  CG  ASN A 103      -7.287  -8.000  21.311  0.00  0.00      P0   C\nATOM   1225  OD1 ASN A 103      -7.743  -8.233  22.430  0.00  0.00      P0   O\nATOM   1226  ND2 ASN A 103      -6.579  -6.911  21.038  0.00  0.00      P0   N\nATOM   1227 HD21 ASN A 103      -6.232  -6.759  20.110  0.00  0.00      P0   H\nATOM   1228 HD22 ASN A 103      -6.391  -6.239  21.755  0.00  0.00      P0   H\nATOM   1229  C   ASN A 103      -8.216  -9.259  17.793  0.00  1.00      P0   C\nATOM   1230  O   ASN A 103      -7.206  -9.306  17.081  0.00  1.00      P0   O\nATOM   1231  N   PHE A 104      -9.293 -10.013  17.563  0.00  1.00      P0   N\nATOM   1232  HN  PHE A 104     -10.063  -9.898  18.236  0.00  0.00      P0   H\nATOM   1233  CA  PHE A 104      -9.333 -10.925  16.423  0.00  3.23      P0   C\nATOM   1234  HA  PHE A 104      -8.503 -11.491  16.472  0.00  0.00      P0   H\nATOM   1235  CB  PHE A 104     -10.595 -11.788  16.487  0.00  0.00      P0   C\nATOM   1236  HB1 PHE A 104     -11.371 -11.182  16.582  0.00  0.00      P0   H\nATOM   1237  HB2 PHE A 104     -10.511 -12.390  17.268  0.00  0.00      P0   H\nATOM   1238  CG  PHE A 104     -10.814 -12.637  15.267  0.00  0.00      P0   C\nATOM   1239  CD1 PHE A 104     -10.113 -13.821  15.094  0.00  0.00      P0   C\nATOM   1240  HD1 PHE A 104      -9.458 -14.115  15.786  0.00  0.00      P0   H\nATOM   1241  CE1 PHE A 104     -10.313 -14.603  13.972  0.00  0.00      P0   C\nATOM   1242  HE1 PHE A 104      -9.790 -15.460  13.863  0.00  0.00      P0   H\nATOM   1243  CZ  PHE A 104     -11.222 -14.210  13.009  0.00  0.00      P0   C\nATOM   1244  HZ  PHE A 104     -11.366 -14.779  12.198  0.00  0.00      P0   H\nATOM   1245  CD2 PHE A 104     -11.723 -12.255  14.293  0.00  0.00      P0   C\nATOM   1246  HD2 PHE A 104     -12.239 -11.403  14.407  0.00  0.00      P0   H\nATOM   1247  CE2 PHE A 104     -11.927 -13.034  13.170  0.00  0.00      P0   C\nATOM   1248  HE2 PHE A 104     -12.595 -12.734  12.466  0.00  0.00      P0   H\nATOM   1249  C   PHE A 104      -9.268 -10.158  15.109  0.00  1.00      P0   C\nATOM   1250  O   PHE A 104      -8.454 -10.471  14.232  0.00  1.00      P0   O\nATOM   1251  N   TRP A 105     -10.118  -9.141  14.956  0.00  1.00      P0   N\nATOM   1252  HN  TRP A 105     -10.771  -8.993  15.739  0.00  0.00      P0   H\nATOM   1253  CA  TRP A 105     -10.087  -8.325  13.750  0.00  3.24      P0   C\nATOM   1254  HA  TRP A 105      -9.995  -8.949  12.959  0.00  0.00      P0   H\nATOM   1255  CB  TRP A 105     -11.394  -7.538  13.617  0.00  0.00      P0   C\nATOM   1256  HB1 TRP A 105     -11.427  -6.846  14.329  0.00  0.00      P0   H\nATOM   1257  HB2 TRP A 105     -12.159  -8.166  13.704  0.00  0.00      P0   H\nATOM   1258  CG  TRP A 105     -11.548  -6.829  12.301  0.00  0.00      P0   C\nATOM   1259  CD1 TRP A 105     -11.338  -5.504  12.055  0.00  0.00      P0   C\nATOM   1260  HD1 TRP A 105     -11.049  -4.832  12.736  0.00  0.00      P0   H\nATOM   1261  NE1 TRP A 105     -11.580  -5.223  10.732  0.00  0.00      P0   N\nATOM   1262  HE1 TRP A 105     -11.498  -4.325  10.303  0.00  0.00      P0   H\nATOM   1263  CE2 TRP A 105     -11.955  -6.376  10.094  0.00  0.00      P0   C\nATOM   1264  CD2 TRP A 105     -11.946  -7.411  11.052  0.00  0.00      P0   C\nATOM   1265  CE3 TRP A 105     -12.296  -8.704  10.650  0.00  0.00      P0   C\nATOM   1266  HE3 TRP A 105     -12.301  -9.459  11.300  0.00  0.00      P0   H\nATOM   1267  CZ3 TRP A 105     -12.637  -8.919   9.325  0.00  0.00      P0   C\nATOM   1268  HZ3 TRP A 105     -12.888  -9.837   9.032  0.00  0.00      P0   H\nATOM   1269  CZ2 TRP A 105     -12.299  -6.595   8.761  0.00  0.00      P0   C\nATOM   1270  HZ2 TRP A 105     -12.295  -5.833   8.105  0.00  0.00      P0   H\nATOM   1271  CH2 TRP A 105     -12.636  -7.869   8.398  0.00  0.00      P0   C\nATOM   1272  HH2 TRP A 105     -12.890  -8.067   7.449  0.00  0.00      P0   H\nATOM   1273  C   TRP A 105      -8.893  -7.378  13.726  0.00  1.00      P0   C\nATOM   1274  O   TRP A 105      -8.472  -6.966  12.641  0.00  1.00      P0   O\nATOM   1275  N   CYS A 106      -8.335  -7.031  14.890  0.00  1.00      P0   N\nATOM   1276  HN  CYS A 106      -8.784  -7.424  15.728  0.00  0.00      P0   H\nATOM   1277  CA  CYS A 106      -7.169  -6.151  14.919  0.00  3.25      P0   C\nATOM   1278  HA  CYS A 106      -7.392  -5.317  14.401  0.00  0.00      P0   H\nATOM   1279  CB  CYS A 106      -6.854  -5.749  16.363  0.00  0.00      P0   C\nATOM   1280  HB1 CYS A 106      -6.885  -6.576  16.930  0.00  0.00      P0   H\nATOM   1281  HB2 CYS A 106      -7.566  -5.115  16.671  0.00  0.00      P0   H\nATOM   1282  SG  CYS A 106      -5.240  -4.953  16.616  0.00  0.00      P0   S\nATOM   1283  C   CYS A 106      -5.964  -6.812  14.261  0.00  1.00      P0   C\nATOM   1284  O   CYS A 106      -5.246  -6.175  13.480  0.00  1.00      P0   O\nATOM   1285  N   GLU A 107      -5.728  -8.091  14.561  0.00  1.00      P0   N\nATOM   1286  HN  GLU A 107      -6.346  -8.498  15.276  0.00  0.00      P0   H\nATOM   1287  CA  GLU A 107      -4.655  -8.817  13.894  0.00  3.26      P0   C\nATOM   1288  HA  GLU A 107      -3.805  -8.271  13.916  0.00  0.00      P0   H\nATOM   1289  CB  GLU A 107      -4.372 -10.085  14.675  0.00  0.00      P0   C\nATOM   1290  HB1 GLU A 107      -5.204 -10.637  14.674  0.00  0.00      P0   H\nATOM   1291  HB2 GLU A 107      -4.146  -9.821  15.612  0.00  0.00      P0   H\nATOM   1292  CG  GLU A 107      -3.245 -10.969  14.175  0.00  0.00      P0   C\nATOM   1293  HG1 GLU A 107      -2.395 -10.517  14.338  0.00  0.00      P0   H\nATOM   1294  HG2 GLU A 107      -3.403 -11.174  13.234  0.00  0.00      P0   H\nATOM   1295  CD  GLU A 107      -3.207 -12.296  14.931  0.00  0.00      P0   C\nATOM   1296  OE1 GLU A 107      -3.383 -12.302  16.172  0.00  0.00      P0   O\nATOM   1297  OE2 GLU A 107      -3.003 -13.338  14.294  0.00  0.00      P0   O\nATOM   1298  C   GLU A 107      -5.000  -9.142  12.428  0.00  1.00      P0   C\nATOM   1299  O   GLU A 107      -4.130  -9.056  11.557  0.00  1.00      P0   O\nATOM   1300  N   PHE A 108      -6.287  -9.161  12.096  0.00  1.00      P0   N\nATOM   1301  HN  PHE A 108      -6.942  -8.995  12.888  0.00  0.00      P0   H\nATOM   1302  CA  PHE A 108      -6.728  -9.397  10.727  0.00  3.27      P0   C\nATOM   1303  HA  PHE A 108      -6.056 -10.020  10.304  0.00  0.00      P0   H\nATOM   1304  CB  PHE A 108      -8.129 -10.015  10.735  0.00  0.00      P0   C\nATOM   1305  HB1 PHE A 108      -8.783  -9.279  10.829  0.00  0.00      P0   H\nATOM   1306  HB2 PHE A 108      -8.179 -10.637  11.504  0.00  0.00      P0   H\nATOM   1307  CG  PHE A 108      -8.466 -10.782   9.491  0.00  0.00      P0   C\nATOM   1308  CD1 PHE A 108      -8.081 -12.106   9.354  0.00  0.00      P0   C\nATOM   1309  HD1 PHE A 108      -7.574 -12.553  10.088  0.00  0.00      P0   H\nATOM   1310  CE1 PHE A 108      -8.393 -12.817   8.212  0.00  0.00      P0   C\nATOM   1311  HE1 PHE A 108      -8.102 -13.780   8.130  0.00  0.00      P0   H\nATOM   1312  CZ  PHE A 108      -9.097 -12.209   7.193  0.00  0.00      P0   C\nATOM   1313  HZ  PHE A 108      -9.321 -12.726   6.365  0.00  0.00      P0   H\nATOM   1314  CD2 PHE A 108      -9.174 -10.185   8.464  0.00  0.00      P0   C\nATOM   1315  HD2 PHE A 108      -9.463  -9.230   8.551  0.00  0.00      P0   H\nATOM   1316  CE2 PHE A 108      -9.489 -10.893   7.320  0.00  0.00      P0   C\nATOM   1317  HE2 PHE A 108     -10.009 -10.438   6.575  0.00  0.00      P0   H\nATOM   1318  C   PHE A 108      -6.722  -8.117   9.900  0.00  1.00      P0   C\nATOM   1319  O   PHE A 108      -6.341  -8.143   8.724  0.00  1.00      P0   O\nATOM   1320  N   TRP A 109      -7.136  -6.995  10.498  0.00  1.00      P0   N\nATOM   1321  HN  TRP A 109      -7.484  -7.115  11.461  0.00  0.00      P0   H\nATOM   1322  CA  TRP A 109      -7.082  -5.712   9.802  0.00  3.28      P0   C\nATOM   1323  HA  TRP A 109      -7.577  -5.815   8.931  0.00  0.00      P0   H\nATOM   1324  CB  TRP A 109      -7.752  -4.631  10.653  0.00  0.00      P0   C\nATOM   1325  HB1 TRP A 109      -7.395  -4.684  11.581  0.00  0.00      P0   H\nATOM   1326  HB2 TRP A 109      -8.736  -4.786  10.654  0.00  0.00      P0   H\nATOM   1327  CG  TRP A 109      -7.524  -3.231  10.168  0.00  0.00      P0   C\nATOM   1328  CD1 TRP A 109      -8.218  -2.578   9.194  0.00  0.00      P0   C\nATOM   1329  HD1 TRP A 109      -8.979  -2.963   8.672  0.00  0.00      P0   H\nATOM   1330  NE1 TRP A 109      -7.723  -1.306   9.030  0.00  0.00      P0   N\nATOM   1331  HE1 TRP A 109      -8.060  -0.630   8.376  0.00  0.00      P0   H\nATOM   1332  CE2 TRP A 109      -6.691  -1.115   9.910  0.00  0.00      P0   C\nATOM   1333  CD2 TRP A 109      -6.537  -2.307  10.646  0.00  0.00      P0   C\nATOM   1334  CE3 TRP A 109      -5.538  -2.372  11.622  0.00  0.00      P0   C\nATOM   1335  HE3 TRP A 109      -5.402  -3.199  12.162  0.00  0.00      P0   H\nATOM   1336  CZ3 TRP A 109      -4.737  -1.262  11.829  0.00  0.00      P0   C\nATOM   1337  HZ3 TRP A 109      -4.023  -1.302  12.521  0.00  0.00      P0   H\nATOM   1338  CZ2 TRP A 109      -5.884   0.002  10.119  0.00  0.00      P0   C\nATOM   1339  HZ2 TRP A 109      -6.020   0.835   9.575  0.00  0.00      P0   H\nATOM   1340  CH2 TRP A 109      -4.915  -0.092  11.081  0.00  0.00      P0   C\nATOM   1341  HH2 TRP A 109      -4.314   0.689  11.263  0.00  0.00      P0   H\nATOM   1342  C   TRP A 109      -5.646  -5.327   9.472  0.00  1.00      P0   C\nATOM   1343  O   TRP A 109      -5.377  -4.751   8.411  0.00  1.00      P0   O\nATOM   1344  N   THR A 110      -4.708  -5.636  10.370  0.00  1.00      P0   N\nATOM   1345  HN  THR A 110      -5.055  -6.061  11.241  0.00  0.00      P0   H\nATOM   1346  CA  THR A 110      -3.301  -5.372  10.091  0.00  3.29      P0   C\nATOM   1347  HA  THR A 110      -3.214  -4.429   9.747  0.00  0.00      P0   H\nATOM   1348  CB  THR A 110      -2.482  -5.489  11.376  0.00  0.00      P0   C\nATOM   1349  HB  THR A 110      -2.493  -6.459  11.692  0.00  0.00      P0   H\nATOM   1350  OG1 THR A 110      -3.083  -4.684  12.398  0.00  0.00      P0   O\nATOM   1351  HG1 THR A 110      -3.873  -5.160  12.798  0.00  0.00      P0   H\nATOM   1352  CG2 THR A 110      -1.056  -5.016  11.147  0.00  0.00      P0   C\nATOM   1353 HG21 THR A 110      -0.831  -4.284  11.795  0.00  0.00      P0   H\nATOM   1354 HG22 THR A 110      -0.959  -4.668  10.211  0.00  0.00      P0   H\nATOM   1355 HG23 THR A 110      -0.418  -5.779  11.280  0.00  0.00      P0   H\nATOM   1356  C   THR A 110      -2.765  -6.322   9.024  0.00  1.00      P0   C\nATOM   1357  O   THR A 110      -1.931  -5.932   8.198  0.00  1.00      P0   O\nATOM   1358  N   SER A 111      -3.238  -7.570   9.025  0.00  1.00      P0   N\nATOM   1359  HN  SER A 111      -3.918  -7.783   9.768  0.00  0.00      P0   H\nATOM   1360  CA  SER A 111      -2.792  -8.531   8.022  0.00  3.30      P0   C\nATOM   1361  HA  SER A 111      -1.785  -8.553   8.037  0.00  0.00      P0   H\nATOM   1362  CB  SER A 111      -3.327  -9.921   8.359  0.00  0.00      P0   C\nATOM   1363  HB1 SER A 111      -2.961 -10.574   7.702  0.00  0.00      P0   H\nATOM   1364  HB2 SER A 111      -4.320  -9.905   8.313  0.00  0.00      P0   H\nATOM   1365  OG  SER A 111      -2.932 -10.311   9.664  0.00  0.00      P0   O\nATOM   1366  HG1 SER A 111      -3.463  -9.800  10.338  0.00  0.00      P0   H\nATOM   1367  C   SER A 111      -3.230  -8.110   6.624  0.00  1.00      P0   C\nATOM   1368  O   SER A 111      -2.447  -8.187   5.671  0.00  1.00      P0   O\nATOM   1369  N   ILE A 112      -4.479  -7.660   6.485  0.00  1.00      P0   N\nATOM   1370  HN  ILE A 112      -5.059  -7.699   7.335  0.00  0.00      P0   H\nATOM   1371  CA  ILE A 112      -4.948  -7.158   5.197  0.00  3.31      P0   C\nATOM   1372  HA  ILE A 112      -4.735  -7.869   4.522  0.00  0.00      P0   H\nATOM   1373  CB  ILE A 112      -6.460  -6.868   5.254  0.00  0.00      P0   C\nATOM   1374  HB  ILE A 112      -6.620  -6.225   5.997  0.00  0.00      P0   H\nATOM   1375  CG2 ILE A 112      -6.940  -6.246   3.952  0.00  0.00      P0   C\nATOM   1376 HG21 ILE A 112      -6.416  -5.415   3.777  0.00  0.00      P0   H\nATOM   1377 HG22 ILE A 112      -7.911  -6.027   4.036  0.00  0.00      P0   H\nATOM   1378 HG23 ILE A 112      -6.801  -6.900   3.210  0.00  0.00      P0   H\nATOM   1379  CG1 ILE A 112      -7.242  -8.146   5.556  0.00  0.00      P0   C\nATOM   1380 HG11 ILE A 112      -6.930  -8.502   6.434  0.00  0.00      P0   H\nATOM   1381 HG12 ILE A 112      -7.037  -8.816   4.846  0.00  0.00      P0   H\nATOM   1382  CD  ILE A 112      -8.735  -7.933   5.618  0.00  0.00      P0   C\nATOM   1383  HD1 ILE A 112      -8.948  -7.274   6.339  0.00  0.00      P0   H\nATOM   1384  HD2 ILE A 112      -9.188  -8.803   5.817  0.00  0.00      P0   H\nATOM   1385  HD3 ILE A 112      -9.059  -7.583   4.739  0.00  0.00      P0   H\nATOM   1386  C   ILE A 112      -4.158  -5.920   4.793  0.00  1.00      P0   C\nATOM   1387  O   ILE A 112      -3.820  -5.738   3.616  0.00  1.00      P0   O\nATOM   1388  N   ASP A 113      -3.844  -5.058   5.764  0.00  1.00      P0   N\nATOM   1389  HN  ASP A 113      -4.168  -5.326   6.707  0.00  0.00      P0   H\nATOM   1390  CA  ASP A 113      -3.098  -3.838   5.474  0.00  3.32      P0   C\nATOM   1391  HA  ASP A 113      -3.622  -3.325   4.784  0.00  0.00      P0   H\nATOM   1392  CB  ASP A 113      -2.935  -3.018   6.755  0.00  0.00      P0   C\nATOM   1393  HB1 ASP A 113      -2.194  -3.417   7.284  0.00  0.00      P0   H\nATOM   1394  HB2 ASP A 113      -3.788  -3.066   7.262  0.00  0.00      P0   H\nATOM   1395  CG  ASP A 113      -2.611  -1.560   6.486  0.00  0.00      P0   C\nATOM   1396  OD1 ASP A 113      -2.824  -0.731   7.394  0.00  0.00      P0   O\nATOM   1397  OD2 ASP A 113      -2.142  -1.240   5.373  0.00  0.00      P0   O\nATOM   1398  C   ASP A 113      -1.742  -4.160   4.857  0.00  1.00      P0   C\nATOM   1399  O   ASP A 113      -1.361  -3.590   3.828  0.00  1.00      P0   O\nATOM   1400  N   VAL A 114      -0.998  -5.082   5.471  0.00  1.00      P0   N\nATOM   1401  HN  VAL A 114      -1.410  -5.483   6.325  0.00  0.00      P0   H\nATOM   1402  CA  VAL A 114       0.302  -5.463   4.931  0.00  3.33      P0   C\nATOM   1403  HA  VAL A 114       0.833  -4.625   4.770  0.00  0.00      P0   H\nATOM   1404  CB  VAL A 114       1.066  -6.326   5.952  0.00  0.00      P0   C\nATOM   1405  HB  VAL A 114       0.539  -7.157   6.100  0.00  0.00      P0   H\nATOM   1406  CG1 VAL A 114       2.417  -6.748   5.396  0.00  0.00      P0   C\nATOM   1407 HG11 VAL A 114       2.476  -7.746   5.381  0.00  0.00      P0   H\nATOM   1408 HG12 VAL A 114       2.522  -6.394   4.466  0.00  0.00      P0   H\nATOM   1409 HG13 VAL A 114       3.146  -6.381   5.975  0.00  0.00      P0   H\nATOM   1410  CG2 VAL A 114       1.236  -5.569   7.259  0.00  0.00      P0   C\nATOM   1411 HG21 VAL A 114       0.335  -5.367   7.644  0.00  0.00      P0   H\nATOM   1412 HG22 VAL A 114       1.726  -4.714   7.085  0.00  0.00      P0   H\nATOM   1413 HG23 VAL A 114       1.757  -6.130   7.901  0.00  0.00      P0   H\nATOM   1414  C   VAL A 114       0.137  -6.179   3.596  0.00  1.00      P0   C\nATOM   1415  O   VAL A 114       0.958  -6.020   2.684  0.00  1.00      P0   O\nATOM   1416  N   LEU A 115      -0.936  -6.960   3.452  0.00  1.00      P0   N\nATOM   1417  HN  LEU A 115      -1.598  -6.945   4.243  0.00  0.00      P0   H\nATOM   1418  CA  LEU A 115      -1.124  -7.764   2.247  0.00  3.34      P0   C\nATOM   1419  HA  LEU A 115      -0.301  -8.331   2.109  0.00  0.00      P0   H\nATOM   1420  CB  LEU A 115      -2.318  -8.700   2.431  0.00  0.00      P0   C\nATOM   1421  HB1 LEU A 115      -3.077  -8.162   2.784  0.00  0.00      P0   H\nATOM   1422  HB2 LEU A 115      -2.058  -9.402   3.088  0.00  0.00      P0   H\nATOM   1423  CG  LEU A 115      -2.811  -9.415   1.172  0.00  0.00      P0   C\nATOM   1424  HG  LEU A 115      -2.985  -8.736   0.461  0.00  0.00      P0   H\nATOM   1425  CD1 LEU A 115      -1.768 -10.405   0.684  0.00  0.00      P0   C\nATOM   1426 HD11 LEU A 115      -0.918  -9.921   0.471  0.00  0.00      P0   H\nATOM   1427 HD12 LEU A 115      -2.102 -10.865  -0.140  0.00  0.00      P0   H\nATOM   1428 HD13 LEU A 115      -1.591 -11.086   1.396  0.00  0.00      P0   H\nATOM   1429  CD2 LEU A 115      -4.145 -10.103   1.421  0.00  0.00      P0   C\nATOM   1430 HD21 LEU A 115      -4.043 -10.777   2.152  0.00  0.00      P0   H\nATOM   1431 HD22 LEU A 115      -4.827  -9.422   1.689  0.00  0.00      P0   H\nATOM   1432 HD23 LEU A 115      -4.446 -10.561   0.585  0.00  0.00      P0   H\nATOM   1433  C   LEU A 115      -1.316  -6.888   1.014  0.00  1.00      P0   C\nATOM   1434  O   LEU A 115      -0.610  -7.047   0.012  0.00  1.00      P0   O\nATOM   1435  N   CYS A 116      -2.273  -5.957   1.070  0.00  1.00      P0   N\nATOM   1436  HN  CYS A 116      -2.737  -5.857   1.983  0.00  0.00      P0   H\nATOM   1437  CA  CYS A 116      -2.604  -5.161  -0.110  0.00  3.35      P0   C\nATOM   1438  HA  CYS A 116      -2.816  -5.794  -0.867  0.00  0.00      P0   H\nATOM   1439  CB  CYS A 116      -3.844  -4.309   0.161  0.00  0.00      P0   C\nATOM   1440  HB1 CYS A 116      -3.986  -3.709  -0.627  0.00  0.00      P0   H\nATOM   1441  HB2 CYS A 116      -3.668  -3.755   0.974  0.00  0.00      P0   H\nATOM   1442  SG  CYS A 116      -5.364  -5.252   0.437  0.00  0.00      P0   S\nATOM   1443  HG1 CYS A 116      -6.159  -4.213   0.696  0.00  0.00      P0   H\nATOM   1444  C   CYS A 116      -1.433  -4.285  -0.540  0.00  1.00      P0   C\nATOM   1445  O   CYS A 116      -1.209  -4.084  -1.740  0.00  1.00      P0   O\nATOM   1446  N   VAL A 117      -0.677  -3.751   0.421  0.00  1.00      P0   N\nATOM   1447  HN  VAL A 117      -0.983  -3.946   1.383  0.00  0.00      P0   H\nATOM   1448  CA  VAL A 117       0.494  -2.952   0.077  0.00  3.36      P0   C\nATOM   1449  HA  VAL A 117       0.218  -2.268  -0.605  0.00  0.00      P0   H\nATOM   1450  CB  VAL A 117       1.018  -2.210   1.319  0.00  0.00      P0   C\nATOM   1451  HB  VAL A 117       1.370  -2.891   1.953  0.00  0.00      P0   H\nATOM   1452  CG1 VAL A 117       2.181  -1.304   0.946  0.00  0.00      P0   C\nATOM   1453 HG11 VAL A 117       2.771  -1.771   0.287  0.00  0.00      P0   H\nATOM   1454 HG12 VAL A 117       1.831  -0.460   0.539  0.00  0.00      P0   H\nATOM   1455 HG13 VAL A 117       2.709  -1.083   1.765  0.00  0.00      P0   H\nATOM   1456  CG2 VAL A 117      -0.102  -1.411   1.962  0.00  0.00      P0   C\nATOM   1457 HG21 VAL A 117       0.280  -0.596   2.399  0.00  0.00      P0   H\nATOM   1458 HG22 VAL A 117      -0.560  -1.976   2.649  0.00  0.00      P0   H\nATOM   1459 HG23 VAL A 117      -0.760  -1.137   1.260  0.00  0.00      P0   H\nATOM   1460  C   VAL A 117       1.572  -3.830  -0.547  0.00  1.00      P0   C\nATOM   1461  O   VAL A 117       2.199  -3.453  -1.545  0.00  1.00      P0   O\nATOM   1462  N   THR A 118       1.800  -5.014   0.024  0.00  1.00      P0   N\nATOM   1463  HN  THR A 118       1.232  -5.217   0.859  0.00  0.00      P0   H\nATOM   1464  CA  THR A 118       2.796  -5.925  -0.529  0.00  3.37      P0   C\nATOM   1465  HA  THR A 118       3.666  -5.426  -0.629  0.00  0.00      P0   H\nATOM   1466  CB  THR A 118       3.026  -7.096   0.425  0.00  0.00      P0   C\nATOM   1467  HB  THR A 118       2.196  -7.692   0.429  0.00  0.00      P0   H\nATOM   1468  OG1 THR A 118       3.220  -6.599   1.755  0.00  0.00      P0   O\nATOM   1469  HG1 THR A 118       2.341  -6.318   2.155  0.00  0.00      P0   H\nATOM   1470  CG2 THR A 118       4.251  -7.897   0.004  0.00  0.00      P0   C\nATOM   1471 HG21 THR A 118       4.003  -8.535  -0.730  0.00  0.00      P0   H\nATOM   1472 HG22 THR A 118       4.603  -8.416   0.786  0.00  0.00      P0   H\nATOM   1473 HG23 THR A 118       4.965  -7.276  -0.327  0.00  0.00      P0   H\nATOM   1474  C   THR A 118       2.376  -6.433  -1.902  0.00  1.00      P0   C\nATOM   1475  O   THR A 118       3.192  -6.487  -2.828  0.00  1.00      P0   O\nATOM   1476  N   ALA A 119       1.102  -6.806  -2.051  0.00  1.00      P0   N\nATOM   1477  HN  ALA A 119       0.522  -6.736  -1.202  0.00  0.00      P0   H\nATOM   1478  CA  ALA A 119       0.612  -7.274  -3.341  0.00  3.38      P0   C\nATOM   1479  HA  ALA A 119       1.201  -8.035  -3.656  0.00  0.00      P0   H\nATOM   1480  CB  ALA A 119      -0.806  -7.831  -3.193  0.00  0.00      P0   C\nATOM   1481  HB1 ALA A 119      -0.770  -8.697  -2.697  0.00  0.00      P0   H\nATOM   1482  HB2 ALA A 119      -1.199  -7.978  -4.098  0.00  0.00      P0   H\nATOM   1483  HB3 ALA A 119      -1.365  -7.178  -2.686  0.00  0.00      P0   H\nATOM   1484  C   ALA A 119       0.638  -6.175  -4.393  0.00  1.00      P0   C\nATOM   1485  O   ALA A 119       0.700  -6.478  -5.589  0.00  1.00      P0   O\nATOM   1486  N   SER A 120       0.600  -4.908  -3.976  0.00  1.00      P0   N\nATOM   1487  HN  SER A 120       0.554  -4.784  -2.954  0.00  0.00      P0   H\nATOM   1488  CA  SER A 120       0.626  -3.805  -4.932  0.00  3.39      P0   C\nATOM   1489  HA  SER A 120       0.001  -4.033  -5.689  0.00  0.00      P0   H\nATOM   1490  CB  SER A 120       0.144  -2.521  -4.259  0.00  0.00      P0   C\nATOM   1491  HB1 SER A 120       0.150  -1.785  -4.930  0.00  0.00      P0   H\nATOM   1492  HB2 SER A 120       0.756  -2.303  -3.504  0.00  0.00      P0   H\nATOM   1493  OG  SER A 120      -1.172  -2.673  -3.755  0.00  0.00      P0   O\nATOM   1494  HG1 SER A 120      -1.148  -3.219  -2.919  0.00  0.00      P0   H\nATOM   1495  C   SER A 120       2.020  -3.614  -5.517  0.00  1.00      P0   C\nATOM   1496  O   SER A 120       2.187  -3.551  -6.740  0.00  1.00      P0   O\nATOM   1497  N   ILE A 121       3.035  -3.514  -4.654  0.00  1.00      P0   N\nATOM   1498  HN  ILE A 121       2.776  -3.595  -3.660  0.00  0.00      P0   H\nATOM   1499  CA  ILE A 121       4.398  -3.306  -5.131  0.00  3.40      P0   C\nATOM   1500  HA  ILE A 121       4.354  -2.552  -5.791  0.00  0.00      P0   H\nATOM   1501  CB  ILE A 121       5.323  -2.947  -3.949  0.00  0.00      P0   C\nATOM   1502  HB  ILE A 121       4.946  -2.142  -3.499  0.00  0.00      P0   H\nATOM   1503  CG2 ILE A 121       5.366  -4.075  -2.926  0.00  0.00      P0   C\nATOM   1504 HG21 ILE A 121       4.435  -4.276  -2.628  0.00  0.00      P0   H\nATOM   1505 HG22 ILE A 121       5.919  -3.785  -2.148  0.00  0.00      P0   H\nATOM   1506 HG23 ILE A 121       5.770  -4.882  -3.352  0.00  0.00      P0   H\nATOM   1507  CG1 ILE A 121       6.734  -2.602  -4.437  0.00  0.00      P0   C\nATOM   1508 HG11 ILE A 121       7.088  -3.389  -4.944  0.00  0.00      P0   H\nATOM   1509 HG12 ILE A 121       7.314  -2.451  -3.638  0.00  0.00      P0   H\nATOM   1510  CD  ILE A 121       6.793  -1.382  -5.328  0.00  0.00      P0   C\nATOM   1511  HD1 ILE A 121       6.229  -1.536  -6.138  0.00  0.00      P0   H\nATOM   1512  HD2 ILE A 121       7.739  -1.220  -5.606  0.00  0.00      P0   H\nATOM   1513  HD3 ILE A 121       6.451  -0.588  -4.828  0.00  0.00      P0   H\nATOM   1514  C   ILE A 121       4.896  -4.527  -5.896  0.00  1.00      P0   C\nATOM   1515  O   ILE A 121       5.688  -4.396  -6.838  0.00  1.00      P0   O\nATOM   1516  N   GLU A 122       4.435  -5.725  -5.530  0.00  1.00      P0   N\nATOM   1517  HN  GLU A 122       3.805  -5.728  -4.720  0.00  0.00      P0   H\nATOM   1518  CA  GLU A 122       4.835  -6.917  -6.269  0.00  3.41      P0   C\nATOM   1519  HA  GLU A 122       5.834  -6.914  -6.400  0.00  0.00      P0   H\nATOM   1520  CB  GLU A 122       4.532  -8.174  -5.453  0.00  0.00      P0   C\nATOM   1521  HB1 GLU A 122       4.654  -8.952  -6.044  0.00  0.00      P0   H\nATOM   1522  HB2 GLU A 122       3.607  -8.101  -5.124  0.00  0.00      P0   H\nATOM   1523  CG  GLU A 122       5.438  -8.365  -4.246  0.00  0.00      P0   C\nATOM   1524  HG1 GLU A 122       5.288  -7.618  -3.626  0.00  0.00      P0   H\nATOM   1525  HG2 GLU A 122       6.366  -8.411  -4.563  0.00  0.00      P0   H\nATOM   1526  CD  GLU A 122       5.142  -9.650  -3.497  0.00  0.00      P0   C\nATOM   1527  OE1 GLU A 122       5.843  -9.938  -2.504  0.00  0.00      P0   O\nATOM   1528  OE2 GLU A 122       4.210 -10.373  -3.905  0.00  0.00      P0   O\nATOM   1529  HE2 GLU A 122       4.141 -11.178  -3.316  0.00  0.00      P0   H\nATOM   1530  C   GLU A 122       4.146  -6.978  -7.626  0.00  1.00      P0   C\nATOM   1531  O   GLU A 122       4.750  -7.408  -8.615  0.00  1.00      P0   O\nATOM   1532  N   THR A 123       2.883  -6.549  -7.695  0.00  1.00      P0   N\nATOM   1533  HN  THR A 123       2.465  -6.261  -6.801  0.00  0.00      P0   H\nATOM   1534  CA  THR A 123       2.188  -6.512  -8.978  0.00  3.42      P0   C\nATOM   1535  HA  THR A 123       2.255  -7.423  -9.403  0.00  0.00      P0   H\nATOM   1536  CB  THR A 123       0.707  -6.196  -8.771  0.00  0.00      P0   C\nATOM   1537  HB  THR A 123       0.620  -5.277  -8.333  0.00  0.00      P0   H\nATOM   1538  OG1 THR A 123       0.131  -7.164  -7.886  0.00  0.00      P0   O\nATOM   1539  HG1 THR A 123       0.346  -6.937  -6.930  0.00  0.00      P0   H\nATOM   1540  CG2 THR A 123      -0.036  -6.227 -10.098  0.00  0.00      P0   C\nATOM   1541 HG21 THR A 123       0.581  -6.537 -10.826  0.00  0.00      P0   H\nATOM   1542 HG22 THR A 123      -0.372  -5.309 -10.321  0.00  0.00      P0   H\nATOM   1543 HG23 THR A 123      -0.815  -6.856 -10.037  0.00  0.00      P0   H\nATOM   1544  C   THR A 123       2.826  -5.497  -9.917  0.00  1.00      P0   C\nATOM   1545  O   THR A 123       3.015  -5.776 -11.107  0.00  1.00      P0   O\nATOM   1546  N   LEU A 124       3.169  -4.314  -9.399  0.00  1.00      P0   N\nATOM   1547  HN  LEU A 124       2.890  -4.165  -8.421  0.00  0.00      P0   H\nATOM   1548  CA  LEU A 124       3.889  -3.337 -10.207  0.00  3.43      P0   C\nATOM   1549  HA  LEU A 124       3.344  -3.140 -11.032  0.00  0.00      P0   H\nATOM   1550  CB  LEU A 124       4.056  -2.033  -9.429  0.00  0.00      P0   C\nATOM   1551  HB1 LEU A 124       4.622  -1.422  -9.973  0.00  0.00      P0   H\nATOM   1552  HB2 LEU A 124       4.511  -2.247  -8.568  0.00  0.00      P0   H\nATOM   1553  CG  LEU A 124       2.769  -1.285  -9.091  0.00  0.00      P0   C\nATOM   1554  HG  LEU A 124       2.172  -1.886  -8.562  0.00  0.00      P0   H\nATOM   1555  CD1 LEU A 124       3.085  -0.043  -8.278  0.00  0.00      P0   C\nATOM   1556 HD11 LEU A 124       3.543  -0.305  -7.427  0.00  0.00      P0   H\nATOM   1557 HD12 LEU A 124       2.236   0.442  -8.060  0.00  0.00      P0   H\nATOM   1558 HD13 LEU A 124       3.685   0.562  -8.804  0.00  0.00      P0   H\nATOM   1559  CD2 LEU A 124       2.027  -0.921 -10.363  0.00  0.00      P0   C\nATOM   1560 HD21 LEU A 124       2.604  -0.336 -10.935  0.00  0.00      P0   H\nATOM   1561 HD22 LEU A 124       1.797  -1.753 -10.869  0.00  0.00      P0   H\nATOM   1562 HD23 LEU A 124       1.185  -0.431 -10.134  0.00  0.00      P0   H\nATOM   1563  C   LEU A 124       5.247  -3.867 -10.641  0.00  1.00      P0   C\nATOM   1564  O   LEU A 124       5.730  -3.522 -11.726  0.00  1.00      P0   O\nATOM   1565  N   CYS A 125       5.877  -4.702  -9.812  0.00  1.00      P0   N\nATOM   1566  HN  CYS A 125       5.402  -4.875  -8.917  0.00  0.00      P0   H\nATOM   1567  CA  CYS A 125       7.149  -5.301 -10.197  0.00  3.44      P0   C\nATOM   1568  HA  CYS A 125       7.765  -4.567 -10.506  0.00  0.00      P0   H\nATOM   1569  CB  CYS A 125       7.785  -5.988  -8.988  0.00  0.00      P0   C\nATOM   1570  HB1 CYS A 125       7.172  -6.723  -8.693  0.00  0.00      P0   H\nATOM   1571  HB2 CYS A 125       7.866  -5.312  -8.256  0.00  0.00      P0   H\nATOM   1572  SG  CYS A 125       9.415  -6.696  -9.294  0.00  0.00      P0   S\nATOM   1573  HG1 CYS A 125       9.650  -7.115  -8.050  0.00  0.00      P0   H\nATOM   1574  C   CYS A 125       6.966  -6.280 -11.352  0.00  1.00      P0   C\nATOM   1575  O   CYS A 125       7.821  -6.367 -12.241  0.00  1.00      P0   O\nATOM   1576  N   VAL A 126       5.852  -7.015 -11.361  0.00  1.00      P0   N\nATOM   1577  HN  VAL A 126       5.237  -6.892 -10.543  0.00  0.00      P0   H\nATOM   1578  CA  VAL A 126       5.562  -7.918 -12.472  0.00  3.45      P0   C\nATOM   1579  HA  VAL A 126       6.359  -8.516 -12.604  0.00  0.00      P0   H\nATOM   1580  CB  VAL A 126       4.346  -8.799 -12.137  0.00  0.00      P0   C\nATOM   1581  HB  VAL A 126       3.579  -8.196 -11.940  0.00  0.00      P0   H\nATOM   1582  CG1 VAL A 126       3.949  -9.642 -13.342  0.00  0.00      P0   C\nATOM   1583 HG11 VAL A 126       4.691 -10.273 -13.567  0.00  0.00      P0   H\nATOM   1584 HG12 VAL A 126       3.123 -10.162 -13.127  0.00  0.00      P0   H\nATOM   1585 HG13 VAL A 126       3.772  -9.044 -14.123  0.00  0.00      P0   H\nATOM   1586  CG2 VAL A 126       4.645  -9.679 -10.935  0.00  0.00      P0   C\nATOM   1587 HG21 VAL A 126       4.809  -9.101 -10.135  0.00  0.00      P0   H\nATOM   1588 HG22 VAL A 126       5.458 -10.231 -11.122  0.00  0.00      P0   H\nATOM   1589 HG23 VAL A 126       3.865 -10.279 -10.761  0.00  0.00      P0   H\nATOM   1590  C   VAL A 126       5.346  -7.130 -13.757  0.00  1.00      P0   C\nATOM   1591  O   VAL A 126       5.812  -7.527 -14.832  0.00  1.00      P0   O\nATOM   1592  N   ILE A 127       4.639  -6.001 -13.665  0.00  1.00      P0   N\nATOM   1593  HN  ILE A 127       4.310  -5.766 -12.715  0.00  0.00      P0   H\nATOM   1594  CA  ILE A 127       4.371  -5.183 -14.844  0.00  3.46      P0   C\nATOM   1595  HA  ILE A 127       3.929  -5.788 -15.512  0.00  0.00      P0   H\nATOM   1596  CB  ILE A 127       3.454  -4.002 -14.472  0.00  0.00      P0   C\nATOM   1597  HB  ILE A 127       3.885  -3.504 -13.729  0.00  0.00      P0   H\nATOM   1598  CG2 ILE A 127       3.270  -3.065 -15.657  0.00  0.00      P0   C\nATOM   1599 HG21 ILE A 127       4.165  -2.743 -15.958  0.00  0.00      P0   H\nATOM   1600 HG22 ILE A 127       2.707  -2.291 -15.373  0.00  0.00      P0   H\nATOM   1601 HG23 ILE A 127       2.819  -3.562 -16.396  0.00  0.00      P0   H\nATOM   1602  CG1 ILE A 127       2.104  -4.519 -13.978  0.00  0.00      P0   C\nATOM   1603 HG11 ILE A 127       2.266  -5.101 -13.179  0.00  0.00      P0   H\nATOM   1604 HG12 ILE A 127       1.698  -5.080 -14.699  0.00  0.00      P0   H\nATOM   1605  CD  ILE A 127       1.137  -3.429 -13.598  0.00  0.00      P0   C\nATOM   1606  HD1 ILE A 127       1.529  -2.875 -12.863  0.00  0.00      P0   H\nATOM   1607  HD2 ILE A 127       0.278  -3.836 -13.285  0.00  0.00      P0   H\nATOM   1608  HD3 ILE A 127       0.959  -2.848 -14.392  0.00  0.00      P0   H\nATOM   1609  C   ILE A 127       5.672  -4.708 -15.479  0.00  1.00      P0   C\nATOM   1610  O   ILE A 127       5.834  -4.753 -16.704  0.00  1.00      P0   O\nATOM   1611  N   ALA A 128       6.622  -4.255 -14.657  0.00  1.00      P0   N\nATOM   1612  HN  ALA A 128       6.391  -4.289 -13.655  0.00  0.00      P0   H\nATOM   1613  CA  ALA A 128       7.887  -3.755 -15.190  0.00  3.47      P0   C\nATOM   1614  HA  ALA A 128       7.693  -2.996 -15.825  0.00  0.00      P0   H\nATOM   1615  CB  ALA A 128       8.748  -3.195 -14.060  0.00  0.00      P0   C\nATOM   1616  HB1 ALA A 128       8.564  -3.702 -13.220  0.00  0.00      P0   H\nATOM   1617  HB2 ALA A 128       8.530  -2.230 -13.923  0.00  0.00      P0   H\nATOM   1618  HB3 ALA A 128       9.713  -3.287 -14.301  0.00  0.00      P0   H\nATOM   1619  C   ALA A 128       8.634  -4.845 -15.946  0.00  1.00      P0   C\nATOM   1620  O   ALA A 128       9.158  -4.606 -17.043  0.00  1.00      P0   O\nATOM   1621  N   VAL A 129       8.691  -6.051 -15.380  0.00  1.00      P0   N\nATOM   1622  HN  VAL A 129       8.259  -6.120 -14.448  0.00  0.00      P0   H\nATOM   1623  CA  VAL A 129       9.329  -7.166 -16.072  0.00  3.48      P0   C\nATOM   1624  HA  VAL A 129      10.247  -6.874 -16.356  0.00  0.00      P0   H\nATOM   1625  CB  VAL A 129       9.476  -8.365 -15.118  0.00  0.00      P0   C\nATOM   1626  HB  VAL A 129       8.563  -8.640 -14.834  0.00  0.00      P0   H\nATOM   1627  CG1 VAL A 129      10.095  -9.551 -15.839  0.00  0.00      P0   C\nATOM   1628 HG11 VAL A 129      10.432 -10.212 -15.168  0.00  0.00      P0   H\nATOM   1629 HG12 VAL A 129       9.406  -9.987 -16.418  0.00  0.00      P0   H\nATOM   1630 HG13 VAL A 129      10.856  -9.238 -16.407  0.00  0.00      P0   H\nATOM   1631  CG2 VAL A 129      10.310  -7.974 -13.909  0.00  0.00      P0   C\nATOM   1632 HG21 VAL A 129      10.852  -7.163 -14.129  0.00  0.00      P0   H\nATOM   1633 HG22 VAL A 129      10.920  -8.729 -13.669  0.00  0.00      P0   H\nATOM   1634 HG23 VAL A 129       9.704  -7.774 -13.139  0.00  0.00      P0   H\nATOM   1635  C   VAL A 129       8.542  -7.534 -17.323  0.00  1.00      P0   C\nATOM   1636  O   VAL A 129       9.123  -7.816 -18.378  0.00  1.00      P0   O\nATOM   1637  N   ASP A 130       7.210  -7.523 -17.229  0.00  1.00      P0   N\nATOM   1638  HN  ASP A 130       6.838  -7.266 -16.301  0.00  0.00      P0   H\nATOM   1639  CA  ASP A 130       6.377  -7.857 -18.379  0.00  3.49      P0   C\nATOM   1640  HA  ASP A 130       6.682  -8.757 -18.716  0.00  0.00      P0   H\nATOM   1641  CB  ASP A 130       4.908  -7.910 -17.960  0.00  0.00      P0   C\nATOM   1642  HB1 ASP A 130       4.705  -7.085 -17.447  0.00  0.00      P0   H\nATOM   1643  HB2 ASP A 130       4.780  -8.714 -17.391  0.00  0.00      P0   H\nATOM   1644  CG  ASP A 130       3.969  -7.995 -19.143  0.00  0.00      P0   C\nATOM   1645  OD1 ASP A 130       3.548  -6.931 -19.647  0.00  0.00      P0   O\nATOM   1646  OD2 ASP A 130       3.649  -9.124 -19.569  0.00  0.00      P0   O\nATOM   1647  C   ASP A 130       6.576  -6.863 -19.516  0.00  1.00      P0   C\nATOM   1648  O   ASP A 130       6.608  -7.248 -20.690  0.00  1.00      P0   O\nATOM   1649  N   ARG A 131       6.713  -5.577 -19.187  0.00  1.00      P0   N\nATOM   1650  HN  ARG A 131       6.638  -5.369 -18.181  0.00  0.00      P0   H\nATOM   1651  CA  ARG A 131       6.952  -4.571 -20.215  0.00  3.50      P0   C\nATOM   1652  HA  ARG A 131       6.272  -4.696 -20.955  0.00  0.00      P0   H\nATOM   1653  CB  ARG A 131       6.734  -3.169 -19.643  0.00  0.00      P0   C\nATOM   1654  HB1 ARG A 131       7.012  -2.503 -20.332  0.00  0.00      P0   H\nATOM   1655  HB2 ARG A 131       7.303  -3.071 -18.829  0.00  0.00      P0   H\nATOM   1656  CG  ARG A 131       5.293  -2.858 -19.247  0.00  0.00      P0   C\nATOM   1657  HG1 ARG A 131       5.264  -1.988 -18.759  0.00  0.00      P0   H\nATOM   1658  HG2 ARG A 131       4.947  -3.587 -18.659  0.00  0.00      P0   H\nATOM   1659  CD  ARG A 131       4.374  -2.751 -20.460  0.00  0.00      P0   C\nATOM   1660  HD1 ARG A 131       4.894  -2.328 -21.201  0.00  0.00      P0   H\nATOM   1661  HD2 ARG A 131       3.605  -2.164 -20.212  0.00  0.00      P0   H\nATOM   1662  NE  ARG A 131       3.869  -4.047 -20.901  0.00  0.00      P0   N\nATOM   1663  HE  ARG A 131       4.089  -4.854 -20.342  0.00  0.00      P0   H\nATOM   1664  CZ  ARG A 131       3.138  -4.228 -21.996  0.00  0.00      P0   C\nATOM   1665  NH1 ARG A 131       2.825  -3.195 -22.763  0.00  0.00      P0   N\nATOM   1666 HH11 ARG A 131       3.148  -2.281 -22.541  0.00  0.00      P0   H\nATOM   1667 HH12 ARG A 131       2.252  -3.341 -23.584  0.00  0.00      P0   H\nATOM   1668  NH2 ARG A 131       2.719  -5.443 -22.323  0.00  0.00      P0   N\nATOM   1669 HH21 ARG A 131       2.973  -6.230 -21.753  0.00  0.00      P0   H\nATOM   1670 HH22 ARG A 131       2.155  -5.582 -23.132  0.00  0.00      P0   H\nATOM   1671  C   ARG A 131       8.347  -4.680 -20.815  0.00  1.00      P0   C\nATOM   1672  O   ARG A 131       8.555  -4.230 -21.947  0.00  1.00      P0   O\nATOM   1673  N   TYR A 132       9.304  -5.264 -20.088  0.00  1.00      P0   N\nATOM   1674  HN  TYR A 132       9.031  -5.545 -19.140  0.00  0.00      P0   H\nATOM   1675  CA  TYR A 132      10.632  -5.465 -20.658  0.00  3.51      P0   C\nATOM   1676  HA  TYR A 132      10.911  -4.612 -21.116  0.00  0.00      P0   H\nATOM   1677  CB  TYR A 132      11.647  -5.773 -19.557  0.00  0.00      P0   C\nATOM   1678  HB1 TYR A 132      11.437  -6.667 -19.179  0.00  0.00      P0   H\nATOM   1679  HB2 TYR A 132      11.572  -5.072 -18.858  0.00  0.00      P0   H\nATOM   1680  CG  TYR A 132      13.074  -5.793 -20.058  0.00  0.00      P0   C\nATOM   1681  CD1 TYR A 132      13.835  -4.632 -20.089  0.00  0.00      P0   C\nATOM   1682  HD1 TYR A 132      13.433  -3.770 -19.770  0.00  0.00      P0   H\nATOM   1683  CE1 TYR A 132      15.137  -4.642 -20.553  0.00  0.00      P0   C\nATOM   1684  HE1 TYR A 132      15.674  -3.794 -20.565  0.00  0.00      P0   H\nATOM   1685  CZ  TYR A 132      15.694  -5.823 -20.997  0.00  0.00      P0   C\nATOM   1686  OH  TYR A 132      16.990  -5.834 -21.460  0.00  0.00      P0   O\nATOM   1687  HH  TYR A 132      17.072  -5.193 -22.221  0.00  0.00      P0   H\nATOM   1688  CD2 TYR A 132      13.657  -6.970 -20.514  0.00  0.00      P0   C\nATOM   1689  HD2 TYR A 132      13.125  -7.817 -20.503  0.00  0.00      P0   H\nATOM   1690  CE2 TYR A 132      14.959  -6.989 -20.979  0.00  0.00      P0   C\nATOM   1691  HE2 TYR A 132      15.366  -7.846 -21.303  0.00  0.00      P0   H\nATOM   1692  C   TYR A 132      10.618  -6.577 -21.697  0.00  1.00      P0   C\nATOM   1693  O   TYR A 132      11.223  -6.443 -22.767  0.00  1.00      P0   O\nATOM   1694  N   PHE A 133       9.939  -7.687 -21.397  0.00  1.00      P0   N\nATOM   1695  HN  PHE A 133       9.550  -7.724 -20.446  0.00  0.00      P0   H\nATOM   1696  CA  PHE A 133       9.787  -8.747 -22.388  0.00  3.52      P0   C\nATOM   1697  HA  PHE A 133      10.708  -8.962 -22.732  0.00  0.00      P0   H\nATOM   1698  CB  PHE A 133       9.126  -9.974 -21.756  0.00  0.00      P0   C\nATOM   1699  HB1 PHE A 133       9.031 -10.663 -22.460  0.00  0.00      P0   H\nATOM   1700  HB2 PHE A 133       8.244  -9.696 -21.405  0.00  0.00      P0   H\nATOM   1701  CG  PHE A 133       9.910 -10.573 -20.623  0.00  0.00      P0   C\nATOM   1702  CD1 PHE A 133      11.272 -10.348 -20.506  0.00  0.00      P0   C\nATOM   1703  HD1 PHE A 133      11.741  -9.782 -21.181  0.00  0.00      P0   H\nATOM   1704  CE1 PHE A 133      11.990 -10.898 -19.463  0.00  0.00      P0   C\nATOM   1705  HE1 PHE A 133      12.982 -10.720 -19.393  0.00  0.00      P0   H\nATOM   1706  CZ  PHE A 133      11.354 -11.685 -18.527  0.00  0.00      P0   C\nATOM   1707  HZ  PHE A 133      11.877 -12.085 -17.772  0.00  0.00      P0   H\nATOM   1708  CD2 PHE A 133       9.282 -11.365 -19.677  0.00  0.00      P0   C\nATOM   1709  HD2 PHE A 133       8.297 -11.536 -19.750  0.00  0.00      P0   H\nATOM   1710  CE2 PHE A 133       9.997 -11.919 -18.633  0.00  0.00      P0   C\nATOM   1711  HE2 PHE A 133       9.521 -12.498 -17.949  0.00  0.00      P0   H\nATOM   1712  C   PHE A 133       8.971  -8.271 -23.582  0.00  1.00      P0   C\nATOM   1713  O   PHE A 133       9.174  -8.747 -24.704  0.00  1.00      P0   O\nATOM   1714  N   ALA A 134       8.049  -7.333 -23.358  0.00  1.00      P0   N\nATOM   1715  HN  ALA A 134       7.959  -7.029 -22.378  0.00  0.00      P0   H\nATOM   1716  CA  ALA A 134       7.249  -6.805 -24.456  0.00  3.53      P0   C\nATOM   1717  HA  ALA A 134       6.915  -7.577 -25.014  0.00  0.00      P0   H\nATOM   1718  CB  ALA A 134       6.026  -6.071 -23.907  0.00  0.00      P0   C\nATOM   1719  HB1 ALA A 134       5.944  -6.249 -22.928  0.00  0.00      P0   H\nATOM   1720  HB2 ALA A 134       5.206  -6.397 -24.376  0.00  0.00      P0   H\nATOM   1721  HB3 ALA A 134       6.132  -5.090 -24.062  0.00  0.00      P0   H\nATOM   1722  C   ALA A 134       8.068  -5.883 -25.344  0.00  1.00      P0   C\nATOM   1723  O   ALA A 134       7.903  -5.886 -26.569  0.00  1.00      P0   O\nATOM   1724  N   ILE A 135       8.954  -5.084 -24.747  0.00  1.00      P0   N\nATOM   1725  HN  ILE A 135       9.033  -5.196 -23.728  0.00  0.00      P0   H\nATOM   1726  CA  ILE A 135       9.734  -4.131 -25.531  0.00  3.54      P0   C\nATOM   1727  HA  ILE A 135       9.125  -3.803 -26.264  0.00  0.00      P0   H\nATOM   1728  CB  ILE A 135      10.195  -2.960 -24.644  0.00  0.00      P0   C\nATOM   1729  HB  ILE A 135       9.463  -2.754 -24.004  0.00  0.00      P0   H\nATOM   1730  CG2 ILE A 135      11.444  -3.335 -23.863  0.00  0.00      P0   C\nATOM   1731 HG21 ILE A 135      11.253  -4.149 -23.316  0.00  0.00      P0   H\nATOM   1732 HG22 ILE A 135      11.694  -2.575 -23.266  0.00  0.00      P0   H\nATOM   1733 HG23 ILE A 135      12.185  -3.522 -24.505  0.00  0.00      P0   H\nATOM   1734  CG1 ILE A 135      10.445  -1.715 -25.497  0.00  0.00      P0   C\nATOM   1735 HG11 ILE A 135       9.621  -1.535 -26.032  0.00  0.00      P0   H\nATOM   1736 HG12 ILE A 135      11.198  -1.909 -26.122  0.00  0.00      P0   H\nATOM   1737  CD  ILE A 135      10.778  -0.493 -24.684  0.00  0.00      P0   C\nATOM   1738  HD1 ILE A 135      10.020  -0.286 -24.065  0.00  0.00      P0   H\nATOM   1739  HD2 ILE A 135      10.931   0.285 -25.295  0.00  0.00      P0   H\nATOM   1740  HD3 ILE A 135      11.606  -0.661 -24.149  0.00  0.00      P0   H\nATOM   1741  C   ILE A 135      10.922  -4.794 -26.215  0.00  1.00      P0   C\nATOM   1742  O   ILE A 135      11.512  -4.204 -27.129  0.00  1.00      P0   O\nATOM   1743  N   THR A 136      11.288  -6.007 -25.803  0.00  1.00      P0   N\nATOM   1744  HN  THR A 136      10.800  -6.336 -24.942  0.00  0.00      P0   H\nATOM   1745  CA  THR A 136      12.288  -6.798 -26.507  0.00  3.55      P0   C\nATOM   1746  HA  THR A 136      12.918  -6.166 -26.985  0.00  0.00      P0   H\nATOM   1747  CB  THR A 136      13.122  -7.605 -25.510  0.00  0.00      P0   C\nATOM   1748  HB  THR A 136      13.739  -8.235 -26.025  0.00  0.00      P0   H\nATOM   1749  OG1 THR A 136      12.256  -8.403 -24.692  0.00  0.00      P0   O\nATOM   1750  HG1 THR A 136      11.822  -7.835 -23.986  0.00  0.00      P0   H\nATOM   1751  CG2 THR A 136      13.937  -6.675 -24.624  0.00  0.00      P0   C\nATOM   1752 HG21 THR A 136      14.245  -7.168 -23.807  0.00  0.00      P0   H\nATOM   1753 HG22 THR A 136      13.375  -5.892 -24.343  0.00  0.00      P0   H\nATOM   1754 HG23 THR A 136      14.738  -6.340 -25.127  0.00  0.00      P0   H\nATOM   1755  C   THR A 136      11.665  -7.724 -27.545  0.00  1.00      P0   C\nATOM   1756  O   THR A 136      12.285  -8.718 -27.933  0.00  1.00      P0   O\nATOM   1757  N   SER A 137      10.351  -7.602 -27.790  0.00  1.00      P0   N\nATOM   1758  HN  SER A 137       9.857  -6.896 -27.301  0.00  0.00      P0   H\nATOM   1759  CA  SER A 137       9.844  -8.533 -28.749  0.00  3.56      P0   C\nATOM   1760  HA  SER A 137      10.626  -9.008 -29.174  0.00  0.00      P0   H\nATOM   1761  CB  SER A 137       8.837  -9.515 -28.148  0.00  0.00      P0   C\nATOM   1762  HB1 SER A 137       9.234  -9.929 -27.346  0.00  0.00      P0   H\nATOM   1763  HB2 SER A 137       8.602 -10.188 -28.829  0.00  0.00      P0   H\nATOM   1764  OG  SER A 137       7.672  -8.799 -27.777  0.00  0.00      P0   O\nATOM   1765  HG1 SER A 137       7.933  -7.907 -27.409  0.00  0.00      P0   H\nATOM   1766  C   SER A 137       9.102  -7.805 -29.811  0.00  1.00      P0   C\nATOM   1767  O   SER A 137       8.419  -6.814 -29.559  0.00  1.00      P0   O\nATOM   1768  N   PRO A 138       9.309  -8.238 -31.021  0.00  1.00      P0   N\nATOM   1769  CD  PRO A 138      10.615  -8.680 -31.473  0.00  0.00      P0   C\nATOM   1770  HD1 PRO A 138      11.291  -7.944 -31.420  0.00  0.00      P0   H\nATOM   1771  HD2 PRO A 138      10.938  -9.467 -30.948  0.00  0.00      P0   H\nATOM   1772  CA  PRO A 138       8.507  -7.741 -32.094  0.00 34.50      P0   C\nATOM   1773  HA  PRO A 138       8.519  -6.733 -32.127  0.00  0.00      P0   H\nATOM   1774  CB  PRO A 138       9.236  -8.130 -33.385  0.00  0.00      P0   C\nATOM   1775  HB1 PRO A 138       9.626  -7.330 -33.838  0.00  0.00      P0   H\nATOM   1776  HB2 PRO A 138       8.628  -8.610 -34.015  0.00  0.00      P0   H\nATOM   1777  CG  PRO A 138      10.370  -9.076 -32.934  0.00  0.00      P0   C\nATOM   1778  HG1 PRO A 138      11.176  -8.919 -33.485  0.00  0.00      P0   H\nATOM   1779  HG2 PRO A 138      10.068 -10.017 -33.001  0.00  0.00      P0   H\nATOM   1780  C   PRO A 138       7.103  -8.256 -31.956  0.00  1.00      P0   C\nATOM   1781  O   PRO A 138       6.164  -7.475 -32.101  0.00  1.00      P0   O\nATOM   1782  N   PHE A 139       6.941  -9.565 -31.665  0.00  1.00      P0   N\nATOM   1783  HN  PHE A 139       7.836 -10.088 -31.579  0.00  0.00      P0   H\nATOM   1784  CA  PHE A 139       5.638 -10.148 -31.496  0.00 34.51      P0   C\nATOM   1785  HA  PHE A 139       5.122  -9.547 -30.894  0.00  0.00      P0   H\nATOM   1786  CB  PHE A 139       4.963 -10.573 -32.813  0.00  0.00      P0   C\nATOM   1787  HB1 PHE A 139       4.152 -11.077 -32.580  0.00  0.00      P0   H\nATOM   1788  HB2 PHE A 139       5.611 -11.115 -33.316  0.00  0.00      P0   H\nATOM   1789  CG  PHE A 139       4.571  -9.402 -33.650  0.00  0.00      P0   C\nATOM   1790  CD1 PHE A 139       3.406  -8.711 -33.400  0.00  0.00      P0   C\nATOM   1791  HD1 PHE A 139       2.818  -8.986 -32.640  0.00  0.00      P0   H\nATOM   1792  CE1 PHE A 139       3.041  -7.641 -34.183  0.00  0.00      P0   C\nATOM   1793  HE1 PHE A 139       2.185  -7.144 -33.982  0.00  0.00      P0   H\nATOM   1794  CZ  PHE A 139       3.840  -7.257 -35.235  0.00  0.00      P0   C\nATOM   1795  HZ  PHE A 139       3.575  -6.476 -35.804  0.00  0.00      P0   H\nATOM   1796  CD2 PHE A 139       5.357  -9.017 -34.712  0.00  0.00      P0   C\nATOM   1797  HD2 PHE A 139       6.201  -9.522 -34.914  0.00  0.00      P0   H\nATOM   1798  CE2 PHE A 139       4.999  -7.947 -35.498  0.00  0.00      P0   C\nATOM   1799  HE2 PHE A 139       5.596  -7.671 -36.275  0.00  0.00      P0   H\nATOM   1800  C   PHE A 139       5.842 -11.436 -30.769  0.00  1.00      P0   C\nATOM   1801  O   PHE A 139       4.945 -12.275 -30.707  0.00  1.00      P0   O\nATOM   1802  N   LYS A 140       7.049 -11.635 -30.222  0.00  1.00      P0   N\nATOM   1803  HN  LYS A 140       7.710 -10.842 -30.355  0.00  0.00      P0   H\nATOM   1804  CA  LYS A 140       7.359 -12.842 -29.525  0.00 34.52      P0   C\nATOM   1805  HA  LYS A 140       7.122 -13.628 -30.097  0.00  0.00      P0   H\nATOM   1806  CB  LYS A 140       8.855 -12.899 -29.167  0.00  0.00      P0   C\nATOM   1807  HB1 LYS A 140       9.039 -13.764 -28.737  0.00  0.00      P0   H\nATOM   1808  HB2 LYS A 140       9.062 -12.140 -28.578  0.00  0.00      P0   H\nATOM   1809  CG  LYS A 140       9.728 -12.789 -30.425  0.00  0.00      P0   C\nATOM   1810  HG1 LYS A 140       9.366 -12.038 -31.004  0.00  0.00      P0   H\nATOM   1811  HG2 LYS A 140       9.634 -13.649 -30.958  0.00  0.00      P0   H\nATOM   1812  CD  LYS A 140      11.216 -12.534 -30.175  0.00  0.00      P0   C\nATOM   1813  HD1 LYS A 140      11.620 -13.356 -29.775  0.00  0.00      P0   H\nATOM   1814  HD2 LYS A 140      11.308 -11.770 -29.538  0.00  0.00      P0   H\nATOM   1815  CE  LYS A 140      11.986 -12.190 -31.453  0.00  0.00      P0   C\nATOM   1816  HE1 LYS A 140      11.847 -11.224 -31.658  0.00  0.00      P0   H\nATOM   1817  HE2 LYS A 140      11.630 -12.749 -32.198  0.00  0.00      P0   H\nATOM   1818  NZ  LYS A 140      13.428 -12.460 -31.271  0.00  0.00      P0   N\nATOM   1819  HZ1 LYS A 140      13.632 -13.401 -31.546  0.00  0.00      P0   H\nATOM   1820  HZ2 LYS A 140      13.675 -12.335 -30.309  0.00  0.00      P0   H\nATOM   1821  HZ3 LYS A 140      13.963 -11.827 -31.834  0.00  0.00      P0   H\nATOM   1822  C   LYS A 140       6.526 -12.867 -28.285  0.00  1.00      P0   C\nATOM   1823  O   LYS A 140       6.027 -13.912 -27.869  0.00  1.00      P0   O\nATOM   1824  N   TYR A 141       6.342 -11.674 -27.693  0.00  1.00      P0   N\nATOM   1825  HN  TYR A 141       6.793 -10.880 -28.265  0.00  0.00      P0   H\nATOM   1826  CA  TYR A 141       5.647 -11.424 -26.463  0.00 34.53      P0   C\nATOM   1827  HA  TYR A 141       6.074 -11.981 -25.733  0.00  0.00      P0   H\nATOM   1828  CB  TYR A 141       5.754  -9.927 -26.114  0.00  0.00      P0   C\nATOM   1829  HB1 TYR A 141       5.479  -9.410 -26.918  0.00  0.00      P0   H\nATOM   1830  HB2 TYR A 141       6.703  -9.738 -25.887  0.00  0.00      P0   H\nATOM   1831  CG  TYR A 141       4.891  -9.542 -24.968  0.00  0.00      P0   C\nATOM   1832  CD1 TYR A 141       5.226  -9.850 -23.668  0.00  0.00      P0   C\nATOM   1833  HD1 TYR A 141       6.067 -10.359 -23.476  0.00  0.00      P0   H\nATOM   1834  CE1 TYR A 141       4.414  -9.464 -22.627  0.00  0.00      P0   C\nATOM   1835  HE1 TYR A 141       4.661  -9.695 -21.679  0.00  0.00      P0   H\nATOM   1836  CZ  TYR A 141       3.261  -8.759 -22.885  0.00  0.00      P0   C\nATOM   1837  OH  TYR A 141       2.424  -8.357 -21.823  0.00  0.00      P0   O\nATOM   1838  HH  TYR A 141       2.837  -8.657 -20.972  0.00  0.00      P0   H\nATOM   1839  CD2 TYR A 141       3.743  -8.829 -25.216  0.00  0.00      P0   C\nATOM   1840  HD2 TYR A 141       3.500  -8.590 -26.156  0.00  0.00      P0   H\nATOM   1841  CE2 TYR A 141       2.928  -8.441 -24.182  0.00  0.00      P0   C\nATOM   1842  HE2 TYR A 141       2.085  -7.924 -24.369  0.00  0.00      P0   H\nATOM   1843  C   TYR A 141       4.203 -11.810 -26.567  0.00  1.00      P0   C\nATOM   1844  O   TYR A 141       3.657 -12.421 -25.649  0.00  1.00      P0   O\nATOM   1845  N   GLN A 142       3.534 -11.467 -27.686  0.00  1.00      P0   N\nATOM   1846  HN  GLN A 142       4.101 -11.034 -28.416  0.00  0.00      P0   H\nATOM   1847  CA  GLN A 142       2.124 -11.730 -27.761  0.00 34.54      P0   C\nATOM   1848  HA  GLN A 142       1.680 -11.297 -26.962  0.00  0.00      P0   H\nATOM   1849  CB  GLN A 142       1.459 -11.220 -29.058  0.00  0.00      P0   C\nATOM   1850  HB1 GLN A 142       1.681 -10.245 -29.166  0.00  0.00      P0   H\nATOM   1851  HB2 GLN A 142       0.463 -11.313 -28.961  0.00  0.00      P0   H\nATOM   1852  CG  GLN A 142       1.879 -11.944 -30.342  0.00  0.00      P0   C\nATOM   1853  HG1 GLN A 142       1.713 -12.900 -30.236  0.00  0.00      P0   H\nATOM   1854  HG2 GLN A 142       2.812 -11.729 -30.536  0.00  0.00      P0   H\nATOM   1855  CD  GLN A 142       1.005 -11.413 -31.477  0.00  0.00      P0   C\nATOM   1856  OE1 GLN A 142       0.687 -10.225 -31.522  0.00  0.00      P0   O\nATOM   1857  NE2 GLN A 142       0.588 -12.318 -32.407  0.00  0.00      P0   N\nATOM   1858 HE21 GLN A 142       0.000 -12.033 -33.169  0.00  0.00      P0   H\nATOM   1859 HE22 GLN A 142       0.905 -13.275 -32.281  0.00  0.00      P0   H\nATOM   1860  C   GLN A 142       1.855 -13.201 -27.703  0.00  1.00      P0   C\nATOM   1861  O   GLN A 142       0.987 -13.652 -26.960  0.00  1.00      P0   O\nATOM   1862  N   SER A 143       2.608 -14.001 -28.476  0.00  1.00      P0   N\nATOM   1863  HN  SER A 143       3.367 -13.533 -28.979  0.00  0.00      P0   H\nATOM   1864  CA  SER A 143       2.301 -15.398 -28.534  0.00 34.55      P0   C\nATOM   1865  HA  SER A 143       1.320 -15.500 -28.757  0.00  0.00      P0   H\nATOM   1866  CB  SER A 143       3.116 -16.152 -29.596  0.00  0.00      P0   C\nATOM   1867  HB1 SER A 143       4.079 -16.067 -29.377  0.00  0.00      P0   H\nATOM   1868  HB2 SER A 143       2.919 -15.762 -30.485  0.00  0.00      P0   H\nATOM   1869  OG  SER A 143       2.760 -17.527 -29.601  0.00  0.00      P0   O\nATOM   1870  HG1 SER A 143       2.156 -17.716 -28.829  0.00  0.00      P0   H\nATOM   1871  C   SER A 143       2.549 -16.048 -27.210  0.00  1.00      P0   C\nATOM   1872  O   SER A 143       1.694 -16.776 -26.706  0.00  1.00      P0   O\nATOM   1873  N   LEU A 144       3.723 -15.803 -26.597  0.00  1.00      P0   N\nATOM   1874  HN  LEU A 144       4.321 -15.115 -27.069  0.00  0.00      P0   H\nATOM   1875  CA  LEU A 144       4.043 -16.490 -25.379  0.00 34.56      P0   C\nATOM   1876  HA  LEU A 144       3.975 -17.494 -25.545  0.00  0.00      P0   H\nATOM   1877  CB  LEU A 144       5.468 -16.228 -24.863  0.00  0.00      P0   C\nATOM   1878  HB1 LEU A 144       5.517 -16.544 -23.930  0.00  0.00      P0   H\nATOM   1879  HB2 LEU A 144       5.641 -15.257 -24.928  0.00  0.00      P0   H\nATOM   1880  CG  LEU A 144       6.577 -16.946 -25.652  0.00  0.00      P0   C\nATOM   1881  HG  LEU A 144       6.399 -17.932 -25.635  0.00  0.00      P0   H\nATOM   1882  CD1 LEU A 144       6.637 -16.472 -27.111  0.00  0.00      P0   C\nATOM   1883 HD11 LEU A 144       5.762 -16.660 -27.552  0.00  0.00      P0   H\nATOM   1884 HD12 LEU A 144       7.366 -16.961 -27.585  0.00  0.00      P0   H\nATOM   1885 HD13 LEU A 144       6.821 -15.491 -27.130  0.00  0.00      P0   H\nATOM   1886  CD2 LEU A 144       7.931 -16.827 -24.926  0.00  0.00      P0   C\nATOM   1887 HD21 LEU A 144       8.168 -15.863 -24.836  0.00  0.00      P0   H\nATOM   1888 HD22 LEU A 144       7.853 -17.242 -24.022  0.00  0.00      P0   H\nATOM   1889 HD23 LEU A 144       8.629 -17.300 -25.458  0.00  0.00      P0   H\nATOM   1890  C   LEU A 144       3.128 -16.132 -24.252  0.00  1.00      P0   C\nATOM   1891  O   LEU A 144       2.615 -17.024 -23.578  0.00  1.00      P0   O\nATOM   1892  N   LEU A 145       2.863 -14.832 -24.020  0.00  1.00      P0   N\nATOM   1893  HN  LEU A 145       3.203 -14.173 -24.683  0.00  0.00      P0   H\nATOM   1894  CA  LEU A 145       2.113 -14.567 -22.824  0.00 34.57      P0   C\nATOM   1895  HA  LEU A 145       2.319 -15.286 -22.146  0.00  0.00      P0   H\nATOM   1896  CB  LEU A 145       2.439 -13.228 -22.145  0.00  0.00      P0   C\nATOM   1897  HB1 LEU A 145       1.832 -13.116 -21.382  0.00  0.00      P0   H\nATOM   1898  HB2 LEU A 145       2.340 -12.515 -22.813  0.00  0.00      P0   H\nATOM   1899  CG  LEU A 145       3.879 -13.155 -21.603  0.00  0.00      P0   C\nATOM   1900  HG  LEU A 145       4.068 -13.984 -21.076  0.00  0.00      P0   H\nATOM   1901  CD1 LEU A 145       4.897 -13.038 -22.743  0.00  0.00      P0   C\nATOM   1902 HD11 LEU A 145       4.820 -13.836 -23.337  0.00  0.00      P0   H\nATOM   1903 HD12 LEU A 145       5.818 -12.993 -22.359  0.00  0.00      P0   H\nATOM   1904 HD13 LEU A 145       4.711 -12.209 -23.267  0.00  0.00      P0   H\nATOM   1905  CD2 LEU A 145       4.029 -12.067 -20.531  0.00  0.00      P0   C\nATOM   1906 HD21 LEU A 145       3.795 -11.182 -20.927  0.00  0.00      P0   H\nATOM   1907 HD22 LEU A 145       3.415 -12.269 -19.770  0.00  0.00      P0   H\nATOM   1908 HD23 LEU A 145       4.973 -12.053 -20.208  0.00  0.00      P0   H\nATOM   1909  C   LEU A 145       0.653 -14.585 -23.118  0.00  1.00      P0   C\nATOM   1910  O   LEU A 145       0.101 -13.643 -23.685  0.00  1.00      P0   O\nATOM   1911  N   THR A 146      -0.013 -15.674 -22.692  0.00  1.00      P0   N\nATOM   1912  HN  THR A 146       0.591 -16.373 -22.211  0.00  0.00      P0   H\nATOM   1913  CA  THR A 146      -1.417 -15.818 -22.901  0.00  4.38      P0   C\nATOM   1914  HA  THR A 146      -1.693 -15.239 -23.670  0.00  0.00      P0   H\nATOM   1915  CB  THR A 146      -1.859 -17.229 -23.115  0.00  0.00      P0   C\nATOM   1916  HB  THR A 146      -1.248 -17.683 -23.807  0.00  0.00      P0   H\nATOM   1917  OG1 THR A 146      -3.184 -17.256 -23.626  0.00  0.00      P0   O\nATOM   1918  HG1 THR A 146      -3.370 -16.432 -24.174  0.00  0.00      P0   H\nATOM   1919  CG2 THR A 146      -1.806 -17.957 -21.762  0.00  0.00      P0   C\nATOM   1920 HG21 THR A 146      -0.855 -18.163 -21.532  0.00  0.00      P0   H\nATOM   1921 HG22 THR A 146      -2.328 -18.809 -21.822  0.00  0.00      P0   H\nATOM   1922 HG23 THR A 146      -2.201 -17.371 -21.053  0.00  0.00      P0   H\nATOM   1923  C   THR A 146      -2.103 -15.346 -21.671  0.00  1.00      P0   C\nATOM   1924  O   THR A 146      -1.479 -15.072 -20.645  0.00  1.00      P0   O\nATOM   1925  N   LYS A 147      -3.438 -15.237 -21.759  0.00  1.00      P0   N\nATOM   1926  HN  LYS A 147      -3.827 -15.532 -22.677  0.00  0.00      P0   H\nATOM   1927  CA  LYS A 147      -4.217 -14.754 -20.663  0.00  4.39      P0   C\nATOM   1928  HA  LYS A 147      -3.857 -13.859 -20.366  0.00  0.00      P0   H\nATOM   1929  CB  LYS A 147      -5.699 -14.567 -21.013  0.00  0.00      P0   C\nATOM   1930  HB1 LYS A 147      -6.179 -14.280 -20.194  0.00  0.00      P0   H\nATOM   1931  HB2 LYS A 147      -6.053 -15.433 -21.342  0.00  0.00      P0   H\nATOM   1932  CG  LYS A 147      -5.922 -13.514 -22.095  0.00  0.00      P0   C\nATOM   1933  HG1 LYS A 147      -5.242 -13.642 -22.820  0.00  0.00      P0   H\nATOM   1934  HG2 LYS A 147      -5.804 -12.603 -21.692  0.00  0.00      P0   H\nATOM   1935  CD  LYS A 147      -7.317 -13.600 -22.709  0.00  0.00      P0   C\nATOM   1936  HD1 LYS A 147      -7.988 -13.293 -22.028  0.00  0.00      P0   H\nATOM   1937  HD2 LYS A 147      -7.507 -14.558 -22.941  0.00  0.00      P0   H\nATOM   1938  CE  LYS A 147      -7.495 -12.757 -23.972  0.00  0.00      P0   C\nATOM   1939  HE1 LYS A 147      -8.259 -13.126 -24.497  0.00  0.00      P0   H\nATOM   1940  HE2 LYS A 147      -6.658 -12.811 -24.511  0.00  0.00      P0   H\nATOM   1941  NZ  LYS A 147      -7.768 -11.350 -23.615  0.00  0.00      P0   N\nATOM   1942  HZ1 LYS A 147      -7.558 -11.201 -22.648  0.00  0.00      P0   H\nATOM   1943  HZ2 LYS A 147      -8.734 -11.141 -23.780  0.00  0.00      P0   H\nATOM   1944  HZ3 LYS A 147      -7.199 -10.744 -24.174  0.00  0.00      P0   H\nATOM   1945  C   LYS A 147      -4.137 -15.714 -19.519  0.00  1.00      P0   C\nATOM   1946  O   LYS A 147      -4.078 -15.294 -18.364  0.00  1.00      P0   O\nATOM   1947  N   ASN A 148      -4.132 -17.034 -19.793  0.00  1.00      P0   N\nATOM   1948  HN  ASN A 148      -4.124 -17.282 -20.776  0.00  0.00      P0   H\nATOM   1949  CA  ASN A 148      -4.137 -17.978 -18.681  0.00  4.40      P0   C\nATOM   1950  HA  ASN A 148      -4.926 -17.748 -18.099  0.00  0.00      P0   H\nATOM   1951  CB  ASN A 148      -4.257 -19.408 -19.205  0.00  0.00      P0   C\nATOM   1952  HB1 ASN A 148      -4.290 -20.027 -18.425  0.00  0.00      P0   H\nATOM   1953  HB2 ASN A 148      -3.458 -19.607 -19.766  0.00  0.00      P0   H\nATOM   1954  CG  ASN A 148      -5.501 -19.621 -20.044  0.00  0.00      P0   C\nATOM   1955  OD1 ASN A 148      -6.089 -18.668 -20.556  0.00  0.00      P0   O\nATOM   1956  ND2 ASN A 148      -5.908 -20.876 -20.190  0.00  0.00      P0   N\nATOM   1957 HD21 ASN A 148      -5.402 -21.620 -19.751  0.00  0.00      P0   H\nATOM   1958 HD22 ASN A 148      -6.720 -21.083 -20.736  0.00  0.00      P0   H\nATOM   1959  C   ASN A 148      -2.889 -17.826 -17.821  0.00  1.00      P0   C\nATOM   1960  O   ASN A 148      -2.968 -17.892 -16.589  0.00  1.00      P0   O\nATOM   1961  N   LYS A 149      -1.726 -17.630 -18.451  0.00  1.00      P0   N\nATOM   1962  HN  LYS A 149      -1.777 -17.631 -19.478  0.00  0.00      P0   H\nATOM   1963  CA  LYS A 149      -0.497 -17.434 -17.688  0.00  4.41      P0   C\nATOM   1964  HA  LYS A 149      -0.372 -18.219 -17.066  0.00  0.00      P0   H\nATOM   1965  CB  LYS A 149       0.713 -17.398 -18.625  0.00  0.00      P0   C\nATOM   1966  HB1 LYS A 149       1.464 -16.943 -18.143  0.00  0.00      P0   H\nATOM   1967  HB2 LYS A 149       0.465 -16.859 -19.431  0.00  0.00      P0   H\nATOM   1968  CG  LYS A 149       1.195 -18.759 -19.089  0.00  0.00      P0   C\nATOM   1969  HG1 LYS A 149       0.520 -19.154 -19.706  0.00  0.00      P0   H\nATOM   1970  HG2 LYS A 149       1.321 -19.350 -18.297  0.00  0.00      P0   H\nATOM   1971  CD  LYS A 149       2.522 -18.635 -19.825  0.00  0.00      P0   C\nATOM   1972  HD1 LYS A 149       3.164 -18.140 -19.249  0.00  0.00      P0   H\nATOM   1973  HD2 LYS A 149       2.371 -18.141 -20.676  0.00  0.00      P0   H\nATOM   1974  CE  LYS A 149       3.112 -19.996 -20.153  0.00  0.00      P0   C\nATOM   1975  HE1 LYS A 149       2.496 -20.475 -20.783  0.00  0.00      P0   H\nATOM   1976  HE2 LYS A 149       3.191 -20.529 -19.307  0.00  0.00      P0   H\nATOM   1977  NZ  LYS A 149       4.457 -19.877 -20.781  0.00  0.00      P0   N\nATOM   1978  HZ1 LYS A 149       4.564 -20.593 -21.470  0.00  0.00      P0   H\nATOM   1979  HZ2 LYS A 149       5.161 -19.979 -20.080  0.00  0.00      P0   H\nATOM   1980  HZ3 LYS A 149       4.542 -18.980 -21.213  0.00  0.00      P0   H\nATOM   1981  C   LYS A 149      -0.549 -16.158 -16.860  0.00  1.00      P0   C\nATOM   1982  O   LYS A 149       0.013 -16.112 -15.760  0.00  1.00      P0   O\nATOM   1983  N   ALA A 150      -1.212 -15.118 -17.372  0.00  1.00      P0   N\nATOM   1984  HN  ALA A 150      -1.623 -15.271 -18.301  0.00  0.00      P0   H\nATOM   1985  CA  ALA A 150      -1.314 -13.870 -16.622  0.00  4.42      P0   C\nATOM   1986  HA  ALA A 150      -0.384 -13.545 -16.404  0.00  0.00      P0   H\nATOM   1987  CB  ALA A 150      -1.986 -12.798 -17.478  0.00  0.00      P0   C\nATOM   1988  HB1 ALA A 150      -2.697 -13.219 -18.040  0.00  0.00      P0   H\nATOM   1989  HB2 ALA A 150      -1.303 -12.369 -18.068  0.00  0.00      P0   H\nATOM   1990  HB3 ALA A 150      -2.396 -12.107 -16.884  0.00  0.00      P0   H\nATOM   1991  C   ALA A 150      -2.075 -14.074 -15.319  0.00  1.00      P0   C\nATOM   1992  O   ALA A 150      -1.688 -13.535 -14.275  0.00  1.00      P0   O\nATOM   1993  N   ARG A 151      -3.156 -14.857 -15.356  0.00  1.00      P0   N\nATOM   1994  HN  ARG A 151      -3.407 -15.220 -16.284  0.00  0.00      P0   H\nATOM   1995  CA  ARG A 151      -3.897 -15.148 -14.133  0.00  4.43      P0   C\nATOM   1996  HA  ARG A 151      -4.125 -14.277 -13.677  0.00  0.00      P0   H\nATOM   1997  CB  ARG A 151      -5.216 -15.845 -14.470  0.00  0.00      P0   C\nATOM   1998  HB1 ARG A 151      -5.718 -15.989 -13.623  0.00  0.00      P0   H\nATOM   1999  HB2 ARG A 151      -5.006 -16.718 -14.898  0.00  0.00      P0   H\nATOM   2000  CG  ARG A 151      -6.105 -15.055 -15.415  0.00  0.00      P0   C\nATOM   2001  HG1 ARG A 151      -5.659 -14.976 -16.303  0.00  0.00      P0   H\nATOM   2002  HG2 ARG A 151      -6.274 -14.149 -15.036  0.00  0.00      P0   H\nATOM   2003  CD  ARG A 151      -7.445 -15.741 -15.619  0.00  0.00      P0   C\nATOM   2004  HD1 ARG A 151      -7.892 -15.817 -14.732  0.00  0.00      P0   H\nATOM   2005  HD2 ARG A 151      -7.275 -16.648 -15.995  0.00  0.00      P0   H\nATOM   2006  NE  ARG A 151      -8.307 -14.994 -16.531  0.00  0.00      P0   N\nATOM   2007  HE  ARG A 151      -8.273 -15.227 -17.509  0.00  0.00      P0   H\nATOM   2008  CZ  ARG A 151      -9.135 -14.025 -16.152  0.00  0.00      P0   C\nATOM   2009  NH1 ARG A 151      -9.213 -13.679 -14.874  0.00  0.00      P0   N\nATOM   2010 HH11 ARG A 151      -8.642 -14.125 -14.193  0.00  0.00      P0   H\nATOM   2011 HH12 ARG A 151      -9.860 -12.954 -14.596  0.00  0.00      P0   H\nATOM   2012  NH2 ARG A 151      -9.884 -13.400 -17.050  0.00  0.00      P0   N\nATOM   2013 HH21 ARG A 151      -9.811 -13.646 -18.021  0.00  0.00      P0   H\nATOM   2014 HH22 ARG A 151     -10.520 -12.686 -16.769  0.00  0.00      P0   H\nATOM   2015  C   ARG A 151      -3.078 -16.000 -13.172  0.00  1.00      P0   C\nATOM   2016  O   ARG A 151      -3.237 -15.881 -11.951  0.00  1.00      P0   O\nATOM   2017  N   VAL A 152      -2.200 -16.857 -13.698  0.00  1.00      P0   N\nATOM   2018  HN  VAL A 152      -2.189 -16.901 -14.727  0.00  0.00      P0   H\nATOM   2019  CA  VAL A 152      -1.335 -17.654 -12.835  0.00  4.44      P0   C\nATOM   2020  HA  VAL A 152      -1.912 -18.115 -12.152  0.00  0.00      P0   H\nATOM   2021  CB  VAL A 152      -0.614 -18.736 -13.660  0.00  0.00      P0   C\nATOM   2022  HB  VAL A 152      -0.106 -18.277 -14.383  0.00  0.00      P0   H\nATOM   2023  CG1 VAL A 152       0.401 -19.474 -12.803  0.00  0.00      P0   C\nATOM   2024 HG11 VAL A 152       1.154 -18.859 -12.571  0.00  0.00      P0   H\nATOM   2025 HG12 VAL A 152      -0.038 -19.793 -11.962  0.00  0.00      P0   H\nATOM   2026 HG13 VAL A 152       0.759 -20.260 -13.309  0.00  0.00      P0   H\nATOM   2027  CG2 VAL A 152      -1.625 -19.706 -14.246  0.00  0.00      P0   C\nATOM   2028 HG21 VAL A 152      -1.147 -20.513 -14.594  0.00  0.00      P0   H\nATOM   2029 HG22 VAL A 152      -2.117 -19.259 -14.995  0.00  0.00      P0   H\nATOM   2030 HG23 VAL A 152      -2.272 -19.980 -13.535  0.00  0.00      P0   H\nATOM   2031  C   VAL A 152      -0.351 -16.760 -12.093  0.00  1.00      P0   C\nATOM   2032  O   VAL A 152      -0.126 -16.928 -10.889  0.00  1.00      P0   O\nATOM   2033  N   ILE A 153       0.243 -15.792 -12.794  0.00  1.00      P0   N\nATOM   2034  HN  ILE A 153      -0.003 -15.755 -13.792  0.00  0.00      P0   H\nATOM   2035  CA  ILE A 153       1.175 -14.869 -12.146  0.00  4.45      P0   C\nATOM   2036  HA  ILE A 153       1.860 -15.439 -11.688  0.00  0.00      P0   H\nATOM   2037  CB  ILE A 153       1.819 -13.935 -13.186  0.00  0.00      P0   C\nATOM   2038  HB  ILE A 153       1.093 -13.416 -13.625  0.00  0.00      P0   H\nATOM   2039  CG2 ILE A 153       2.770 -12.959 -12.504  0.00  0.00      P0   C\nATOM   2040 HG21 ILE A 153       2.266 -12.450 -11.809  0.00  0.00      P0   H\nATOM   2041 HG22 ILE A 153       3.136 -12.332 -13.189  0.00  0.00      P0   H\nATOM   2042 HG23 ILE A 153       3.513 -13.474 -12.080  0.00  0.00      P0   H\nATOM   2043  CG1 ILE A 153       2.541 -14.745 -14.265  0.00  0.00      P0   C\nATOM   2044 HG11 ILE A 153       2.883 -14.107 -14.956  0.00  0.00      P0   H\nATOM   2045 HG12 ILE A 153       1.877 -15.354 -14.698  0.00  0.00      P0   H\nATOM   2046  CD  ILE A 153       3.698 -15.565 -13.746  0.00  0.00      P0   C\nATOM   2047  HD1 ILE A 153       4.374 -14.959 -13.329  0.00  0.00      P0   H\nATOM   2048  HD2 ILE A 153       4.119 -16.065 -14.502  0.00  0.00      P0   H\nATOM   2049  HD3 ILE A 153       3.365 -16.215 -13.063  0.00  0.00      P0   H\nATOM   2050  C   ILE A 153       0.462 -14.081 -11.056  0.00  1.00      P0   C\nATOM   2051  O   ILE A 153       0.970 -13.933  -9.938  0.00  1.00      P0   O\nATOM   2052  N   ILE A 154      -0.732 -13.569 -11.366  0.00  1.00      P0   N\nATOM   2053  HN  ILE A 154      -1.042 -13.740 -12.336  0.00  0.00      P0   H\nATOM   2054  CA  ILE A 154      -1.511 -12.826 -10.380  0.00  4.46      P0   C\nATOM   2055  HA  ILE A 154      -0.925 -12.075 -10.066  0.00  0.00      P0   H\nATOM   2056  CB  ILE A 154      -2.810 -12.296 -11.015  0.00  0.00      P0   C\nATOM   2057  HB  ILE A 154      -3.274 -13.061 -11.448  0.00  0.00      P0   H\nATOM   2058  CG2 ILE A 154      -3.725 -11.709  -9.955  0.00  0.00      P0   C\nATOM   2059 HG21 ILE A 154      -3.913 -12.407  -9.265  0.00  0.00      P0   H\nATOM   2060 HG22 ILE A 154      -4.577 -11.417 -10.386  0.00  0.00      P0   H\nATOM   2061 HG23 ILE A 154      -3.272 -10.926  -9.531  0.00  0.00      P0   H\nATOM   2062  CG1 ILE A 154      -2.493 -11.260 -12.096  0.00  0.00      P0   C\nATOM   2063 HG11 ILE A 154      -1.849 -11.672 -12.741  0.00  0.00      P0   H\nATOM   2064 HG12 ILE A 154      -2.050 -10.477 -11.661  0.00  0.00      P0   H\nATOM   2065  CD  ILE A 154      -3.705 -10.782 -12.856  0.00  0.00      P0   C\nATOM   2066  HD1 ILE A 154      -4.142 -11.558 -13.309  0.00  0.00      P0   H\nATOM   2067  HD2 ILE A 154      -3.425 -10.111 -13.542  0.00  0.00      P0   H\nATOM   2068  HD3 ILE A 154      -4.352 -10.360 -12.221  0.00  0.00      P0   H\nATOM   2069  C   ILE A 154      -1.799 -13.695  -9.163  0.00  1.00      P0   C\nATOM   2070  O   ILE A 154      -1.674 -13.247  -8.017  0.00  1.00      P0   O\nATOM   2071  N   LEU A 155      -2.183 -14.952  -9.393  0.00  1.00      P0   N\nATOM   2072  HN  LEU A 155      -2.263 -15.215 -10.384  0.00  0.00      P0   H\nATOM   2073  CA  LEU A 155      -2.458 -15.854  -8.279  0.00  4.47      P0   C\nATOM   2074  HA  LEU A 155      -3.159 -15.432  -7.691  0.00  0.00      P0   H\nATOM   2075  CB  LEU A 155      -3.018 -17.176  -8.802  0.00  0.00      P0   C\nATOM   2076  HB1 LEU A 155      -2.327 -17.590  -9.390  0.00  0.00      P0   H\nATOM   2077  HB2 LEU A 155      -3.839 -16.973  -9.332  0.00  0.00      P0   H\nATOM   2078  CG  LEU A 155      -3.403 -18.215  -7.749  0.00  0.00      P0   C\nATOM   2079  HG  LEU A 155      -2.609 -18.404  -7.172  0.00  0.00      P0   H\nATOM   2080  CD1 LEU A 155      -4.542 -17.698  -6.890  0.00  0.00      P0   C\nATOM   2081 HD11 LEU A 155      -4.259 -16.856  -6.427  0.00  0.00      P0   H\nATOM   2082 HD12 LEU A 155      -4.786 -18.386  -6.204  0.00  0.00      P0   H\nATOM   2083 HD13 LEU A 155      -5.338 -17.508  -7.465  0.00  0.00      P0   H\nATOM   2084  CD2 LEU A 155      -3.780 -19.529  -8.413  0.00  0.00      P0   C\nATOM   2085 HD21 LEU A 155      -4.559 -19.385  -9.025  0.00  0.00      P0   H\nATOM   2086 HD22 LEU A 155      -3.004 -19.875  -8.940  0.00  0.00      P0   H\nATOM   2087 HD23 LEU A 155      -4.030 -20.200  -7.713  0.00  0.00      P0   H\nATOM   2088  C   LEU A 155      -1.209 -16.095  -7.443  0.00  1.00      P0   C\nATOM   2089  O   LEU A 155      -1.272 -16.104  -6.209  0.00  1.00      P0   O\nATOM   2090  N   MET A 156      -0.060 -16.281  -8.097  0.00  1.00      P0   N\nATOM   2091  HN  MET A 156      -0.122 -16.240  -9.121  0.00  0.00      P0   H\nATOM   2092  CA  MET A 156       1.175 -16.523  -7.358  0.00  4.48      P0   C\nATOM   2093  HA  MET A 156       0.991 -17.230  -6.660  0.00  0.00      P0   H\nATOM   2094  CB  MET A 156       2.260 -17.049  -8.299  0.00  0.00      P0   C\nATOM   2095  HB1 MET A 156       3.131 -17.111  -7.791  0.00  0.00      P0   H\nATOM   2096  HB2 MET A 156       2.387 -16.391  -9.053  0.00  0.00      P0   H\nATOM   2097  CG  MET A 156       1.959 -18.414  -8.899  0.00  0.00      P0   C\nATOM   2098  HG1 MET A 156       2.716 -18.657  -9.550  0.00  0.00      P0   H\nATOM   2099  HG2 MET A 156       1.117 -18.332  -9.482  0.00  0.00      P0   H\nATOM   2100  SD  MET A 156       1.749 -19.703  -7.654  0.00  0.00      P0   S\nATOM   2101  CE  MET A 156       3.349 -19.659  -6.849  0.00  0.00      P0   C\nATOM   2102  HE1 MET A 156       3.604 -18.709  -6.662  0.00  0.00      P0   H\nATOM   2103  HE2 MET A 156       3.305 -20.166  -5.987  0.00  0.00      P0   H\nATOM   2104  HE3 MET A 156       4.037 -20.075  -7.445  0.00  0.00      P0   H\nATOM   2105  C   MET A 156       1.658 -15.270  -6.638  0.00  1.00      P0   C\nATOM   2106  O   MET A 156       2.358 -15.373  -5.625  0.00  1.00      P0   O\nATOM   2107  N   VAL A 157       1.301 -14.085  -7.139  0.00  1.00      P0   N\nATOM   2108  HN  VAL A 157       0.745 -14.120  -8.003  0.00  0.00      P0   H\nATOM   2109  CA  VAL A 157       1.698 -12.850  -6.469  0.00  4.49      P0   C\nATOM   2110  HA  VAL A 157       2.686 -12.891  -6.295  0.00  0.00      P0   H\nATOM   2111  CB  VAL A 157       1.425 -11.633  -7.370  0.00  0.00      P0   C\nATOM   2112  HB  VAL A 157       0.485 -11.696  -7.689  0.00  0.00      P0   H\nATOM   2113  CG1 VAL A 157       1.538 -10.344  -6.571  0.00  0.00      P0   C\nATOM   2114 HG11 VAL A 157       0.769 -10.276  -5.936  0.00  0.00      P0   H\nATOM   2115 HG12 VAL A 157       2.395 -10.345  -6.054  0.00  0.00      P0   H\nATOM   2116 HG13 VAL A 157       1.526  -9.561  -7.193  0.00  0.00      P0   H\nATOM   2117  CG2 VAL A 157       2.400 -11.612  -8.535  0.00  0.00      P0   C\nATOM   2118 HG21 VAL A 157       1.978 -11.143  -9.312  0.00  0.00      P0   H\nATOM   2119 HG22 VAL A 157       2.627 -12.551  -8.794  0.00  0.00      P0   H\nATOM   2120 HG23 VAL A 157       3.231 -11.128  -8.262  0.00  0.00      P0   H\nATOM   2121  C   VAL A 157       0.989 -12.722  -5.125  0.00  1.00      P0   C\nATOM   2122  O   VAL A 157       1.609 -12.395  -4.106  0.00  1.00      P0   O\nATOM   2123  N   TRP A 158      -0.320 -12.981  -5.102  0.00  1.00      P0   N\nATOM   2124  HN  TRP A 158      -0.738 -13.229  -6.007  0.00  0.00      P0   H\nATOM   2125  CA  TRP A 158      -1.061 -12.905  -3.848  0.00  4.50      P0   C\nATOM   2126  HA  TRP A 158      -0.822 -12.030  -3.404  0.00  0.00      P0   H\nATOM   2127  CB  TRP A 158      -2.564 -12.933  -4.124  0.00  0.00      P0   C\nATOM   2128  HB1 TRP A 158      -3.047 -13.058  -3.267  0.00  0.00      P0   H\nATOM   2129  HB2 TRP A 158      -2.762 -13.676  -4.752  0.00  0.00      P0   H\nATOM   2130  CG  TRP A 158      -3.075 -11.672  -4.747  0.00  0.00      P0   C\nATOM   2131  CD1 TRP A 158      -3.186 -11.400  -6.079  0.00  0.00      P0   C\nATOM   2132  HD1 TRP A 158      -2.934 -12.025  -6.815  0.00  0.00      P0   H\nATOM   2133  NE1 TRP A 158      -3.696 -10.138  -6.263  0.00  0.00      P0   N\nATOM   2134  HE1 TRP A 158      -3.872  -9.705  -7.146  0.00  0.00      P0   H\nATOM   2135  CE2 TRP A 158      -3.925  -9.568  -5.039  0.00  0.00      P0   C\nATOM   2136  CD2 TRP A 158      -3.544 -10.507  -4.059  0.00  0.00      P0   C\nATOM   2137  CE3 TRP A 158      -3.680 -10.167  -2.710  0.00  0.00      P0   C\nATOM   2138  HE3 TRP A 158      -3.422 -10.808  -1.991  0.00  0.00      P0   H\nATOM   2139  CZ3 TRP A 158      -4.184  -8.921  -2.387  0.00  0.00      P0   C\nATOM   2140  HZ3 TRP A 158      -4.285  -8.669  -1.429  0.00  0.00      P0   H\nATOM   2141  CZ2 TRP A 158      -4.432  -8.314  -4.712  0.00  0.00      P0   C\nATOM   2142  HZ2 TRP A 158      -4.694  -7.668  -5.435  0.00  0.00      P0   H\nATOM   2143  CH2 TRP A 158      -4.553  -8.009  -3.384  0.00  0.00      P0   C\nATOM   2144  HH2 TRP A 158      -4.914  -7.116  -3.107  0.00  0.00      P0   H\nATOM   2145  C   TRP A 158      -0.673 -14.026  -2.891  0.00  1.00      P0   C\nATOM   2146  O   TRP A 158      -0.739 -13.844  -1.669  0.00  1.00      P0   O\nATOM   2147  N   ILE A 159      -0.267 -15.183  -3.419  0.00  1.00      P0   N\nATOM   2148  HN  ILE A 159      -0.291 -15.229  -4.447  0.00  0.00      P0   H\nATOM   2149  CA  ILE A 159       0.171 -16.280  -2.560  0.00  4.51      P0   C\nATOM   2150  HA  ILE A 159      -0.508 -16.351  -1.826  0.00  0.00      P0   H\nATOM   2151  CB  ILE A 159       0.266 -17.587  -3.367  0.00  0.00      P0   C\nATOM   2152  HB  ILE A 159       0.752 -17.391  -4.212  0.00  0.00      P0   H\nATOM   2153  CG2 ILE A 159       1.035 -18.647  -2.591  0.00  0.00      P0   C\nATOM   2154 HG21 ILE A 159       1.940 -18.291  -2.366  0.00  0.00      P0   H\nATOM   2155 HG22 ILE A 159       1.119 -19.465  -3.157  0.00  0.00      P0   H\nATOM   2156 HG23 ILE A 159       0.535 -18.862  -1.754  0.00  0.00      P0   H\nATOM   2157  CG1 ILE A 159      -1.130 -18.097  -3.730  0.00  0.00      P0   C\nATOM   2158 HG11 ILE A 159      -1.607 -17.373  -4.225  0.00  0.00      P0   H\nATOM   2159 HG12 ILE A 159      -1.625 -18.286  -2.885  0.00  0.00      P0   H\nATOM   2160  CD  ILE A 159      -1.116 -19.343  -4.585  0.00  0.00      P0   C\nATOM   2161  HD1 ILE A 159      -0.636 -19.154  -5.440  0.00  0.00      P0   H\nATOM   2162  HD2 ILE A 159      -2.055 -19.620  -4.783  0.00  0.00      P0   H\nATOM   2163  HD3 ILE A 159      -0.649 -20.078  -4.094  0.00  0.00      P0   H\nATOM   2164  C   ILE A 159       1.498 -15.936  -1.895  0.00  1.00      P0   C\nATOM   2165  O   ILE A 159       1.674 -16.129  -0.686  0.00  1.00      P0   O\nATOM   2166  N   VAL A 160       2.450 -15.421  -2.675  0.00  1.00      P0   N\nATOM   2167  HN  VAL A 160       2.193 -15.313  -3.668  0.00  0.00      P0   H\nATOM   2168  CA  VAL A 160       3.749 -15.051  -2.122  0.00  4.52      P0   C\nATOM   2169  HA  VAL A 160       4.106 -15.836  -1.607  0.00  0.00      P0   H\nATOM   2170  CB  VAL A 160       4.741 -14.731  -3.255  0.00  0.00      P0   C\nATOM   2171  HB  VAL A 160       4.308 -14.069  -3.859  0.00  0.00      P0   H\nATOM   2172  CG1 VAL A 160       5.994 -14.073  -2.698  0.00  0.00      P0   C\nATOM   2173 HG11 VAL A 160       6.035 -14.215  -1.709  0.00  0.00      P0   H\nATOM   2174 HG12 VAL A 160       6.802 -14.479  -3.125  0.00  0.00      P0   H\nATOM   2175 HG13 VAL A 160       5.972 -13.092  -2.893  0.00  0.00      P0   H\nATOM   2176  CG2 VAL A 160       5.096 -15.999  -4.014  0.00  0.00      P0   C\nATOM   2177 HG21 VAL A 160       4.623 -16.001  -4.895  0.00  0.00      P0   H\nATOM   2178 HG22 VAL A 160       4.812 -16.795  -3.478  0.00  0.00      P0   H\nATOM   2179 HG23 VAL A 160       6.085 -16.029  -4.163  0.00  0.00      P0   H\nATOM   2180  C   VAL A 160       3.604 -13.881  -1.156  0.00  1.00      P0   C\nATOM   2181  O   VAL A 160       4.141 -13.903  -0.042  0.00  1.00      P0   O\nATOM   2182  N   SER A 161       2.871 -12.844  -1.565  0.00  1.00      P0   N\nATOM   2183  HN  SER A 161       2.471 -12.929  -2.507  0.00  0.00      P0   H\nATOM   2184  CA  SER A 161       2.680 -11.690  -0.693  0.00  4.53      P0   C\nATOM   2185  HA  SER A 161       3.588 -11.370  -0.396  0.00  0.00      P0   H\nATOM   2186  CB  SER A 161       1.983 -10.564  -1.454  0.00  0.00      P0   C\nATOM   2187  HB1 SER A 161       2.537 -10.320  -2.244  0.00  0.00      P0   H\nATOM   2188  HB2 SER A 161       1.884  -9.779  -0.849  0.00  0.00      P0   H\nATOM   2189  OG  SER A 161       0.701 -10.970  -1.898  0.00  0.00      P0   O\nATOM   2190  HG1 SER A 161       0.792 -11.495  -2.744  0.00  0.00      P0   H\nATOM   2191  C   SER A 161       1.886 -12.066   0.552  0.00  1.00      P0   C\nATOM   2192  O   SER A 161       2.165 -11.566   1.649  0.00  1.00      P0   O\nATOM   2193  N   GLY A 162       0.893 -12.946   0.404  0.00  1.00      P0   N\nATOM   2194  HN  GLY A 162       0.735 -13.271  -0.559  0.00  0.00      P0   H\nATOM   2195  CA  GLY A 162       0.121 -13.381   1.555  0.00  4.54      P0   C\nATOM   2196  HA1 GLY A 162      -0.671 -13.936   1.236  0.00  0.00      P0   H\nATOM   2197  HA2 GLY A 162      -0.268 -12.566   2.026  0.00  0.00      P0   H\nATOM   2198  C   GLY A 162       0.929 -14.191   2.547  0.00  1.00      P0   C\nATOM   2199  O   GLY A 162       0.661 -14.151   3.751  0.00  1.00      P0   O\nATOM   2200  N   LEU A 163       1.926 -14.936   2.063  0.00  1.00      P0   N\nATOM   2201  HN  LEU A 163       2.024 -14.928   1.039  0.00  0.00      P0   H\nATOM   2202  CA  LEU A 163       2.788 -15.691   2.965  0.00  4.55      P0   C\nATOM   2203  HA  LEU A 163       2.207 -16.166   3.641  0.00  0.00      P0   H\nATOM   2204  CB  LEU A 163       3.558 -16.760   2.189  0.00  0.00      P0   C\nATOM   2205  HB1 LEU A 163       4.484 -16.798   2.557  0.00  0.00      P0   H\nATOM   2206  HB2 LEU A 163       3.587 -16.480   1.230  0.00  0.00      P0   H\nATOM   2207  CG  LEU A 163       2.993 -18.183   2.229  0.00  0.00      P0   C\nATOM   2208  HG  LEU A 163       3.073 -18.536   3.165  0.00  0.00      P0   H\nATOM   2209  CD1 LEU A 163       1.533 -18.215   1.801  0.00  0.00      P0   C\nATOM   2210 HD11 LEU A 163       0.991 -17.642   2.417  0.00  0.00      P0   H\nATOM   2211 HD12 LEU A 163       1.194 -19.156   1.838  0.00  0.00      P0   H\nATOM   2212 HD13 LEU A 163       1.450 -17.869   0.866  0.00  0.00      P0   H\nATOM   2213  CD2 LEU A 163       3.829 -19.113   1.363  0.00  0.00      P0   C\nATOM   2214 HD21 LEU A 163       3.819 -18.788   0.417  0.00  0.00      P0   H\nATOM   2215 HD22 LEU A 163       4.770 -19.129   1.700  0.00  0.00      P0   H\nATOM   2216 HD23 LEU A 163       3.448 -20.037   1.399  0.00  0.00      P0   H\nATOM   2217  C   LEU A 163       3.751 -14.781   3.715  0.00  1.00      P0   C\nATOM   2218  O   LEU A 163       4.089 -15.057   4.871  0.00  1.00      P0   O\nATOM   2219  N   THR A 164       4.199 -13.697   3.083  0.00  1.00      P0   N\nATOM   2220  HN  THR A 164       3.868 -13.607   2.096  0.00  0.00      P0   H\nATOM   2221  CA  THR A 164       5.075 -12.727   3.723  0.00  4.56      P0   C\nATOM   2222  HA  THR A 164       5.646 -13.211   4.406  0.00  0.00      P0   H\nATOM   2223  CB  THR A 164       6.025 -12.113   2.692  0.00  0.00      P0   C\nATOM   2224  HB  THR A 164       6.619 -11.423   3.156  0.00  0.00      P0   H\nATOM   2225  OG1 THR A 164       5.268 -11.436   1.680  0.00  0.00      P0   O\nATOM   2226  HG1 THR A 164       4.283 -11.566   1.836  0.00  0.00      P0   H\nATOM   2227  CG2 THR A 164       6.874 -13.193   2.043  0.00  0.00      P0   C\nATOM   2228 HG21 THR A 164       7.257 -13.796   2.748  0.00  0.00      P0   H\nATOM   2229 HG22 THR A 164       7.625 -12.773   1.527  0.00  0.00      P0   H\nATOM   2230 HG23 THR A 164       6.311 -13.739   1.416  0.00  0.00      P0   H\nATOM   2231  C   THR A 164       4.301 -11.628   4.442  0.00  1.00      P0   C\nATOM   2232  O   THR A 164       4.879 -10.581   4.762  0.00  1.00      P0   O\nATOM   2233  N   SER A 165       3.012 -11.842   4.704  0.00  1.00      P0   N\nATOM   2234  HN  SER A 165       2.651 -12.761   4.382  0.00  0.00      P0   H\nATOM   2235  CA  SER A 165       2.194 -10.849   5.388  0.00  4.57      P0   C\nATOM   2236  HA  SER A 165       2.809 -10.160   5.790  0.00  0.00      P0   H\nATOM   2237  CB  SER A 165       1.248 -10.162   4.401  0.00  0.00      P0   C\nATOM   2238  HB1 SER A 165       0.725  -9.468   4.888  0.00  0.00      P0   H\nATOM   2239  HB2 SER A 165       0.636 -10.846   4.015  0.00  0.00      P0   H\nATOM   2240  OG  SER A 165       1.969  -9.542   3.351  0.00  0.00      P0   O\nATOM   2241  HG1 SER A 165       2.101 -10.195   2.607  0.00  0.00      P0   H\nATOM   2242  C   SER A 165       1.403 -11.487   6.522  0.00  1.00      P0   C\nATOM   2243  O   SER A 165       1.513 -11.069   7.678  0.00  1.00      P0   O\nATOM   2244  N   PHE A 166       0.603 -12.506   6.198  0.00  1.00      P0   N\nATOM   2245  HN  PHE A 166       0.613 -12.776   5.204  0.00  0.00      P0   H\nATOM   2246  CA  PHE A 166      -0.213 -13.161   7.216  0.00  4.58      P0   C\nATOM   2247  HA  PHE A 166      -0.618 -12.433   7.781  0.00  0.00      P0   H\nATOM   2248  CB  PHE A 166      -1.298 -14.006   6.551  0.00  0.00      P0   C\nATOM   2249  HB1 PHE A 166      -1.615 -14.668   7.214  0.00  0.00      P0   H\nATOM   2250  HB2 PHE A 166      -0.896 -14.451   5.764  0.00  0.00      P0   H\nATOM   2251  CG  PHE A 166      -2.479 -13.211   6.083  0.00  0.00      P0   C\nATOM   2252  CD1 PHE A 166      -2.415 -12.476   4.913  0.00  0.00      P0   C\nATOM   2253  HD1 PHE A 166      -1.576 -12.474   4.372  0.00  0.00      P0   H\nATOM   2254  CE1 PHE A 166      -3.502 -11.742   4.481  0.00  0.00      P0   C\nATOM   2255  HE1 PHE A 166      -3.437 -11.208   3.627  0.00  0.00      P0   H\nATOM   2256  CZ  PHE A 166      -4.669 -11.739   5.219  0.00  0.00      P0   C\nATOM   2257  HZ  PHE A 166      -5.457 -11.206   4.904  0.00  0.00      P0   H\nATOM   2258  CD2 PHE A 166      -3.655 -13.201   6.814  0.00  0.00      P0   C\nATOM   2259  HD2 PHE A 166      -3.714 -13.731   7.663  0.00  0.00      P0   H\nATOM   2260  CE2 PHE A 166      -4.746 -12.470   6.388  0.00  0.00      P0   C\nATOM   2261  HE2 PHE A 166      -5.599 -12.473   6.937  0.00  0.00      P0   H\nATOM   2262  C   PHE A 166       0.639 -14.018   8.146  0.00  1.00      P0   C\nATOM   2263  O   PHE A 166       0.528 -13.914   9.373  0.00  1.00      P0   O\nATOM   2264  N   LEU A 167       1.486 -14.879   7.579  0.00  1.00      P0   N\nATOM   2265  HN  LEU A 167       1.517 -14.857   6.552  0.00  0.00      P0   H\nATOM   2266  CA  LEU A 167       2.294 -15.774   8.406  0.00  4.59      P0   C\nATOM   2267  HA  LEU A 167       1.668 -16.393   8.912  0.00  0.00      P0   H\nATOM   2268  CB  LEU A 167       3.146 -16.683   7.511  0.00  0.00      P0   C\nATOM   2269  HB1 LEU A 167       3.805 -17.152   8.094  0.00  0.00      P0   H\nATOM   2270  HB2 LEU A 167       3.625 -16.101   6.856  0.00  0.00      P0   H\nATOM   2271  CG  LEU A 167       2.400 -17.751   6.712  0.00  0.00      P0   C\nATOM   2272  HG  LEU A 167       1.760 -17.304   6.090  0.00  0.00      P0   H\nATOM   2273  CD1 LEU A 167       3.384 -18.587   5.914  0.00  0.00      P0   C\nATOM   2274 HD11 LEU A 167       3.889 -17.999   5.281  0.00  0.00      P0   H\nATOM   2275 HD12 LEU A 167       2.889 -19.284   5.393  0.00  0.00      P0   H\nATOM   2276 HD13 LEU A 167       4.029 -19.034   6.536  0.00  0.00      P0   H\nATOM   2277  CD2 LEU A 167       1.573 -18.630   7.638  0.00  0.00      P0   C\nATOM   2278 HD21 LEU A 167       2.174 -19.080   8.298  0.00  0.00      P0   H\nATOM   2279 HD22 LEU A 167       0.906 -18.067   8.126  0.00  0.00      P0   H\nATOM   2280 HD23 LEU A 167       1.091 -19.323   7.101  0.00  0.00      P0   H\nATOM   2281  C   LEU A 167       3.166 -15.041   9.420  0.00  1.00      P0   C\nATOM   2282  O   LEU A 167       3.232 -15.500  10.574  0.00  1.00      P0   O\nATOM   2283  N   PRO A 168       3.849 -13.938   9.090  0.00  1.00      P0   N\nATOM   2284  CD  PRO A 168       4.144 -13.396   7.750  0.00  0.00      P0   C\nATOM   2285  HD1 PRO A 168       4.257 -14.141   7.090  0.00  0.00      P0   H\nATOM   2286  HD2 PRO A 168       3.405 -12.795   7.448  0.00  0.00      P0   H\nATOM   2287  CA  PRO A 168       4.568 -13.197  10.137  0.00  4.60      P0   C\nATOM   2288  HA  PRO A 168       5.262 -13.798  10.579  0.00  0.00      P0   H\nATOM   2289  CB  PRO A 168       5.325 -12.118   9.352  0.00  0.00      P0   C\nATOM   2290  HB1 PRO A 168       6.238 -11.973   9.746  0.00  0.00      P0   H\nATOM   2291  HB2 PRO A 168       4.822 -11.248   9.377  0.00  0.00      P0   H\nATOM   2292  CG  PRO A 168       5.416 -12.647   7.965  0.00  0.00      P0   C\nATOM   2293  HG1 PRO A 168       6.214 -13.252   7.870  0.00  0.00      P0   H\nATOM   2294  HG2 PRO A 168       5.508 -11.893   7.305  0.00  0.00      P0   H\nATOM   2295  C   PRO A 168       3.653 -12.575  11.181  0.00  1.00      P0   C\nATOM   2296  O   PRO A 168       4.103 -12.333  12.308  0.00  1.00      P0   O\nATOM   2297  N   ILE A 169       2.393 -12.308  10.847  0.00  1.00      P0   N\nATOM   2298  HN  ILE A 169       2.135 -12.571   9.876  0.00  0.00      P0   H\nATOM   2299  CA  ILE A 169       1.462 -11.693  11.788  0.00  4.61      P0   C\nATOM   2300  HA  ILE A 169       2.028 -11.229  12.480  0.00  0.00      P0   H\nATOM   2301  CB  ILE A 169       0.554 -10.685  11.050  0.00  0.00      P0   C\nATOM   2302  HB  ILE A 169       0.150 -11.152  10.272  0.00  0.00      P0   H\nATOM   2303  CG2 ILE A 169      -0.558 -10.189  11.967  0.00  0.00      P0   C\nATOM   2304 HG21 ILE A 169      -1.079 -10.974  12.296  0.00  0.00      P0   H\nATOM   2305 HG22 ILE A 169      -1.152  -9.575  11.452  0.00  0.00      P0   H\nATOM   2306 HG23 ILE A 169      -0.149  -9.703  12.737  0.00  0.00      P0   H\nATOM   2307  CG1 ILE A 169       1.377  -9.508  10.526  0.00  0.00      P0   C\nATOM   2308 HG11 ILE A 169       2.064  -9.865   9.894  0.00  0.00      P0   H\nATOM   2309 HG12 ILE A 169       1.845  -9.081  11.297  0.00  0.00      P0   H\nATOM   2310  CD  ILE A 169       0.553  -8.461   9.809  0.00  0.00      P0   C\nATOM   2311  HD1 ILE A 169       0.096  -8.879   9.025  0.00  0.00      P0   H\nATOM   2312  HD2 ILE A 169       1.152  -7.726   9.495  0.00  0.00      P0   H\nATOM   2313  HD3 ILE A 169      -0.131  -8.091  10.435  0.00  0.00      P0   H\nATOM   2314  C   ILE A 169       0.643 -12.742  12.526  0.00  1.00      P0   C\nATOM   2315  O   ILE A 169       0.538 -12.709  13.755  0.00  1.00      P0   O\nATOM   2316  N   GLN A 170       0.048 -13.686  11.791  0.00  1.00      P0   N\nATOM   2317  HN  GLN A 170       0.245 -13.649  10.782  0.00  0.00      P0   H\nATOM   2318  CA  GLN A 170      -0.814 -14.681  12.424  0.00  4.62      P0   C\nATOM   2319  HA  GLN A 170      -1.507 -14.189  12.969  0.00  0.00      P0   H\nATOM   2320  CB  GLN A 170      -1.527 -15.515  11.358  0.00  0.00      P0   C\nATOM   2321  HB1 GLN A 170      -2.059 -16.234  11.814  0.00  0.00      P0   H\nATOM   2322  HB2 GLN A 170      -0.837 -15.943  10.769  0.00  0.00      P0   H\nATOM   2323  CG  GLN A 170      -2.474 -14.718  10.472  0.00  0.00      P0   C\nATOM   2324  HG1 GLN A 170      -2.773 -15.301   9.717  0.00  0.00      P0   H\nATOM   2325  HG2 GLN A 170      -1.983 -13.927  10.109  0.00  0.00      P0   H\nATOM   2326  CD  GLN A 170      -3.701 -14.223  11.217  0.00  0.00      P0   C\nATOM   2327  OE1 GLN A 170      -4.281 -13.196  10.866  0.00  0.00      P0   O\nATOM   2328  NE2 GLN A 170      -4.109 -14.959  12.245  0.00  0.00      P0   N\nATOM   2329 HE21 GLN A 170      -4.917 -14.682  12.800  0.00  0.00      P0   H\nATOM   2330 HE22 GLN A 170      -3.592 -15.810  12.463  0.00  0.00      P0   H\nATOM   2331  C   GLN A 170      -0.034 -15.583  13.370  0.00  1.00      P0   C\nATOM   2332  O   GLN A 170      -0.572 -16.022  14.393  0.00  1.00      P0   O\nATOM   2333  N   MET A 171       1.228 -15.867  13.052  0.00  1.00      P0   N\nATOM   2334  HN  MET A 171       1.538 -15.480  12.134  0.00  0.00      P0   H\nATOM   2335  CA  MET A 171       2.093 -16.653  13.920  0.00  4.63      P0   C\nATOM   2336  HA  MET A 171       1.524 -17.351  14.384  0.00  0.00      P0   H\nATOM   2337  CB  MET A 171       3.153 -17.383  13.089  0.00  0.00      P0   C\nATOM   2338  HB1 MET A 171       3.783 -17.864  13.713  0.00  0.00      P0   H\nATOM   2339  HB2 MET A 171       3.686 -16.703  12.569  0.00  0.00      P0   H\nATOM   2340  CG  MET A 171       2.584 -18.399  12.107  0.00  0.00      P0   C\nATOM   2341  HG1 MET A 171       3.357 -18.779  11.549  0.00  0.00      P0   H\nATOM   2342  HG2 MET A 171       1.986 -17.901  11.438  0.00  0.00      P0   H\nATOM   2343  SD  MET A 171       1.669 -19.727  12.917  0.00  0.00      P0   S\nATOM   2344  CE  MET A 171       2.946 -20.442  13.951  0.00  0.00      P0   C\nATOM   2345  HE1 MET A 171       3.362 -19.727  14.513  0.00  0.00      P0   H\nATOM   2346  HE2 MET A 171       2.544 -21.140  14.545  0.00  0.00      P0   H\nATOM   2347  HE3 MET A 171       3.649 -20.861  13.374  0.00  0.00      P0   H\nATOM   2348  C   MET A 171       2.766 -15.810  14.997  0.00  1.00      P0   C\nATOM   2349  O   MET A 171       3.609 -16.329  15.737  0.00  1.00      P0   O\nATOM   2350  N   HIS A 172       2.415 -14.525  15.094  0.00  1.00      P0   N\nATOM   2351  HN  HIS A 172       1.751 -14.208  14.349  0.00  0.00      P0   H\nATOM   2352  CA  HIS A 172       2.910 -13.634  16.144  0.00  4.64      P0   C\nATOM   2353  HA  HIS A 172       2.513 -12.720  15.999  0.00  0.00      P0   H\nATOM   2354  CB  HIS A 172       2.437 -14.098  17.526  0.00  0.00      P0   C\nATOM   2355  HB1 HIS A 172       2.868 -13.520  18.228  0.00  0.00      P0   H\nATOM   2356  HB2 HIS A 172       2.733 -15.049  17.670  0.00  0.00      P0   H\nATOM   2357  ND1 HIS A 172       0.098 -13.611  16.714  0.00  0.00      P0   N\nATOM   2358  HD1 HIS A 172       0.378 -13.316  15.801  0.00  0.00      P0   H\nATOM   2359  CG  HIS A 172       0.953 -14.033  17.709  0.00  0.00      P0   C\nATOM   2360  CE1 HIS A 172      -1.147 -13.658  17.156  0.00  0.00      P0   C\nATOM   2361  HE1 HIS A 172      -1.959 -13.405  16.639  0.00  0.00      P0   H\nATOM   2362  NE2 HIS A 172      -1.129 -14.097  18.402  0.00  0.00      P0   N\nATOM   2363  CD2 HIS A 172       0.171 -14.339  18.772  0.00  0.00      P0   C\nATOM   2364  HD2 HIS A 172       0.479 -14.677  19.657  0.00  0.00      P0   H\nATOM   2365  C   HIS A 172       4.433 -13.506  16.096  0.00  1.00      P0   C\nATOM   2366  O   HIS A 172       5.124 -13.607  17.112  0.00  1.00      P0   O\nATOM   2367  N   TRP A 173       4.956 -13.283  14.892  0.00  1.00      P0   N\nATOM   2368  HN  TRP A 173       4.279 -13.345  14.106  0.00  0.00      P0   H\nATOM   2369  CA  TRP A 173       6.369 -12.978  14.714  0.00  0.00      P0   C\nATOM   2370  HA  TRP A 173       6.877 -13.418  15.472  0.00  0.00      P0   H\nATOM   2371  CB  TRP A 173       6.871 -13.539  13.379  0.00  0.00      P0   C\nATOM   2372  HB1 TRP A 173       7.827 -13.294  13.266  0.00  0.00      P0   H\nATOM   2373  HB2 TRP A 173       6.324 -13.156  12.644  0.00  0.00      P0   H\nATOM   2374  CG  TRP A 173       6.778 -15.033  13.274  0.00  0.00      P0   C\nATOM   2375  CD1 TRP A 173       6.458 -15.909  14.270  0.00  0.00      P0   C\nATOM   2376  HD1 TRP A 173       6.244 -15.653  15.212  0.00  0.00      P0   H\nATOM   2377  NE1 TRP A 173       6.473 -17.196  13.792  0.00  0.00      P0   N\nATOM   2378  HE1 TRP A 173       6.275 -18.018  14.325  0.00  0.00      P0   H\nATOM   2379  CE2 TRP A 173       6.805 -17.172  12.463  0.00  0.00      P0   C\nATOM   2380  CD2 TRP A 173       7.004 -15.825  12.102  0.00  0.00      P0   C\nATOM   2381  CE3 TRP A 173       7.356 -15.525  10.782  0.00  0.00      P0   C\nATOM   2382  HE3 TRP A 173       7.503 -14.583  10.492  0.00  0.00      P0   H\nATOM   2383  CZ3 TRP A 173       7.496 -16.565   9.880  0.00  0.00      P0   C\nATOM   2384  HZ3 TRP A 173       7.747 -16.360   8.938  0.00  0.00      P0   H\nATOM   2385  CZ2 TRP A 173       6.947 -18.218  11.554  0.00  0.00      P0   C\nATOM   2386  HZ2 TRP A 173       6.799 -19.167  11.846  0.00  0.00      P0   H\nATOM   2387  CH2 TRP A 173       7.291 -17.894  10.270  0.00  0.00      P0   C\nATOM   2388  HH2 TRP A 173       7.402 -18.617   9.585  0.00  0.00      P0   H\nATOM   2389  C   TRP A 173       6.657 -11.483  14.780  0.00  1.00      P0   C\nATOM   2390  O   TRP A 173       7.827 -11.096  14.877  0.00  1.00      P0   O\nATOM   2391  N   TYR A 174       5.622 -10.644  14.737  0.00  1.00      P0   N\nATOM   2392  HN  TYR A 174       4.693 -11.114  14.639  0.00  0.00      P0   H\nATOM   2393  CA  TYR A 174       5.778  -9.198  14.820  0.00  0.00      P0   C\nATOM   2394  HA  TYR A 174       6.665  -8.950  14.390  0.00  0.00      P0   H\nATOM   2395  CB  TYR A 174       4.647  -8.503  14.055  0.00  0.00      P0   C\nATOM   2396  HB1 TYR A 174       4.576  -8.920  13.155  0.00  0.00      P0   H\nATOM   2397  HB2 TYR A 174       4.874  -7.538  13.970  0.00  0.00      P0   H\nATOM   2398  CG  TYR A 174       3.298  -8.616  14.736  0.00  0.00      P0   C\nATOM   2399  CD1 TYR A 174       2.546  -9.783  14.647  0.00  0.00      P0   C\nATOM   2400  HD1 TYR A 174       2.901 -10.560  14.121  0.00  0.00      P0   H\nATOM   2401  CE1 TYR A 174       1.315  -9.892  15.271  0.00  0.00      P0   C\nATOM   2402  HE1 TYR A 174       0.788 -10.741  15.200  0.00  0.00      P0   H\nATOM   2403  CZ  TYR A 174       0.820  -8.825  15.995  0.00  0.00      P0   C\nATOM   2404  OH  TYR A 174      -0.403  -8.920  16.620  0.00  0.00      P0   O\nATOM   2405  HH  TYR A 174      -0.997  -9.521  16.087  0.00  0.00      P0   H\nATOM   2406  CD2 TYR A 174       2.776  -7.558  15.470  0.00  0.00      P0   C\nATOM   2407  HD2 TYR A 174       3.300  -6.710  15.545  0.00  0.00      P0   H\nATOM   2408  CE2 TYR A 174       1.547  -7.658  16.097  0.00  0.00      P0   C\nATOM   2409  HE2 TYR A 174       1.187  -6.885  16.623  0.00  0.00      P0   H\nATOM   2410  C   TYR A 174       5.789  -8.681  16.251  0.00  1.00      P0   C\nATOM   2411  O   TYR A 174       6.197  -7.536  16.476  0.00  1.00      P0   O\nATOM   2412  N   ARG A 175       5.348  -9.491  17.211  0.00  1.00      P0   N\nATOM   2413  HN  ARG A 175       5.156 -10.464  16.905  0.00  0.00      P0   H\nATOM   2414  CA  ARG A 175       5.159  -9.023  18.577  0.00  0.00      P0   C\nATOM   2415  HA  ARG A 175       4.498  -8.263  18.573  0.00  0.00      P0   H\nATOM   2416  CB  ARG A 175       4.586 -10.146  19.439  0.00  0.00      P0   C\nATOM   2417  HB1 ARG A 175       4.237  -9.748  20.280  0.00  0.00      P0   H\nATOM   2418  HB2 ARG A 175       5.317 -10.791  19.638  0.00  0.00      P0   H\nATOM   2419  CG  ARG A 175       3.453 -10.908  18.771  0.00  0.00      P0   C\nATOM   2420  HG1 ARG A 175       3.427 -11.843  19.125  0.00  0.00      P0   H\nATOM   2421  HG2 ARG A 175       3.604 -10.931  17.783  0.00  0.00      P0   H\nATOM   2422  CD  ARG A 175       2.096 -10.270  19.026  0.00  0.00      P0   C\nATOM   2423  HD1 ARG A 175       1.492 -10.520  18.276  0.00  0.00      P0   H\nATOM   2424  HD2 ARG A 175       2.219  -9.283  19.056  0.00  0.00      P0   H\nATOM   2425  NE  ARG A 175       1.515 -10.724  20.287  0.00  0.00      P0   N\nATOM   2426  HE  ARG A 175       2.135 -11.101  20.983  0.00  0.00      P0   H\nATOM   2427  CZ  ARG A 175       0.218 -10.669  20.572  0.00  0.00      P0   C\nATOM   2428  NH1 ARG A 175      -0.637 -10.184  19.682  0.00  0.00      P0   N\nATOM   2429 HH11 ARG A 175      -0.322  -9.877  18.790  0.00  0.00      P0   H\nATOM   2430 HH12 ARG A 175      -1.619 -10.130  19.916  0.00  0.00      P0   H\nATOM   2431  NH2 ARG A 175      -0.226 -11.107  21.742  0.00  0.00      P0   N\nATOM   2432 HH21 ARG A 175       0.418 -11.499  22.406  0.00  0.00      P0   H\nATOM   2433 HH22 ARG A 175      -1.195 -11.052  21.969  0.00  0.00      P0   H\nATOM   2434  C   ARG A 175       6.470  -8.521  19.170  0.00  1.00      P0   C\nATOM   2435  O   ARG A 175       7.553  -9.027  18.863  0.00  1.00      P0   O\nATOM   2436  N   ALA A 176       6.363  -7.509  20.026  0.00  1.00      P0   N\nATOM   2437  HN  ALA A 176       5.388  -7.171  20.175  0.00  0.00      P0   H\nATOM   2438  CA  ALA A 176       7.519  -6.931  20.691  0.00  0.00      P0   C\nATOM   2439  HA  ALA A 176       8.328  -7.059  20.114  0.00  0.00      P0   H\nATOM   2440  CB  ALA A 176       7.327  -5.428  20.874  0.00  0.00      P0   C\nATOM   2441  HB1 ALA A 176       7.636  -5.163  21.786  0.00  0.00      P0   H\nATOM   2442  HB2 ALA A 176       6.359  -5.203  20.771  0.00  0.00      P0   H\nATOM   2443  HB3 ALA A 176       7.859  -4.939  20.185  0.00  0.00      P0   H\nATOM   2444  C   ALA A 176       7.754  -7.650  22.020  0.00  1.00      P0   C\nATOM   2445  O   ALA A 176       7.121  -8.664  22.325  0.00  1.00      P0   O\nATOM   2446  N   THR A 177       8.678  -7.129  22.828  0.00  1.00      P0   N\nATOM   2447  HN  THR A 177       9.140  -6.272  22.459  0.00  0.00      P0   H\nATOM   2448  CA  THR A 177       9.002  -7.723  24.116  0.00  0.00      P0   C\nATOM   2449  HA  THR A 177       8.439  -8.567  24.230  0.00  0.00      P0   H\nATOM   2450  CB  THR A 177      10.479  -8.152  24.161  0.00  0.00      P0   C\nATOM   2451  HB  THR A 177      10.666  -8.593  25.062  0.00  0.00      P0   H\nATOM   2452  OG1 THR A 177      11.318  -6.997  24.045  0.00  0.00      P0   O\nATOM   2453  HG1 THR A 177      11.172  -6.545  23.159  0.00  0.00      P0   H\nATOM   2454  CG2 THR A 177      10.791  -9.116  23.026  0.00  0.00      P0   C\nATOM   2455 HG21 THR A 177       9.979  -9.665  22.812  0.00  0.00      P0   H\nATOM   2456 HG22 THR A 177      11.539  -9.728  23.295  0.00  0.00      P0   H\nATOM   2457 HG23 THR A 177      11.065  -8.603  22.208  0.00  0.00      P0   H\nATOM   2458  C   THR A 177       8.733  -6.813  25.304  0.00  1.00      P0   C\nATOM   2459  O   THR A 177       8.567  -7.322  26.417  0.00  1.00      P0   O\nATOM   2460  N   HIS A 178       8.681  -5.499  25.107  0.00  1.00      P0   N\nATOM   2461  HN  HIS A 178       8.760  -5.052  24.217  0.00  0.00      P0   H\nATOM   2462  CA  HIS A 178       8.497  -4.586  26.223  0.00  0.00      P0   C\nATOM   2463  HA  HIS A 178       9.137  -4.839  26.956  0.00  0.00      P0   H\nATOM   2464  CB  HIS A 178       8.804  -3.148  25.800  0.00  0.00      P0   C\nATOM   2465  HB1 HIS A 178       9.754  -3.143  25.489  0.00  0.00      P0   H\nATOM   2466  HB2 HIS A 178       8.657  -2.537  26.587  0.00  0.00      P0   H\nATOM   2467  ND1 HIS A 178       8.327  -2.835  23.341  0.00  0.00      P0   N\nATOM   2468  CG  HIS A 178       7.969  -2.656  24.660  0.00  0.00      P0   C\nATOM   2469  CE1 HIS A 178       7.408  -2.296  22.560  0.00  0.00      P0   C\nATOM   2470  HE1 HIS A 178       7.422  -2.286  21.563  0.00  0.00      P0   H\nATOM   2471  NE2 HIS A 178       6.468  -1.772  23.323  0.00  0.00      P0   N\nATOM   2472  HE2 HIS A 178       5.661  -1.284  22.990  0.00  0.00      P0   H\nATOM   2473  CD2 HIS A 178       6.795  -1.981  24.641  0.00  0.00      P0   C\nATOM   2474  HD2 HIS A 178       6.183  -1.632  25.461  0.00  0.00      P0   H\nATOM   2475  C   HIS A 178       7.078  -4.688  26.777  0.00  1.00      P0   C\nATOM   2476  O   HIS A 178       6.158  -5.193  26.125  0.00  1.00      P0   O\nATOM   2477  N   GLN A 179       6.913  -4.194  28.006  0.00  1.00      P0   N\nATOM   2478  HN  GLN A 179       7.731  -3.704  28.396  0.00  0.00      P0   H\nATOM   2479  CA  GLN A 179       5.647  -4.360  28.714  0.00  0.00      P0   C\nATOM   2480  HA  GLN A 179       5.396  -5.339  28.674  0.00  0.00      P0   H\nATOM   2481  CB  GLN A 179       5.811  -3.948  30.178  0.00  0.00      P0   C\nATOM   2482  HB1 GLN A 179       5.998  -2.963  30.215  0.00  0.00      P0   H\nATOM   2483  HB2 GLN A 179       6.593  -4.443  30.564  0.00  0.00      P0   H\nATOM   2484  CG  GLN A 179       4.597  -4.231  31.044  0.00  0.00      P0   C\nATOM   2485  HG1 GLN A 179       3.793  -3.817  30.617  0.00  0.00      P0   H\nATOM   2486  HG2 GLN A 179       4.743  -3.822  31.946  0.00  0.00      P0   H\nATOM   2487  CD  GLN A 179       4.340  -5.714  31.224  0.00  0.00      P0   C\nATOM   2488  OE1 GLN A 179       3.211  -6.136  31.474  0.00  0.00      P0   O\nATOM   2489  NE2 GLN A 179       5.392  -6.516  31.101  0.00  0.00      P0   N\nATOM   2490 HE21 GLN A 179       5.299  -7.523  31.222  0.00  0.00      P0   H\nATOM   2491 HE22 GLN A 179       6.294  -6.098  30.880  0.00  0.00      P0   H\nATOM   2492  C   GLN A 179       4.521  -3.565  28.063  0.00  1.00      P0   C\nATOM   2493  O   GLN A 179       3.364  -3.998  28.092  0.00  1.00      P0   O\nATOM   2494  N   GLU A 180       4.837  -2.408  27.478  0.00  1.00      P0   N\nATOM   2495  HN  GLU A 180       5.833  -2.155  27.509  0.00  0.00      P0   H\nATOM   2496  CA  GLU A 180       3.802  -1.593  26.849  0.00  0.00      P0   C\nATOM   2497  HA  GLU A 180       3.098  -1.353  27.533  0.00  0.00      P0   H\nATOM   2498  CB  GLU A 180       4.399  -0.261  26.391  0.00  0.00      P0   C\nATOM   2499  HB1 GLU A 180       5.099  -0.458  25.728  0.00  0.00      P0   H\nATOM   2500  HB2 GLU A 180       4.764   0.192  27.187  0.00  0.00      P0   H\nATOM   2501  CG  GLU A 180       3.401   0.684  25.742  0.00  0.00      P0   C\nATOM   2502  HG1 GLU A 180       2.722   0.924  26.410  0.00  0.00      P0   H\nATOM   2503  HG2 GLU A 180       3.015   0.233  24.959  0.00  0.00      P0   H\nATOM   2504  CD  GLU A 180       4.045   1.968  25.261  0.00  0.00      P0   C\nATOM   2505  OE1 GLU A 180       5.274   2.120  25.435  0.00  0.00      P0   O\nATOM   2506  OE2 GLU A 180       3.325   2.827  24.709  0.00  0.00      P0   O\nATOM   2507  C   GLU A 180       3.147  -2.317  25.679  0.00  1.00      P0   C\nATOM   2508  O   GLU A 180       1.949  -2.137  25.430  0.00  1.00      P0   O\nATOM   2509  N   ALA A 181       3.906  -3.147  24.960  0.00  1.00      P0   N\nATOM   2510  HN  ALA A 181       4.887  -3.217  25.257  0.00  0.00      P0   H\nATOM   2511  CA  ALA A 181       3.332  -3.883  23.838  0.00  0.00      P0   C\nATOM   2512  HA  ALA A 181       2.758  -3.254  23.298  0.00  0.00      P0   H\nATOM   2513  CB  ALA A 181       4.441  -4.393  22.919  0.00  0.00      P0   C\nATOM   2514  HB1 ALA A 181       4.562  -3.755  22.160  0.00  0.00      P0   H\nATOM   2515  HB2 ALA A 181       4.190  -5.292  22.564  0.00  0.00      P0   H\nATOM   2516  HB3 ALA A 181       5.293  -4.463  23.436  0.00  0.00      P0   H\nATOM   2517  C   ALA A 181       2.465  -5.039  24.319  0.00  1.00      P0   C\nATOM   2518  O   ALA A 181       1.395  -5.295  23.756  0.00  1.00      P0   O\nATOM   2519  N   ILE A 182       2.911  -5.750  25.358  0.00  1.00      P0   N\nATOM   2520  HN  ILE A 182       3.823  -5.451  25.736  0.00  0.00      P0   H\nATOM   2521  CA  ILE A 182       2.133  -6.865  25.890  0.00  0.00      P0   C\nATOM   2522  HA  ILE A 182       1.928  -7.462  25.110  0.00  0.00      P0   H\nATOM   2523  CB  ILE A 182       2.938  -7.608  26.972  0.00  0.00      P0   C\nATOM   2524  HB  ILE A 182       3.074  -6.985  27.735  0.00  0.00      P0   H\nATOM   2525  CG2 ILE A 182       2.179  -8.833  27.458  0.00  0.00      P0   C\nATOM   2526 HG21 ILE A 182       1.287  -8.546  27.803  0.00  0.00      P0   H\nATOM   2527 HG22 ILE A 182       2.703  -9.270  28.188  0.00  0.00      P0   H\nATOM   2528 HG23 ILE A 182       2.063  -9.466  26.695  0.00  0.00      P0   H\nATOM   2529  CG1 ILE A 182       4.313  -8.007  26.435  0.00  0.00      P0   C\nATOM   2530 HG11 ILE A 182       4.781  -7.179  26.128  0.00  0.00      P0   H\nATOM   2531 HG12 ILE A 182       4.182  -8.609  25.649  0.00  0.00      P0   H\nATOM   2532  CD  ILE A 182       5.182  -8.708  27.453  0.00  0.00      P0   C\nATOM   2533  HD1 ILE A 182       5.332  -8.104  28.235  0.00  0.00      P0   H\nATOM   2534  HD2 ILE A 182       6.061  -8.939  27.036  0.00  0.00      P0   H\nATOM   2535  HD3 ILE A 182       4.728  -9.544  27.759  0.00  0.00      P0   H\nATOM   2536  C   ILE A 182       0.795  -6.373  26.426  0.00  1.00      P0   C\nATOM   2537  O   ILE A 182      -0.241  -7.027  26.253  0.00  1.00      P0   O\nATOM   2538  N   ASN A 183       0.794  -5.209  27.080  0.00  1.00      P0   N\nATOM   2539  HN  ASN A 183       1.713  -4.759  27.180  0.00  0.00      P0   H\nATOM   2540  CA  ASN A 183      -0.452  -4.656  27.599  0.00  0.00      P0   C\nATOM   2541  HA  ASN A 183      -0.936  -5.405  28.072  0.00  0.00      P0   H\nATOM   2542  CB  ASN A 183      -0.156  -3.517  28.574  0.00  0.00      P0   C\nATOM   2543  HB1 ASN A 183      -1.022  -3.123  28.870  0.00  0.00      P0   H\nATOM   2544  HB2 ASN A 183       0.389  -2.830  28.101  0.00  0.00      P0   H\nATOM   2545  CG  ASN A 183       0.609  -3.981  29.799  0.00  0.00      P0   C\nATOM   2546  OD1 ASN A 183       0.680  -3.276  30.806  0.00  0.00      P0   O\nATOM   2547  ND2 ASN A 183       1.184  -5.174  29.720  0.00  0.00      P0   N\nATOM   2548 HD21 ASN A 183       1.105  -5.714  28.880  0.00  0.00      P0   H\nATOM   2549 HD22 ASN A 183       1.699  -5.538  30.497  0.00  0.00      P0   H\nATOM   2550  C   ASN A 183      -1.364  -4.176  26.477  0.00  1.00      P0   C\nATOM   2551  O   ASN A 183      -2.588  -4.141  26.648  0.00  1.00      P0   O\nATOM   2552  N   CYS A 184      -0.796  -3.802  25.329  0.00  1.00      P0   N\nATOM   2553  HN  CYS A 184       0.233  -3.810  25.325  0.00  0.00      P0   H\nATOM   2554  CA  CYS A 184      -1.618  -3.419  24.188  0.00  0.00      P0   C\nATOM   2555  HA  CYS A 184      -2.430  -2.927  24.535  0.00  0.00      P0   H\nATOM   2556  CB  CYS A 184      -0.841  -2.473  23.270  0.00  0.00      P0   C\nATOM   2557  HB1 CYS A 184      -0.032  -2.958  22.938  0.00  0.00      P0   H\nATOM   2558  HB2 CYS A 184      -0.558  -1.680  23.809  0.00  0.00      P0   H\nATOM   2559  SG  CYS A 184      -1.772  -1.875  21.831  0.00  0.00      P0   S\nATOM   2560  C   CYS A 184      -2.102  -4.632  23.403  0.00  1.00      P0   C\nATOM   2561  O   CYS A 184      -3.168  -4.577  22.781  0.00  1.00      P0   O\nATOM   2562  N   TYR A 185      -1.339  -5.727  23.417  0.00  1.00      P0   N\nATOM   2563  HN  TYR A 185      -0.451  -5.641  23.926  0.00  0.00      P0   H\nATOM   2564  CA  TYR A 185      -1.782  -6.942  22.739  0.00  0.00      P0   C\nATOM   2565  HA  TYR A 185      -2.095  -6.691  21.814  0.00  0.00      P0   H\nATOM   2566  CB  TYR A 185      -0.619  -7.925  22.608  0.00  0.00      P0   C\nATOM   2567  HB1 TYR A 185      -0.967  -8.768  22.198  0.00  0.00      P0   H\nATOM   2568  HB2 TYR A 185      -0.267  -8.117  23.523  0.00  0.00      P0   H\nATOM   2569  CG  TYR A 185       0.526  -7.425  21.757  0.00  0.00      P0   C\nATOM   2570  CD1 TYR A 185       0.313  -6.506  20.738  0.00  0.00      P0   C\nATOM   2571  HD1 TYR A 185      -0.614  -6.168  20.563  0.00  0.00      P0   H\nATOM   2572  CE1 TYR A 185       1.360  -6.047  19.959  0.00  0.00      P0   C\nATOM   2573  HE1 TYR A 185       1.190  -5.382  19.227  0.00  0.00      P0   H\nATOM   2574  CZ  TYR A 185       2.639  -6.507  20.197  0.00  0.00      P0   C\nATOM   2575  OH  TYR A 185       3.685  -6.055  19.427  0.00  0.00      P0   O\nATOM   2576  HH  TYR A 185       4.156  -6.837  19.022  0.00  0.00      P0   H\nATOM   2577  CD2 TYR A 185       1.823  -7.873  21.974  0.00  0.00      P0   C\nATOM   2578  HD2 TYR A 185       1.997  -8.534  22.705  0.00  0.00      P0   H\nATOM   2579  CE2 TYR A 185       2.875  -7.420  21.203  0.00  0.00      P0   C\nATOM   2580  HE2 TYR A 185       3.804  -7.752  21.373  0.00  0.00      P0   H\nATOM   2581  C   TYR A 185      -2.949  -7.589  23.474  0.00  1.00      P0   C\nATOM   2582  O   TYR A 185      -3.898  -8.068  22.844  0.00  1.00      P0   O\nATOM   2583  N   ALA A 186      -2.894  -7.612  24.808  0.00  1.00      P0   N\nATOM   2584  HN  ALA A 186      -2.032  -7.207  25.215  0.00  0.00      P0   H\nATOM   2585  CA  ALA A 186      -3.980  -8.170  25.605  0.00  0.00      P0   C\nATOM   2586  HA  ALA A 186      -4.258  -9.056  25.198  0.00  0.00      P0   H\nATOM   2587  CB  ALA A 186      -3.495  -8.459  27.027  0.00  0.00      P0   C\nATOM   2588  HB1 ALA A 186      -2.498  -8.416  27.052  0.00  0.00      P0   H\nATOM   2589  HB2 ALA A 186      -3.798  -9.370  27.301  0.00  0.00      P0   H\nATOM   2590  HB3 ALA A 186      -3.875  -7.778  27.651  0.00  0.00      P0   H\nATOM   2591  C   ALA A 186      -5.198  -7.259  25.659  0.00  1.00      P0   C\nATOM   2592  O   ALA A 186      -6.306  -7.743  25.914  0.00  1.00      P0   O\nATOM   2593  N   ASN A 187      -5.028  -5.937  25.456  0.00  1.00      P0   N\nATOM   2594  HN  ASN A 187      -4.057  -5.651  25.278  0.00  0.00      P0   H\nATOM   2595  CA  ASN A 187      -6.160  -5.049  25.500  0.00  0.00      P0   C\nATOM   2596  HA  ASN A 187      -6.798  -5.407  26.193  0.00  0.00      P0   H\nATOM   2597  CB  ASN A 187      -5.769  -3.586  25.768  0.00  0.00      P0   C\nATOM   2598  HB1 ASN A 187      -5.396  -3.208  24.946  0.00  0.00      P0   H\nATOM   2599  HB2 ASN A 187      -5.146  -3.562  26.521  0.00  0.00      P0   H\nATOM   2600  CG  ASN A 187      -7.025  -2.809  26.142  0.00  0.00      P0   C\nATOM   2601  OD1 ASN A 187      -8.049  -3.389  26.498  0.00  0.00      P0   O\nATOM   2602  ND2 ASN A 187      -6.943  -1.454  26.062  0.00  0.00      P0   N\nATOM   2603 HD21 ASN A 187      -6.088  -1.040  25.763  0.00  0.00      P0   H\nATOM   2604 HD22 ASN A 187      -7.726  -0.905  26.299  0.00  0.00      P0   H\nATOM   2605  C   ASN A 187      -6.881  -5.064  24.180  0.00  1.00      P0   C\nATOM   2606  O   ASN A 187      -6.275  -4.911  23.120  0.00  1.00      P0   O\nATOM   2607  N   GLU A 188      -8.216  -5.269  24.223  0.00  1.00      P0   N\nATOM   2608  HN  GLU A 188      -8.582  -5.442  25.187  0.00  0.00      P0   H\nATOM   2609  CA  GLU A 188      -9.063  -5.252  23.034  0.00  0.00      P0   C\nATOM   2610  HA  GLU A 188      -8.658  -5.851  22.324  0.00  0.00      P0   H\nATOM   2611  CB  GLU A 188     -10.429  -5.860  23.355  0.00  0.00      P0   C\nATOM   2612  HB1 GLU A 188     -10.285  -6.791  23.635  0.00  0.00      P0   H\nATOM   2613  HB2 GLU A 188     -10.984  -5.796  22.545  0.00  0.00      P0   H\nATOM   2614  CG  GLU A 188     -11.173  -5.151  24.479  0.00  0.00      P0   C\nATOM   2615  HG1 GLU A 188     -11.346  -4.226  24.197  0.00  0.00      P0   H\nATOM   2616  HG2 GLU A 188     -10.622  -5.198  25.290  0.00  0.00      P0   H\nATOM   2617  CD  GLU A 188     -12.507  -5.795  24.790  0.00  0.00      P0   C\nATOM   2618  OE1 GLU A 188     -12.869  -6.769  24.098  0.00  0.00      P0   O\nATOM   2619  OE2 GLU A 188     -13.193  -5.331  25.725  0.00  0.00      P0   O\nATOM   2620  C   GLU A 188      -9.242  -3.849  22.470  0.00  1.00      P0   C\nATOM   2621  O   GLU A 188      -9.502  -3.704  21.269  0.00  1.00      P0   O\nATOM   2622  N   THR A 189      -9.106  -2.818  23.301  0.00  1.00      P0   N\nATOM   2623  HN  THR A 189      -8.870  -3.092  24.286  0.00  0.00      P0   H\nATOM   2624  CA  THR A 189      -9.269  -1.433  22.883  0.00  0.00      P0   C\nATOM   2625  HA  THR A 189      -9.946  -1.403  22.129  0.00  0.00      P0   H\nATOM   2626  CB  THR A 189      -9.831  -0.597  24.043  0.00  0.00      P0   C\nATOM   2627  HB  THR A 189      -9.054  -0.238  24.599  0.00  0.00      P0   H\nATOM   2628  OG1 THR A 189     -10.635  -1.431  24.887  0.00  0.00      P0   O\nATOM   2629  HG1 THR A 189     -10.052  -2.030  25.445  0.00  0.00      P0   H\nATOM   2630  CG2 THR A 189     -10.698   0.546  23.525  0.00  0.00      P0   C\nATOM   2631 HG21 THR A 189     -11.527   0.177  23.099  0.00  0.00      P0   H\nATOM   2632 HG22 THR A 189     -10.188   1.077  22.846  0.00  0.00      P0   H\nATOM   2633 HG23 THR A 189     -10.958   1.146  24.286  0.00  0.00      P0   H\nATOM   2634  C   THR A 189      -7.970  -0.811  22.380  0.00  1.00      P0   C\nATOM   2635  O   THR A 189      -7.980   0.347  21.951  0.00  1.00      P0   O\nATOM   2636  N   CYS A 190      -6.861  -1.546  22.420  0.00  1.00      P0   N\nATOM   2637  HN  CYS A 190      -6.992  -2.495  22.846  0.00  0.00      P0   H\nATOM   2638  CA  CYS A 190      -5.575  -1.076  21.918  0.00  0.00      P0   C\nATOM   2639  HA  CYS A 190      -5.678  -0.128  21.624  0.00  0.00      P0   H\nATOM   2640  CB  CYS A 190      -4.497  -1.165  23.000  0.00  0.00      P0   C\nATOM   2641  HB1 CYS A 190      -4.321  -2.132  23.182  0.00  0.00      P0   H\nATOM   2642  HB2 CYS A 190      -4.851  -0.730  23.826  0.00  0.00      P0   H\nATOM   2643  SG  CYS A 190      -2.930  -0.374  22.566  0.00  0.00      P0   S\nATOM   2644  C   CYS A 190      -5.191  -1.912  20.705  0.00  1.00      P0   C\nATOM   2645  O   CYS A 190      -5.107  -3.141  20.794  0.00  1.00      P0   O\nATOM   2646  N   CYS A 191      -4.965  -1.247  19.575  0.00  1.00      P0   N\nATOM   2647  HN  CYS A 191      -5.107  -0.212  19.650  0.00  0.00      P0   H\nATOM   2648  CA  CYS A 191      -4.556  -1.901  18.337  0.00 45.50      P0   C\nATOM   2649  HA  CYS A 191      -4.244  -2.828  18.557  0.00  0.00      P0   H\nATOM   2650  CB  CYS A 191      -5.740  -2.021  17.378  0.00  0.00      P0   C\nATOM   2651  HB1 CYS A 191      -5.980  -1.096  17.065  0.00  0.00      P0   H\nATOM   2652  HB2 CYS A 191      -6.517  -2.400  17.889  0.00  0.00      P0   H\nATOM   2653  SG  CYS A 191      -5.467  -3.058  15.916  0.00  0.00      P0   S\nATOM   2654  C   CYS A 191      -3.389  -1.145  17.709  0.00  1.00      P0   C\nATOM   2655  O   CYS A 191      -3.399  -0.791  16.528  0.00  1.00      P0   O\nATOM   2656  N   ASP A 192      -2.365  -0.875  18.517  0.00  1.00      P0   N\nATOM   2657  HN  ASP A 192      -2.522  -1.138  19.514  0.00  0.00      P0   H\nATOM   2658  CA  ASP A 192      -1.134  -0.263  18.036  0.00 45.51      P0   C\nATOM   2659  HA  ASP A 192      -1.374   0.320  17.257  0.00  0.00      P0   H\nATOM   2660  CB  ASP A 192      -0.451   0.538  19.145  0.00  0.00      P0   C\nATOM   2661  HB1 ASP A 192      -0.159   1.406  18.763  0.00  0.00      P0   H\nATOM   2662  HB2 ASP A 192       0.332   0.017  19.464  0.00  0.00      P0   H\nATOM   2663  CG  ASP A 192      -1.370   0.806  20.324  0.00  0.00      P0   C\nATOM   2664  OD1 ASP A 192      -2.594   0.931  20.108  0.00  0.00      P0   O\nATOM   2665  OD2 ASP A 192      -0.867   0.897  21.465  0.00  0.00      P0   O\nATOM   2666  C   ASP A 192      -0.195  -1.343  17.513  0.00  1.00      P0   C\nATOM   2667  O   ASP A 192      -0.058  -2.412  18.115  0.00  1.00      P0   O\nATOM   2668  N   PHE A 193       0.454  -1.053  16.384  0.00  1.00      P0   N\nATOM   2669  HN  PHE A 193       0.333  -0.075  16.054  0.00  0.00      P0   H\nATOM   2670  CA  PHE A 193       1.267  -2.044  15.678  0.00 45.52      P0   C\nATOM   2671  HA  PHE A 193       0.907  -2.945  15.922  0.00  0.00      P0   H\nATOM   2672  CB  PHE A 193       1.188  -1.810  14.174  0.00  0.00      P0   C\nATOM   2673  HB1 PHE A 193       1.689  -0.983  13.967  0.00  0.00      P0   H\nATOM   2674  HB2 PHE A 193       0.233  -1.720  13.928  0.00  0.00      P0   H\nATOM   2675  CG  PHE A 193       1.774  -2.925  13.353  0.00  0.00      P0   C\nATOM   2676  CD1 PHE A 193       1.464  -4.244  13.633  0.00  0.00      P0   C\nATOM   2677  HD1 PHE A 193       0.848  -4.461  14.387  0.00  0.00      P0   H\nATOM   2678  CE1 PHE A 193       1.997  -5.271  12.876  0.00  0.00      P0   C\nATOM   2679  HE1 PHE A 193       1.767  -6.227  13.102  0.00  0.00      P0   H\nATOM   2680  CZ  PHE A 193       2.838  -4.984  11.819  0.00  0.00      P0   C\nATOM   2681  HZ  PHE A 193       3.220  -5.730  11.270  0.00  0.00      P0   H\nATOM   2682  CD2 PHE A 193       2.616  -2.649  12.287  0.00  0.00      P0   C\nATOM   2683  HD2 PHE A 193       2.841  -1.698  12.068  0.00  0.00      P0   H\nATOM   2684  CE2 PHE A 193       3.148  -3.672  11.525  0.00  0.00      P0   C\nATOM   2685  HE2 PHE A 193       3.767  -3.452  10.751  0.00  0.00      P0   H\nATOM   2686  C   PHE A 193       2.708  -1.992  16.187  0.00  1.00      P0   C\nATOM   2687  O   PHE A 193       3.642  -1.572  15.500  0.00  1.00      P0   O\nATOM   2688  N   PHE A 194       2.874  -2.435  17.431  0.00  1.00      P0   N\nATOM   2689  HN  PHE A 194       2.002  -2.695  17.924  0.00  0.00      P0   H\nATOM   2690  CA  PHE A 194       4.201  -2.533  18.025  0.00  0.00      P0   C\nATOM   2691  HA  PHE A 194       4.698  -1.700  17.776  0.00  0.00      P0   H\nATOM   2692  CB  PHE A 194       4.098  -2.709  19.538  0.00  0.00      P0   C\nATOM   2693  HB1 PHE A 194       4.973  -3.036  19.866  0.00  0.00      P0   H\nATOM   2694  HB2 PHE A 194       3.381  -3.366  19.719  0.00  0.00      P0   H\nATOM   2695  CG  PHE A 194       3.769  -1.445  20.278  0.00  0.00      P0   C\nATOM   2696  CD1 PHE A 194       4.754  -0.508  20.544  0.00  0.00      P0   C\nATOM   2697  HD1 PHE A 194       5.689  -0.672  20.237  0.00  0.00      P0   H\nATOM   2698  CE1 PHE A 194       4.458   0.654  21.229  0.00  0.00      P0   C\nATOM   2699  HE1 PHE A 194       5.189   1.326  21.410  0.00  0.00      P0   H\nATOM   2700  CZ  PHE A 194       3.168   0.889  21.660  0.00  0.00      P0   C\nATOM   2701  HZ  PHE A 194       2.954   1.733  22.156  0.00  0.00      P0   H\nATOM   2702  CD2 PHE A 194       2.480  -1.199  20.719  0.00  0.00      P0   C\nATOM   2703  HD2 PHE A 194       1.758  -1.869  20.537  0.00  0.00      P0   H\nATOM   2704  CE2 PHE A 194       2.178  -0.039  21.407  0.00  0.00      P0   C\nATOM   2705  HE2 PHE A 194       1.228   0.124  21.724  0.00  0.00      P0   H\nATOM   2706  C   PHE A 194       4.956  -3.700  17.402  0.00  1.00      P0   C\nATOM   2707  O   PHE A 194       4.508  -4.849  17.478  0.00  1.00      P0   O\nATOM   2708  N   THR A 195       6.099  -3.407  16.788  0.00  1.00      P0   N\nATOM   2709  HN  THR A 195       6.357  -2.393  16.822  0.00  0.00      P0   H\nATOM   2710  CA  THR A 195       6.915  -4.414  16.128  0.00  0.00      P0   C\nATOM   2711  HA  THR A 195       6.491  -5.313  16.268  0.00  0.00      P0   H\nATOM   2712  CB  THR A 195       7.022  -4.154  14.619  0.00  0.00      P0   C\nATOM   2713  HB  THR A 195       7.648  -4.847  14.207  0.00  0.00      P0   H\nATOM   2714  OG1 THR A 195       7.585  -2.856  14.394  0.00  0.00      P0   O\nATOM   2715  HG1 THR A 195       7.148  -2.176  14.993  0.00  0.00      P0   H\nATOM   2716  CG2 THR A 195       5.652  -4.232  13.967  0.00  0.00      P0   C\nATOM   2717 HG21 THR A 195       5.020  -4.739  14.559  0.00  0.00      P0   H\nATOM   2718 HG22 THR A 195       5.721  -4.702  13.083  0.00  0.00      P0   H\nATOM   2719 HG23 THR A 195       5.291  -3.307  13.820  0.00  0.00      P0   H\nATOM   2720  C   THR A 195       8.310  -4.442  16.737  0.00  1.00      P0   C\nATOM   2721  O   THR A 195       8.812  -3.430  17.236  0.00  1.00      P0   O\nATOM   2722  N   ASN A 196       8.931  -5.617  16.689  0.00  1.00      P0   N\nATOM   2723  HN  ASN A 196       8.374  -6.388  16.274  0.00  0.00      P0   H\nATOM   2724  CA  ASN A 196      10.286  -5.776  17.186  0.00  5.36      P0   C\nATOM   2725  HA  ASN A 196      10.374  -5.208  18.010  0.00  0.00      P0   H\nATOM   2726  CB  ASN A 196      10.568  -7.243  17.505  0.00  0.00      P0   C\nATOM   2727  HB1 ASN A 196       9.990  -7.516  18.270  0.00  0.00      P0   H\nATOM   2728  HB2 ASN A 196      11.529  -7.333  17.751  0.00  0.00      P0   H\nATOM   2729  CG  ASN A 196      10.282  -8.158  16.331  0.00  0.00      P0   C\nATOM   2730  OD1 ASN A 196      11.148  -8.399  15.491  0.00  0.00      P0   O\nATOM   2731  ND2 ASN A 196       9.060  -8.674  16.268  0.00  0.00      P0   N\nATOM   2732 HD21 ASN A 196       8.383  -8.445  16.971  0.00  0.00      P0   H\nATOM   2733 HD22 ASN A 196       8.811  -9.289  15.521  0.00  0.00      P0   H\nATOM   2734  C   ASN A 196      11.293  -5.242  16.170  0.00  1.00      P0   C\nATOM   2735  O   ASN A 196      10.963  -4.945  15.019  0.00  1.00      P0   O\nATOM   2736  N   GLN A 197      12.545  -5.123  16.616  0.00  1.00      P0   N\nATOM   2737  HN  GLN A 197      12.701  -5.448  17.581  0.00  0.00      P0   H\nATOM   2738  CA  GLN A 197      13.589  -4.565  15.762  0.00  5.37      P0   C\nATOM   2739  HA  GLN A 197      13.254  -3.685  15.396  0.00  0.00      P0   H\nATOM   2740  CB  GLN A 197      14.848  -4.305  16.592  0.00  0.00      P0   C\nATOM   2741  HB1 GLN A 197      15.205  -5.187  16.919  0.00  0.00      P0   H\nATOM   2742  HB2 GLN A 197      14.596  -3.748  17.392  0.00  0.00      P0   H\nATOM   2743  CG  GLN A 197      15.968  -3.589  15.854  0.00  0.00      P0   C\nATOM   2744  HG1 GLN A 197      15.580  -2.812  15.360  0.00  0.00      P0   H\nATOM   2745  HG2 GLN A 197      16.384  -4.225  15.207  0.00  0.00      P0   H\nATOM   2746  CD  GLN A 197      17.047  -3.078  16.790  0.00  0.00      P0   C\nATOM   2747  OE1 GLN A 197      18.196  -2.896  16.390  0.00  0.00      P0   O\nATOM   2748  NE2 GLN A 197      16.678  -2.836  18.043  0.00  0.00      P0   N\nATOM   2749 HE21 GLN A 197      17.352  -2.504  18.733  0.00  0.00      P0   H\nATOM   2750 HE22 GLN A 197      15.704  -2.991  18.298  0.00  0.00      P0   H\nATOM   2751  C   GLN A 197      13.897  -5.473  14.577  0.00  1.00      P0   C\nATOM   2752  O   GLN A 197      14.354  -4.994  13.533  0.00  1.00      P0   O\nATOM   2753  N   ALA A 198      13.641  -6.776  14.709  0.00  1.00      P0   N\nATOM   2754  HN  ALA A 198      13.232  -7.055  15.612  0.00  0.00      P0   H\nATOM   2755  CA  ALA A 198      13.936  -7.704  13.621  0.00  5.38      P0   C\nATOM   2756  HA  ALA A 198      14.807  -7.431  13.191  0.00  0.00      P0   H\nATOM   2757  CB  ALA A 198      14.121  -9.118  14.173  0.00  0.00      P0   C\nATOM   2758  HB1 ALA A 198      15.075  -9.246  14.440  0.00  0.00      P0   H\nATOM   2759  HB2 ALA A 198      13.877  -9.782  13.468  0.00  0.00      P0   H\nATOM   2760  HB3 ALA A 198      13.531  -9.242  14.969  0.00  0.00      P0   H\nATOM   2761  C   ALA A 198      12.843  -7.685  12.558  0.00  1.00      P0   C\nATOM   2762  O   ALA A 198      13.134  -7.579  11.361  0.00  1.00      P0   O\nATOM   2763  N   TYR A 199      11.579  -7.784  12.976  0.00  1.00      P0   N\nATOM   2764  HN  TYR A 199      11.453  -7.787  13.998  0.00  0.00      P0   H\nATOM   2765  CA  TYR A 199      10.486  -7.880  12.014  0.00  5.39      P0   C\nATOM   2766  HA  TYR A 199      10.709  -8.612  11.354  0.00  0.00      P0   H\nATOM   2767  CB  TYR A 199       9.187  -8.259  12.727  0.00  0.00      P0   C\nATOM   2768  HB1 TYR A 199       9.084  -7.671  13.523  0.00  0.00      P0   H\nATOM   2769  HB2 TYR A 199       9.252  -9.212  13.009  0.00  0.00      P0   H\nATOM   2770  CG  TYR A 199       7.955  -8.102  11.863  0.00  0.00      P0   C\nATOM   2771  CD1 TYR A 199       7.615  -9.067  10.925  0.00  0.00      P0   C\nATOM   2772  HD1 TYR A 199       8.193  -9.881  10.821  0.00  0.00      P0   H\nATOM   2773  CE1 TYR A 199       6.493  -8.927  10.131  0.00  0.00      P0   C\nATOM   2774  HE1 TYR A 199       6.262  -9.634   9.457  0.00  0.00      P0   H\nATOM   2775  CZ  TYR A 199       5.693  -7.813  10.270  0.00  0.00      P0   C\nATOM   2776  OH  TYR A 199       4.575  -7.674   9.480  0.00  0.00      P0   O\nATOM   2777  HH  TYR A 199       4.029  -6.908   9.818  0.00  0.00      P0   H\nATOM   2778  CD2 TYR A 199       7.135  -6.988  11.983  0.00  0.00      P0   C\nATOM   2779  HD2 TYR A 199       7.363  -6.282  12.654  0.00  0.00      P0   H\nATOM   2780  CE2 TYR A 199       6.010  -6.839  11.193  0.00  0.00      P0   C\nATOM   2781  HE2 TYR A 199       5.429  -6.029  11.290  0.00  0.00      P0   H\nATOM   2782  C   TYR A 199      10.303  -6.582  11.237  0.00  1.00      P0   C\nATOM   2783  O   TYR A 199      10.009  -6.610  10.037  0.00  1.00      P0   O\nATOM   2784  N   ALA A 200      10.466  -5.436  11.904  0.00  1.00      P0   N\nATOM   2785  HN  ALA A 200      10.793  -5.534  12.874  0.00  0.00      P0   H\nATOM   2786  CA  ALA A 200      10.187  -4.160  11.254  0.00  5.40      P0   C\nATOM   2787  HA  ALA A 200       9.238  -4.171  10.910  0.00  0.00      P0   H\nATOM   2788  CB  ALA A 200      10.287  -3.023  12.269  0.00  0.00      P0   C\nATOM   2789  HB1 ALA A 200       9.369  -2.735  12.535  0.00  0.00      P0   H\nATOM   2790  HB2 ALA A 200      10.773  -2.253  11.858  0.00  0.00      P0   H\nATOM   2791  HB3 ALA A 200      10.785  -3.341  13.075  0.00  0.00      P0   H\nATOM   2792  C   ALA A 200      11.126  -3.914  10.079  0.00  1.00      P0   C\nATOM   2793  O   ALA A 200      10.711  -3.376   9.046  0.00  1.00      P0   O\nATOM   2794  N   ILE A 201      12.392  -4.303  10.214  0.00  1.00      P0   N\nATOM   2795  HN  ILE A 201      12.629  -4.725  11.124  0.00  0.00      P0   H\nATOM   2796  CA  ILE A 201      13.345  -4.126   9.123  0.00  5.41      P0   C\nATOM   2797  HA  ILE A 201      13.108  -3.256   8.680  0.00  0.00      P0   H\nATOM   2798  CB  ILE A 201      14.784  -4.101   9.670  0.00  0.00      P0   C\nATOM   2799  HB  ILE A 201      14.926  -4.932  10.196  0.00  0.00      P0   H\nATOM   2800  CG2 ILE A 201      15.789  -4.052   8.531  0.00  0.00      P0   C\nATOM   2801 HG21 ILE A 201      15.643  -4.840   7.934  0.00  0.00      P0   H\nATOM   2802 HG22 ILE A 201      16.712  -4.080   8.912  0.00  0.00      P0   H\nATOM   2803 HG23 ILE A 201      15.657  -3.206   8.017  0.00  0.00      P0   H\nATOM   2804  CG1 ILE A 201      14.979  -2.908  10.606  0.00  0.00      P0   C\nATOM   2805 HG11 ILE A 201      14.349  -3.008  11.374  0.00  0.00      P0   H\nATOM   2806 HG12 ILE A 201      14.746  -2.075  10.108  0.00  0.00      P0   H\nATOM   2807  CD  ILE A 201      16.385  -2.786  11.143  0.00  0.00      P0   C\nATOM   2808  HD1 ILE A 201      16.617  -3.611  11.657  0.00  0.00      P0   H\nATOM   2809  HD2 ILE A 201      16.444  -1.990  11.744  0.00  0.00      P0   H\nATOM   2810  HD3 ILE A 201      17.023  -2.676  10.381  0.00  0.00      P0   H\nATOM   2811  C   ILE A 201      13.167  -5.213   8.073  0.00  1.00      P0   C\nATOM   2812  O   ILE A 201      13.130  -4.934   6.868  0.00  1.00      P0   O\nATOM   2813  N   ALA A 202      13.047  -6.468   8.514  0.00  1.00      P0   N\nATOM   2814  HN  ALA A 202      13.016  -6.571   9.539  0.00  0.00      P0   H\nATOM   2815  CA  ALA A 202      12.967  -7.585   7.578  0.00  5.42      P0   C\nATOM   2816  HA  ALA A 202      13.774  -7.559   6.974  0.00  0.00      P0   H\nATOM   2817  CB  ALA A 202      13.009  -8.910   8.342  0.00  0.00      P0   C\nATOM   2818  HB1 ALA A 202      12.409  -8.851   9.139  0.00  0.00      P0   H\nATOM   2819  HB2 ALA A 202      13.945  -9.091   8.639  0.00  0.00      P0   H\nATOM   2820  HB3 ALA A 202      12.700  -9.646   7.743  0.00  0.00      P0   H\nATOM   2821  C   ALA A 202      11.713  -7.498   6.718  0.00  1.00      P0   C\nATOM   2822  O   ALA A 202      11.770  -7.689   5.497  0.00  1.00      P0   O\nATOM   2823  N   SER A 203      10.567  -7.208   7.338  0.00  1.00      P0   N\nATOM   2824  HN  SER A 203      10.638  -7.045   8.348  0.00  0.00      P0   H\nATOM   2825  CA  SER A 203       9.322  -7.140   6.579  0.00  5.43      P0   C\nATOM   2826  HA  SER A 203       9.242  -7.985   6.034  0.00  0.00      P0   H\nATOM   2827  CB  SER A 203       8.128  -7.059   7.529  0.00  0.00      P0   C\nATOM   2828  HB1 SER A 203       8.175  -6.201   8.030  0.00  0.00      P0   H\nATOM   2829  HB2 SER A 203       8.165  -7.828   8.160  0.00  0.00      P0   H\nATOM   2830  OG  SER A 203       6.906  -7.108   6.813  0.00  0.00      P0   O\nATOM   2831  HG1 SER A 203       6.149  -7.225   7.454  0.00  0.00      P0   H\nATOM   2832  C   SER A 203       9.325  -5.960   5.614  0.00  1.00      P0   C\nATOM   2833  O   SER A 203       8.863  -6.086   4.474  0.00  1.00      P0   O\nATOM   2834  N   SER A 204       9.844  -4.809   6.048  0.00  1.00      P0   N\nATOM   2835  HN  SER A 204      10.174  -4.811   7.020  0.00  0.00      P0   H\nATOM   2836  CA  SER A 204       9.915  -3.654   5.157  0.00  5.44      P0   C\nATOM   2837  HA  SER A 204       8.992  -3.487   4.790  0.00  0.00      P0   H\nATOM   2838  CB  SER A 204      10.372  -2.416   5.929  0.00  0.00      P0   C\nATOM   2839  HB1 SER A 204      10.452  -1.653   5.293  0.00  0.00      P0   H\nATOM   2840  HB2 SER A 204      11.257  -2.607   6.345  0.00  0.00      P0   H\nATOM   2841  OG  SER A 204       9.447  -2.074   6.946  0.00  0.00      P0   O\nATOM   2842  HG1 SER A 204       9.755  -2.452   7.818  0.00  0.00      P0   H\nATOM   2843  C   SER A 204      10.845  -3.926   3.983  0.00  1.00      P0   C\nATOM   2844  O   SER A 204      10.582  -3.488   2.857  0.00  1.00      P0   O\nATOM   2845  N   ILE A 205      11.936  -4.653   4.227  0.00  1.00      P0   N\nATOM   2846  HN  ILE A 205      12.069  -4.929   5.212  0.00  0.00      P0   H\nATOM   2847  CA  ILE A 205      12.851  -5.010   3.148  0.00  5.45      P0   C\nATOM   2848  HA  ILE A 205      13.023  -4.167   2.633  0.00  0.00      P0   H\nATOM   2849  CB  ILE A 205      14.154  -5.592   3.725  0.00  0.00      P0   C\nATOM   2850  HB  ILE A 205      13.916  -6.174   4.495  0.00  0.00      P0   H\nATOM   2851  CG2 ILE A 205      14.870  -6.434   2.686  0.00  0.00      P0   C\nATOM   2852 HG21 ILE A 205      14.254  -7.155   2.371  0.00  0.00      P0   H\nATOM   2853 HG22 ILE A 205      15.685  -6.839   3.099  0.00  0.00      P0   H\nATOM   2854 HG23 ILE A 205      15.133  -5.852   1.918  0.00  0.00      P0   H\nATOM   2855  CG1 ILE A 205      15.060  -4.471   4.239  0.00  0.00      P0   C\nATOM   2856 HG11 ILE A 205      14.571  -3.980   4.959  0.00  0.00      P0   H\nATOM   2857 HG12 ILE A 205      15.240  -3.840   3.487  0.00  0.00      P0   H\nATOM   2858  CD  ILE A 205      16.378  -4.962   4.795  0.00  0.00      P0   C\nATOM   2859  HD1 ILE A 205      16.205  -5.581   5.560  0.00  0.00      P0   H\nATOM   2860  HD2 ILE A 205      16.916  -4.182   5.111  0.00  0.00      P0   H\nATOM   2861  HD3 ILE A 205      16.880  -5.447   4.080  0.00  0.00      P0   H\nATOM   2862  C   ILE A 205      12.182  -5.982   2.182  0.00  1.00      P0   C\nATOM   2863  O   ILE A 205      12.212  -5.789   0.962  0.00  1.00      P0   O\nATOM   2864  N   VAL A 206      11.558  -7.033   2.716  0.00  1.00      P0   N\nATOM   2865  HN  VAL A 206      11.524  -7.048   3.746  0.00  0.00      P0   H\nATOM   2866  CA  VAL A 206      10.977  -8.069   1.865  0.00  5.46      P0   C\nATOM   2867  HA  VAL A 206      11.656  -8.316   1.165  0.00  0.00      P0   H\nATOM   2868  CB  VAL A 206      10.665  -9.328   2.694  0.00  0.00      P0   C\nATOM   2869  HB  VAL A 206      10.112  -9.049   3.474  0.00  0.00      P0   H\nATOM   2870  CG1 VAL A 206       9.831 -10.309   1.885  0.00  0.00      P0   C\nATOM   2871 HG11 VAL A 206      10.163 -10.332   0.942  0.00  0.00      P0   H\nATOM   2872 HG12 VAL A 206       9.905 -11.222   2.286  0.00  0.00      P0   H\nATOM   2873 HG13 VAL A 206       8.873 -10.020   1.892  0.00  0.00      P0   H\nATOM   2874  CG2 VAL A 206      11.951  -9.984   3.162  0.00  0.00      P0   C\nATOM   2875 HG21 VAL A 206      12.468 -10.306   2.367  0.00  0.00      P0   H\nATOM   2876 HG22 VAL A 206      11.734 -10.758   3.756  0.00  0.00      P0   H\nATOM   2877 HG23 VAL A 206      12.499  -9.317   3.668  0.00  0.00      P0   H\nATOM   2878  C   VAL A 206       9.735  -7.549   1.154  0.00  1.00      P0   C\nATOM   2879  O   VAL A 206       9.603  -7.669  -0.069  0.00  1.00      P0   O\nATOM   2880  N   SER A 207       8.806  -6.961   1.906  0.00  1.00      P0   N\nATOM   2881  HN  SER A 207       9.086  -6.786   2.887  0.00  0.00      P0   H\nATOM   2882  CA  SER A 207       7.505  -6.604   1.358  0.00  5.46      P0   C\nATOM   2883  HA  SER A 207       7.248  -7.313   0.675  0.00  0.00      P0   H\nATOM   2884  CB  SER A 207       6.453  -6.610   2.470  0.00  0.00      P0   C\nATOM   2885  HB1 SER A 207       5.571  -6.367   2.078  0.00  0.00      P0   H\nATOM   2886  HB2 SER A 207       6.716  -5.948   3.165  0.00  0.00      P0   H\nATOM   2887  OG  SER A 207       6.355  -7.893   3.067  0.00  0.00      P0   O\nATOM   2888  HG1 SER A 207       5.526  -8.347   2.744  0.00  0.00      P0   H\nATOM   2889  C   SER A 207       7.487  -5.253   0.654  0.00  1.00      P0   C\nATOM   2890  O   SER A 207       6.458  -4.900   0.068  0.00  1.00      P0   O\nATOM   2891  N   PHE A 208       8.580  -4.493   0.685  0.00  1.00      P0   N\nATOM   2892  HN  PHE A 208       9.386  -4.892   1.175  0.00  0.00      P0   H\nATOM   2893  CA  PHE A 208       8.568  -3.183   0.046  0.00  5.47      P0   C\nATOM   2894  HA  PHE A 208       7.859  -3.214  -0.675  0.00  0.00      P0   H\nATOM   2895  CB  PHE A 208       8.241  -2.092   1.068  0.00  0.00      P0   C\nATOM   2896  HB1 PHE A 208       8.914  -2.141   1.790  0.00  0.00      P0   H\nATOM   2897  HB2 PHE A 208       7.331  -2.263   1.412  0.00  0.00      P0   H\nATOM   2898  CG  PHE A 208       8.270  -0.698   0.499  0.00  0.00      P0   C\nATOM   2899  CD1 PHE A 208       7.199  -0.212  -0.231  0.00  0.00      P0   C\nATOM   2900  HD1 PHE A 208       6.399  -0.788  -0.384  0.00  0.00      P0   H\nATOM   2901  CE1 PHE A 208       7.221   1.070  -0.752  0.00  0.00      P0   C\nATOM   2902  HE1 PHE A 208       6.432   1.403  -1.286  0.00  0.00      P0   H\nATOM   2903  CZ  PHE A 208       8.319   1.882  -0.544  0.00  0.00      P0   C\nATOM   2904  HZ  PHE A 208       8.332   2.810  -0.919  0.00  0.00      P0   H\nATOM   2905  CD2 PHE A 208       9.365   0.126   0.704  0.00  0.00      P0   C\nATOM   2906  HD2 PHE A 208      10.145  -0.211   1.234  0.00  0.00      P0   H\nATOM   2907  CE2 PHE A 208       9.393   1.410   0.184  0.00  0.00      P0   C\nATOM   2908  HE2 PHE A 208      10.206   1.996   0.341  0.00  0.00      P0   H\nATOM   2909  C   PHE A 208       9.885  -2.860  -0.648  0.00  1.00      P0   C\nATOM   2910  O   PHE A 208       9.903  -2.601  -1.856  0.00  1.00      P0   O\nATOM   2911  N   TYR A 209      10.989  -2.871   0.102  0.00  1.00      P0   N\nATOM   2912  HN  TYR A 209      10.873  -3.252   1.051  0.00  0.00      P0   H\nATOM   2913  CA  TYR A 209      12.251  -2.366  -0.431  0.00  5.48      P0   C\nATOM   2914  HA  TYR A 209      12.088  -1.445  -0.812  0.00  0.00      P0   H\nATOM   2915  CB  TYR A 209      13.278  -2.228   0.694  0.00  0.00      P0   C\nATOM   2916  HB1 TYR A 209      14.187  -2.228   0.289  0.00  0.00      P0   H\nATOM   2917  HB2 TYR A 209      13.175  -3.005   1.308  0.00  0.00      P0   H\nATOM   2918  CG  TYR A 209      13.120  -0.961   1.502  0.00  0.00      P0   C\nATOM   2919  CD1 TYR A 209      13.661   0.238   1.057  0.00  0.00      P0   C\nATOM   2920  HD1 TYR A 209      14.164   0.261   0.190  0.00  0.00      P0   H\nATOM   2921  CE1 TYR A 209      13.519   1.402   1.791  0.00  0.00      P0   C\nATOM   2922  HE1 TYR A 209      13.914   2.261   1.454  0.00  0.00      P0   H\nATOM   2923  CZ  TYR A 209      12.831   1.376   2.985  0.00  0.00      P0   C\nATOM   2924  OH  TYR A 209      12.690   2.532   3.716  0.00  0.00      P0   O\nATOM   2925  HH  TYR A 209      12.096   2.354   4.499  0.00  0.00      P0   H\nATOM   2926  CD2 TYR A 209      12.431  -0.962   2.707  0.00  0.00      P0   C\nATOM   2927  HD2 TYR A 209      12.032  -1.815   3.044  0.00  0.00      P0   H\nATOM   2928  CE2 TYR A 209      12.285   0.197   3.449  0.00  0.00      P0   C\nATOM   2929  HE2 TYR A 209      11.786   0.180   4.316  0.00  0.00      P0   H\nATOM   2930  C   TYR A 209      12.788  -3.252  -1.549  0.00  1.00      P0   C\nATOM   2931  O   TYR A 209      13.222  -2.752  -2.594  0.00  1.00      P0   O\nATOM   2932  N   VAL A 210      12.777  -4.572  -1.347  0.00  1.00      P0   N\nATOM   2933  HN  VAL A 210      12.387  -4.880  -0.449  0.00  0.00      P0   H\nATOM   2934  CA  VAL A 210      13.301  -5.481  -2.371  0.00  5.49      P0   C\nATOM   2935  HA  VAL A 210      14.259  -5.220  -2.556  0.00  0.00      P0   H\nATOM   2936  CB  VAL A 210      13.367  -6.915  -1.824  0.00  0.00      P0   C\nATOM   2937  HB  VAL A 210      12.514  -7.096  -1.341  0.00  0.00      P0   H\nATOM   2938  CG1 VAL A 210      13.456  -7.917  -2.961  0.00  0.00      P0   C\nATOM   2939 HG11 VAL A 210      12.821  -7.656  -3.689  0.00  0.00      P0   H\nATOM   2940 HG12 VAL A 210      14.388  -7.932  -3.323  0.00  0.00      P0   H\nATOM   2941 HG13 VAL A 210      13.217  -8.829  -2.625  0.00  0.00      P0   H\nATOM   2942  CG2 VAL A 210      14.558  -7.066  -0.890  0.00  0.00      P0   C\nATOM   2943 HG21 VAL A 210      15.392  -7.168  -1.432  0.00  0.00      P0   H\nATOM   2944 HG22 VAL A 210      14.428  -7.875  -0.317  0.00  0.00      P0   H\nATOM   2945 HG23 VAL A 210      14.630  -6.254  -0.312  0.00  0.00      P0   H\nATOM   2946  C   VAL A 210      12.524  -5.376  -3.678  0.00  1.00      P0   C\nATOM   2947  O   VAL A 210      13.156  -5.176  -4.731  0.00  1.00      P0   O\nATOM   2948  N   PRO A 211      11.188  -5.481  -3.704  0.00  1.00      P0   N\nATOM   2949  CD  PRO A 211      10.243  -5.775  -2.609  0.00  0.00      P0   C\nATOM   2950  HD1 PRO A 211      10.290  -6.743  -2.357  0.00  0.00      P0   H\nATOM   2951  HD2 PRO A 211      10.453  -5.214  -1.808  0.00  0.00      P0   H\nATOM   2952  CA  PRO A 211      10.481  -5.298  -4.980  0.00  5.50      P0   C\nATOM   2953  HA  PRO A 211      10.824  -5.964  -5.670  0.00  0.00      P0   H\nATOM   2954  CB  PRO A 211       9.036  -5.688  -4.648  0.00  0.00      P0   C\nATOM   2955  HB1 PRO A 211       8.877  -6.656  -4.857  0.00  0.00      P0   H\nATOM   2956  HB2 PRO A 211       8.393  -5.131  -5.180  0.00  0.00      P0   H\nATOM   2957  CG  PRO A 211       8.909  -5.421  -3.198  0.00  0.00      P0   C\nATOM   2958  HG1 PRO A 211       8.179  -5.985  -2.793  0.00  0.00      P0   H\nATOM   2959  HG2 PRO A 211       8.691  -4.452  -3.029  0.00  0.00      P0   H\nATOM   2960  C   PRO A 211      10.561  -3.880  -5.516  0.00  1.00      P0   C\nATOM   2961  O   PRO A 211      10.360  -3.682  -6.719  0.00  1.00      P0   O\nATOM   2962  N   LEU A 212      10.849  -2.892  -4.666  0.00  1.00      P0   N\nATOM   2963  HN  LEU A 212      10.997  -3.181  -3.688  0.00  0.00      P0   H\nATOM   2964  CA  LEU A 212      10.939  -1.513  -5.135  0.00  5.51      P0   C\nATOM   2965  HA  LEU A 212      10.136  -1.317  -5.712  0.00  0.00      P0   H\nATOM   2966  CB  LEU A 212      10.916  -0.553  -3.945  0.00  0.00      P0   C\nATOM   2967  HB1 LEU A 212      11.662  -0.808  -3.333  0.00  0.00      P0   H\nATOM   2968  HB2 LEU A 212      10.041  -0.670  -3.477  0.00  0.00      P0   H\nATOM   2969  CG  LEU A 212      11.069   0.934  -4.259  0.00  0.00      P0   C\nATOM   2970  HG  LEU A 212      11.878   1.064  -4.833  0.00  0.00      P0   H\nATOM   2971  CD1 LEU A 212       9.842   1.457  -4.988  0.00  0.00      P0   C\nATOM   2972 HD11 LEU A 212       9.723   0.956  -5.847  0.00  0.00      P0   H\nATOM   2973 HD12 LEU A 212       9.958   2.431  -5.185  0.00  0.00      P0   H\nATOM   2974 HD13 LEU A 212       9.032   1.329  -4.415  0.00  0.00      P0   H\nATOM   2975  CD2 LEU A 212      11.325   1.725  -2.985  0.00  0.00      P0   C\nATOM   2976 HD21 LEU A 212      10.557   1.604  -2.356  0.00  0.00      P0   H\nATOM   2977 HD22 LEU A 212      12.164   1.399  -2.550  0.00  0.00      P0   H\nATOM   2978 HD23 LEU A 212      11.423   2.695  -3.207  0.00  0.00      P0   H\nATOM   2979  C   LEU A 212      12.195  -1.291  -5.969  0.00  1.00      P0   C\nATOM   2980  O   LEU A 212      12.143  -0.631  -7.014  0.00  1.00      P0   O\nATOM   2981  N   VAL A 213      13.331  -1.829  -5.522  0.00  1.00      P0   N\nATOM   2982  HN  VAL A 213      13.242  -2.397  -4.666  0.00  0.00      P0   H\nATOM   2983  CA  VAL A 213      14.591  -1.604  -6.227  0.00  5.52      P0   C\nATOM   2984  HA  VAL A 213      14.708  -0.614  -6.349  0.00  0.00      P0   H\nATOM   2985  CB  VAL A 213      15.775  -2.126  -5.394  0.00  0.00      P0   C\nATOM   2986  HB  VAL A 213      15.630  -3.098  -5.237  0.00  0.00      P0   H\nATOM   2987  CG1 VAL A 213      17.076  -1.989  -6.174  0.00  0.00      P0   C\nATOM   2988 HG11 VAL A 213      17.278  -2.851  -6.640  0.00  0.00      P0   H\nATOM   2989 HG12 VAL A 213      16.984  -1.258  -6.849  0.00  0.00      P0   H\nATOM   2990 HG13 VAL A 213      17.821  -1.770  -5.543  0.00  0.00      P0   H\nATOM   2991  CG2 VAL A 213      15.861  -1.379  -4.071  0.00  0.00      P0   C\nATOM   2992 HG21 VAL A 213      16.459  -0.585  -4.179  0.00  0.00      P0   H\nATOM   2993 HG22 VAL A 213      16.234  -1.988  -3.371  0.00  0.00      P0   H\nATOM   2994 HG23 VAL A 213      14.947  -1.077  -3.802  0.00  0.00      P0   H\nATOM   2995  C   VAL A 213      14.551  -2.248  -7.607  0.00  1.00      P0   C\nATOM   2996  O   VAL A 213      14.922  -1.628  -8.612  0.00  1.00      P0   O\nATOM   2997  N   ILE A 214      14.093  -3.499  -7.678  0.00  1.00      P0   N\nATOM   2998  HN  ILE A 214      13.786  -3.909  -6.787  0.00  0.00      P0   H\nATOM   2999  CA  ILE A 214      14.054  -4.194  -8.961  0.00  5.53      P0   C\nATOM   3000  HA  ILE A 214      14.942  -4.027  -9.400  0.00  0.00      P0   H\nATOM   3001  CB  ILE A 214      13.831  -5.704  -8.750  0.00  0.00      P0   C\nATOM   3002  HB  ILE A 214      13.666  -6.116  -9.640  0.00  0.00      P0   H\nATOM   3003  CG2 ILE A 214      15.066  -6.343  -8.129  0.00  0.00      P0   C\nATOM   3004 HG21 ILE A 214      15.852  -6.167  -8.718  0.00  0.00      P0   H\nATOM   3005 HG22 ILE A 214      14.914  -7.325  -8.046  0.00  0.00      P0   H\nATOM   3006 HG23 ILE A 214      15.218  -5.943  -7.227  0.00  0.00      P0   H\nATOM   3007  CG1 ILE A 214      12.599  -5.949  -7.878  0.00  0.00      P0   C\nATOM   3008 HG11 ILE A 214      11.791  -5.651  -8.386  0.00  0.00      P0   H\nATOM   3009 HG12 ILE A 214      12.679  -5.393  -7.053  0.00  0.00      P0   H\nATOM   3010  CD  ILE A 214      12.411  -7.399  -7.477  0.00  0.00      P0   C\nATOM   3011  HD1 ILE A 214      12.310  -7.958  -8.298  0.00  0.00      P0   H\nATOM   3012  HD2 ILE A 214      11.592  -7.482  -6.912  0.00  0.00      P0   H\nATOM   3013  HD3 ILE A 214      13.208  -7.704  -6.958  0.00  0.00      P0   H\nATOM   3014  C   ILE A 214      12.995  -3.590  -9.875  0.00  1.00      P0   C\nATOM   3015  O   ILE A 214      13.140  -3.616 -11.103  0.00  1.00      P0   O\nATOM   3016  N   MET A 215      11.923  -3.031  -9.307  0.00  1.00      P0   N\nATOM   3017  HN  MET A 215      11.878  -3.103  -8.284  0.00  0.00      P0   H\nATOM   3018  CA  MET A 215      10.913  -2.374 -10.131  0.00  5.54      P0   C\nATOM   3019  HA  MET A 215      10.631  -3.016 -10.853  0.00  0.00      P0   H\nATOM   3020  CB  MET A 215       9.693  -2.017  -9.282  0.00  0.00      P0   C\nATOM   3021  HB1 MET A 215       9.979  -1.385  -8.548  0.00  0.00      P0   H\nATOM   3022  HB2 MET A 215       9.338  -2.857  -8.850  0.00  0.00      P0   H\nATOM   3023  CG  MET A 215       8.565  -1.365 -10.063  0.00  0.00      P0   C\nATOM   3024  HG1 MET A 215       8.129  -2.074 -10.660  0.00  0.00      P0   H\nATOM   3025  HG2 MET A 215       8.969  -0.676 -10.704  0.00  0.00      P0   H\nATOM   3026  SD  MET A 215       7.339  -0.595  -8.988  0.00  0.00      P0   S\nATOM   3027  CE  MET A 215       8.303   0.741  -8.290  0.00  0.00      P0   C\nATOM   3028  HE1 MET A 215       8.443   0.580  -7.312  0.00  0.00      P0   H\nATOM   3029  HE2 MET A 215       9.193   0.789  -8.748  0.00  0.00      P0   H\nATOM   3030  HE3 MET A 215       7.819   1.608  -8.417  0.00  0.00      P0   H\nATOM   3031  C   MET A 215      11.478  -1.130 -10.801  0.00  1.00      P0   C\nATOM   3032  O   MET A 215      11.268  -0.907 -11.999  0.00  1.00      P0   O\nATOM   3033  N   VAL A 216      12.201  -0.305 -10.043  0.00  1.00      P0   N\nATOM   3034  HN  VAL A 216      12.288  -0.577  -9.054  0.00  0.00      P0   H\nATOM   3035  CA  VAL A 216      12.810   0.889 -10.619  0.00  5.55      P0   C\nATOM   3036  HA  VAL A 216      12.100   1.389 -11.127  0.00  0.00      P0   H\nATOM   3037  CB  VAL A 216      13.337   1.808  -9.502  0.00  0.00      P0   C\nATOM   3038  HB  VAL A 216      13.989   1.284  -8.961  0.00  0.00      P0   H\nATOM   3039  CG1 VAL A 216      14.095   2.991 -10.089  0.00  0.00      P0   C\nATOM   3040 HG11 VAL A 216      14.997   3.054  -9.663  0.00  0.00      P0   H\nATOM   3041 HG12 VAL A 216      14.200   2.863 -11.075  0.00  0.00      P0   H\nATOM   3042 HG13 VAL A 216      13.585   3.833  -9.914  0.00  0.00      P0   H\nATOM   3043  CG2 VAL A 216      12.187   2.283  -8.630  0.00  0.00      P0   C\nATOM   3044 HG21 VAL A 216      11.748   3.071  -9.061  0.00  0.00      P0   H\nATOM   3045 HG22 VAL A 216      12.539   2.545  -7.731  0.00  0.00      P0   H\nATOM   3046 HG23 VAL A 216      11.521   1.543  -8.528  0.00  0.00      P0   H\nATOM   3047  C   VAL A 216      13.910   0.507 -11.602  0.00  1.00      P0   C\nATOM   3048  O   VAL A 216      14.030   1.101 -12.680  0.00  1.00      P0   O\nATOM   3049  N   PHE A 217      14.719  -0.495 -11.253  0.00  1.00      P0   N\nATOM   3050  HN  PHE A 217      14.496  -0.949 -10.355  0.00  0.00      P0   H\nATOM   3051  CA  PHE A 217      15.830  -0.889 -12.114  0.00  5.56      P0   C\nATOM   3052  HA  PHE A 217      16.353  -0.054 -12.319  0.00  0.00      P0   H\nATOM   3053  CB  PHE A 217      16.702  -1.922 -11.398  0.00  0.00      P0   C\nATOM   3054  HB1 PHE A 217      16.117  -2.664 -11.108  0.00  0.00      P0   H\nATOM   3055  HB2 PHE A 217      17.126  -1.475 -10.624  0.00  0.00      P0   H\nATOM   3056  CG  PHE A 217      17.792  -2.499 -12.256  0.00  0.00      P0   C\nATOM   3057  CD1 PHE A 217      18.993  -1.829 -12.419  0.00  0.00      P0   C\nATOM   3058  HD1 PHE A 217      19.141  -0.954 -11.962  0.00  0.00      P0   H\nATOM   3059  CE1 PHE A 217      19.998  -2.358 -13.208  0.00  0.00      P0   C\nATOM   3060  HE1 PHE A 217      20.865  -1.853 -13.317  0.00  0.00      P0   H\nATOM   3061  CZ  PHE A 217      19.809  -3.571 -13.843  0.00  0.00      P0   C\nATOM   3062  HZ  PHE A 217      20.537  -3.953 -14.414  0.00  0.00      P0   H\nATOM   3063  CD2 PHE A 217      17.617  -3.716 -12.897  0.00  0.00      P0   C\nATOM   3064  HD2 PHE A 217      16.754  -4.213 -12.784  0.00  0.00      P0   H\nATOM   3065  CE2 PHE A 217      18.616  -4.249 -13.688  0.00  0.00      P0   C\nATOM   3066  HE2 PHE A 217      18.468  -5.138 -14.154  0.00  0.00      P0   H\nATOM   3067  C   PHE A 217      15.330  -1.433 -13.449  0.00  1.00      P0   C\nATOM   3068  O   PHE A 217      15.800  -1.023 -14.515  0.00  1.00      P0   O\nATOM   3069  N   VAL A 218      14.371  -2.361 -13.405  0.00  1.00      P0   N\nATOM   3070  HN  VAL A 218      14.029  -2.596 -12.462  0.00  0.00      P0   H\nATOM   3071  CA  VAL A 218      13.871  -2.976 -14.633  0.00  5.57      P0   C\nATOM   3072  HA  VAL A 218      14.658  -3.333 -15.146  0.00  0.00      P0   H\nATOM   3073  CB  VAL A 218      12.940  -4.157 -14.302  0.00  0.00      P0   C\nATOM   3074  HB  VAL A 218      12.268  -3.835 -13.642  0.00  0.00      P0   H\nATOM   3075  CG1 VAL A 218      12.177  -4.597 -15.538  0.00  0.00      P0   C\nATOM   3076 HG11 VAL A 218      12.780  -4.557 -16.336  0.00  0.00      P0   H\nATOM   3077 HG12 VAL A 218      11.851  -5.534 -15.415  0.00  0.00      P0   H\nATOM   3078 HG13 VAL A 218      11.395  -3.990 -15.684  0.00  0.00      P0   H\nATOM   3079  CG2 VAL A 218      13.744  -5.315 -13.739  0.00  0.00      P0   C\nATOM   3080 HG21 VAL A 218      14.588  -4.966 -13.331  0.00  0.00      P0   H\nATOM   3081 HG22 VAL A 218      13.968  -5.953 -14.477  0.00  0.00      P0   H\nATOM   3082 HG23 VAL A 218      13.203  -5.786 -13.042  0.00  0.00      P0   H\nATOM   3083  C   VAL A 218      13.173  -1.938 -15.503  0.00  1.00      P0   C\nATOM   3084  O   VAL A 218      13.453  -1.818 -16.702  0.00  1.00      P0   O\nATOM   3085  N   TYR A 219      12.262  -1.164 -14.912  0.00  1.00      P0   N\nATOM   3086  HN  TYR A 219      12.165  -1.292 -13.898  0.00  0.00      P0   H\nATOM   3087  CA  TYR A 219      11.484  -0.217 -15.701  0.00  5.58      P0   C\nATOM   3088  HA  TYR A 219      11.114  -0.706 -16.508  0.00  0.00      P0   H\nATOM   3089  CB  TYR A 219      10.295   0.297 -14.892  0.00  0.00      P0   C\nATOM   3090  HB1 TYR A 219      10.595   1.081 -14.358  0.00  0.00      P0   H\nATOM   3091  HB2 TYR A 219       9.986  -0.433 -14.291  0.00  0.00      P0   H\nATOM   3092  CG  TYR A 219       9.133   0.728 -15.754  0.00  0.00      P0   C\nATOM   3093  CD1 TYR A 219       8.272  -0.211 -16.309  0.00  0.00      P0   C\nATOM   3094  HD1 TYR A 219       8.428  -1.187 -16.132  0.00  0.00      P0   H\nATOM   3095  CE1 TYR A 219       7.210   0.174 -17.100  0.00  0.00      P0   C\nATOM   3096  HE1 TYR A 219       6.596  -0.516 -17.492  0.00  0.00      P0   H\nATOM   3097  CZ  TYR A 219       6.997   1.512 -17.347  0.00  0.00      P0   C\nATOM   3098  OH  TYR A 219       5.938   1.896 -18.135  0.00  0.00      P0   O\nATOM   3099  HH  TYR A 219       5.936   2.892 -18.220  0.00  0.00      P0   H\nATOM   3100  CD2 TYR A 219       8.897   2.069 -16.019  0.00  0.00      P0   C\nATOM   3101  HD2 TYR A 219       9.506   2.760 -15.630  0.00  0.00      P0   H\nATOM   3102  CE2 TYR A 219       7.836   2.464 -16.810  0.00  0.00      P0   C\nATOM   3103  HE2 TYR A 219       7.677   3.437 -16.992  0.00  0.00      P0   H\nATOM   3104  C   TYR A 219      12.321   0.952 -16.202  0.00  1.00      P0   C\nATOM   3105  O   TYR A 219      11.924   1.610 -17.169  0.00  1.00      P0   O\nATOM   3106  N   SER A 220      13.464   1.232 -15.569  0.00  1.00      P0   N\nATOM   3107  HN  SER A 220      13.630   0.711 -14.703  0.00  0.00      P0   H\nATOM   3108  CA  SER A 220      14.376   2.224 -16.127  0.00  5.59      P0   C\nATOM   3109  HA  SER A 220      13.840   3.046 -16.356  0.00  0.00      P0   H\nATOM   3110  CB  SER A 220      15.443   2.605 -15.100  0.00  0.00      P0   C\nATOM   3111  HB1 SER A 220      14.994   2.979 -14.294  0.00  0.00      P0   H\nATOM   3112  HB2 SER A 220      16.046   3.289 -15.503  0.00  0.00      P0   H\nATOM   3113  OG  SER A 220      16.214   1.478 -14.718  0.00  0.00      P0   O\nATOM   3114  HG1 SER A 220      16.071   0.739 -15.374  0.00  0.00      P0   H\nATOM   3115  C   SER A 220      15.027   1.717 -17.406  0.00  1.00      P0   C\nATOM   3116  O   SER A 220      15.280   2.503 -18.326  0.00  1.00      P0   O\nATOM   3117  N   ARG A 221      15.301   0.412 -17.483  0.00  1.00      P0   N\nATOM   3118  HN  ARG A 221      15.128  -0.126 -16.622  0.00  0.00      P0   H\nATOM   3119  CA  ARG A 221      15.808  -0.166 -18.723  0.00  5.60      P0   C\nATOM   3120  HA  ARG A 221      16.556   0.415 -19.070  0.00  0.00      P0   H\nATOM   3121  CB  ARG A 221      16.398  -1.552 -18.457  0.00  0.00      P0   C\nATOM   3122  HB1 ARG A 221      16.616  -1.971 -19.334  0.00  0.00      P0   H\nATOM   3123  HB2 ARG A 221      15.713  -2.095 -17.980  0.00  0.00      P0   H\nATOM   3124  CG  ARG A 221      17.660  -1.537 -17.613  0.00  0.00      P0   C\nATOM   3125  HG1 ARG A 221      17.974  -2.470 -17.467  0.00  0.00      P0   H\nATOM   3126  HG2 ARG A 221      17.474  -1.094 -16.742  0.00  0.00      P0   H\nATOM   3127  CD  ARG A 221      18.771  -0.769 -18.309  0.00  0.00      P0   C\nATOM   3128  HD1 ARG A 221      18.449   0.161 -18.469  0.00  0.00      P0   H\nATOM   3129  HD2 ARG A 221      18.961  -1.218 -19.179  0.00  0.00      P0   H\nATOM   3130  NE  ARG A 221      19.992  -0.727 -17.511  0.00  0.00      P0   N\nATOM   3131  HE  ARG A 221      19.971  -1.146 -16.596  0.00  0.00      P0   H\nATOM   3132  CZ  ARG A 221      21.130  -0.172 -17.915  0.00  0.00      P0   C\nATOM   3133  NH1 ARG A 221      21.206   0.390 -19.114  0.00  0.00      P0   N\nATOM   3134 HH11 ARG A 221      20.411   0.420 -19.711  0.00  0.00      P0   H\nATOM   3135 HH12 ARG A 221      22.082   0.792 -19.418  0.00  0.00      P0   H\nATOM   3136  NH2 ARG A 221      22.192  -0.180 -17.121  0.00  0.00      P0   N\nATOM   3137 HH21 ARG A 221      22.129  -0.588 -16.206  0.00  0.00      P0   H\nATOM   3138 HH22 ARG A 221      23.053   0.218 -17.426  0.00  0.00      P0   H\nATOM   3139  C   ARG A 221      14.721  -0.246 -19.785  0.00  1.00      P0   C\nATOM   3140  O   ARG A 221      15.024  -0.195 -20.983  0.00  1.00      P0   O\nATOM   3141  N   VAL A 222      13.458  -0.375 -19.371  0.00  1.00      P0   N\nATOM   3142  HN  VAL A 222      13.341  -0.517 -18.357  0.00  0.00      P0   H\nATOM   3143  CA  VAL A 222      12.353  -0.314 -20.323  0.00  5.61      P0   C\nATOM   3144  HA  VAL A 222      12.528  -0.984 -21.050  0.00  0.00      P0   H\nATOM   3145  CB  VAL A 222      11.027  -0.680 -19.632  0.00  0.00      P0   C\nATOM   3146  HB  VAL A 222      10.851   0.003 -18.930  0.00  0.00      P0   H\nATOM   3147  CG1 VAL A 222       9.873  -0.608 -20.623  0.00  0.00      P0   C\nATOM   3148 HG11 VAL A 222       9.867  -1.432 -21.190  0.00  0.00      P0   H\nATOM   3149 HG12 VAL A 222       9.009  -0.541 -20.124  0.00  0.00      P0   H\nATOM   3150 HG13 VAL A 222       9.983   0.197 -21.205  0.00  0.00      P0   H\nATOM   3151  CG2 VAL A 222      11.120  -2.064 -19.006  0.00  0.00      P0   C\nATOM   3152 HG21 VAL A 222      10.772  -2.743 -19.653  0.00  0.00      P0   H\nATOM   3153 HG22 VAL A 222      10.572  -2.086 -18.169  0.00  0.00      P0   H\nATOM   3154 HG23 VAL A 222      12.075  -2.266 -18.789  0.00  0.00      P0   H\nATOM   3155  C   VAL A 222      12.290   1.068 -20.961  0.00  1.00      P0   C\nATOM   3156  O   VAL A 222      12.126   1.204 -22.180  0.00  1.00      P0   O\nATOM   3157  N   PHE A 223      12.422   2.115 -20.144  0.00  1.00      P0   N\nATOM   3158  HN  PHE A 223      12.469   1.889 -19.142  0.00  0.00      P0   H\nATOM   3159  CA  PHE A 223      12.490   3.468 -20.686  0.00  5.62      P0   C\nATOM   3160  HA  PHE A 223      11.701   3.577 -21.302  0.00  0.00      P0   H\nATOM   3161  CB  PHE A 223      12.449   4.493 -19.551  0.00  0.00      P0   C\nATOM   3162  HB1 PHE A 223      13.130   5.184 -19.743  0.00  0.00      P0   H\nATOM   3163  HB2 PHE A 223      12.646   4.017 -18.707  0.00  0.00      P0   H\nATOM   3164  CG  PHE A 223      11.121   5.178 -19.400  0.00  0.00      P0   C\nATOM   3165  CD1 PHE A 223      10.089   4.573 -18.701  0.00  0.00      P0   C\nATOM   3166  HD1 PHE A 223      10.227   3.675 -18.290  0.00  0.00      P0   H\nATOM   3167  CE1 PHE A 223       8.865   5.203 -18.563  0.00  0.00      P0   C\nATOM   3168  HE1 PHE A 223       8.125   4.745 -18.054  0.00  0.00      P0   H\nATOM   3169  CZ  PHE A 223       8.664   6.449 -19.123  0.00  0.00      P0   C\nATOM   3170  HZ  PHE A 223       7.777   6.904 -19.021  0.00  0.00      P0   H\nATOM   3171  CD2 PHE A 223      10.907   6.428 -19.955  0.00  0.00      P0   C\nATOM   3172  HD2 PHE A 223      11.646   6.878 -20.460  0.00  0.00      P0   H\nATOM   3173  CE2 PHE A 223       9.686   7.063 -19.820  0.00  0.00      P0   C\nATOM   3174  HE2 PHE A 223       9.546   7.977 -20.236  0.00  0.00      P0   H\nATOM   3175  C   PHE A 223      13.741   3.665 -21.532  0.00  1.00      P0   C\nATOM   3176  O   PHE A 223      13.725   4.445 -22.491  0.00  1.00      P0   O\nATOM   3177  N   GLN A 224      14.820   2.968 -21.185  0.00  1.00      P0   N\nATOM   3178  HN  GLN A 224      14.730   2.376 -20.357  0.00  0.00      P0   H\nATOM   3179  CA  GLN A 224      16.059   3.080 -21.988  0.00  5.63      P0   C\nATOM   3180  HA  GLN A 224      16.230   4.062 -22.137  0.00  0.00      P0   H\nATOM   3181  CB  GLN A 224      17.245   2.435 -21.306  0.00  0.00      P0   C\nATOM   3182  HB1 GLN A 224      18.041   2.473 -21.924  0.00  0.00      P0   H\nATOM   3183  HB2 GLN A 224      17.034   1.465 -21.126  0.00  0.00      P0   H\nATOM   3184  CG  GLN A 224      17.659   3.069 -19.982  0.00  0.00      P0   C\nATOM   3185  HG1 GLN A 224      16.946   2.896 -19.304  0.00  0.00      P0   H\nATOM   3186  HG2 GLN A 224      17.762   4.055 -20.115  0.00  0.00      P0   H\nATOM   3187  CD  GLN A 224      18.984   2.519 -19.436  0.00  0.00      P0   C\nATOM   3188  OE1 GLN A 224      19.693   1.745 -20.115  0.00  0.00      P0   O\nATOM   3189  NE2 GLN A 224      19.328   2.922 -18.196  0.00  0.00      P0   N\nATOM   3190 HE21 GLN A 224      20.182   2.589 -17.766  0.00  0.00      P0   H\nATOM   3191 HE22 GLN A 224      18.703   3.565 -17.720  0.00  0.00      P0   H\nATOM   3192  C   GLN A 224      15.909   2.412 -23.338  0.00  1.00      P0   C\nATOM   3193  O   GLN A 224      16.302   2.974 -24.338  0.00  1.00      P0   O\nATOM   3194  N   GLU A 225      15.197   1.279 -23.389  0.00  1.00      P0   N\nATOM   3195  HN  GLU A 225      14.862   0.933 -22.477  0.00  0.00      P0   H\nATOM   3196  CA  GLU A 225      14.938   0.616 -24.662  0.00  5.64      P0   C\nATOM   3197  HA  GLU A 225      15.798   0.553 -25.192  0.00  0.00      P0   H\nATOM   3198  CB  GLU A 225      14.496  -0.829 -24.425  0.00  0.00      P0   C\nATOM   3199  HB1 GLU A 225      14.230  -1.208 -25.295  0.00  0.00      P0   H\nATOM   3200  HB2 GLU A 225      13.746  -0.812 -23.787  0.00  0.00      P0   H\nATOM   3201  CG  GLU A 225      15.576  -1.729 -23.842  0.00  0.00      P0   C\nATOM   3202  HG1 GLU A 225      15.160  -2.579 -23.575  0.00  0.00      P0   H\nATOM   3203  HG2 GLU A 225      15.989  -1.262 -23.083  0.00  0.00      P0   H\nATOM   3204  CD  GLU A 225      16.674  -2.049 -24.838  0.00  0.00      P0   C\nATOM   3205  OE1 GLU A 225      16.446  -1.885 -26.055  0.00  0.00      P0   O\nATOM   3206  OE2 GLU A 225      17.767  -2.464 -24.401  0.00  0.00      P0   O\nATOM   3207  C   GLU A 225      13.889   1.351 -25.486  0.00  1.00      P0   C\nATOM   3208  O   GLU A 225      13.910   1.271 -26.720  0.00  1.00      P0   O\nATOM   3209  N   ALA A 226      12.969   2.065 -24.832  0.00  1.00      P0   N\nATOM   3210  HN  ALA A 226      13.036   2.037 -23.807  0.00  0.00      P0   H\nATOM   3211  CA  ALA A 226      11.960   2.818 -25.569  0.00  5.65      P0   C\nATOM   3212  HA  ALA A 226      11.534   2.208 -26.250  0.00  0.00      P0   H\nATOM   3213  CB  ALA A 226      10.854   3.286 -24.623  0.00  0.00      P0   C\nATOM   3214  HB1 ALA A 226      10.058   2.691 -24.723  0.00  0.00      P0   H\nATOM   3215  HB2 ALA A 226      10.601   4.226 -24.849  0.00  0.00      P0   H\nATOM   3216  HB3 ALA A 226      11.186   3.247 -23.682  0.00  0.00      P0   H\nATOM   3217  C   ALA A 226      12.579   4.002 -26.299  0.00  1.00      P0   C\nATOM   3218  O   ALA A 226      12.181   4.321 -27.425  0.00  1.00      P0   O\nATOM   3219  N   LYS A 227      13.544   4.658 -25.666  0.00  1.00      P0   N\nATOM   3220  HN  LYS A 227      13.750   4.347 -24.710  0.00  0.00      P0   H\nATOM   3221  CA  LYS A 227      14.260   5.770 -26.335  0.00  5.66      P0   C\nATOM   3222  HA  LYS A 227      13.578   6.325 -26.836  0.00  0.00      P0   H\nATOM   3223  CB  LYS A 227      14.942   6.681 -25.311  0.00  0.00      P0   C\nATOM   3224  HB1 LYS A 227      15.746   6.213 -24.956  0.00  0.00      P0   H\nATOM   3225  HB2 LYS A 227      14.300   6.867 -24.573  0.00  0.00      P0   H\nATOM   3226  CG  LYS A 227      15.401   8.040 -25.887  0.00  0.00      P0   C\nATOM   3227  HG1 LYS A 227      14.638   8.451 -26.384  0.00  0.00      P0   H\nATOM   3228  HG2 LYS A 227      16.163   7.879 -26.515  0.00  0.00      P0   H\nATOM   3229  CD  LYS A 227      15.862   9.016 -24.792  0.00  0.00      P0   C\nATOM   3230  HD1 LYS A 227      16.689   8.665 -24.371  0.00  0.00      P0   H\nATOM   3231  HD2 LYS A 227      15.139   9.112 -24.119  0.00  0.00      P0   H\nATOM   3232  CE  LYS A 227      16.178  10.433 -25.359  0.00  0.00      P0   C\nATOM   3233  HE1 LYS A 227      16.114  11.092 -24.594  0.00  0.00      P0   H\nATOM   3234  HE2 LYS A 227      15.453  10.667 -26.025  0.00  0.00      P0   H\nATOM   3235  NZ  LYS A 227      17.513  10.561 -26.013  0.00  0.00      P0   N\nATOM   3236  HZ1 LYS A 227      17.605   9.856 -26.715  0.00  0.00      P0   H\nATOM   3237  HZ2 LYS A 227      18.230  10.448 -25.327  0.00  0.00      P0   H\nATOM   3238  HZ3 LYS A 227      17.589  11.465 -26.433  0.00  0.00      P0   H\nATOM   3239  C   LYS A 227      15.314   5.277 -27.312  0.00  1.00      P0   C\nATOM   3240  O   LYS A 227      15.490   5.857 -28.378  0.00  1.00      P0   O\nATOM   3241  N   ARG A 228      15.782   4.034 -27.160  0.00  1.00      P0   N\nATOM   3242  HN  ARG A 228      15.370   3.503 -26.378  0.00  0.00      P0   H\nATOM   3243  CA  ARG A 228      16.801   3.507 -28.059  0.00  5.67      P0   C\nATOM   3244  HA  ARG A 228      17.465   4.243 -28.265  0.00  0.00      P0   H\nATOM   3245  CB  ARG A 228      17.579   2.383 -27.369  0.00  0.00      P0   C\nATOM   3246  HB1 ARG A 228      16.990   1.580 -27.320  0.00  0.00      P0   H\nATOM   3247  HB2 ARG A 228      17.816   2.686 -26.450  0.00  0.00      P0   H\nATOM   3248  CG  ARG A 228      18.865   1.980 -28.079  0.00  0.00      P0   C\nATOM   3249  HG1 ARG A 228      19.587   1.839 -27.403  0.00  0.00      P0   H\nATOM   3250  HG2 ARG A 228      19.134   2.703 -28.713  0.00  0.00      P0   H\nATOM   3251  CD  ARG A 228      18.702   0.691 -28.870  0.00  0.00      P0   C\nATOM   3252  HD1 ARG A 228      19.481   0.607 -29.487  0.00  0.00      P0   H\nATOM   3253  HD2 ARG A 228      17.857   0.756 -29.395  0.00  0.00      P0   H\nATOM   3254  NE  ARG A 228      18.643  -0.483 -28.004  0.00  0.00      P0   N\nATOM   3255  HE  ARG A 228      18.640  -0.334 -27.008  0.00  0.00      P0   H\nATOM   3256  CZ  ARG A 228      18.593  -1.735 -28.447  0.00  0.00      P0   C\nATOM   3257  NH1 ARG A 228      18.596  -1.980 -29.749  0.00  0.00      P0   N\nATOM   3258 HH11 ARG A 228      18.655  -1.234 -30.406  0.00  0.00      P0   H\nATOM   3259 HH12 ARG A 228      18.539  -2.935 -30.075  0.00  0.00      P0   H\nATOM   3260  NH2 ARG A 228      18.542  -2.744 -27.587  0.00  0.00      P0   N\nATOM   3261 HH21 ARG A 228      18.562  -2.560 -26.600  0.00  0.00      P0   H\nATOM   3262 HH22 ARG A 228      18.486  -3.683 -27.912  0.00  0.00      P0   H\nATOM   3263  C   ARG A 228      16.207   3.009 -29.370  0.00  1.00      P0   C\nATOM   3264  O   ARG A 228      16.853   3.118 -30.418  0.00  1.00      P0   O\nATOM   3265  N   GLN A 229      14.989   2.466 -29.336  0.00  1.00      P0   N\nATOM   3266  HN  GLN A 229      14.553   2.434 -28.397  0.00  0.00      P0   H\nATOM   3267  CA  GLN A 229      14.347   1.965 -30.544  0.00  5.68      P0   C\nATOM   3268  HA  GLN A 229      15.078   1.651 -31.178  0.00  0.00      P0   H\nATOM   3269  CB  GLN A 229      13.448   0.770 -30.209  0.00  0.00      P0   C\nATOM   3270  HB1 GLN A 229      13.011   0.451 -31.054  0.00  0.00      P0   H\nATOM   3271  HB2 GLN A 229      12.740   1.072 -29.567  0.00  0.00      P0   H\nATOM   3272  CG  GLN A 229      14.184  -0.405 -29.584  0.00  0.00      P0   C\nATOM   3273  HG1 GLN A 229      14.535  -0.124 -28.691  0.00  0.00      P0   H\nATOM   3274  HG2 GLN A 229      14.946  -0.658 -30.178  0.00  0.00      P0   H\nATOM   3275  CD  GLN A 229      13.294  -1.618 -29.397  0.00  0.00      P0   C\nATOM   3276  OE1 GLN A 229      12.191  -1.683 -29.941  0.00  0.00      P0   O\nATOM   3277  NE2 GLN A 229      13.769  -2.586 -28.621  0.00  0.00      P0   N\nATOM   3278 HE21 GLN A 229      13.222  -3.426 -28.438  0.00  0.00      P0   H\nATOM   3279 HE22 GLN A 229      14.696  -2.469 -28.215  0.00  0.00      P0   H\nATOM   3280  C   GLN A 229      13.529   3.023 -31.271  0.00  1.00      P0   C\nATOM   3281  O   GLN A 229      13.281   2.875 -32.473  0.00  1.00      P0   O\nATOM   3282  N   LEU A 230      13.085   4.072 -30.554  0.00  1.00      P0   N\nATOM   3283  HN  LEU A 230      13.192   3.988 -29.544  0.00  0.00      P0   H\nATOM   3284  CA  LEU A 230      12.514   5.186 -31.252  0.00  5.69      P0   C\nATOM   3285  HA  LEU A 230      11.793   4.858 -31.856  0.00  0.00      P0   H\nATOM   3286  CB  LEU A 230      11.994   6.328 -30.359  0.00  0.00      P0   C\nATOM   3287  HB1 LEU A 230      12.065   7.167 -30.870  0.00  0.00      P0   H\nATOM   3288  HB2 LEU A 230      12.547   6.347 -29.542  0.00  0.00      P0   H\nATOM   3289  CG  LEU A 230      10.532   6.167 -29.926  0.00  0.00      P0   C\nATOM   3290  HG  LEU A 230      10.434   5.309 -29.419  0.00  0.00      P0   H\nATOM   3291  CD1 LEU A 230      10.071   7.331 -29.031  0.00  0.00      P0   C\nATOM   3292 HD11 LEU A 230      10.643   7.360 -28.213  0.00  0.00      P0   H\nATOM   3293 HD12 LEU A 230       9.118   7.186 -28.773  0.00  0.00      P0   H\nATOM   3294 HD13 LEU A 230      10.160   8.186 -29.536  0.00  0.00      P0   H\nATOM   3295  CD2 LEU A 230       9.652   6.042 -31.177  0.00  0.00      P0   C\nATOM   3296 HD21 LEU A 230       9.753   6.865 -31.733  0.00  0.00      P0   H\nATOM   3297 HD22 LEU A 230       9.940   5.243 -31.702  0.00  0.00      P0   H\nATOM   3298 HD23 LEU A 230       8.700   5.937 -30.900  0.00  0.00      P0   H\nATOM   3299  C   LEU A 230      13.605   5.785 -32.080  0.00  1.00      P0   C\nATOM   3300  O   LEU A 230      13.339   6.252 -33.185  0.00  1.00      P0   O\nATOM   3301  N   GLN A 231      14.849   5.807 -31.544  0.00  1.00      P0   N\nATOM   3302  HN  GLN A 231      14.901   5.346 -30.606  0.00  0.00      P0   H\nATOM   3303  CA  GLN A 231      15.977   6.408 -32.209  0.00  5.70      P0   C\nATOM   3304  HA  GLN A 231      15.728   7.351 -32.462  0.00  0.00      P0   H\nATOM   3305  CB  GLN A 231      17.231   6.419 -31.319  0.00  0.00      P0   C\nATOM   3306  HB1 GLN A 231      17.605   5.493 -31.283  0.00  0.00      P0   H\nATOM   3307  HB2 GLN A 231      16.969   6.712 -30.401  0.00  0.00      P0   H\nATOM   3308  CG  GLN A 231      18.327   7.356 -31.822  0.00  0.00      P0   C\nATOM   3309  HG1 GLN A 231      18.479   7.187 -32.770  0.00  0.00      P0   H\nATOM   3310  HG2 GLN A 231      19.122   7.242 -31.269  0.00  0.00      P0   H\nATOM   3311  CD  GLN A 231      17.805   8.776 -31.650  0.00  0.00      P0   C\nATOM   3312  OE1 GLN A 231      18.057   9.650 -32.479  0.00  0.00      P0   O\nATOM   3313  NE2 GLN A 231      17.068   9.019 -30.533  0.00  0.00      P0   N\nATOM   3314 HE21 GLN A 231      16.704   9.941 -30.353  0.00  0.00      P0   H\nATOM   3315 HE22 GLN A 231      16.909   8.236 -29.908  0.00  0.00      P0   H\nATOM   3316  C   GLN A 231      16.289   5.655 -33.472  0.00  1.00      P0   C\nATOM   3317  O   GLN A 231      16.412   6.249 -34.542  0.00  1.00      P0   O\nATOM   3318  N   LYS A 232      16.384   4.314 -33.388  0.00  1.00      P0   N\nATOM   3319  HN  LYS A 232      16.311   3.943 -32.419  0.00  0.00      P0   H\nATOM   3320  CA  LYS A 232      16.573   3.471 -34.563  0.00  5.71      P0   C\nATOM   3321  HA  LYS A 232      17.456   3.699 -34.991  0.00  0.00      P0   H\nATOM   3322  CB  LYS A 232      16.625   2.001 -34.145  0.00  0.00      P0   C\nATOM   3323  HB1 LYS A 232      17.092   1.490 -34.858  0.00  0.00      P0   H\nATOM   3324  HB2 LYS A 232      15.694   1.675 -34.034  0.00  0.00      P0   H\nATOM   3325  CG  LYS A 232      17.368   1.788 -32.835  0.00  0.00      P0   C\nATOM   3326  HG1 LYS A 232      16.871   2.255 -32.099  0.00  0.00      P0   H\nATOM   3327  HG2 LYS A 232      18.286   2.189 -32.911  0.00  0.00      P0   H\nATOM   3328  CD  LYS A 232      17.504   0.318 -32.481  0.00  0.00      P0   C\nATOM   3329  HD1 LYS A 232      16.629  -0.132 -32.628  0.00  0.00      P0   H\nATOM   3330  HD2 LYS A 232      17.777   0.240 -31.527  0.00  0.00      P0   H\nATOM   3331  CE  LYS A 232      18.550  -0.361 -33.343  0.00  0.00      P0   C\nATOM   3332  HE1 LYS A 232      19.395   0.175 -33.316  0.00  0.00      P0   H\nATOM   3333  HE2 LYS A 232      18.218  -0.402 -34.287  0.00  0.00      P0   H\nATOM   3334  NZ  LYS A 232      18.832  -1.742 -32.865  0.00  0.00      P0   N\nATOM   3335  HZ1 LYS A 232      18.178  -2.376 -33.278  0.00  0.00      P0   H\nATOM   3336  HZ2 LYS A 232      18.745  -1.773 -31.870  0.00  0.00      P0   H\nATOM   3337  HZ3 LYS A 232      19.760  -2.001 -33.129  0.00  0.00      P0   H\nATOM   3338  C   LYS A 232      15.462   3.703 -35.586  0.00  1.00      P0   C\nATOM   3339  O   LYS A 232      15.717   3.864 -36.785  0.00  1.00      P0   O\nATOM   3340  N   ILE A 233      14.226   3.731 -35.095  0.00  1.00      P0   N\nATOM   3341  HN  ILE A 233      14.165   3.539 -34.071  0.00  0.00      P0   H\nATOM   3342  CA  ILE A 233      13.060   4.006 -35.927  0.00  5.72      P0   C\nATOM   3343  HA  ILE A 233      13.029   3.276 -36.620  0.00  0.00      P0   H\nATOM   3344  CB  ILE A 233      11.784   4.087 -35.084  0.00  0.00      P0   C\nATOM   3345  HB  ILE A 233      11.969   4.662 -34.295  0.00  0.00      P0   H\nATOM   3346  CG2 ILE A 233      10.657   4.710 -35.893  0.00  0.00      P0   C\nATOM   3347 HG21 ILE A 233      10.944   5.613 -36.208  0.00  0.00      P0   H\nATOM   3348 HG22 ILE A 233       9.848   4.792 -35.312  0.00  0.00      P0   H\nATOM   3349 HG23 ILE A 233      10.457   4.123 -36.675  0.00  0.00      P0   H\nATOM   3350  CG1 ILE A 233      11.397   2.698 -34.575  0.00  0.00      P0   C\nATOM   3351 HG11 ILE A 233      12.150   2.348 -34.020  0.00  0.00      P0   H\nATOM   3352 HG12 ILE A 233      11.275   2.096 -35.362  0.00  0.00      P0   H\nATOM   3353  CD  ILE A 233      10.133   2.683 -33.744  0.00  0.00      P0   C\nATOM   3354  HD1 ILE A 233      10.255   3.270 -32.945  0.00  0.00      P0   H\nATOM   3355  HD2 ILE A 233       9.943   1.748 -33.448  0.00  0.00      P0   H\nATOM   3356  HD3 ILE A 233       9.371   3.021 -34.294  0.00  0.00      P0   H\nATOM   3357  C   ILE A 233      13.213   5.318 -36.682  0.00  1.00      P0   C\nATOM   3358  O   ILE A 233      12.991   5.376 -37.890  0.00  1.00      P0   O\nATOM   3359  N   ASP A 234      13.583   6.371 -35.959  0.00  1.00      P0   N\nATOM   3360  HN  ASP A 234      13.711   6.184 -34.947  0.00  0.00      P0   H\nATOM   3361  CA  ASP A 234      13.784   7.678 -36.570  0.00  5.73      P0   C\nATOM   3362  HA  ASP A 234      12.929   7.924 -37.037  0.00  0.00      P0   H\nATOM   3363  CB  ASP A 234      14.148   8.722 -35.514  0.00  0.00      P0   C\nATOM   3364  HB1 ASP A 234      14.915   8.375 -34.990  0.00  0.00      P0   H\nATOM   3365  HB2 ASP A 234      13.357   8.857 -34.930  0.00  0.00      P0   H\nATOM   3366  CG  ASP A 234      14.536  10.057 -36.124  0.00  0.00      P0   C\nATOM   3367  OD1 ASP A 234      13.629  10.860 -36.429  0.00  0.00      P0   O\nATOM   3368  OD2 ASP A 234      15.748  10.302 -36.297  0.00  0.00      P0   O\nATOM   3369  C   ASP A 234      14.870   7.608 -37.635  0.00  1.00      P0   C\nATOM   3370  O   ASP A 234      14.798   8.293 -38.653  0.00  1.00      P0   O\nATOM   3371  N   LYS A 235      15.878   6.774 -37.398  0.00  1.00      P0   N\nATOM   3372  HN  LYS A 235      15.840   6.285 -36.488  0.00  0.00      P0   H\nATOM   3373  CA  LYS A 235      16.941   6.590 -38.374  0.00  5.74      P0   C\nATOM   3374  HA  LYS A 235      17.323   7.488 -38.616  0.00  0.00      P0   H\nATOM   3375  CB  LYS A 235      18.082   5.753 -37.793  0.00  0.00      P0   C\nATOM   3376  HB1 LYS A 235      17.762   4.813 -37.698  0.00  0.00      P0   H\nATOM   3377  HB2 LYS A 235      18.317   6.123 -36.899  0.00  0.00      P0   H\nATOM   3378  CG  LYS A 235      19.339   5.746 -38.653  0.00  0.00      P0   C\nATOM   3379  HG1 LYS A 235      19.570   6.686 -38.900  0.00  0.00      P0   H\nATOM   3380  HG2 LYS A 235      19.163   5.215 -39.481  0.00  0.00      P0   H\nATOM   3381  CD  LYS A 235      20.513   5.129 -37.911  0.00  0.00      P0   C\nATOM   3382  HD1 LYS A 235      20.335   4.160 -37.774  0.00  0.00      P0   H\nATOM   3383  HD2 LYS A 235      20.618   5.588 -37.035  0.00  0.00      P0   H\nATOM   3384  CE  LYS A 235      21.806   5.279 -38.695  0.00  0.00      P0   C\nATOM   3385  HE1 LYS A 235      21.970   6.254 -38.870  0.00  0.00      P0   H\nATOM   3386  HE2 LYS A 235      21.712   4.803 -39.573  0.00  0.00      P0   H\nATOM   3387  NZ  LYS A 235      22.970   4.715 -37.955  0.00  0.00      P0   N\nATOM   3388  HZ1 LYS A 235      23.809   4.903 -38.465  0.00  0.00      P0   H\nATOM   3389  HZ2 LYS A 235      22.851   3.727 -37.856  0.00  0.00      P0   H\nATOM   3390  HZ3 LYS A 235      23.025   5.139 -37.052  0.00  0.00      P0   H\nATOM   3391  C   LYS A 235      16.391   5.938 -39.636  0.00  1.00      P0   C\nATOM   3392  O   LYS A 235      16.826   6.244 -40.747  0.00  1.00      P0   O\nATOM   3393  N   SER A 236      15.430   5.036 -39.460  0.00  1.00      P0   N\nATOM   3394  HN  SER A 236      15.169   4.857 -38.476  0.00  0.00      P0   H\nATOM   3395  CA  SER A 236      14.808   4.366 -40.599  0.00  5.75      P0   C\nATOM   3396  HA  SER A 236      15.482   4.344 -41.356  0.00  0.00      P0   H\nATOM   3397  CB  SER A 236      14.466   2.917 -40.247  0.00  0.00      P0   C\nATOM   3398  HB1 SER A 236      14.101   2.469 -41.056  0.00  0.00      P0   H\nATOM   3399  HB2 SER A 236      13.791   2.915 -39.516  0.00  0.00      P0   H\nATOM   3400  OG  SER A 236      15.620   2.218 -39.813  0.00  0.00      P0   O\nATOM   3401  HG1 SER A 236      15.876   2.532 -38.899  0.00  0.00      P0   H\nATOM   3402  C   SER A 236      13.561   5.092 -41.109  0.00  1.00      P0   C\nATOM   3403  O   SER A 236      13.014   4.734 -42.150  0.00  1.00      P0   O\nATOM   3404  N   GLU A 237      13.117   6.110 -40.378  0.00  1.00      P0   N\nATOM   3405  HN  GLU A 237      13.676   6.320 -39.531  0.00  0.00      P0   H\nATOM   3406  CA  GLU A 237      11.924   6.861 -40.765  0.00  5.76      P0   C\nATOM   3407  HA  GLU A 237      11.532   6.458 -41.611  0.00  0.00      P0   H\nATOM   3408  CB  GLU A 237      10.811   6.694 -39.724  0.00  0.00      P0   C\nATOM   3409  HB1 GLU A 237      11.174   6.959 -38.852  0.00  0.00      P0   H\nATOM   3410  HB2 GLU A 237      10.522   5.756 -39.742  0.00  0.00      P0   H\nATOM   3411  CG  GLU A 237       9.584   7.559 -39.996  0.00  0.00      P0   C\nATOM   3412  HG1 GLU A 237       9.232   7.324 -40.884  0.00  0.00      P0   H\nATOM   3413  HG2 GLU A 237       9.856   8.503 -39.942  0.00  0.00      P0   H\nATOM   3414  CD  GLU A 237       8.466   7.344 -38.988  0.00  0.00      P0   C\nATOM   3415  OE1 GLU A 237       8.477   6.307 -38.292  0.00  0.00      P0   O\nATOM   3416  OE2 GLU A 237       7.574   8.214 -38.900  0.00  0.00      P0   O\nATOM   3417  C   GLU A 237      12.204   8.345 -40.998  0.00  1.00      P0   C\nATOM   3418  O   GLU A 237      12.537   9.081 -40.070  0.00  1.00      P0   O\nATOM   3419  N   GLY A 238      12.097   8.774 -42.279  0.00  1.00      P0   N\nATOM   3420  HN  GLY A 238      11.773   8.043 -42.939  0.00  0.00      P0   H\nATOM   3421  CA  GLY A 238      12.413  10.126 -42.643  0.00  0.00      P0   C\nATOM   3422  HA1 GLY A 238      13.225  10.435 -42.142  0.00  0.00      P0   H\nATOM   3423  HA2 GLY A 238      11.645  10.729 -42.419  0.00  0.00      P0   H\nATOM   3424  C   GLY A 238      12.683  10.181 -44.120  0.00  1.00      P0   C\nATOM   3425  O   GLY A 238      12.078   9.452 -44.906  0.00  1.00      P0   O\nATOM   3426  N   ARG A 239      13.617  11.070 -44.525  0.00  1.00      P0   N\nATOM   3427  HN  ARG A 239      14.068  11.580 -43.718  0.00  0.00      P0   H\nATOM   3428  CA  ARG A 239      13.965  11.303 -45.902  0.00  0.00      P0   C\nATOM   3429  HA  ARG A 239      13.126  11.504 -46.422  0.00  0.00      P0   H\nATOM   3430  CB  ARG A 239      14.952  12.475 -46.083  0.00  0.00      P0   C\nATOM   3431  HB1 ARG A 239      15.778  12.266 -45.570  0.00  0.00      P0   H\nATOM   3432  HB2 ARG A 239      14.523  13.298 -45.724  0.00  0.00      P0   H\nATOM   3433  CG  ARG A 239      15.356  12.749 -47.536  0.00  0.00      P0   C\nATOM   3434  HG1 ARG A 239      14.564  13.109 -48.038  0.00  0.00      P0   H\nATOM   3435  HG2 ARG A 239      15.648  11.890 -47.965  0.00  0.00      P0   H\nATOM   3436  CD  ARG A 239      16.500  13.760 -47.683  0.00  0.00      P0   C\nATOM   3437  HD1 ARG A 239      16.799  13.755 -48.612  0.00  0.00      P0   H\nATOM   3438  HD2 ARG A 239      17.201  13.529 -47.045  0.00  0.00      P0   H\nATOM   3439  NE  ARG A 239      15.965  15.110 -47.350  0.00  0.00      P0   N\nATOM   3440  HE  ARG A 239      15.095  15.198 -46.943  0.00  0.00      P0   H\nATOM   3441  CZ  ARG A 239      16.709  16.219 -47.623  0.00  0.00      P0   C\nATOM   3442  NH1 ARG A 239      17.985  16.096 -48.093  0.00  0.00      P0   N\nATOM   3443 HH11 ARG A 239      18.355  15.194 -48.251  0.00  0.00      P0   H\nATOM   3444 HH12 ARG A 239      18.501  16.917 -48.262  0.00  0.00      P0   H\nATOM   3445  NH2 ARG A 239      16.166  17.460 -47.449  0.00  0.00      P0   N\nATOM   3446 HH21 ARG A 239      15.223  17.529 -47.142  0.00  0.00      P0   H\nATOM   3447 HH22 ARG A 239      16.714  18.245 -47.629  0.00  0.00      P0   H\nATOM   3448  C   ARG A 239      14.614  10.082 -46.473  0.00  1.00      P0   C\nATOM   3449  O   ARG A 239      15.352   9.372 -45.792  0.00  1.00      P0   O\nATOM   3450  N   PHE A 240      14.343   9.814 -47.770  0.00  1.00      P0   N\nATOM   3451  HN  PHE A 240      13.712  10.503 -48.218  0.00  0.00      P0   H\nATOM   3452  CA  PHE A 240      14.902   8.666 -48.423  0.00  0.00      P0   C\nATOM   3453  HA  PHE A 240      15.050   7.965 -47.717  0.00  0.00      P0   H\nATOM   3454  CB  PHE A 240      14.040   8.110 -49.567  0.00  0.00      P0   C\nATOM   3455  HB1 PHE A 240      14.549   7.432 -50.013  0.00  0.00      P0   H\nATOM   3456  HB2 PHE A 240      13.747   8.851 -50.098  0.00  0.00      P0   H\nATOM   3457  CG  PHE A 240      12.860   7.481 -48.916  0.00  0.00      P0   C\nATOM   3458  CD1 PHE A 240      12.970   6.225 -48.360  0.00  0.00      P0   C\nATOM   3459  HD1 PHE A 240      13.843   5.741 -48.395  0.00  0.00      P0   H\nATOM   3460  CE1 PHE A 240      11.890   5.630 -47.753  0.00  0.00      P0   C\nATOM   3461  HE1 PHE A 240      11.988   4.708 -47.351  0.00  0.00      P0   H\nATOM   3462  CZ  PHE A 240      10.686   6.290 -47.699  0.00  0.00      P0   C\nATOM   3463  HZ  PHE A 240       9.898   5.858 -47.255  0.00  0.00      P0   H\nATOM   3464  CD2 PHE A 240      11.653   8.136 -48.863  0.00  0.00      P0   C\nATOM   3465  HD2 PHE A 240      11.560   9.048 -49.265  0.00  0.00      P0   H\nATOM   3466  CE2 PHE A 240      10.571   7.542 -48.255  0.00  0.00      P0   C\nATOM   3467  HE2 PHE A 240       9.680   8.038 -48.221  0.00  0.00      P0   H\nATOM   3468  C   PHE A 240      16.237   9.020 -48.983  0.00  1.00      P0   C\nATOM   3469  O   PHE A 240      16.466  10.142 -49.433  0.00  1.00      P0   O\nATOM   3470  N   HIS A 241      17.163   8.044 -48.945  0.00  1.00      P0   N\nATOM   3471  HN  HIS A 241      16.812   7.150 -48.539  0.00  0.00      P0   H\nATOM   3472  CA  HIS A 241      18.494   8.248 -49.427  0.00  0.00      P0   C\nATOM   3473  HA  HIS A 241      18.811   9.155 -49.133  0.00  0.00      P0   H\nATOM   3474  CB  HIS A 241      19.485   7.197 -48.896  0.00  0.00      P0   C\nATOM   3475  HB1 HIS A 241      19.563   7.301 -47.899  0.00  0.00      P0   H\nATOM   3476  HB2 HIS A 241      20.386   7.365 -49.308  0.00  0.00      P0   H\nATOM   3477  ND1 HIS A 241      19.835   4.904 -49.937  0.00  0.00      P0   N\nATOM   3478  HD1 HIS A 241      20.698   5.071 -50.363  0.00  0.00      P0   H\nATOM   3479  CG  HIS A 241      19.083   5.783 -49.194  0.00  0.00      P0   C\nATOM   3480  CE1 HIS A 241      19.150   3.733 -49.973  0.00  0.00      P0   C\nATOM   3481  HE1 HIS A 241      19.488   2.912 -50.462  0.00  0.00      P0   H\nATOM   3482  NE2 HIS A 241      18.012   3.800 -49.307  0.00  0.00      P0   N\nATOM   3483  CD2 HIS A 241      17.970   5.092 -48.815  0.00  0.00      P0   C\nATOM   3484  HD2 HIS A 241      17.217   5.471 -48.253  0.00  0.00      P0   H\nATOM   3485  C   HIS A 241      18.472   8.210 -50.920  0.00  1.00      P0   C\nATOM   3486  O   HIS A 241      17.658   7.513 -51.527  0.00  1.00      P0   O\nATOM   3487  N   VAL A 242      19.360   9.004 -51.551  0.00  1.00      P0   N\nATOM   3488  HN  VAL A 242      19.962   9.554 -50.931  0.00  0.00      P0   H\nATOM   3489  CA  VAL A 242      19.395   9.020 -52.981  0.00  0.00      P0   C\nATOM   3490  HA  VAL A 242      18.767   8.347 -53.332  0.00  0.00      P0   H\nATOM   3491  CB  VAL A 242      19.156  10.401 -53.545  0.00  0.00      P0   C\nATOM   3492  HB  VAL A 242      19.898  10.999 -53.255  0.00  0.00      P0   H\nATOM   3493  CG1 VAL A 242      19.211  10.372 -55.086  0.00  0.00      P0   C\nATOM   3494 HG11 VAL A 242      19.660  11.201 -55.409  0.00  0.00      P0   H\nATOM   3495 HG12 VAL A 242      19.726   9.570 -55.378  0.00  0.00      P0   H\nATOM   3496 HG13 VAL A 242      18.281  10.328 -55.442  0.00  0.00      P0   H\nATOM   3497  CG2 VAL A 242      17.831  10.923 -52.971  0.00  0.00      P0   C\nATOM   3498 HG21 VAL A 242      18.009  11.369 -52.097  0.00  0.00      P0   H\nATOM   3499 HG22 VAL A 242      17.209  10.155 -52.840  0.00  0.00      P0   H\nATOM   3500 HG23 VAL A 242      17.434  11.576 -53.610  0.00  0.00      P0   H\nATOM   3501  C   VAL A 242      20.812   8.554 -53.327  0.00  1.00      P0   C\nATOM   3502  O   VAL A 242      21.495   9.181 -54.184  0.00  1.00      P0   O\nATOM   3503  NT  VAL A 242      21.198   7.751 -52.873  0.00  0.00      P0   N\nATOM   3504  HNT VAL A 242      20.417   8.721 -55.169  0.00  0.00      P0   H\nATOM   3505  CAT VAL A 242      21.841   8.234 -54.547  0.00  0.00      P0   C\nATOM   3506  HT1 VAL A 242      21.982   7.317 -54.176  0.00  0.00      P0   H\nATOM   3507  HT2 VAL A 242      21.945   8.219 -55.542  0.00  0.00      P0   H\nATOM   3508  HT3 VAL A 242      22.500   8.870 -54.146  0.00  0.00      P0   H\nATOM   3509  CAY GLY A 257       3.227   3.107 -47.325  0.00  0.00      P0   C\nATOM   3510  HY1 GLY A 257       2.352   2.703 -47.593  0.00  0.00      P0   H\nATOM   3511  HY2 GLY A 257       3.591   2.632 -46.523  0.00  0.00      P0   H\nATOM   3512  HY3 GLY A 257       3.877   3.044 -48.082  0.00  0.00      P0   H\nATOM   3513  CY  GLY A 257       3.084   4.070 -47.097  0.00  0.00      P0   C\nATOM   3514  OY  GLY A 257       3.959   4.474 -46.829  0.00  0.00      P0   O\nATOM   3515  N   GLY A 257       2.117   4.293 -47.216  0.00  1.00      P0   N\nATOM   3516  HN  GLY A 257       1.242   3.889 -47.484  0.00  0.00      P0   H\nATOM   3517  CA  GLY A 257       1.906   5.719 -46.878  0.00  0.00      P0   C\nATOM   3518  HA1 GLY A 257       0.938   5.936 -47.010  0.00  0.00      P0   H\nATOM   3519  HA2 GLY A 257       2.458   6.277 -47.498  0.00  0.00      P0   H\nATOM   3520  C   GLY A 257       2.309   5.944 -45.465  0.00  1.00      P0   C\nATOM   3521  O   GLY A 257       3.457   5.706 -45.089  0.00  1.00      P0   O\nATOM   3522  N   LEU A 258       1.368   6.418 -44.632  0.00  1.00      P0   N\nATOM   3523  HN  LEU A 258       0.468   6.618 -45.050  0.00  0.00      P0   H\nATOM   3524  CA  LEU A 258       1.730   6.588 -43.262  0.00  0.00      P0   C\nATOM   3525  HA  LEU A 258       2.632   6.983 -43.208  0.00  0.00      P0   H\nATOM   3526  CB  LEU A 258       0.662   7.341 -42.448  0.00  0.00      P0   C\nATOM   3527  HB1 LEU A 258       1.022   7.493 -41.541  0.00  0.00      P0   H\nATOM   3528  HB2 LEU A 258      -0.154   6.781 -42.424  0.00  0.00      P0   H\nATOM   3529  CG  LEU A 258       0.257   8.717 -43.019  0.00  0.00      P0   C\nATOM   3530  HG  LEU A 258      -0.118   8.589 -43.934  0.00  0.00      P0   H\nATOM   3531  CD1 LEU A 258      -0.804   9.385 -42.126  0.00  0.00      P0   C\nATOM   3532 HD11 LEU A 258      -1.610   8.799 -42.084  0.00  0.00      P0   H\nATOM   3533 HD12 LEU A 258      -1.048  10.270 -42.516  0.00  0.00      P0   H\nATOM   3534 HD13 LEU A 258      -0.428   9.510 -41.211  0.00  0.00      P0   H\nATOM   3535  CD2 LEU A 258       1.478   9.616 -43.282  0.00  0.00      P0   C\nATOM   3536 HD21 LEU A 258       1.966   9.763 -42.425  0.00  0.00      P0   H\nATOM   3537 HD22 LEU A 258       2.078   9.167 -43.940  0.00  0.00      P0   H\nATOM   3538 HD23 LEU A 258       1.167  10.490 -43.649  0.00  0.00      P0   H\nATOM   3539  C   LEU A 258       1.775   5.196 -42.731  0.00  1.00      P0   C\nATOM   3540  O   LEU A 258       0.740   4.539 -42.629  0.00  1.00      P0   O\nATOM   3541  N   ARG A 259       2.970   4.699 -42.368  0.00  1.00      P0   N\nATOM   3542  HN  ARG A 259       3.752   5.334 -42.432  0.00  0.00      P0   H\nATOM   3543  CA  ARG A 259       3.005   3.337 -41.934  0.00  0.00      P0   C\nATOM   3544  HA  ARG A 259       2.097   2.925 -42.063  0.00  0.00      P0   H\nATOM   3545  CB  ARG A 259       4.058   2.461 -42.634  0.00  0.00      P0   C\nATOM   3546  HB1 ARG A 259       4.088   1.575 -42.161  0.00  0.00      P0   H\nATOM   3547  HB2 ARG A 259       4.952   2.909 -42.529  0.00  0.00      P0   H\nATOM   3548  CG  ARG A 259       3.847   2.186 -44.123  0.00  0.00      P0   C\nATOM   3549  HG1 ARG A 259       4.089   2.991 -44.646  0.00  0.00      P0   H\nATOM   3550  HG2 ARG A 259       2.906   1.924 -44.282  0.00  0.00      P0   H\nATOM   3551  CD  ARG A 259       4.747   1.034 -44.583  0.00  0.00      P0   C\nATOM   3552  HD1 ARG A 259       4.436   0.207 -44.151  0.00  0.00      P0   H\nATOM   3553  HD2 ARG A 259       5.676   1.253 -44.351  0.00  0.00      P0   H\nATOM   3554  NE  ARG A 259       4.642   0.876 -46.061  0.00  0.00      P0   N\nATOM   3555  HE  ARG A 259       3.860   0.461 -46.448  0.00  0.00      P0   H\nATOM   3556  CZ  ARG A 259       5.650   1.317 -46.870  0.00  0.00      P0   C\nATOM   3557  NH1 ARG A 259       6.727   1.958 -46.327  0.00  0.00      P0   N\nATOM   3558 HH11 ARG A 259       6.774   2.079 -45.350  0.00  0.00      P0   H\nATOM   3559 HH12 ARG A 259       7.430   2.282 -46.939  0.00  0.00      P0   H\nATOM   3560  NH2 ARG A 259       5.595   1.091 -48.216  0.00  0.00      P0   N\nATOM   3561 HH21 ARG A 259       4.820   0.584 -48.582  0.00  0.00      P0   H\nATOM   3562 HH22 ARG A 259       6.309   1.426 -48.781  0.00  0.00      P0   H\nATOM   3563  C   ARG A 259       3.355   3.304 -40.488  0.00  1.00      P0   C\nATOM   3564  O   ARG A 259       3.899   4.261 -39.938  0.00  1.00      P0   O\nATOM   3565  N   ARG A 260       3.031   2.175 -39.833  0.00  1.00      P0   N\nATOM   3566  HN  ARG A 260       2.578   1.457 -40.408  0.00  0.00      P0   H\nATOM   3567  CA  ARG A 260       3.331   2.068 -38.445  0.00  0.00      P0   C\nATOM   3568  HA  ARG A 260       2.924   2.833 -37.957  0.00  0.00      P0   H\nATOM   3569  CB  ARG A 260       2.866   0.739 -37.824  0.00  0.00      P0   C\nATOM   3570  HB1 ARG A 260       3.129   0.733 -36.870  0.00  0.00      P0   H\nATOM   3571  HB2 ARG A 260       3.299  -0.002 -38.317  0.00  0.00      P0   H\nATOM   3572  CG  ARG A 260       1.351   0.538 -37.899  0.00  0.00      P0   C\nATOM   3573  HG1 ARG A 260       0.892   1.402 -37.675  0.00  0.00      P0   H\nATOM   3574  HG2 ARG A 260       1.076  -0.157 -37.228  0.00  0.00      P0   H\nATOM   3575  CD  ARG A 260       0.853   0.086 -39.275  0.00  0.00      P0   C\nATOM   3576  HD1 ARG A 260       1.584   0.170 -39.912  0.00  0.00      P0   H\nATOM   3577  HD2 ARG A 260       0.063   0.607 -39.507  0.00  0.00      P0   H\nATOM   3578  NE  ARG A 260       0.469  -1.353 -39.163  0.00  0.00      P0   N\nATOM   3579  HE  ARG A 260      -0.015  -1.662 -38.385  0.00  0.00      P0   H\nATOM   3580  CZ  ARG A 260       0.797  -2.231 -40.154  0.00  0.00      P0   C\nATOM   3581  NH1 ARG A 260       1.557  -1.817 -41.210  0.00  0.00      P0   N\nATOM   3582 HH11 ARG A 260       1.880  -0.885 -41.236  0.00  0.00      P0   H\nATOM   3583 HH12 ARG A 260       1.762  -2.472 -41.919  0.00  0.00      P0   H\nATOM   3584  NH2 ARG A 260       0.373  -3.529 -40.085  0.00  0.00      P0   N\nATOM   3585 HH21 ARG A 260      -0.158  -3.814 -39.293  0.00  0.00      P0   H\nATOM   3586 HH22 ARG A 260       0.598  -4.139 -40.806  0.00  0.00      P0   H\nATOM   3587  C   ARG A 260       4.813   2.153 -38.344  0.00  1.00      P0   C\nATOM   3588  O   ARG A 260       5.541   1.556 -39.136  0.00  1.00      P0   O\nATOM   3589  N   SER A 261       5.298   2.938 -37.369  0.00  1.00      P0   N\nATOM   3590  HN  SER A 261       4.587   3.366 -36.765  0.00  0.00      P0   H\nATOM   3591  CA  SER A 261       6.710   3.113 -37.246  0.00  0.00      P0   C\nATOM   3592  HA  SER A 261       7.132   2.223 -37.102  0.00  0.00      P0   H\nATOM   3593  CB  SER A 261       7.341   3.823 -38.454  0.00  0.00      P0   C\nATOM   3594  HB1 SER A 261       7.064   4.774 -38.444  0.00  0.00      P0   H\nATOM   3595  HB2 SER A 261       7.040   3.372 -39.282  0.00  0.00      P0   H\nATOM   3596  OG  SER A 261       8.756   3.751 -38.372  0.00  0.00      P0   O\nATOM   3597  HG1 SER A 261       9.110   4.598 -37.981  0.00  0.00      P0   H\nATOM   3598  C   SER A 261       6.927   3.941 -36.016  0.00  1.00      P0   C\nATOM   3599  O   SER A 261       6.484   3.570 -34.931  0.00  1.00      P0   O\nATOM   3600  N   SER A 262       7.639   5.077 -36.153  0.00  1.00      P0   N\nATOM   3601  HN  SER A 262       7.955   5.257 -37.131  0.00  0.00      P0   H\nATOM   3602  CA  SER A 262       7.921   5.939 -35.040  0.00  6.24      P0   C\nATOM   3603  HA  SER A 262       8.393   5.401 -34.333  0.00  0.00      P0   H\nATOM   3604  CB  SER A 262       8.809   7.143 -35.404  0.00  0.00      P0   C\nATOM   3605  HB1 SER A 262       9.616   6.809 -35.878  0.00  0.00      P0   H\nATOM   3606  HB2 SER A 262       9.066   7.612 -34.567  0.00  0.00      P0   H\nATOM   3607  OG  SER A 262       8.112   8.044 -36.248  0.00  0.00      P0   O\nATOM   3608  HG1 SER A 262       7.454   7.539 -36.804  0.00  0.00      P0   H\nATOM   3609  C   SER A 262       6.634   6.450 -34.458  0.00  1.00      P0   C\nATOM   3610  O   SER A 262       6.499   6.499 -33.238  0.00  1.00      P0   O\nATOM   3611  N   LYS A 263       5.643   6.842 -35.290  0.00  1.00      P0   N\nATOM   3612  HN  LYS A 263       5.844   6.810 -36.273  0.00  0.00      P0   H\nATOM   3613  CA  LYS A 263       4.390   7.269 -34.680  0.00  6.25      P0   C\nATOM   3614  HA  LYS A 263       4.569   8.051 -34.074  0.00  0.00      P0   H\nATOM   3615  CB  LYS A 263       3.404   7.720 -35.759  0.00  0.00      P0   C\nATOM   3616  HB1 LYS A 263       2.903   6.914 -36.077  0.00  0.00      P0   H\nATOM   3617  HB2 LYS A 263       3.930   8.105 -36.518  0.00  0.00      P0   H\nATOM   3618  CG  LYS A 263       2.401   8.757 -35.296  0.00  0.00      P0   C\nATOM   3619  HG1 LYS A 263       1.963   8.440 -34.459  0.00  0.00      P0   H\nATOM   3620  HG2 LYS A 263       1.718   8.894 -36.009  0.00  0.00      P0   H\nATOM   3621  CD  LYS A 263       3.095  10.079 -35.019  0.00  0.00      P0   C\nATOM   3622  HD1 LYS A 263       3.491  10.419 -35.866  0.00  0.00      P0   H\nATOM   3623  HD2 LYS A 263       3.809   9.932 -34.340  0.00  0.00      P0   H\nATOM   3624  CE  LYS A 263       2.125  11.118 -34.486  0.00  0.00      P0   C\nATOM   3625  HE1 LYS A 263       1.733  10.787 -33.626  0.00  0.00      P0   H\nATOM   3626  HE2 LYS A 263       1.388  11.249 -35.153  0.00  0.00      P0   H\nATOM   3627  NZ  LYS A 263       2.803  12.421 -34.246  0.00  0.00      P0   N\nATOM   3628  HZ1 LYS A 263       3.379  12.646 -35.031  0.00  0.00      P0   H\nATOM   3629  HZ2 LYS A 263       3.368  12.354 -33.424  0.00  0.00      P0   H\nATOM   3630  HZ3 LYS A 263       2.114  13.135 -34.120  0.00  0.00      P0   H\nATOM   3631  C   LYS A 263       3.785   6.137 -33.847  0.00  1.00      P0   C\nATOM   3632  O   LYS A 263       3.412   6.327 -32.678  0.00  1.00      P0   O\nATOM   3633  N   PHE A 264       3.953   4.899 -34.344  0.00  1.00      P0   N\nATOM   3634  HN  PHE A 264       4.433   4.922 -35.306  0.00  0.00      P0   H\nATOM   3635  CA  PHE A 264       3.564   3.658 -33.720  0.00  6.26      P0   C\nATOM   3636  HA  PHE A 264       2.573   3.716 -33.529  0.00  0.00      P0   H\nATOM   3637  CB  PHE A 264       3.973   2.492 -34.641  0.00  0.00      P0   C\nATOM   3638  HB1 PHE A 264       4.913   2.651 -34.918  0.00  0.00      P0   H\nATOM   3639  HB2 PHE A 264       3.368   2.511 -35.427  0.00  0.00      P0   H\nATOM   3640  CG  PHE A 264       3.889   1.140 -34.013  0.00  0.00      P0   C\nATOM   3641  CD1 PHE A 264       2.714   0.425 -33.999  0.00  0.00      P0   C\nATOM   3642  HD1 PHE A 264       1.887   0.818 -34.408  0.00  0.00      P0   H\nATOM   3643  CE1 PHE A 264       2.652  -0.828 -33.435  0.00  0.00      P0   C\nATOM   3644  HE1 PHE A 264       1.775  -1.329 -33.425  0.00  0.00      P0   H\nATOM   3645  CZ  PHE A 264       3.781  -1.388 -32.888  0.00  0.00      P0   C\nATOM   3646  HZ  PHE A 264       3.738  -2.301 -32.475  0.00  0.00      P0   H\nATOM   3647  CD2 PHE A 264       5.017   0.560 -33.477  0.00  0.00      P0   C\nATOM   3648  HD2 PHE A 264       5.889   1.059 -33.499  0.00  0.00      P0   H\nATOM   3649  CE2 PHE A 264       4.966  -0.693 -32.911  0.00  0.00      P0   C\nATOM   3650  HE2 PHE A 264       5.809  -1.099 -32.511  0.00  0.00      P0   H\nATOM   3651  C   PHE A 264       4.254   3.467 -32.383  0.00  1.00      P0   C\nATOM   3652  O   PHE A 264       3.743   2.867 -31.444  0.00  1.00      P0   O\nATOM   3653  N   CYS A 265       5.519   3.845 -32.306  0.00  1.00      P0   N\nATOM   3654  HN  CYS A 265       5.880   4.270 -33.219  0.00  0.00      P0   H\nATOM   3655  CA  CYS A 265       6.380   3.724 -31.136  0.00  6.27      P0   C\nATOM   3656  HA  CYS A 265       6.189   2.839 -30.692  0.00  0.00      P0   H\nATOM   3657  CB  CYS A 265       7.855   3.754 -31.546  0.00  0.00      P0   C\nATOM   3658  HB1 CYS A 265       8.408   3.728 -30.715  0.00  0.00      P0   H\nATOM   3659  HB2 CYS A 265       8.023   4.607 -32.035  0.00  0.00      P0   H\nATOM   3660  SG  CYS A 265       8.362   2.381 -32.608  0.00  0.00      P0   S\nATOM   3661  HG1 CYS A 265       9.622   2.776 -32.799  0.00  0.00      P0   H\nATOM   3662  C   CYS A 265       6.099   4.829 -30.123  0.00  1.00      P0   C\nATOM   3663  O   CYS A 265       6.638   4.822 -29.017  0.00  1.00      P0   O\nATOM   3664  N   LEU A 266       5.851   6.019 -30.650  0.00  1.00      P0   N\nATOM   3665  HN  LEU A 266       5.970   6.107 -31.655  0.00  0.00      P0   H\nATOM   3666  CA  LEU A 266       5.430   7.096 -29.761  0.00  6.28      P0   C\nATOM   3667  HA  LEU A 266       6.176   7.264 -29.085  0.00  0.00      P0   H\nATOM   3668  CB  LEU A 266       5.260   8.383 -30.574  0.00  0.00      P0   C\nATOM   3669  HB1 LEU A 266       4.540   8.220 -31.256  0.00  0.00      P0   H\nATOM   3670  HB2 LEU A 266       6.127   8.554 -31.055  0.00  0.00      P0   H\nATOM   3671  CG  LEU A 266       4.896   9.667 -29.829  0.00  0.00      P0   C\nATOM   3672  HG  LEU A 266       4.107   9.488 -29.241  0.00  0.00      P0   H\nATOM   3673  CD1 LEU A 266       6.062  10.147 -28.977  0.00  0.00      P0   C\nATOM   3674 HD11 LEU A 266       6.300   9.443 -28.308  0.00  0.00      P0   H\nATOM   3675 HD12 LEU A 266       5.803  10.987 -28.499  0.00  0.00      P0   H\nATOM   3676 HD13 LEU A 266       6.852  10.329 -29.563  0.00  0.00      P0   H\nATOM   3677  CD2 LEU A 266       4.456  10.743 -30.813  0.00  0.00      P0   C\nATOM   3678 HD21 LEU A 266       5.201  10.937 -31.451  0.00  0.00      P0   H\nATOM   3679 HD22 LEU A 266       3.657  10.423 -31.322  0.00  0.00      P0   H\nATOM   3680 HD23 LEU A 266       4.221  11.576 -30.314  0.00  0.00      P0   H\nATOM   3681  C   LEU A 266       4.145   6.809 -28.987  0.00  1.00      P0   C\nATOM   3682  O   LEU A 266       4.031   7.159 -27.810  0.00  1.00      P0   O\nATOM   3683  N   LYS A 267       3.219   6.131 -29.680  0.00  1.00      P0   N\nATOM   3684  HN  LYS A 267       3.414   5.961 -30.657  0.00  0.00      P0   H\nATOM   3685  CA  LYS A 267       1.985   5.680 -28.978  0.00  6.29      P0   C\nATOM   3686  HA  LYS A 267       1.570   6.485 -28.524  0.00  0.00      P0   H\nATOM   3687  CB  LYS A 267       0.928   5.185 -29.989  0.00  0.00      P0   C\nATOM   3688  HB1 LYS A 267       0.707   5.938 -30.604  0.00  0.00      P0   H\nATOM   3689  HB2 LYS A 267       0.115   4.909 -29.482  0.00  0.00      P0   H\nATOM   3690  CG  LYS A 267       1.373   3.979 -30.858  0.00  0.00      P0   C\nATOM   3691  HG1 LYS A 267       1.455   3.174 -30.257  0.00  0.00      P0   H\nATOM   3692  HG2 LYS A 267       2.285   4.186 -31.235  0.00  0.00      P0   H\nATOM   3693  CD  LYS A 267       0.423   3.656 -31.999  0.00  0.00      P0   C\nATOM   3694  HD1 LYS A 267       0.300   4.459 -32.561  0.00  0.00      P0   H\nATOM   3695  HD2 LYS A 267      -0.436   3.337 -31.630  0.00  0.00      P0   H\nATOM   3696  CE  LYS A 267       1.008   2.536 -32.886  0.00  0.00      P0   C\nATOM   3697  HE1 LYS A 267       0.951   1.673 -32.383  0.00  0.00      P0   H\nATOM   3698  HE2 LYS A 267       1.968   2.749 -33.070  0.00  0.00      P0   H\nATOM   3699  NZ  LYS A 267       0.269   2.411 -34.174  0.00  0.00      P0   N\nATOM   3700  HZ1 LYS A 267      -0.544   2.993 -34.147  0.00  0.00      P0   H\nATOM   3701  HZ2 LYS A 267      -0.003   1.459 -34.309  0.00  0.00      P0   H\nATOM   3702  HZ3 LYS A 267       0.862   2.700 -34.925  0.00  0.00      P0   H\nATOM   3703  C   LYS A 267       2.244   4.597 -27.924  0.00  1.00      P0   C\nATOM   3704  O   LYS A 267       1.700   4.655 -26.832  0.00  1.00      P0   O\nATOM   3705  N   GLU A 268       3.110   3.631 -28.254  0.00  1.00      P0   N\nATOM   3706  HN  GLU A 268       3.411   3.632 -29.241  0.00  0.00      P0   H\nATOM   3707  CA  GLU A 268       3.577   2.660 -27.259  0.00  6.30      P0   C\nATOM   3708  HA  GLU A 268       2.805   2.100 -26.946  0.00  0.00      P0   H\nATOM   3709  CB  GLU A 268       4.601   1.687 -27.872  0.00  0.00      P0   C\nATOM   3710  HB1 GLU A 268       5.061   1.228 -27.125  0.00  0.00      P0   H\nATOM   3711  HB2 GLU A 268       5.239   2.224 -28.406  0.00  0.00      P0   H\nATOM   3712  CG  GLU A 268       4.031   0.605 -28.793  0.00  0.00      P0   C\nATOM   3713  HG1 GLU A 268       3.610   1.046 -29.563  0.00  0.00      P0   H\nATOM   3714  HG2 GLU A 268       3.397   0.064 -28.275  0.00  0.00      P0   H\nATOM   3715  CD  GLU A 268       5.103  -0.343 -29.340  0.00  0.00      P0   C\nATOM   3716  OE1 GLU A 268       6.272  -0.240 -28.906  0.00  0.00      P0   O\nATOM   3717  OE2 GLU A 268       4.786  -1.197 -30.219  0.00  0.00      P0   O\nATOM   3718  C   GLU A 268       4.205   3.378 -26.059  0.00  1.00      P0   C\nATOM   3719  O   GLU A 268       4.042   2.959 -24.896  0.00  1.00      P0   O\nATOM   3720  N   HIS A 269       4.943   4.446 -26.338  0.00  1.00      P0   N\nATOM   3721  HN  HIS A 269       5.037   4.851 -27.246  0.00  0.00      P0   H\nATOM   3722  CA  HIS A 269       5.696   5.127 -25.297  0.00  6.31      P0   C\nATOM   3723  HA  HIS A 269       6.172   4.430 -24.733  0.00  0.00      P0   H\nATOM   3724  CB  HIS A 269       6.834   5.943 -25.881  0.00  0.00      P0   C\nATOM   3725  HB1 HIS A 269       7.199   6.493 -25.130  0.00  0.00      P0   H\nATOM   3726  HB2 HIS A 269       6.487   6.516 -26.630  0.00  0.00      P0   H\nATOM   3727  ND1 HIS A 269       9.107   5.632 -26.959  0.00  0.00      P0   N\nATOM   3728  CG  HIS A 269       7.955   5.096 -26.428  0.00  0.00      P0   C\nATOM   3729  CE1 HIS A 269       9.891   4.649 -27.383  0.00  0.00      P0   C\nATOM   3730  HE1 HIS A 269      10.777   4.760 -27.822  0.00  0.00      P0   H\nATOM   3731  NE2 HIS A 269       9.296   3.493 -27.124  0.00  0.00      P0   N\nATOM   3732  HE2 HIS A 269       9.669   2.589 -27.324  0.00  0.00      P0   H\nATOM   3733  CD2 HIS A 269       8.082   3.748 -26.531  0.00  0.00      P0   C\nATOM   3734  HD2 HIS A 269       7.417   3.068 -26.233  0.00  0.00      P0   H\nATOM   3735  C   HIS A 269       4.809   5.961 -24.358  0.00  1.00      P0   C\nATOM   3736  O   HIS A 269       5.111   6.080 -23.184  0.00  1.00      P0   O\nATOM   3737  N   LYS A 270       3.668   6.470 -24.851  0.00  1.00      P0   N\nATOM   3738  HN  LYS A 270       3.510   6.295 -25.848  0.00  0.00      P0   H\nATOM   3739  CA  LYS A 270       2.784   7.193 -23.981  0.00  6.32      P0   C\nATOM   3740  HA  LYS A 270       3.293   7.945 -23.535  0.00  0.00      P0   H\nATOM   3741  CB  LYS A 270       1.628   7.862 -24.744  0.00  0.00      P0   C\nATOM   3742  HB1 LYS A 270       0.980   8.208 -24.084  0.00  0.00      P0   H\nATOM   3743  HB2 LYS A 270       1.216   7.189 -25.338  0.00  0.00      P0   H\nATOM   3744  CG  LYS A 270       2.110   9.034 -25.607  0.00  0.00      P0   C\nATOM   3745  HG1 LYS A 270       1.326   9.417 -26.101  0.00  0.00      P0   H\nATOM   3746  HG2 LYS A 270       2.778   8.691 -26.275  0.00  0.00      P0   H\nATOM   3747  CD  LYS A 270       2.768  10.151 -24.788  0.00  0.00      P0   C\nATOM   3748  HD1 LYS A 270       3.552   9.767 -24.295  0.00  0.00      P0   H\nATOM   3749  HD2 LYS A 270       2.100  10.493 -24.122  0.00  0.00      P0   H\nATOM   3750  CE  LYS A 270       3.261  11.335 -25.625  0.00  0.00      P0   C\nATOM   3751  HE1 LYS A 270       2.538  11.600 -26.259  0.00  0.00      P0   H\nATOM   3752  HE2 LYS A 270       4.072  11.052 -26.131  0.00  0.00      P0   H\nATOM   3753  NZ  LYS A 270       3.597  12.478 -24.746  0.00  0.00      P0   N\nATOM   3754  HZ1 LYS A 270       3.904  13.251 -25.302  0.00  0.00      P0   H\nATOM   3755  HZ2 LYS A 270       4.327  12.213 -24.114  0.00  0.00      P0   H\nATOM   3756  HZ3 LYS A 270       2.787  12.748 -24.222  0.00  0.00      P0   H\nATOM   3757  C   LYS A 270       2.217   6.292 -22.901  0.00  1.00      P0   C\nATOM   3758  O   LYS A 270       2.123   6.701 -21.746  0.00  1.00      P0   O\nATOM   3759  N   ALA A 271       1.801   5.048 -23.238  0.00  1.00      P0   N\nATOM   3760  HN  ALA A 271       1.929   4.835 -24.258  0.00  0.00      P0   H\nATOM   3761  CA  ALA A 271       1.238   4.110 -22.291  0.00  6.33      P0   C\nATOM   3762  HA  ALA A 271       0.471   4.555 -21.809  0.00  0.00      P0   H\nATOM   3763  CB  ALA A 271       0.714   2.832 -22.967  0.00  0.00      P0   C\nATOM   3764  HB1 ALA A 271       0.520   2.149 -22.267  0.00  0.00      P0   H\nATOM   3765  HB2 ALA A 271       1.408   2.486 -23.593  0.00  0.00      P0   H\nATOM   3766  HB3 ALA A 271      -0.119   3.048 -23.470  0.00  0.00      P0   H\nATOM   3767  C   ALA A 271       2.274   3.697 -21.285  0.00  1.00      P0   C\nATOM   3768  O   ALA A 271       1.983   3.549 -20.100  0.00  1.00      P0   O\nATOM   3769  N   LEU A 272       3.517   3.472 -21.747  0.00  1.00      P0   N\nATOM   3770  HN  LEU A 272       3.603   3.563 -22.785  0.00  0.00      P0   H\nATOM   3771  CA  LEU A 272       4.638   3.133 -20.878  0.00  6.34      P0   C\nATOM   3772  HA  LEU A 272       4.404   2.303 -20.359  0.00  0.00      P0   H\nATOM   3773  CB  LEU A 272       5.884   2.833 -21.711  0.00  0.00      P0   C\nATOM   3774  HB1 LEU A 272       6.634   2.633 -21.079  0.00  0.00      P0   H\nATOM   3775  HB2 LEU A 272       6.104   3.655 -22.239  0.00  0.00      P0   H\nATOM   3776  CG  LEU A 272       5.801   1.669 -22.699  0.00  0.00      P0   C\nATOM   3777  HG  LEU A 272       5.114   1.882 -23.393  0.00  0.00      P0   H\nATOM   3778  CD1 LEU A 272       7.148   1.451 -23.369  0.00  0.00      P0   C\nATOM   3779 HD11 LEU A 272       7.415   2.280 -23.863  0.00  0.00      P0   H\nATOM   3780 HD12 LEU A 272       7.083   0.688 -24.014  0.00  0.00      P0   H\nATOM   3781 HD13 LEU A 272       7.837   1.242 -22.675  0.00  0.00      P0   H\nATOM   3782  CD2 LEU A 272       5.329   0.402 -22.006  0.00  0.00      P0   C\nATOM   3783 HD21 LEU A 272       5.970   0.159 -21.278  0.00  0.00      P0   H\nATOM   3784 HD22 LEU A 272       4.422   0.553 -21.611  0.00  0.00      P0   H\nATOM   3785 HD23 LEU A 272       5.281  -0.346 -22.669  0.00  0.00      P0   H\nATOM   3786  C   LEU A 272       4.918   4.256 -19.887  0.00  1.00      P0   C\nATOM   3787  O   LEU A 272       5.286   3.998 -18.736  0.00  1.00      P0   O\nATOM   3788  N   LYS A 273       4.745   5.500 -20.321  0.00  1.00      P0   N\nATOM   3789  HN  LYS A 273       4.513   5.603 -21.314  0.00  0.00      P0   H\nATOM   3790  CA  LYS A 273       4.888   6.642 -19.392  0.00  6.35      P0   C\nATOM   3791  HA  LYS A 273       5.761   6.556 -18.913  0.00  0.00      P0   H\nATOM   3792  CB  LYS A 273       4.902   7.963 -20.138  0.00  0.00      P0   C\nATOM   3793  HB1 LYS A 273       3.995   8.108 -20.546  0.00  0.00      P0   H\nATOM   3794  HB2 LYS A 273       5.581   7.906 -20.877  0.00  0.00      P0   H\nATOM   3795  CG  LYS A 273       5.236   9.196 -19.293  0.00  0.00      P0   C\nATOM   3796  HG1 LYS A 273       6.043   9.003 -18.750  0.00  0.00      P0   H\nATOM   3797  HG2 LYS A 273       4.461   9.402 -18.710  0.00  0.00      P0   H\nATOM   3798  CD  LYS A 273       5.509  10.369 -20.202  0.00  0.00      P0   C\nATOM   3799  HD1 LYS A 273       4.719  10.496 -20.812  0.00  0.00      P0   H\nATOM   3800  HD2 LYS A 273       6.317  10.160 -20.765  0.00  0.00      P0   H\nATOM   3801  CE  LYS A 273       5.757  11.653 -19.462  0.00  0.00      P0   C\nATOM   3802  HE1 LYS A 273       6.543  11.549 -18.864  0.00  0.00      P0   H\nATOM   3803  HE2 LYS A 273       4.950  11.898 -18.939  0.00  0.00      P0   H\nATOM   3804  NZ  LYS A 273       6.043  12.738 -20.452  0.00  0.00      P0   N\nATOM   3805  HZ1 LYS A 273       5.256  12.845 -21.058  0.00  0.00      P0   H\nATOM   3806  HZ2 LYS A 273       6.849  12.491 -20.986  0.00  0.00      P0   H\nATOM   3807  HZ3 LYS A 273       6.210  13.592 -19.963  0.00  0.00      P0   H\nATOM   3808  C   LYS A 273       3.753   6.614 -18.363  0.00  1.00      P0   C\nATOM   3809  O   LYS A 273       4.001   6.826 -17.193  0.00  1.00      P0   O\nATOM   3810  N   THR A 274       2.564   6.163 -18.747  0.00  1.00      P0   N\nATOM   3811  HN  THR A 274       2.494   5.891 -19.739  0.00  0.00      P0   H\nATOM   3812  CA  THR A 274       1.459   6.073 -17.798  0.00  6.36      P0   C\nATOM   3813  HA  THR A 274       1.326   6.978 -17.375  0.00  0.00      P0   H\nATOM   3814  CB  THR A 274       0.169   5.693 -18.525  0.00  0.00      P0   C\nATOM   3815  HB  THR A 274       0.313   4.810 -19.019  0.00  0.00      P0   H\nATOM   3816  OG1 THR A 274      -0.148   6.698 -19.496  0.00  0.00      P0   O\nATOM   3817  HG1 THR A 274       0.534   6.697 -20.235  0.00  0.00      P0   H\nATOM   3818  CG2 THR A 274      -0.985   5.559 -17.540  0.00  0.00      P0   C\nATOM   3819 HG21 THR A 274      -0.636   5.260 -16.648  0.00  0.00      P0   H\nATOM   3820 HG22 THR A 274      -1.645   4.885 -17.879  0.00  0.00      P0   H\nATOM   3821 HG23 THR A 274      -1.444   6.445 -17.433  0.00  0.00      P0   H\nATOM   3822  C   THR A 274       1.769   5.070 -16.695  0.00  1.00      P0   C\nATOM   3823  O   THR A 274       1.554   5.344 -15.509  0.00  1.00      P0   O\nATOM   3824  N   LEU A 275       2.281   3.896 -17.071  0.00  1.00      P0   N\nATOM   3825  HN  LEU A 275       2.351   3.750 -18.087  0.00  0.00      P0   H\nATOM   3826  CA  LEU A 275       2.699   2.919 -16.072  0.00  6.37      P0   C\nATOM   3827  HA  LEU A 275       1.926   2.749 -15.447  0.00  0.00      P0   H\nATOM   3828  CB  LEU A 275       3.053   1.594 -16.746  0.00  0.00      P0   C\nATOM   3829  HB1 LEU A 275       3.445   0.992 -16.050  0.00  0.00      P0   H\nATOM   3830  HB2 LEU A 275       3.740   1.782 -17.449  0.00  0.00      P0   H\nATOM   3831  CG  LEU A 275       1.914   0.828 -17.420  0.00  0.00      P0   C\nATOM   3832  HG  LEU A 275       1.469   1.427 -18.083  0.00  0.00      P0   H\nATOM   3833  CD1 LEU A 275       2.454  -0.402 -18.129  0.00  0.00      P0   C\nATOM   3834 HD11 LEU A 275       3.117  -0.124 -18.827  0.00  0.00      P0   H\nATOM   3835 HD12 LEU A 275       1.701  -0.896 -18.566  0.00  0.00      P0   H\nATOM   3836 HD13 LEU A 275       2.903  -1.003 -17.466  0.00  0.00      P0   H\nATOM   3837  CD2 LEU A 275       0.847   0.438 -16.407  0.00  0.00      P0   C\nATOM   3838 HD21 LEU A 275       1.252  -0.144 -15.702  0.00  0.00      P0   H\nATOM   3839 HD22 LEU A 275       0.472   1.262 -15.981  0.00  0.00      P0   H\nATOM   3840 HD23 LEU A 275       0.113  -0.061 -16.868  0.00  0.00      P0   H\nATOM   3841  C   LEU A 275       3.876   3.429 -15.252  0.00  1.00      P0   C\nATOM   3842  O   LEU A 275       4.022   3.054 -14.083  0.00  1.00      P0   O\nATOM   3843  N   GLY A 276       4.721   4.280 -15.838  0.00  1.00      P0   N\nATOM   3844  HN  GLY A 276       4.534   4.471 -16.831  0.00  0.00      P0   H\nATOM   3845  CA  GLY A 276       5.813   4.867 -15.081  0.00  6.38      P0   C\nATOM   3846  HA1 GLY A 276       6.438   5.356 -15.717  0.00  0.00      P0   H\nATOM   3847  HA2 GLY A 276       6.358   4.124 -14.649  0.00  0.00      P0   H\nATOM   3848  C   GLY A 276       5.341   5.827 -14.009  0.00  1.00      P0   C\nATOM   3849  O   GLY A 276       6.007   5.993 -12.983  0.00  1.00      P0   O\nATOM   3850  N   ILE A 277       4.196   6.474 -14.228  0.00  1.00      P0   N\nATOM   3851  HN  ILE A 277       3.768   6.314 -15.150  0.00  0.00      P0   H\nATOM   3852  CA  ILE A 277       3.628   7.340 -13.200  0.00  6.39      P0   C\nATOM   3853  HA  ILE A 277       4.399   7.838 -12.794  0.00  0.00      P0   H\nATOM   3854  CB  ILE A 277       2.606   8.308 -13.821  0.00  0.00      P0   C\nATOM   3855  HB  ILE A 277       1.904   7.767 -14.272  0.00  0.00      P0   H\nATOM   3856  CG2 ILE A 277       1.964   9.171 -12.749  0.00  0.00      P0   C\nATOM   3857 HG21 ILE A 277       1.530   8.580 -12.071  0.00  0.00      P0   H\nATOM   3858 HG22 ILE A 277       1.279   9.761 -13.173  0.00  0.00      P0   H\nATOM   3859 HG23 ILE A 277       2.669   9.728 -12.313  0.00  0.00      P0   H\nATOM   3860  CG1 ILE A 277       3.279   9.186 -14.877  0.00  0.00      P0   C\nATOM   3861 HG11 ILE A 277       3.636   8.590 -15.596  0.00  0.00      P0   H\nATOM   3862 HG12 ILE A 277       4.045   9.662 -14.449  0.00  0.00      P0   H\nATOM   3863  CD  ILE A 277       2.354  10.202 -15.504  0.00  0.00      P0   C\nATOM   3864  HD1 ILE A 277       1.594   9.730 -15.950  0.00  0.00      P0   H\nATOM   3865  HD2 ILE A 277       2.857  10.738 -16.181  0.00  0.00      P0   H\nATOM   3866  HD3 ILE A 277       1.998  10.810 -14.794  0.00  0.00      P0   H\nATOM   3867  C   ILE A 277       3.012   6.505 -12.086  0.00  1.00      P0   C\nATOM   3868  O   ILE A 277       3.120   6.850 -10.904  0.00  1.00      P0   O\nATOM   3869  N   ILE A 278       2.362   5.395 -12.441  0.00  1.00      P0   N\nATOM   3870  HN  ILE A 278       2.298   5.230 -13.458  0.00  0.00      P0   H\nATOM   3871  CA  ILE A 278       1.795   4.502 -11.434  0.00  6.40      P0   C\nATOM   3872  HA  ILE A 278       1.166   5.058 -10.887  0.00  0.00      P0   H\nATOM   3873  CB  ILE A 278       1.070   3.324 -12.107  0.00  0.00      P0   C\nATOM   3874  HB  ILE A 278       1.728   2.844 -12.678  0.00  0.00      P0   H\nATOM   3875  CG2 ILE A 278       0.538   2.350 -11.060  0.00  0.00      P0   C\nATOM   3876 HG21 ILE A 278       1.298   2.042 -10.492  0.00  0.00      P0   H\nATOM   3877 HG22 ILE A 278       0.120   1.573 -11.526  0.00  0.00      P0   H\nATOM   3878 HG23 ILE A 278      -0.141   2.820 -10.499  0.00  0.00      P0   H\nATOM   3879  CG1 ILE A 278      -0.060   3.828 -13.007  0.00  0.00      P0   C\nATOM   3880 HG11 ILE A 278      -0.412   3.051 -13.531  0.00  0.00      P0   H\nATOM   3881 HG12 ILE A 278       0.320   4.495 -13.647  0.00  0.00      P0   H\nATOM   3882  CD  ILE A 278      -1.205   4.465 -12.253  0.00  0.00      P0   C\nATOM   3883  HD1 ILE A 278      -1.602   3.797 -11.626  0.00  0.00      P0   H\nATOM   3884  HD2 ILE A 278      -1.902   4.769 -12.902  0.00  0.00      P0   H\nATOM   3885  HD3 ILE A 278      -0.866   5.250 -11.735  0.00  0.00      P0   H\nATOM   3886  C   ILE A 278       2.885   4.017 -10.486  0.00  1.00      P0   C\nATOM   3887  O   ILE A 278       2.728   4.042  -9.260  0.00  1.00      P0   O\nATOM   3888  N   MET A 279       4.012   3.576 -11.047  0.00  1.00      P0   N\nATOM   3889  HN  MET A 279       4.021   3.576 -12.077  0.00  0.00      P0   H\nATOM   3890  CA  MET A 279       5.130   3.136 -10.219  0.00  6.41      P0   C\nATOM   3891  HA  MET A 279       4.774   2.490  -9.530  0.00  0.00      P0   H\nATOM   3892  CB  MET A 279       6.161   2.413 -11.087  0.00  0.00      P0   C\nATOM   3893  HB1 MET A 279       6.905   2.074 -10.497  0.00  0.00      P0   H\nATOM   3894  HB2 MET A 279       6.551   3.068 -11.745  0.00  0.00      P0   H\nATOM   3895  CG  MET A 279       5.589   1.236 -11.861  0.00  0.00      P0   C\nATOM   3896  HG1 MET A 279       4.674   1.510 -12.241  0.00  0.00      P0   H\nATOM   3897  HG2 MET A 279       5.388   0.478 -11.198  0.00  0.00      P0   H\nATOM   3898  SD  MET A 279       6.679   0.660 -13.178  0.00  0.00      P0   S\nATOM   3899  CE  MET A 279       5.730  -0.716 -13.824  0.00  0.00      P0   C\nATOM   3900  HE1 MET A 279       5.355  -1.251 -13.066  0.00  0.00      P0   H\nATOM   3901  HE2 MET A 279       4.979  -0.370 -14.389  0.00  0.00      P0   H\nATOM   3902  HE3 MET A 279       6.322  -1.300 -14.381  0.00  0.00      P0   H\nATOM   3903  C   MET A 279       5.773   4.302  -9.482  0.00  1.00      P0   C\nATOM   3904  O   MET A 279       6.254   4.133  -8.354  0.00  1.00      P0   O\nATOM   3905  N   GLY A 280       5.782   5.485 -10.094  0.00  1.00      P0   N\nATOM   3906  HN  GLY A 280       5.353   5.485 -11.042  0.00  0.00      P0   H\nATOM   3907  CA  GLY A 280       6.352   6.664  -9.470  0.00  6.42      P0   C\nATOM   3908  HA1 GLY A 280       6.500   7.379 -10.175  0.00  0.00      P0   H\nATOM   3909  HA2 GLY A 280       7.265   6.434  -9.088  0.00  0.00      P0   H\nATOM   3910  C   GLY A 280       5.477   7.223  -8.369  0.00  1.00      P0   C\nATOM   3911  O   GLY A 280       5.980   7.643  -7.324  0.00  1.00      P0   O\nATOM   3912  N   THR A 281       4.160   7.236  -8.589  0.00  1.00      P0   N\nATOM   3913  HN  THR A 281       3.866   6.907  -9.519  0.00  0.00      P0   H\nATOM   3914  CA  THR A 281       3.241   7.692  -7.552  0.00  6.43      P0   C\nATOM   3915  HA  THR A 281       3.554   8.591  -7.221  0.00  0.00      P0   H\nATOM   3916  CB  THR A 281       1.838   7.860  -8.134  0.00  0.00      P0   C\nATOM   3917  HB  THR A 281       1.499   6.952  -8.455  0.00  0.00      P0   H\nATOM   3918  OG1 THR A 281       1.892   8.738  -9.265  0.00  0.00      P0   O\nATOM   3919  HG1 THR A 281       2.309   8.270 -10.051  0.00  0.00      P0   H\nATOM   3920  CG2 THR A 281       0.892   8.442  -7.099  0.00  0.00      P0   C\nATOM   3921 HG21 THR A 281       0.109   8.874  -7.555  0.00  0.00      P0   H\nATOM   3922 HG22 THR A 281       1.371   9.132  -6.548  0.00  0.00      P0   H\nATOM   3923 HG23 THR A 281       0.558   7.715  -6.494  0.00  0.00      P0   H\nATOM   3924  C   THR A 281       3.223   6.728  -6.373  0.00  1.00      P0   C\nATOM   3925  O   THR A 281       3.226   7.157  -5.213  0.00  1.00      P0   O\nATOM   3926  N   PHE A 282       3.202   5.421  -6.651  0.00  1.00      P0   N\nATOM   3927  HN  PHE A 282       3.151   5.185  -7.652  0.00  0.00      P0   H\nATOM   3928  CA  PHE A 282       3.251   4.435  -5.577  0.00  6.44      P0   C\nATOM   3929  HA  PHE A 282       2.512   4.666  -4.932  0.00  0.00      P0   H\nATOM   3930  CB  PHE A 282       3.066   3.031  -6.152  0.00  0.00      P0   C\nATOM   3931  HB1 PHE A 282       3.856   2.826  -6.710  0.00  0.00      P0   H\nATOM   3932  HB2 PHE A 282       2.236   3.031  -6.691  0.00  0.00      P0   H\nATOM   3933  CG  PHE A 282       2.942   1.958  -5.109  0.00  0.00      P0   C\nATOM   3934  CD1 PHE A 282       1.703   1.613  -4.596  0.00  0.00      P0   C\nATOM   3935  HD1 PHE A 282       0.883   2.081  -4.922  0.00  0.00      P0   H\nATOM   3936  CE1 PHE A 282       1.583   0.624  -3.640  0.00  0.00      P0   C\nATOM   3937  HE1 PHE A 282       0.671   0.390  -3.276  0.00  0.00      P0   H\nATOM   3938  CZ  PHE A 282       2.708  -0.035  -3.189  0.00  0.00      P0   C\nATOM   3939  HZ  PHE A 282       2.620  -0.754  -2.496  0.00  0.00      P0   H\nATOM   3940  CD2 PHE A 282       4.062   1.286  -4.648  0.00  0.00      P0   C\nATOM   3941  HD2 PHE A 282       4.964   1.521  -5.016  0.00  0.00      P0   H\nATOM   3942  CE2 PHE A 282       3.949   0.297  -3.691  0.00  0.00      P0   C\nATOM   3943  HE2 PHE A 282       4.781  -0.180  -3.361  0.00  0.00      P0   H\nATOM   3944  C   PHE A 282       4.557   4.523  -4.800  0.00  1.00      P0   C\nATOM   3945  O   PHE A 282       4.585   4.237  -3.597  0.00  1.00      P0   O\nATOM   3946  N   THR A 283       5.644   4.917  -5.464  0.00  1.00      P0   N\nATOM   3947  HN  THR A 283       5.506   5.099  -6.468  0.00  0.00      P0   H\nATOM   3948  CA  THR A 283       6.919   5.066  -4.772  0.00  6.45      P0   C\nATOM   3949  HA  THR A 283       7.058   4.263  -4.181  0.00  0.00      P0   H\nATOM   3950  CB  THR A 283       8.065   5.113  -5.784  0.00  0.00      P0   C\nATOM   3951  HB  THR A 283       8.104   6.045  -6.200  0.00  0.00      P0   H\nATOM   3952  OG1 THR A 283       7.819   4.169  -6.832  0.00  0.00      P0   O\nATOM   3953  HG1 THR A 283       7.017   4.447  -7.372  0.00  0.00      P0   H\nATOM   3954  CG2 THR A 283       9.385   4.777  -5.107  0.00  0.00      P0   C\nATOM   3955 HG21 THR A 283       9.734   5.583  -4.621  0.00  0.00      P0   H\nATOM   3956 HG22 THR A 283      10.058   4.491  -5.794  0.00  0.00      P0   H\nATOM   3957 HG23 THR A 283       9.250   4.031  -4.450  0.00  0.00      P0   H\nATOM   3958  C   THR A 283       6.925   6.312  -3.896  0.00  1.00      P0   C\nATOM   3959  O   THR A 283       7.256   6.246  -2.709  0.00  1.00      P0   O\nATOM   3960  N   LEU A 284       6.543   7.459  -4.461  0.00  1.00      P0   N\nATOM   3961  HN  LEU A 284       6.213   7.373  -5.439  0.00  0.00      P0   H\nATOM   3962  CA  LEU A 284       6.598   8.722  -3.733  0.00  6.46      P0   C\nATOM   3963  HA  LEU A 284       7.501   8.787  -3.272  0.00  0.00      P0   H\nATOM   3964  CB  LEU A 284       6.508   9.893  -4.713  0.00  0.00      P0   C\nATOM   3965  HB1 LEU A 284       6.498  10.733  -4.186  0.00  0.00      P0   H\nATOM   3966  HB2 LEU A 284       5.667   9.794  -5.232  0.00  0.00      P0   H\nATOM   3967  CG  LEU A 284       7.657   9.996  -5.720  0.00  0.00      P0   C\nATOM   3968  HG  LEU A 284       7.680   9.161  -6.271  0.00  0.00      P0   H\nATOM   3969  CD1 LEU A 284       7.470  11.200  -6.631  0.00  0.00      P0   C\nATOM   3970 HD11 LEU A 284       6.610  11.110  -7.133  0.00  0.00      P0   H\nATOM   3971 HD12 LEU A 284       8.230  11.249  -7.280  0.00  0.00      P0   H\nATOM   3972 HD13 LEU A 284       7.448  12.035  -6.082  0.00  0.00      P0   H\nATOM   3973  CD2 LEU A 284       8.999  10.062  -5.007  0.00  0.00      P0   C\nATOM   3974 HD21 LEU A 284       9.022  10.863  -4.410  0.00  0.00      P0   H\nATOM   3975 HD22 LEU A 284       9.127   9.235  -4.457  0.00  0.00      P0   H\nATOM   3976 HD23 LEU A 284       9.734  10.129  -5.682  0.00  0.00      P0   H\nATOM   3977  C   LEU A 284       5.511   8.855  -2.672  0.00  1.00      P0   C\nATOM   3978  O   LEU A 284       5.428   9.911  -2.035  0.00  1.00      P0   O\nATOM   3979  N   CYS A 285       4.682   7.832  -2.463  0.00  1.00      P0   N\nATOM   3980  HN  CYS A 285       4.825   7.022  -3.099  0.00  0.00      P0   H\nATOM   3981  CA  CYS A 285       3.666   7.868  -1.423  0.00  6.47      P0   C\nATOM   3982  HA  CYS A 285       3.664   8.800  -1.013  0.00  0.00      P0   H\nATOM   3983  CB  CYS A 285       2.272   7.627  -2.023  0.00  0.00      P0   C\nATOM   3984  HB1 CYS A 285       1.634   7.473  -1.270  0.00  0.00      P0   H\nATOM   3985  HB2 CYS A 285       2.319   6.810  -2.596  0.00  0.00      P0   H\nATOM   3986  SG  CYS A 285       1.634   8.995  -3.035  0.00  0.00      P0   S\nATOM   3987  HG1 CYS A 285       0.499   8.406  -3.414  0.00  0.00      P0   H\nATOM   3988  C   CYS A 285       3.903   6.866  -0.303  0.00  1.00      P0   C\nATOM   3989  O   CYS A 285       3.423   7.090   0.812  0.00  1.00      P0   O\nATOM   3990  N   TRP A 286       4.634   5.780  -0.565  0.00  1.00      P0   N\nATOM   3991  HN  TRP A 286       4.944   5.700  -1.556  0.00  0.00      P0   H\nATOM   3992  CA  TRP A 286       4.963   4.800   0.460  0.00  6.48      P0   C\nATOM   3993  HA  TRP A 286       4.379   4.995   1.270  0.00  0.00      P0   H\nATOM   3994  CB  TRP A 286       4.654   3.380  -0.038  0.00  0.00      P0   C\nATOM   3995  HB1 TRP A 286       5.093   2.727   0.569  0.00  0.00      P0   H\nATOM   3996  HB2 TRP A 286       5.000   3.284  -0.964  0.00  0.00      P0   H\nATOM   3997  CG  TRP A 286       3.192   3.052  -0.069  0.00  0.00      P0   C\nATOM   3998  CD1 TRP A 286       2.392   2.981  -1.171  0.00  0.00      P0   C\nATOM   3999  HD1 TRP A 286       2.690   3.143  -2.110  0.00  0.00      P0   H\nATOM   4000  NE1 TRP A 286       1.109   2.652  -0.804  0.00  0.00      P0   N\nATOM   4001  HE1 TRP A 286       0.336   2.537  -1.426  0.00  0.00      P0   H\nATOM   4002  CE2 TRP A 286       1.061   2.507   0.557  0.00  0.00      P0   C\nATOM   4003  CD2 TRP A 286       2.357   2.752   1.055  0.00  0.00      P0   C\nATOM   4004  CE3 TRP A 286       2.577   2.667   2.433  0.00  0.00      P0   C\nATOM   4005  HE3 TRP A 286       3.482   2.832   2.819  0.00  0.00      P0   H\nATOM   4006  CZ3 TRP A 286       1.513   2.345   3.258  0.00  0.00      P0   C\nATOM   4007  HZ3 TRP A 286       1.661   2.283   4.241  0.00  0.00      P0   H\nATOM   4008  CZ2 TRP A 286      -0.010   2.182   1.389  0.00  0.00      P0   C\nATOM   4009  HZ2 TRP A 286      -0.920   2.014   1.001  0.00  0.00      P0   H\nATOM   4010  CH2 TRP A 286       0.237   2.107   2.733  0.00  0.00      P0   C\nATOM   4011  HH2 TRP A 286      -0.507   1.876   3.364  0.00  0.00      P0   H\nATOM   4012  C   TRP A 286       6.412   4.851   0.920  0.00  1.00      P0   C\nATOM   4013  O   TRP A 286       6.714   4.342   2.003  0.00  1.00      P0   O\nATOM   4014  N   LEU A 287       7.309   5.446   0.132  0.00  1.00      P0   N\nATOM   4015  HN  LEU A 287       6.940   5.825  -0.750  0.00  0.00      P0   H\nATOM   4016  CA  LEU A 287       8.712   5.530   0.537  0.00  6.49      P0   C\nATOM   4017  HA  LEU A 287       9.060   4.587   0.678  0.00  0.00      P0   H\nATOM   4018  CB  LEU A 287       9.545   6.119  -0.605  0.00  0.00      P0   C\nATOM   4019  HB1 LEU A 287       9.241   7.056  -0.752  0.00  0.00      P0   H\nATOM   4020  HB2 LEU A 287       9.373   5.571  -1.420  0.00  0.00      P0   H\nATOM   4021  CG  LEU A 287      11.057   6.157  -0.390  0.00  0.00      P0   C\nATOM   4022  HG  LEU A 287      11.253   6.646   0.458  0.00  0.00      P0   H\nATOM   4023  CD1 LEU A 287      11.612   4.745  -0.300  0.00  0.00      P0   C\nATOM   4024 HD11 LEU A 287      11.185   4.265   0.469  0.00  0.00      P0   H\nATOM   4025 HD12 LEU A 287      12.602   4.782  -0.159  0.00  0.00      P0   H\nATOM   4026 HD13 LEU A 287      11.416   4.252  -1.148  0.00  0.00      P0   H\nATOM   4027  CD2 LEU A 287      11.734   6.935  -1.506  0.00  0.00      P0   C\nATOM   4028 HD21 LEU A 287      11.543   6.497  -2.385  0.00  0.00      P0   H\nATOM   4029 HD22 LEU A 287      11.386   7.872  -1.520  0.00  0.00      P0   H\nATOM   4030 HD23 LEU A 287      12.723   6.951  -1.352  0.00  0.00      P0   H\nATOM   4031  C   LEU A 287       8.916   6.314   1.828  0.00  1.00      P0   C\nATOM   4032  O   LEU A 287       9.660   5.831   2.700  0.00  1.00      P0   O\nATOM   4033  N   PRO A 288       8.323   7.500   2.027  0.00  1.00      P0   N\nATOM   4034  CD  PRO A 288       7.444   8.280   1.134  0.00  0.00      P0   C\nATOM   4035  HD1 PRO A 288       7.989   8.780   0.460  0.00  0.00      P0   H\nATOM   4036  HD2 PRO A 288       6.803   7.677   0.663  0.00  0.00      P0   H\nATOM   4037  CA  PRO A 288       8.536   8.199   3.306  0.00  6.50      P0   C\nATOM   4038  HA  PRO A 288       9.518   8.441   3.412  0.00  0.00      P0   H\nATOM   4039  CB  PRO A 288       7.757   9.510   3.124  0.00  0.00      P0   C\nATOM   4040  HB1 PRO A 288       8.372  10.246   2.832  0.00  0.00      P0   H\nATOM   4041  HB2 PRO A 288       7.319   9.778   3.986  0.00  0.00      P0   H\nATOM   4042  CG  PRO A 288       6.746   9.205   2.078  0.00  0.00      P0   C\nATOM   4043  HG1 PRO A 288       6.456  10.046   1.612  0.00  0.00      P0   H\nATOM   4044  HG2 PRO A 288       5.939   8.765   2.483  0.00  0.00      P0   H\nATOM   4045  C   PRO A 288       8.039   7.417   4.507  0.00  1.00      P0   C\nATOM   4046  O   PRO A 288       8.628   7.525   5.590  0.00  1.00      P0   O\nATOM   4047  N   PHE A 289       6.977   6.627   4.346  0.00  1.00      P0   N\nATOM   4048  HN  PHE A 289       6.547   6.650   3.411  0.00  0.00      P0   H\nATOM   4049  CA  PHE A 289       6.491   5.802   5.449  0.00  6.51      P0   C\nATOM   4050  HA  PHE A 289       6.415   6.403   6.254  0.00  0.00      P0   H\nATOM   4051  CB  PHE A 289       5.139   5.186   5.090  0.00  0.00      P0   C\nATOM   4052  HB1 PHE A 289       5.213   4.801   4.183  0.00  0.00      P0   H\nATOM   4053  HB2 PHE A 289       4.461   5.904   5.122  0.00  0.00      P0   H\nATOM   4054  CG  PHE A 289       4.706   4.094   6.025  0.00  0.00      P0   C\nATOM   4055  CD1 PHE A 289       4.226   4.397   7.288  0.00  0.00      P0   C\nATOM   4056  HD1 PHE A 289       4.162   5.349   7.580  0.00  0.00      P0   H\nATOM   4057  CE1 PHE A 289       3.829   3.395   8.153  0.00  0.00      P0   C\nATOM   4058  HE1 PHE A 289       3.485   3.636   9.071  0.00  0.00      P0   H\nATOM   4059  CZ  PHE A 289       3.907   2.073   7.760  0.00  0.00      P0   C\nATOM   4060  HZ  PHE A 289       3.617   1.348   8.387  0.00  0.00      P0   H\nATOM   4061  CD2 PHE A 289       4.780   2.764   5.642  0.00  0.00      P0   C\nATOM   4062  HD2 PHE A 289       5.126   2.531   4.731  0.00  0.00      P0   H\nATOM   4063  CE2 PHE A 289       4.383   1.757   6.502  0.00  0.00      P0   C\nATOM   4064  HE2 PHE A 289       4.444   0.789   6.205  0.00  0.00      P0   H\nATOM   4065  C   PHE A 289       7.497   4.714   5.806  0.00  1.00      P0   C\nATOM   4066  O   PHE A 289       7.844   4.537   6.980  0.00  1.00      P0   O\nATOM   4067  N   PHE A 290       7.975   3.971   4.805  0.00  1.00      P0   N\nATOM   4068  HN  PHE A 290       7.626   4.216   3.870  0.00  0.00      P0   H\nATOM   4069  CA  PHE A 290       8.924   2.897   5.073  0.00  6.52      P0   C\nATOM   4070  HA  PHE A 290       8.572   2.386   5.872  0.00  0.00      P0   H\nATOM   4071  CB  PHE A 290       9.027   1.972   3.861  0.00  0.00      P0   C\nATOM   4072  HB1 PHE A 290       9.845   1.429   3.965  0.00  0.00      P0   H\nATOM   4073  HB2 PHE A 290       9.068   2.537   3.052  0.00  0.00      P0   H\nATOM   4074  CG  PHE A 290       7.861   1.038   3.720  0.00  0.00      P0   C\nATOM   4075  CD1 PHE A 290       7.872  -0.202   4.337  0.00  0.00      P0   C\nATOM   4076  HD1 PHE A 290       8.663  -0.480   4.879  0.00  0.00      P0   H\nATOM   4077  CE1 PHE A 290       6.799  -1.063   4.214  0.00  0.00      P0   C\nATOM   4078  HE1 PHE A 290       6.827  -1.963   4.669  0.00  0.00      P0   H\nATOM   4079  CZ  PHE A 290       5.698  -0.688   3.470  0.00  0.00      P0   C\nATOM   4080  HZ  PHE A 290       4.919  -1.312   3.382  0.00  0.00      P0   H\nATOM   4081  CD2 PHE A 290       6.750   1.402   2.980  0.00  0.00      P0   C\nATOM   4082  HD2 PHE A 290       6.726   2.300   2.533  0.00  0.00      P0   H\nATOM   4083  CE2 PHE A 290       5.674   0.546   2.851  0.00  0.00      P0   C\nATOM   4084  HE2 PHE A 290       4.870   0.828   2.300  0.00  0.00      P0   H\nATOM   4085  C   PHE A 290      10.300   3.421   5.459  0.00  1.00      P0   C\nATOM   4086  O   PHE A 290      11.072   2.688   6.086  0.00  1.00      P0   O\nATOM   4087  N   ILE A 291      10.629   4.663   5.101  0.00  1.00      P0   N\nATOM   4088  HN  ILE A 291       9.978   5.126   4.456  0.00  0.00      P0   H\nATOM   4089  CA  ILE A 291      11.846   5.276   5.621  0.00  6.53      P0   C\nATOM   4090  HA  ILE A 291      12.577   4.602   5.497  0.00  0.00      P0   H\nATOM   4091  CB  ILE A 291      12.156   6.581   4.865  0.00  0.00      P0   C\nATOM   4092  HB  ILE A 291      11.306   7.085   4.761  0.00  0.00      P0   H\nATOM   4093  CG2 ILE A 291      13.149   7.436   5.642  0.00  0.00      P0   C\nATOM   4094 HG21 ILE A 291      12.774   7.624   6.548  0.00  0.00      P0   H\nATOM   4095 HG22 ILE A 291      13.295   8.292   5.148  0.00  0.00      P0   H\nATOM   4096 HG23 ILE A 291      14.009   6.937   5.725  0.00  0.00      P0   H\nATOM   4097  CG1 ILE A 291      12.698   6.272   3.468  0.00  0.00      P0   C\nATOM   4098 HG11 ILE A 291      12.012   5.736   2.979  0.00  0.00      P0   H\nATOM   4099 HG12 ILE A 291      13.525   5.722   3.565  0.00  0.00      P0   H\nATOM   4100  CD  ILE A 291      13.021   7.507   2.655  0.00  0.00      P0   C\nATOM   4101  HD1 ILE A 291      12.193   8.053   2.540  0.00  0.00      P0   H\nATOM   4102  HD2 ILE A 291      13.368   7.233   1.760  0.00  0.00      P0   H\nATOM   4103  HD3 ILE A 291      13.714   8.046   3.132  0.00  0.00      P0   H\nATOM   4104  C   ILE A 291      11.716   5.508   7.121  0.00  1.00      P0   C\nATOM   4105  O   ILE A 291      12.662   5.276   7.886  0.00  1.00      P0   O\nATOM   4106  N   VAL A 292      10.538   5.948   7.570  0.00  1.00      P0   N\nATOM   4107  HN  VAL A 292       9.824   6.107   6.840  0.00  0.00      P0   H\nATOM   4108  CA  VAL A 292      10.311   6.177   8.994  0.00  6.54      P0   C\nATOM   4109  HA  VAL A 292      11.020   6.807   9.326  0.00  0.00      P0   H\nATOM   4110  CB  VAL A 292       8.940   6.844   9.212  0.00  0.00      P0   C\nATOM   4111  HB  VAL A 292       8.265   6.327   8.693  0.00  0.00      P0   H\nATOM   4112  CG1 VAL A 292       8.530   6.770  10.674  0.00  0.00      P0   C\nATOM   4113 HG11 VAL A 292       8.880   5.925  11.078  0.00  0.00      P0   H\nATOM   4114 HG12 VAL A 292       8.907   7.554  11.168  0.00  0.00      P0   H\nATOM   4115 HG13 VAL A 292       7.532   6.782  10.743  0.00  0.00      P0   H\nATOM   4116  CG2 VAL A 292       8.988   8.288   8.750  0.00  0.00      P0   C\nATOM   4117 HG21 VAL A 292       9.110   8.316   7.757  0.00  0.00      P0   H\nATOM   4118 HG22 VAL A 292       9.753   8.755   9.194  0.00  0.00      P0   H\nATOM   4119 HG23 VAL A 292       8.131   8.744   8.995  0.00  0.00      P0   H\nATOM   4120  C   VAL A 292      10.435   4.874   9.774  0.00  1.00      P0   C\nATOM   4121  O   VAL A 292      10.985   4.850  10.883  0.00  1.00      P0   O\nATOM   4122  N   ASN A 293       9.937   3.770   9.207  0.00  1.00      P0   N\nATOM   4123  HN  ASN A 293       9.495   3.909   8.289  0.00  0.00      P0   H\nATOM   4124  CA  ASN A 293      10.038   2.480   9.883  0.00  6.55      P0   C\nATOM   4125  HA  ASN A 293       9.554   2.568  10.763  0.00  0.00      P0   H\nATOM   4126  CB  ASN A 293       9.402   1.384   9.028  0.00  0.00      P0   C\nATOM   4127  HB1 ASN A 293       9.573   0.506   9.464  0.00  0.00      P0   H\nATOM   4128  HB2 ASN A 293       9.821   1.407   8.125  0.00  0.00      P0   H\nATOM   4129  CG  ASN A 293       7.907   1.566   8.872  0.00  0.00      P0   C\nATOM   4130  OD1 ASN A 293       7.274   2.284   9.645  0.00  0.00      P0   O\nATOM   4131  ND2 ASN A 293       7.333   0.908   7.872  0.00  0.00      P0   N\nATOM   4132 HD21 ASN A 293       7.886   0.325   7.273  0.00  0.00      P0   H\nATOM   4133 HD22 ASN A 293       6.349   0.990   7.713  0.00  0.00      P0   H\nATOM   4134  C   ASN A 293      11.486   2.134  10.202  0.00  1.00      P0   C\nATOM   4135  O   ASN A 293      11.778   1.553  11.253  0.00  1.00      P0   O\nATOM   4136  N   ILE A 294      12.411   2.492   9.309  0.00  1.00      P0   N\nATOM   4137  HN  ILE A 294      12.047   2.893   8.434  0.00  0.00      P0   H\nATOM   4138  CA  ILE A 294      13.827   2.307   9.600  0.00  6.56      P0   C\nATOM   4139  HA  ILE A 294      13.915   1.395  10.008  0.00  0.00      P0   H\nATOM   4140  CB  ILE A 294      14.656   2.423   8.309  0.00  0.00      P0   C\nATOM   4141  HB  ILE A 294      14.516   3.334   7.937  0.00  0.00      P0   H\nATOM   4142  CG2 ILE A 294      16.132   2.207   8.596  0.00  0.00      P0   C\nATOM   4143 HG21 ILE A 294      16.433   2.876   9.272  0.00  0.00      P0   H\nATOM   4144 HG22 ILE A 294      16.648   2.322   7.749  0.00  0.00      P0   H\nATOM   4145 HG23 ILE A 294      16.262   1.283   8.951  0.00  0.00      P0   H\nATOM   4146  CG1 ILE A 294      14.173   1.409   7.275  0.00  0.00      P0   C\nATOM   4147 HG11 ILE A 294      13.214   1.602   7.072  0.00  0.00      P0   H\nATOM   4148 HG12 ILE A 294      14.239   0.496   7.673  0.00  0.00      P0   H\nATOM   4149  CD  ILE A 294      14.959   1.444   5.988  0.00  0.00      P0   C\nATOM   4150  HD1 ILE A 294      14.883   2.351   5.576  0.00  0.00      P0   H\nATOM   4151  HD2 ILE A 294      14.596   0.760   5.356  0.00  0.00      P0   H\nATOM   4152  HD3 ILE A 294      15.920   1.244   6.179  0.00  0.00      P0   H\nATOM   4153  C   ILE A 294      14.287   3.303  10.656  0.00  1.00      P0   C\nATOM   4154  O   ILE A 294      15.084   2.971  11.541  0.00  1.00      P0   O\nATOM   4155  N   VAL A 295      13.783   4.536  10.592  0.00  1.00      P0   N\nATOM   4156  HN  VAL A 295      13.093   4.692   9.842  0.00  0.00      P0   H\nATOM   4157  CA  VAL A 295      14.207   5.563  11.537  0.00  6.57      P0   C\nATOM   4158  HA  VAL A 295      15.208   5.520  11.619  0.00  0.00      P0   H\nATOM   4159  CB  VAL A 295      13.828   6.961  11.013  0.00  0.00      P0   C\nATOM   4160  HB  VAL A 295      12.840   6.982  10.899  0.00  0.00      P0   H\nATOM   4161  CG1 VAL A 295      14.183   8.027  12.034  0.00  0.00      P0   C\nATOM   4162 HG11 VAL A 295      13.458   8.088  12.721  0.00  0.00      P0   H\nATOM   4163 HG12 VAL A 295      15.046   7.789  12.483  0.00  0.00      P0   H\nATOM   4164 HG13 VAL A 295      14.282   8.911  11.577  0.00  0.00      P0   H\nATOM   4165  CG2 VAL A 295      14.526   7.234   9.694  0.00  0.00      P0   C\nATOM   4166 HG21 VAL A 295      15.103   8.046   9.785  0.00  0.00      P0   H\nATOM   4167 HG22 VAL A 295      13.840   7.390   8.982  0.00  0.00      P0   H\nATOM   4168 HG23 VAL A 295      15.092   6.447   9.447  0.00  0.00      P0   H\nATOM   4169  C   VAL A 295      13.611   5.302  12.916  0.00  1.00      P0   C\nATOM   4170  O   VAL A 295      14.305   5.388  13.935  0.00  1.00      P0   O\nATOM   4171  N   HIS A 296      12.320   4.967  12.964  0.00  1.00      P0   N\nATOM   4172  HN  HIS A 296      11.743   4.792  12.167  0.00  0.00      P0   H\nATOM   4173  CA  HIS A 296      11.635   4.828  14.246  0.00  6.58      P0   C\nATOM   4174  HA  HIS A 296      11.764   5.680  14.770  0.00  0.00      P0   H\nATOM   4175  CB  HIS A 296      10.136   4.632  14.016  0.00  0.00      P0   C\nATOM   4176  HB1 HIS A 296      10.035   3.750  13.555  0.00  0.00      P0   H\nATOM   4177  HB2 HIS A 296       9.787   5.396  13.459  0.00  0.00      P0   H\nATOM   4178  ND1 HIS A 296       9.769   5.096  16.471  0.00  0.00      P0   N\nATOM   4179  CG  HIS A 296       9.331   4.565  15.277  0.00  0.00      P0   C\nATOM   4180  CE1 HIS A 296       8.857   4.889  17.404  0.00  0.00      P0   C\nATOM   4181  HE1 HIS A 296       8.922   5.170  18.356  0.00  0.00      P0   H\nATOM   4182  NE2 HIS A 296       7.842   4.243  16.858  0.00  0.00      P0   N\nATOM   4183  HE2 HIS A 296       7.022   3.943  17.344  0.00  0.00      P0   H\nATOM   4184  CD2 HIS A 296       8.113   4.029  15.528  0.00  0.00      P0   C\nATOM   4185  HD2 HIS A 296       7.434   3.510  14.866  0.00  0.00      P0   H\nATOM   4186  C   HIS A 296      12.208   3.675  15.062  0.00  1.00      P0   C\nATOM   4187  O   HIS A 296      12.281   3.753  16.294  0.00  1.00      P0   O\nATOM   4188  N   VAL A 297      12.625   2.600  14.395  0.00  1.00      P0   N\nATOM   4189  HN  VAL A 297      12.560   2.664  13.370  0.00  0.00      P0   H\nATOM   4190  CA  VAL A 297      13.131   1.436  15.112  0.00  6.59      P0   C\nATOM   4191  HA  VAL A 297      12.556   1.295  15.927  0.00  0.00      P0   H\nATOM   4192  CB  VAL A 297      13.009   0.184  14.226  0.00  0.00      P0   C\nATOM   4193  HB  VAL A 297      13.464   0.381  13.363  0.00  0.00      P0   H\nATOM   4194  CG1 VAL A 297      13.735  -0.985  14.859  0.00  0.00      P0   C\nATOM   4195 HG11 VAL A 297      14.162  -1.543  14.145  0.00  0.00      P0   H\nATOM   4196 HG12 VAL A 297      14.444  -0.647  15.480  0.00  0.00      P0   H\nATOM   4197 HG13 VAL A 297      13.086  -1.548  15.373  0.00  0.00      P0   H\nATOM   4198  CG2 VAL A 297      11.547  -0.151  14.007  0.00  0.00      P0   C\nATOM   4199 HG21 VAL A 297      11.390  -0.338  13.036  0.00  0.00      P0   H\nATOM   4200 HG22 VAL A 297      10.981   0.622  14.294  0.00  0.00      P0   H\nATOM   4201 HG23 VAL A 297      11.307  -0.961  14.546  0.00  0.00      P0   H\nATOM   4202  C   VAL A 297      14.562   1.662  15.580  0.00  1.00      P0   C\nATOM   4203  O   VAL A 297      14.922   1.302  16.707  0.00  1.00      P0   O\nATOM   4204  N   ILE A 298      15.397   2.267  14.734  0.00  1.00      P0   N\nATOM   4205  HN  ILE A 298      14.978   2.568  13.842  0.00  0.00      P0   H\nATOM   4206  CA  ILE A 298      16.799   2.468  15.087  0.00  6.60      P0   C\nATOM   4207  HA  ILE A 298      17.140   1.580  15.404  0.00  0.00      P0   H\nATOM   4208  CB  ILE A 298      17.596   2.955  13.861  0.00  0.00      P0   C\nATOM   4209  HB  ILE A 298      16.964   3.422  13.250  0.00  0.00      P0   H\nATOM   4210  CG2 ILE A 298      18.694   3.925  14.270  0.00  0.00      P0   C\nATOM   4211 HG21 ILE A 298      18.284   4.690  14.763  0.00  0.00      P0   H\nATOM   4212 HG22 ILE A 298      19.155   4.256  13.449  0.00  0.00      P0   H\nATOM   4213 HG23 ILE A 298      19.344   3.448  14.858  0.00  0.00      P0   H\nATOM   4214  CG1 ILE A 298      18.201   1.770  13.100  0.00  0.00      P0   C\nATOM   4215 HG11 ILE A 298      18.805   1.273  13.729  0.00  0.00      P0   H\nATOM   4216 HG12 ILE A 298      18.763   2.130  12.351  0.00  0.00      P0   H\nATOM   4217  CD  ILE A 298      17.190   0.794  12.528  0.00  0.00      P0   C\nATOM   4218  HD1 ILE A 298      16.645   0.412  13.272  0.00  0.00      P0   H\nATOM   4219  HD2 ILE A 298      17.673   0.060  12.054  0.00  0.00      P0   H\nATOM   4220  HD3 ILE A 298      16.595   1.275  11.887  0.00  0.00      P0   H\nATOM   4221  C   ILE A 298      16.921   3.428  16.267  0.00  1.00      P0   C\nATOM   4222  O   ILE A 298      17.673   3.178  17.217  0.00  1.00      P0   O\nATOM   4223  N   GLN A 299      16.169   4.526  16.235  0.00  1.00      P0   N\nATOM   4224  HN  GLN A 299      15.580   4.619  15.376  0.00  0.00      P0   H\nATOM   4225  CA  GLN A 299      16.168   5.519  17.309  0.00  6.61      P0   C\nATOM   4226  HA  GLN A 299      16.712   5.160  18.062  0.00  0.00      P0   H\nATOM   4227  CB  GLN A 299      16.736   6.857  16.827  0.00  0.00      P0   C\nATOM   4228  HB1 GLN A 299      16.191   7.181  16.047  0.00  0.00      P0   H\nATOM   4229  HB2 GLN A 299      17.683   6.718  16.521  0.00  0.00      P0   H\nATOM   4230  CG  GLN A 299      16.751   7.986  17.882  0.00  0.00      P0   C\nATOM   4231  HG1 GLN A 299      15.809   8.169  18.157  0.00  0.00      P0   H\nATOM   4232  HG2 GLN A 299      17.144   8.802  17.461  0.00  0.00      P0   H\nATOM   4233  CD  GLN A 299      17.567   7.639  19.129  0.00  0.00      P0   C\nATOM   4234  OE1 GLN A 299      18.779   7.430  19.057  0.00  0.00      P0   O\nATOM   4235  NE2 GLN A 299      16.893   7.586  20.280  0.00  0.00      P0   N\nATOM   4236 HE21 GLN A 299      17.365   7.348  21.149  0.00  0.00      P0   H\nATOM   4237 HE22 GLN A 299      15.896   7.789  20.262  0.00  0.00      P0   H\nATOM   4238  C   GLN A 299      14.735   5.684  17.802  0.00  1.00      P0   C\nATOM   4239  O   GLN A 299      13.897   6.209  17.080  0.00  1.00      P0   O\nATOM   4240  N   ASP A 300      14.483   5.266  19.039  0.00  1.00      P0   N\nATOM   4241  HN  ASP A 300      15.294   4.873  19.544  0.00  0.00      P0   H\nATOM   4242  CA  ASP A 300      13.146   5.371  19.604  0.00  0.00      P0   C\nATOM   4243  HA  ASP A 300      12.500   5.032  18.912  0.00  0.00      P0   H\nATOM   4244  CB  ASP A 300      13.050   4.568  20.900  0.00  0.00      P0   C\nATOM   4245  HB1 ASP A 300      13.562   5.051  21.600  0.00  0.00      P0   H\nATOM   4246  HB2 ASP A 300      13.445   3.671  20.737  0.00  0.00      P0   H\nATOM   4247  CG  ASP A 300      11.620   4.390  21.377  0.00  0.00      P0   C\nATOM   4248  OD1 ASP A 300      10.698   4.962  20.754  0.00  0.00      P0   O\nATOM   4249  OD2 ASP A 300      11.416   3.681  22.384  0.00  0.00      P0   O\nATOM   4250  C   ASP A 300      12.794   6.830  19.865  0.00  1.00      P0   C\nATOM   4251  O   ASP A 300      13.645   7.629  20.265  0.00  1.00      P0   O\nATOM   4252  N   ASN A 301      11.509   7.163  19.580  0.00  1.00      P0   N\nATOM   4253  HN  ASN A 301      10.987   6.291  19.163  0.00  0.00      P0   H\nATOM   4254  CA  ASN A 301      10.813   8.419  19.745  0.00  0.00      P0   C\nATOM   4255  HA  ASN A 301       9.872   8.289  19.368  0.00  0.00      P0   H\nATOM   4256  CB  ASN A 301      10.551   8.797  21.209  0.00  0.00      P0   C\nATOM   4257  HB1 ASN A 301      10.332   9.738  21.253  0.00  0.00      P0   H\nATOM   4258  HB2 ASN A 301      11.310   8.525  21.742  0.00  0.00      P0   H\nATOM   4259  CG  ASN A 301       9.333   7.985  21.633  0.00  0.00      P0   C\nATOM   4260  OD1 ASN A 301       8.244   8.145  21.081  0.00  0.00      P0   O\nATOM   4261  ND2 ASN A 301       9.521   7.080  22.627  0.00  0.00      P0   N\nATOM   4262 HD21 ASN A 301      10.427   6.992  23.034  0.00  0.00      P0   H\nATOM   4263 HD22 ASN A 301       8.766   6.528  22.933  0.00  0.00      P0   H\nATOM   4264  C   ASN A 301      11.436   9.563  19.003  0.00  1.00      P0   C\nATOM   4265  O   ASN A 301      11.389  10.705  19.457  0.00  1.00      P0   O\nATOM   4266  N   LEU A 302      12.097   9.274  17.872  0.00  1.00      P0   N\nATOM   4267  HN  LEU A 302      12.183   8.232  17.699  0.00  0.00      P0   H\nATOM   4268  CA  LEU A 302      12.652  10.264  16.957  0.00  0.00      P0   C\nATOM   4269  HA  LEU A 302      12.986  11.053  17.500  0.00  0.00      P0   H\nATOM   4270  CB  LEU A 302      13.853   9.684  16.202  0.00  0.00      P0   C\nATOM   4271  HB1 LEU A 302      13.560   9.481  15.272  0.00  0.00      P0   H\nATOM   4272  HB2 LEU A 302      14.127   8.843  16.665  0.00  0.00      P0   H\nATOM   4273  CG  LEU A 302      15.095  10.575  16.106  0.00  0.00      P0   C\nATOM   4274  HG  LEU A 302      14.858  11.408  15.604  0.00  0.00      P0   H\nATOM   4275  CD1 LEU A 302      15.605  10.950  17.491  0.00  0.00      P0   C\nATOM   4276 HD11 LEU A 302      14.892  11.445  17.987  0.00  0.00      P0   H\nATOM   4277 HD12 LEU A 302      16.415  11.531  17.404  0.00  0.00      P0   H\nATOM   4278 HD13 LEU A 302      15.845  10.120  17.995  0.00  0.00      P0   H\nATOM   4279  CD2 LEU A 302      16.185   9.890  15.300  0.00  0.00      P0   C\nATOM   4280 HD21 LEU A 302      16.440   9.029  15.743  0.00  0.00      P0   H\nATOM   4281 HD22 LEU A 302      15.852   9.700  14.376  0.00  0.00      P0   H\nATOM   4282 HD23 LEU A 302      16.988  10.484  15.247  0.00  0.00      P0   H\nATOM   4283  C   LEU A 302      11.628  10.775  15.953  0.00  1.00      P0   C\nATOM   4284  O   LEU A 302      11.742  11.915  15.493  0.00  1.00      P0   O\nATOM   4285  N   ILE A 303      10.631   9.962  15.615  0.00  1.00      P0   N\nATOM   4286  HN  ILE A 303      10.706   9.000  16.033  0.00  0.00      P0   H\nATOM   4287  CA  ILE A 303       9.532  10.359  14.745  0.00  0.00      P0   C\nATOM   4288  HA  ILE A 303       9.717  11.295  14.466  0.00  0.00      P0   H\nATOM   4289  CB  ILE A 303       9.383   9.398  13.550  0.00  0.00      P0   C\nATOM   4290  HB  ILE A 303       9.132   8.504  13.905  0.00  0.00      P0   H\nATOM   4291  CG2 ILE A 303       8.289   9.879  12.601  0.00  0.00      P0   C\nATOM   4292 HG21 ILE A 303       7.435   9.962  13.110  0.00  0.00      P0   H\nATOM   4293 HG22 ILE A 303       8.186   9.213  11.865  0.00  0.00      P0   H\nATOM   4294 HG23 ILE A 303       8.553  10.764  12.227  0.00  0.00      P0   H\nATOM   4295  CG1 ILE A 303      10.715   9.256  12.807  0.00  0.00      P0   C\nATOM   4296 HG11 ILE A 303      10.584   8.609  12.056  0.00  0.00      P0   H\nATOM   4297 HG12 ILE A 303      11.389   8.876  13.439  0.00  0.00      P0   H\nATOM   4298  CD  ILE A 303      11.248  10.556  12.242  0.00  0.00      P0   C\nATOM   4299  HD1 ILE A 303      10.586  10.930  11.595  0.00  0.00      P0   H\nATOM   4300  HD2 ILE A 303      12.114  10.383  11.775  0.00  0.00      P0   H\nATOM   4301  HD3 ILE A 303      11.393  11.205  12.987  0.00  0.00      P0   H\nATOM   4302  C   ILE A 303       8.262  10.395  15.583  0.00  1.00      P0   C\nATOM   4303  O   ILE A 303       7.980   9.452  16.333  0.00  1.00      P0   O\nATOM   4304  N   ARG A 304       7.503  11.482  15.465  0.00  1.00      P0   N\nATOM   4305  HN  ARG A 304       7.858  12.196  14.808  0.00  0.00      P0   H\nATOM   4306  CA  ARG A 304       6.269  11.616  16.224  0.00  7.30      P0   C\nATOM   4307  HA  ARG A 304       6.459  11.420  17.194  0.00  0.00      P0   H\nATOM   4308  CB  ARG A 304       5.729  13.042  16.123  0.00  0.00      P0   C\nATOM   4309  HB1 ARG A 304       4.851  13.077  16.595  0.00  0.00      P0   H\nATOM   4310  HB2 ARG A 304       5.602  13.258  15.157  0.00  0.00      P0   H\nATOM   4311  CG  ARG A 304       6.632  14.101  16.729  0.00  0.00      P0   C\nATOM   4312  HG1 ARG A 304       7.527  14.065  16.292  0.00  0.00      P0   H\nATOM   4313  HG2 ARG A 304       6.722  13.942  17.708  0.00  0.00      P0   H\nATOM   4314  CD  ARG A 304       6.062  15.497  16.525  0.00  0.00      P0   C\nATOM   4315  HD1 ARG A 304       6.006  15.666  15.544  0.00  0.00      P0   H\nATOM   4316  HD2 ARG A 304       6.687  16.150  16.948  0.00  0.00      P0   H\nATOM   4317  NE  ARG A 304       4.736  15.645  17.118  0.00  0.00      P0   N\nATOM   4318  HE  ARG A 304       4.676  15.764  18.116  0.00  0.00      P0   H\nATOM   4319  CZ  ARG A 304       3.600  15.633  16.425  0.00  0.00      P0   C\nATOM   4320  NH1 ARG A 304       3.626  15.484  15.108  0.00  0.00      P0   N\nATOM   4321 HH11 ARG A 304       4.489  15.360  14.629  0.00  0.00      P0   H\nATOM   4322 HH12 ARG A 304       2.758  15.494  14.591  0.00  0.00      P0   H\nATOM   4323  NH2 ARG A 304       2.439  15.773  17.050  0.00  0.00      P0   N\nATOM   4324 HH21 ARG A 304       2.417  15.868  18.050  0.00  0.00      P0   H\nATOM   4325 HH22 ARG A 304       1.586  15.783  16.534  0.00  0.00      P0   H\nATOM   4326  C   ARG A 304       5.218  10.631  15.727  0.00  1.00      P0   C\nATOM   4327  O   ARG A 304       5.226  10.212  14.567  0.00  1.00      P0   O\nATOM   4328  N   LYS A 305       4.300  10.263  16.624  0.00  1.00      P0   N\nATOM   4329  HN  LYS A 305       4.414  10.663  17.563  0.00  0.00      P0   H\nATOM   4330  CA  LYS A 305       3.224   9.351  16.245  0.00  7.31      P0   C\nATOM   4331  HA  LYS A 305       3.628   8.527  15.827  0.00  0.00      P0   H\nATOM   4332  CB  LYS A 305       2.455   8.897  17.486  0.00  0.00      P0   C\nATOM   4333  HB1 LYS A 305       2.034   9.700  17.904  0.00  0.00      P0   H\nATOM   4334  HB2 LYS A 305       3.105   8.489  18.124  0.00  0.00      P0   H\nATOM   4335  CG  LYS A 305       1.362   7.878  17.200  0.00  0.00      P0   C\nATOM   4336  HG1 LYS A 305       1.768   7.077  16.761  0.00  0.00      P0   H\nATOM   4337  HG2 LYS A 305       0.686   8.288  16.587  0.00  0.00      P0   H\nATOM   4338  CD  LYS A 305       0.664   7.440  18.478  0.00  0.00      P0   C\nATOM   4339  HD1 LYS A 305       0.227   8.229  18.895  0.00  0.00      P0   H\nATOM   4340  HD2 LYS A 305       1.339   7.049  19.096  0.00  0.00      P0   H\nATOM   4341  CE  LYS A 305      -0.398   6.390  18.194  0.00  0.00      P0   C\nATOM   4342  HE1 LYS A 305       0.033   5.605  17.741  0.00  0.00      P0   H\nATOM   4343  HE2 LYS A 305      -1.086   6.783  17.579  0.00  0.00      P0   H\nATOM   4344  NZ  LYS A 305      -1.067   5.927  19.442  0.00  0.00      P0   N\nATOM   4345  HZ1 LYS A 305      -0.473   5.276  19.913  0.00  0.00      P0   H\nATOM   4346  HZ2 LYS A 305      -1.932   5.484  19.210  0.00  0.00      P0   H\nATOM   4347  HZ3 LYS A 305      -1.240   6.711  20.035  0.00  0.00      P0   H\nATOM   4348  C   LYS A 305       2.284   9.999  15.237  0.00  1.00      P0   C\nATOM   4349  O   LYS A 305       1.779   9.327  14.330  0.00  1.00      P0   O\nATOM   4350  N   GLU A 306       2.035  11.301  15.400  0.00  1.00      P0   N\nATOM   4351  HN  GLU A 306       2.445  11.740  16.219  0.00  0.00      P0   H\nATOM   4352  CA  GLU A 306       1.204  11.995  14.406  0.00  7.32      P0   C\nATOM   4353  HA  GLU A 306       0.293  11.543  14.363  0.00  0.00      P0   H\nATOM   4354  CB  GLU A 306       0.946  13.421  14.847  0.00  0.00      P0   C\nATOM   4355  HB1 GLU A 306       0.449  13.877  14.132  0.00  0.00      P0   H\nATOM   4356  HB2 GLU A 306       1.814  13.847  15.028  0.00  0.00      P0   H\nATOM   4357  CG  GLU A 306       0.116  13.524  16.117  0.00  0.00      P0   C\nATOM   4358  HG1 GLU A 306       0.509  12.923  16.788  0.00  0.00      P0   H\nATOM   4359  HG2 GLU A 306      -0.810  13.280  15.895  0.00  0.00      P0   H\nATOM   4360  CD  GLU A 306       0.109  14.912  16.681  0.00  0.00      P0   C\nATOM   4361  OE1 GLU A 306       0.511  15.852  15.952  0.00  0.00      P0   O\nATOM   4362  OE2 GLU A 306      -0.296  15.078  17.856  0.00  0.00      P0   O\nATOM   4363  C   GLU A 306       1.819  12.030  13.019  0.00  1.00      P0   C\nATOM   4364  O   GLU A 306       1.093  12.042  12.031  0.00  1.00      P0   O\nATOM   4365  N   VAL A 307       3.155  12.169  12.975  0.00  1.00      P0   N\nATOM   4366  HN  VAL A 307       3.612  12.303  13.882  0.00  0.00      P0   H\nATOM   4367  CA  VAL A 307       3.851  12.122  11.694  0.00  7.33      P0   C\nATOM   4368  HA  VAL A 307       3.371  12.728  11.053  0.00  0.00      P0   H\nATOM   4369  CB  VAL A 307       5.294  12.636  11.855  0.00  0.00      P0   C\nATOM   4370  HB  VAL A 307       5.777  12.001  12.449  0.00  0.00      P0   H\nATOM   4371  CG1 VAL A 307       6.016  12.629  10.514  0.00  0.00      P0   C\nATOM   4372 HG11 VAL A 307       6.617  13.425  10.455  0.00  0.00      P0   H\nATOM   4373 HG12 VAL A 307       6.560  11.794  10.434  0.00  0.00      P0   H\nATOM   4374 HG13 VAL A 307       5.346  12.662   9.773  0.00  0.00      P0   H\nATOM   4375  CG2 VAL A 307       5.291  14.031  12.458  0.00  0.00      P0   C\nATOM   4376 HG21 VAL A 307       5.790  14.654  11.856  0.00  0.00      P0   H\nATOM   4377 HG22 VAL A 307       5.733  14.005  13.355  0.00  0.00      P0   H\nATOM   4378 HG23 VAL A 307       4.347  14.346  12.559  0.00  0.00      P0   H\nATOM   4379  C   VAL A 307       3.817  10.711  11.120  0.00  1.00      P0   C\nATOM   4380  O   VAL A 307       3.657  10.522   9.908  0.00  1.00      P0   O\nATOM   4381  N   TYR A 308       3.959   9.699  11.979  0.00  1.00      P0   N\nATOM   4382  HN  TYR A 308       4.107   9.972  12.961  0.00  0.00      P0   H\nATOM   4383  CA  TYR A 308       3.903   8.318  11.512  0.00  7.34      P0   C\nATOM   4384  HA  TYR A 308       4.586   8.203  10.779  0.00  0.00      P0   H\nATOM   4385  CB  TYR A 308       4.255   7.370  12.658  0.00  0.00      P0   C\nATOM   4386  HB1 TYR A 308       3.611   7.531  13.406  0.00  0.00      P0   H\nATOM   4387  HB2 TYR A 308       5.182   7.581  12.965  0.00  0.00      P0   H\nATOM   4388  CG  TYR A 308       4.200   5.903  12.298  0.00  0.00      P0   C\nATOM   4389  CD1 TYR A 308       5.283   5.276  11.696  0.00  0.00      P0   C\nATOM   4390  HD1 TYR A 308       6.110   5.806  11.493  0.00  0.00      P0   H\nATOM   4391  CE1 TYR A 308       5.238   3.936  11.371  0.00  0.00      P0   C\nATOM   4392  HE1 TYR A 308       6.027   3.495  10.935  0.00  0.00      P0   H\nATOM   4393  CZ  TYR A 308       4.103   3.204  11.650  0.00  0.00      P0   C\nATOM   4394  OH  TYR A 308       4.054   1.868  11.328  0.00  0.00      P0   O\nATOM   4395  HH  TYR A 308       4.946   1.581  10.984  0.00  0.00      P0   H\nATOM   4396  CD2 TYR A 308       3.072   5.143  12.572  0.00  0.00      P0   C\nATOM   4397  HD2 TYR A 308       2.284   5.577  13.012  0.00  0.00      P0   H\nATOM   4398  CE2 TYR A 308       3.018   3.803  12.250  0.00  0.00      P0   C\nATOM   4399  HE2 TYR A 308       2.195   3.267  12.452  0.00  0.00      P0   H\nATOM   4400  C   TYR A 308       2.532   7.985  10.936  0.00  1.00      P0   C\nATOM   4401  O   TYR A 308       2.430   7.331   9.892  0.00  1.00      P0   O\nATOM   4402  N   ILE A 309       1.464   8.433  11.602  0.00  1.00      P0   N\nATOM   4403  HN  ILE A 309       1.671   8.940  12.474  0.00  0.00      P0   H\nATOM   4404  CA  ILE A 309       0.117   8.195  11.092  0.00  7.35      P0   C\nATOM   4405  HA  ILE A 309       0.076   7.223  10.848  0.00  0.00      P0   H\nATOM   4406  CB  ILE A 309      -0.925   8.548  12.169  0.00  0.00      P0   C\nATOM   4407  HB  ILE A 309      -0.750   9.478  12.472  0.00  0.00      P0   H\nATOM   4408  CG2 ILE A 309      -2.334   8.461  11.608  0.00  0.00      P0   C\nATOM   4409 HG21 ILE A 309      -2.410   9.073  10.823  0.00  0.00      P0   H\nATOM   4410 HG22 ILE A 309      -2.984   8.733  12.316  0.00  0.00      P0   H\nATOM   4411 HG23 ILE A 309      -2.513   7.520  11.324  0.00  0.00      P0   H\nATOM   4412  CG1 ILE A 309      -0.779   7.619  13.374  0.00  0.00      P0   C\nATOM   4413 HG11 ILE A 309       0.156   7.697  13.716  0.00  0.00      P0   H\nATOM   4414 HG12 ILE A 309      -0.931   6.681  13.069  0.00  0.00      P0   H\nATOM   4415  CD  ILE A 309      -1.737   7.932  14.500  0.00  0.00      P0   C\nATOM   4416  HD1 ILE A 309      -1.578   8.864  14.821  0.00  0.00      P0   H\nATOM   4417  HD2 ILE A 309      -1.588   7.289  15.251  0.00  0.00      P0   H\nATOM   4418  HD3 ILE A 309      -2.677   7.848  14.170  0.00  0.00      P0   H\nATOM   4419  C   ILE A 309      -0.111   8.978   9.804  0.00  1.00      P0   C\nATOM   4420  O   ILE A 309      -0.752   8.484   8.868  0.00  1.00      P0   O\nATOM   4421  N   LEU A 310       0.419  10.200   9.731  0.00  1.00      P0   N\nATOM   4422  HN  LEU A 310       0.960  10.495  10.559  0.00  0.00      P0   H\nATOM   4423  CA  LEU A 310       0.224  11.032   8.546  0.00  7.36      P0   C\nATOM   4424  HA  LEU A 310      -0.765  11.137   8.387  0.00  0.00      P0   H\nATOM   4425  CB  LEU A 310       0.814  12.422   8.785  0.00  0.00      P0   C\nATOM   4426  HB1 LEU A 310       1.745  12.306   9.120  0.00  0.00      P0   H\nATOM   4427  HB2 LEU A 310       0.257  12.876   9.476  0.00  0.00      P0   H\nATOM   4428  CG  LEU A 310       0.878  13.350   7.572  0.00  0.00      P0   C\nATOM   4429  HG  LEU A 310       1.412  12.907   6.852  0.00  0.00      P0   H\nATOM   4430  CD1 LEU A 310      -0.519  13.651   7.051  0.00  0.00      P0   C\nATOM   4431 HD11 LEU A 310      -0.967  12.797   6.782  0.00  0.00      P0   H\nATOM   4432 HD12 LEU A 310      -0.457  14.258   6.258  0.00  0.00      P0   H\nATOM   4433 HD13 LEU A 310      -1.056  14.095   7.769  0.00  0.00      P0   H\nATOM   4434  CD2 LEU A 310       1.618  14.630   7.922  0.00  0.00      P0   C\nATOM   4435 HD21 LEU A 310       1.142  15.100   8.666  0.00  0.00      P0   H\nATOM   4436 HD22 LEU A 310       2.550  14.410   8.212  0.00  0.00      P0   H\nATOM   4437 HD23 LEU A 310       1.653  15.228   7.120  0.00  0.00      P0   H\nATOM   4438  C   LEU A 310       0.844  10.390   7.311  0.00  1.00      P0   C\nATOM   4439  O   LEU A 310       0.194  10.273   6.265  0.00  1.00      P0   O\nATOM   4440  N   LEU A 311       2.107   9.964   7.413  0.00  1.00      P0   N\nATOM   4441  HN  LEU A 311       2.549  10.112   8.330  0.00  0.00      P0   H\nATOM   4442  CA  LEU A 311       2.770   9.339   6.273  0.00  7.37      P0   C\nATOM   4443  HA  LEU A 311       2.682   9.952   5.476  0.00  0.00      P0   H\nATOM   4444  CB  LEU A 311       4.261   9.167   6.561  0.00  0.00      P0   C\nATOM   4445  HB1 LEU A 311       4.681   8.751   5.764  0.00  0.00      P0   H\nATOM   4446  HB2 LEU A 311       4.353   8.575   7.354  0.00  0.00      P0   H\nATOM   4447  CG  LEU A 311       5.026  10.456   6.862  0.00  0.00      P0   C\nATOM   4448  HG  LEU A 311       4.681  10.846   7.718  0.00  0.00      P0   H\nATOM   4449  CD1 LEU A 311       6.511  10.180   6.994  0.00  0.00      P0   C\nATOM   4450 HD11 LEU A 311       6.668   9.530   7.740  0.00  0.00      P0   H\nATOM   4451 HD12 LEU A 311       6.996  11.033   7.190  0.00  0.00      P0   H\nATOM   4452 HD13 LEU A 311       6.859   9.791   6.139  0.00  0.00      P0   H\nATOM   4453  CD2 LEU A 311       4.766  11.500   5.787  0.00  0.00      P0   C\nATOM   4454 HD21 LEU A 311       5.064  11.149   4.900  0.00  0.00      P0   H\nATOM   4455 HD22 LEU A 311       3.789  11.708   5.750  0.00  0.00      P0   H\nATOM   4456 HD23 LEU A 311       5.275  12.335   6.001  0.00  0.00      P0   H\nATOM   4457  C   LEU A 311       2.139   7.999   5.921  0.00  1.00      P0   C\nATOM   4458  O   LEU A 311       2.189   7.578   4.759  0.00  1.00      P0   O\nATOM   4459  N   ASN A 312       1.550   7.315   6.905  0.00  1.00      P0   N\nATOM   4460  HN  ASN A 312       1.649   7.722   7.845  0.00  0.00      P0   H\nATOM   4461  CA  ASN A 312       0.827   6.081   6.618  0.00  7.38      P0   C\nATOM   4462  HA  ASN A 312       1.436   5.501   6.066  0.00  0.00      P0   H\nATOM   4463  CB  ASN A 312       0.440   5.385   7.924  0.00  0.00      P0   C\nATOM   4464  HB1 ASN A 312      -0.408   5.788   8.256  0.00  0.00      P0   H\nATOM   4465  HB2 ASN A 312       1.170   5.530   8.587  0.00  0.00      P0   H\nATOM   4466  CG  ASN A 312       0.232   3.888   7.756  0.00  0.00      P0   C\nATOM   4467  OD1 ASN A 312       0.728   3.093   8.554  0.00  0.00      P0   O\nATOM   4468  ND2 ASN A 312      -0.502   3.498   6.721  0.00  0.00      P0   N\nATOM   4469 HD21 ASN A 312      -0.881   4.182   6.092  0.00  0.00      P0   H\nATOM   4470 HD22 ASN A 312      -0.677   2.531   6.563  0.00  0.00      P0   H\nATOM   4471  C   ASN A 312      -0.409   6.359   5.772  0.00  1.00      P0   C\nATOM   4472  O   ASN A 312      -0.762   5.563   4.894  0.00  1.00      P0   O\nATOM   4473  N   TRP A 313      -1.079   7.486   6.019  0.00  1.00      P0   N\nATOM   4474  HN  TRP A 313      -0.685   8.072   6.773  0.00  0.00      P0   H\nATOM   4475  CA  TRP A 313      -2.273   7.828   5.261  0.00  7.39      P0   C\nATOM   4476  HA  TRP A 313      -2.804   6.976   5.123  0.00  0.00      P0   H\nATOM   4477  CB  TRP A 313      -3.133   8.814   6.051  0.00  0.00      P0   C\nATOM   4478  HB1 TRP A 313      -3.715   9.308   5.422  0.00  0.00      P0   H\nATOM   4479  HB2 TRP A 313      -2.540   9.428   6.550  0.00  0.00      P0   H\nATOM   4480  CG  TRP A 313      -4.015   8.134   7.043  0.00  0.00      P0   C\nATOM   4481  CD1 TRP A 313      -3.663   7.693   8.284  0.00  0.00      P0   C\nATOM   4482  HD1 TRP A 313      -2.753   7.778   8.687  0.00  0.00      P0   H\nATOM   4483  NE1 TRP A 313      -4.743   7.111   8.902  0.00  0.00      P0   N\nATOM   4484  HE1 TRP A 313      -4.744   6.712   9.818  0.00  0.00      P0   H\nATOM   4485  CE2 TRP A 313      -5.821   7.168   8.058  0.00  0.00      P0   C\nATOM   4486  CD2 TRP A 313      -5.398   7.806   6.876  0.00  0.00      P0   C\nATOM   4487  CE3 TRP A 313      -6.320   7.991   5.841  0.00  0.00      P0   C\nATOM   4488  HE3 TRP A 313      -6.054   8.438   4.992  0.00  0.00      P0   H\nATOM   4489  CZ3 TRP A 313      -7.615   7.542   6.020  0.00  0.00      P0   C\nATOM   4490  HZ3 TRP A 313      -8.280   7.669   5.288  0.00  0.00      P0   H\nATOM   4491  CZ2 TRP A 313      -7.126   6.716   8.236  0.00  0.00      P0   C\nATOM   4492  HZ2 TRP A 313      -7.394   6.265   9.093  0.00  0.00      P0   H\nATOM   4493  CH2 TRP A 313      -8.006   6.910   7.208  0.00  0.00      P0   C\nATOM   4494  HH2 TRP A 313      -8.954   6.599   7.295  0.00  0.00      P0   H\nATOM   4495  C   TRP A 313      -1.958   8.398   3.886  0.00  1.00      P0   C\nATOM   4496  O   TRP A 313      -2.817   8.343   3.000  0.00  1.00      P0   O\nATOM   4497  N   ILE A 314      -0.756   8.944   3.684  0.00  1.00      P0   N\nATOM   4498  HN  ILE A 314      -0.172   9.051   4.520  0.00  0.00      P0   H\nATOM   4499  CA  ILE A 314      -0.352   9.345   2.339  0.00  7.40      P0   C\nATOM   4500  HA  ILE A 314      -1.065   9.961   2.003  0.00  0.00      P0   H\nATOM   4501  CB  ILE A 314       1.021  10.040   2.371  0.00  0.00      P0   C\nATOM   4502  HB  ILE A 314       1.673   9.414   2.784  0.00  0.00      P0   H\nATOM   4503  CG2 ILE A 314       1.482  10.384   0.960  0.00  0.00      P0   C\nATOM   4504 HG21 ILE A 314       1.513   9.547   0.418  0.00  0.00      P0   H\nATOM   4505 HG22 ILE A 314       2.390  10.794   1.007  0.00  0.00      P0   H\nATOM   4506 HG23 ILE A 314       0.835  11.029   0.557  0.00  0.00      P0   H\nATOM   4507  CG1 ILE A 314       0.960  11.300   3.236  0.00  0.00      P0   C\nATOM   4508 HG11 ILE A 314       0.754  11.024   4.174  0.00  0.00      P0   H\nATOM   4509 HG12 ILE A 314       0.216  11.876   2.902  0.00  0.00      P0   H\nATOM   4510  CD  ILE A 314       2.242  12.101   3.235  0.00  0.00      P0   C\nATOM   4511  HD1 ILE A 314       2.987  11.536   3.586  0.00  0.00      P0   H\nATOM   4512  HD2 ILE A 314       2.131  12.906   3.818  0.00  0.00      P0   H\nATOM   4513  HD3 ILE A 314       2.453  12.391   2.303  0.00  0.00      P0   H\nATOM   4514  C   ILE A 314      -0.349   8.135   1.414  0.00  1.00      P0   C\nATOM   4515  O   ILE A 314      -0.752   8.224   0.247  0.00  1.00      P0   O\nATOM   4516  N   GLY A 315       0.092   6.983   1.924  0.00  1.00      P0   N\nATOM   4517  HN  GLY A 315       0.481   7.044   2.876  0.00  0.00      P0   H\nATOM   4518  CA  GLY A 315       0.006   5.757   1.150  0.00  7.41      P0   C\nATOM   4519  HA1 GLY A 315       0.556   5.033   1.607  0.00  0.00      P0   H\nATOM   4520  HA2 GLY A 315       0.423   5.908   0.235  0.00  0.00      P0   H\nATOM   4521  C   GLY A 315      -1.416   5.267   0.975  0.00  1.00      P0   C\nATOM   4522  O   GLY A 315      -1.723   4.581  -0.004  0.00  1.00      P0   O\nATOM   4523  N   TYR A 316      -2.302   5.605   1.916  0.00  1.00      P0   N\nATOM   4524  HN  TYR A 316      -1.916   6.104   2.728  0.00  0.00      P0   H\nATOM   4525  CA  TYR A 316      -3.712   5.265   1.756  0.00  7.42      P0   C\nATOM   4526  HA  TYR A 316      -3.778   4.281   1.550  0.00  0.00      P0   H\nATOM   4527  CB  TYR A 316      -4.476   5.545   3.050  0.00  0.00      P0   C\nATOM   4528  HB1 TYR A 316      -5.455   5.473   2.856  0.00  0.00      P0   H\nATOM   4529  HB2 TYR A 316      -4.263   6.477   3.343  0.00  0.00      P0   H\nATOM   4530  CG  TYR A 316      -4.152   4.605   4.188  0.00  0.00      P0   C\nATOM   4531  CD1 TYR A 316      -3.470   3.417   3.965  0.00  0.00      P0   C\nATOM   4532  HD1 TYR A 316      -3.186   3.178   3.032  0.00  0.00      P0   H\nATOM   4533  CE1 TYR A 316      -3.177   2.555   5.005  0.00  0.00      P0   C\nATOM   4534  HE1 TYR A 316      -2.680   1.701   4.829  0.00  0.00      P0   H\nATOM   4535  CZ  TYR A 316      -3.570   2.877   6.287  0.00  0.00      P0   C\nATOM   4536  OH  TYR A 316      -3.282   2.025   7.329  0.00  0.00      P0   O\nATOM   4537  HH  TYR A 316      -3.162   2.558   8.165  0.00  0.00      P0   H\nATOM   4538  CD2 TYR A 316      -4.538   4.903   5.488  0.00  0.00      P0   C\nATOM   4539  HD2 TYR A 316      -5.034   5.755   5.668  0.00  0.00      P0   H\nATOM   4540  CE2 TYR A 316      -4.250   4.049   6.533  0.00  0.00      P0   C\nATOM   4541  HE2 TYR A 316      -4.535   4.280   7.466  0.00  0.00      P0   H\nATOM   4542  C   TYR A 316      -4.332   6.034   0.597  0.00  1.00      P0   C\nATOM   4543  O   TYR A 316      -5.089   5.465  -0.198  0.00  1.00      P0   O\nATOM   4544  N   VAL A 317      -4.020   7.329   0.486  0.00  1.00      P0   N\nATOM   4545  HN  VAL A 317      -3.403   7.696   1.227  0.00  0.00      P0   H\nATOM   4546  CA  VAL A 317      -4.537   8.133  -0.618  0.00  7.43      P0   C\nATOM   4547  HA  VAL A 317      -5.538   8.033  -0.636  0.00  0.00      P0   H\nATOM   4548  CB  VAL A 317      -4.207   9.621  -0.387  0.00  0.00      P0   C\nATOM   4549  HB  VAL A 317      -3.222   9.732  -0.492  0.00  0.00      P0   H\nATOM   4550  CG1 VAL A 317      -4.870  10.493  -1.442  0.00  0.00      P0   C\nATOM   4551 HG11 VAL A 317      -5.373  11.233  -0.996  0.00  0.00      P0   H\nATOM   4552 HG12 VAL A 317      -4.171  10.880  -2.043  0.00  0.00      P0   H\nATOM   4553 HG13 VAL A 317      -5.503   9.940  -1.983  0.00  0.00      P0   H\nATOM   4554  CG2 VAL A 317      -4.649  10.045   0.998  0.00  0.00      P0   C\nATOM   4555 HG21 VAL A 317      -4.522   9.284   1.637  0.00  0.00      P0   H\nATOM   4556 HG22 VAL A 317      -5.615  10.304   0.976  0.00  0.00      P0   H\nATOM   4557 HG23 VAL A 317      -4.100  10.827   1.299  0.00  0.00      P0   H\nATOM   4558  C   VAL A 317      -3.990   7.632  -1.948  0.00  1.00      P0   C\nATOM   4559  O   VAL A 317      -4.634   7.788  -2.994  0.00  1.00      P0   O\nATOM   4560  N   ASN A 318      -2.806   7.015  -1.934  0.00  1.00      P0   N\nATOM   4561  HN  ASN A 318      -2.349   6.968  -1.008  0.00  0.00      P0   H\nATOM   4562  CA  ASN A 318      -2.232   6.461  -3.154  0.00  7.45      P0   C\nATOM   4563  HA  ASN A 318      -2.181   7.213  -3.828  0.00  0.00      P0   H\nATOM   4564  CB  ASN A 318      -0.834   5.909  -2.869  0.00  0.00      P0   C\nATOM   4565  HB1 ASN A 318      -0.916   5.182  -2.194  0.00  0.00      P0   H\nATOM   4566  HB2 ASN A 318      -0.272   6.649  -2.508  0.00  0.00      P0   H\nATOM   4567  CG  ASN A 318      -0.164   5.350  -4.106  0.00  0.00      P0   C\nATOM   4568  OD1 ASN A 318       0.487   6.078  -4.857  0.00  0.00      P0   O\nATOM   4569  ND2 ASN A 318      -0.321   4.051  -4.329  0.00  0.00      P0   N\nATOM   4570 HD21 ASN A 318      -0.866   3.497  -3.695  0.00  0.00      P0   H\nATOM   4571 HD22 ASN A 318       0.101   3.621  -5.126  0.00  0.00      P0   H\nATOM   4572  C   ASN A 318      -3.110   5.376  -3.763  0.00  1.00      P0   C\nATOM   4573  O   ASN A 318      -3.033   5.135  -4.973  0.00  1.00      P0   O\nATOM   4574  N   SER A 319      -3.951   4.728  -2.958  0.00  1.00      P0   N\nATOM   4575  HN  SER A 319      -3.881   5.000  -1.953  0.00  0.00      P0   H\nATOM   4576  CA  SER A 319      -4.886   3.724  -3.449  0.00  7.46      P0   C\nATOM   4577  HA  SER A 319      -4.388   3.123  -4.098  0.00  0.00      P0   H\nATOM   4578  CB  SER A 319      -5.385   2.865  -2.285  0.00  0.00      P0   C\nATOM   4579  HB1 SER A 319      -6.037   2.198  -2.635  0.00  0.00      P0   H\nATOM   4580  HB2 SER A 319      -5.824   3.456  -1.615  0.00  0.00      P0   H\nATOM   4581  OG  SER A 319      -4.312   2.179  -1.664  0.00  0.00      P0   O\nATOM   4582  HG1 SER A 319      -3.970   1.469  -2.278  0.00  0.00      P0   H\nATOM   4583  C   SER A 319      -6.070   4.331  -4.195  0.00  1.00      P0   C\nATOM   4584  O   SER A 319      -6.992   3.597  -4.566  0.00  1.00      P0   O\nATOM   4585  N   GLY A 320      -6.069   5.643  -4.419  0.00  1.00      P0   N\nATOM   4586  HN  GLY A 320      -5.253   6.149  -4.017  0.00  0.00      P0   H\nATOM   4587  CA  GLY A 320      -7.128   6.292  -5.167  0.00  7.47      P0   C\nATOM   4588  HA1 GLY A 320      -7.689   6.856  -4.535  0.00  0.00      P0   H\nATOM   4589  HA2 GLY A 320      -7.745   5.587  -5.559  0.00  0.00      P0   H\nATOM   4590  C   GLY A 320      -6.601   7.170  -6.282  0.00  1.00      P0   C\nATOM   4591  O   GLY A 320      -7.374   7.830  -6.984  0.00  1.00      P0   O\nATOM   4592  N   PHE A 321      -5.279   7.188  -6.452  0.00  1.00      P0   N\nATOM   4593  HN  PHE A 321      -4.747   6.608  -5.770  0.00  0.00      P0   H\nATOM   4594  CA  PHE A 321      -4.646   7.963  -7.512  0.00  7.48      P0   C\nATOM   4595  HA  PHE A 321      -5.225   8.777  -7.667  0.00  0.00      P0   H\nATOM   4596  CB  PHE A 321      -3.229   8.371  -7.096  0.00  0.00      P0   C\nATOM   4597  HB1 PHE A 321      -2.744   8.648  -7.912  0.00  0.00      P0   H\nATOM   4598  HB2 PHE A 321      -2.801   7.585  -6.675  0.00  0.00      P0   H\nATOM   4599  CG  PHE A 321      -3.185   9.507  -6.118  0.00  0.00      P0   C\nATOM   4600  CD1 PHE A 321      -4.253  10.382  -6.002  0.00  0.00      P0   C\nATOM   4601  HD1 PHE A 321      -5.062  10.255  -6.570  0.00  0.00      P0   H\nATOM   4602  CE1 PHE A 321      -4.212  11.431  -5.102  0.00  0.00      P0   C\nATOM   4603  HE1 PHE A 321      -5.000  12.057  -5.031  0.00  0.00      P0   H\nATOM   4604  CZ  PHE A 321      -3.096  11.616  -4.309  0.00  0.00      P0   C\nATOM   4605  HZ  PHE A 321      -3.068  12.377  -3.658  0.00  0.00      P0   H\nATOM   4606  CD2 PHE A 321      -2.072   9.706  -5.317  0.00  0.00      P0   C\nATOM   4607  HD2 PHE A 321      -1.292   9.080  -5.392  0.00  0.00      P0   H\nATOM   4608  CE2 PHE A 321      -2.025  10.752  -4.417  0.00  0.00      P0   C\nATOM   4609  HE2 PHE A 321      -1.201  10.881  -3.839  0.00  0.00      P0   H\nATOM   4610  C   PHE A 321      -4.590   7.205  -8.832  0.00  1.00      P0   C\nATOM   4611  O   PHE A 321      -4.723   7.816  -9.899  0.00  1.00      P0   O\nATOM   4612  N   ASN A 322      -4.395   5.888  -8.777  0.00  1.00      P0   N\nATOM   4613  HN  ASN A 322      -4.346   5.493  -7.823  0.00  0.00      P0   H\nATOM   4614  CA  ASN A 322      -4.264   5.089  -9.993  0.00  7.49      P0   C\nATOM   4615  HA  ASN A 322      -3.425   5.410 -10.470  0.00  0.00      P0   H\nATOM   4616  CB  ASN A 322      -4.084   3.609  -9.619  0.00  0.00      P0   C\nATOM   4617  HB1 ASN A 322      -3.971   3.087 -10.460  0.00  0.00      P0   H\nATOM   4618  HB2 ASN A 322      -4.900   3.309  -9.134  0.00  0.00      P0   H\nATOM   4619  CG  ASN A 322      -2.875   3.373  -8.733  0.00  0.00      P0   C\nATOM   4620  OD1 ASN A 322      -1.871   4.078  -8.830  0.00  0.00      P0   O\nATOM   4621  ND2 ASN A 322      -2.966   2.373  -7.863  0.00  0.00      P0   N\nATOM   4622 HD21 ASN A 322      -3.799   1.819  -7.824  0.00  0.00      P0   H\nATOM   4623 HD22 ASN A 322      -2.205   2.170  -7.248  0.00  0.00      P0   H\nATOM   4624  C   ASN A 322      -5.422   5.254 -10.975  0.00  1.00      P0   C\nATOM   4625  O   ASN A 322      -5.150   5.377 -12.182  0.00  1.00      P0   O\nATOM   4626  N   PRO A 323      -6.696   5.259 -10.563  0.00  1.00      P0   N\nATOM   4627  CD  PRO A 323      -7.252   4.938  -9.236  0.00  0.00      P0   C\nATOM   4628  HD1 PRO A 323      -6.730   4.199  -8.808  0.00  0.00      P0   H\nATOM   4629  HD2 PRO A 323      -7.230   5.744  -8.645  0.00  0.00      P0   H\nATOM   4630  CA  PRO A 323      -7.765   5.482 -11.551  0.00  7.50      P0   C\nATOM   4631  HA  PRO A 323      -7.767   4.732 -12.239  0.00  0.00      P0   H\nATOM   4632  CB  PRO A 323      -9.048   5.345 -10.718  0.00  0.00      P0   C\nATOM   4633  HB1 PRO A 323      -9.766   4.896 -11.255  0.00  0.00      P0   H\nATOM   4634  HB2 PRO A 323      -9.376   6.249 -10.430  0.00  0.00      P0   H\nATOM   4635  CG  PRO A 323      -8.650   4.518  -9.551  0.00  0.00      P0   C\nATOM   4636  HG1 PRO A 323      -8.690   3.539  -9.781  0.00  0.00      P0   H\nATOM   4637  HG2 PRO A 323      -9.263   4.688  -8.772  0.00  0.00      P0   H\nATOM   4638  C   PRO A 323      -7.683   6.837 -12.232  0.00  1.00      P0   C\nATOM   4639  O   PRO A 323      -8.018   6.944 -13.418  0.00  1.00      P0   O\nATOM   4640  N   LEU A 324      -7.246   7.878 -11.521  0.00  1.00      P0   N\nATOM   4641  HN  LEU A 324      -7.030   7.683 -10.536  0.00  0.00      P0   H\nATOM   4642  CA  LEU A 324      -7.104   9.186 -12.151  0.00  7.51      P0   C\nATOM   4643  HA  LEU A 324      -7.951   9.390 -12.661  0.00  0.00      P0   H\nATOM   4644  CB  LEU A 324      -6.935  10.269 -11.085  0.00  0.00      P0   C\nATOM   4645  HB1 LEU A 324      -6.838  11.143 -11.549  0.00  0.00      P0   H\nATOM   4646  HB2 LEU A 324      -6.112  10.060 -10.564  0.00  0.00      P0   H\nATOM   4647  CG  LEU A 324      -8.085  10.407 -10.085  0.00  0.00      P0   C\nATOM   4648  HG  LEU A 324      -8.217   9.531  -9.619  0.00  0.00      P0   H\nATOM   4649  CD1 LEU A 324      -7.779  11.485  -9.056  0.00  0.00      P0   C\nATOM   4650 HD11 LEU A 324      -6.946  11.245  -8.558  0.00  0.00      P0   H\nATOM   4651 HD12 LEU A 324      -8.541  11.559  -8.413  0.00  0.00      P0   H\nATOM   4652 HD13 LEU A 324      -7.649  12.362  -9.519  0.00  0.00      P0   H\nATOM   4653  CD2 LEU A 324      -9.392  10.699 -10.806  0.00  0.00      P0   C\nATOM   4654 HD21 LEU A 324      -9.307  11.553 -11.319  0.00  0.00      P0   H\nATOM   4655 HD22 LEU A 324      -9.601   9.951 -11.437  0.00  0.00      P0   H\nATOM   4656 HD23 LEU A 324     -10.131  10.786 -10.138  0.00  0.00      P0   H\nATOM   4657  C   LEU A 324      -5.935   9.214 -13.126  0.00  1.00      P0   C\nATOM   4658  O   LEU A 324      -5.982   9.938 -14.127  0.00  1.00      P0   O\nATOM   4659  N   ILE A 325      -4.883   8.437 -12.856  0.00  1.00      P0   N\nATOM   4660  HN  ILE A 325      -4.944   7.899 -11.982  0.00  0.00      P0   H\nATOM   4661  CA  ILE A 325      -3.747   8.392 -13.771  0.00  7.52      P0   C\nATOM   4662  HA  ILE A 325      -3.566   9.341 -14.044  0.00  0.00      P0   H\nATOM   4663  CB  ILE A 325      -2.524   7.772 -13.070  0.00  0.00      P0   C\nATOM   4664  HB  ILE A 325      -2.738   6.824 -12.859  0.00  0.00      P0   H\nATOM   4665  CG2 ILE A 325      -1.297   7.831 -13.969  0.00  0.00      P0   C\nATOM   4666 HG21 ILE A 325      -1.498   7.356 -14.823  0.00  0.00      P0   H\nATOM   4667 HG22 ILE A 325      -0.533   7.389 -13.504  0.00  0.00      P0   H\nATOM   4668 HG23 ILE A 325      -1.077   8.786 -14.154  0.00  0.00      P0   H\nATOM   4669  CG1 ILE A 325      -2.236   8.496 -11.753  0.00  0.00      P0   C\nATOM   4670 HG11 ILE A 325      -3.060   8.454 -11.188  0.00  0.00      P0   H\nATOM   4671 HG12 ILE A 325      -2.039   9.454 -11.956  0.00  0.00      P0   H\nATOM   4672  CD  ILE A 325      -1.081   7.909 -10.974  0.00  0.00      P0   C\nATOM   4673  HD1 ILE A 325      -1.282   6.955 -10.752  0.00  0.00      P0   H\nATOM   4674  HD2 ILE A 325      -0.951   8.428 -10.130  0.00  0.00      P0   H\nATOM   4675  HD3 ILE A 325      -0.250   7.955 -11.527  0.00  0.00      P0   H\nATOM   4676  C   ILE A 325      -4.111   7.635 -15.041  0.00  1.00      P0   C\nATOM   4677  O   ILE A 325      -3.608   7.950 -16.127  0.00  1.00      P0   O\nATOM   4678  N   TYR A 326      -4.997   6.639 -14.939  0.00  1.00      P0   N\nATOM   4679  HN  TYR A 326      -5.345   6.460 -13.984  0.00  0.00      P0   H\nATOM   4680  CA  TYR A 326      -5.416   5.884 -16.116  0.00  7.53      P0   C\nATOM   4681  HA  TYR A 326      -4.586   5.521 -16.569  0.00  0.00      P0   H\nATOM   4682  CB  TYR A 326      -6.285   4.696 -15.701  0.00  0.00      P0   C\nATOM   4683  HB1 TYR A 326      -6.594   4.232 -16.528  0.00  0.00      P0   H\nATOM   4684  HB2 TYR A 326      -7.069   5.045 -15.194  0.00  0.00      P0   H\nATOM   4685  CG  TYR A 326      -5.569   3.687 -14.832  0.00  0.00      P0   C\nATOM   4686  CD1 TYR A 326      -4.197   3.502 -14.935  0.00  0.00      P0   C\nATOM   4687  HD1 TYR A 326      -3.674   4.045 -15.597  0.00  0.00      P0   H\nATOM   4688  CE1 TYR A 326      -3.540   2.583 -14.141  0.00  0.00      P0   C\nATOM   4689  HE1 TYR A 326      -2.547   2.459 -14.227  0.00  0.00      P0   H\nATOM   4690  CZ  TYR A 326      -4.255   1.837 -13.230  0.00  0.00      P0   C\nATOM   4691  OH  TYR A 326      -3.607   0.919 -12.435  0.00  0.00      P0   O\nATOM   4692  HH  TYR A 326      -2.742   0.667 -12.864  0.00  0.00      P0   H\nATOM   4693  CD2 TYR A 326      -6.266   2.923 -13.905  0.00  0.00      P0   C\nATOM   4694  HD2 TYR A 326      -7.256   3.045 -13.817  0.00  0.00      P0   H\nATOM   4695  CE2 TYR A 326      -5.618   2.004 -13.109  0.00  0.00      P0   C\nATOM   4696  HE2 TYR A 326      -6.135   1.458 -12.444  0.00  0.00      P0   H\nATOM   4697  C   TYR A 326      -6.163   6.748 -17.121  0.00  1.00      P0   C\nATOM   4698  O   TYR A 326      -6.273   6.365 -18.291  0.00  1.00      P0   O\nATOM   4699  N   CYS A 327      -6.678   7.903 -16.695  0.00  1.00      P0   N\nATOM   4700  HN  CYS A 327      -6.584   8.072 -15.677  0.00  0.00      P0   H\nATOM   4701  CA  CYS A 327      -7.316   8.834 -17.616  0.00  7.54      P0   C\nATOM   4702  HA  CYS A 327      -8.023   8.329 -18.137  0.00  0.00      P0   H\nATOM   4703  CB  CYS A 327      -8.013   9.947 -16.834  0.00  0.00      P0   C\nATOM   4704  HB1 CYS A 327      -8.392  10.595 -17.489  0.00  0.00      P0   H\nATOM   4705  HB2 CYS A 327      -7.333  10.399 -16.263  0.00  0.00      P0   H\nATOM   4706  SG  CYS A 327      -9.351   9.365 -15.771  0.00  0.00      P0   S\nATOM   4707  HG1 CYS A 327      -9.654  10.544 -15.225  0.00  0.00      P0   H\nATOM   4708  C   CYS A 327      -6.338   9.438 -18.615  0.00  1.00      P0   C\nATOM   4709  O   CYS A 327      -6.781  10.037 -19.600  0.00  1.00      P0   O\nATOM   4710  N   ARG A 328      -5.029   9.300 -18.387  0.00  1.00      P0   N\nATOM   4711  HN  ARG A 328      -4.781   8.882 -17.482  0.00  0.00      P0   H\nATOM   4712  CA  ARG A 328      -4.059   9.730 -19.388  0.00  7.55      P0   C\nATOM   4713  HA  ARG A 328      -4.222  10.701 -19.603  0.00  0.00      P0   H\nATOM   4714  CB  ARG A 328      -2.639   9.605 -18.843  0.00  0.00      P0   C\nATOM   4715  HB1 ARG A 328      -2.002   9.749 -19.599  0.00  0.00      P0   H\nATOM   4716  HB2 ARG A 328      -2.526   8.680 -18.481  0.00  0.00      P0   H\nATOM   4717  CG  ARG A 328      -2.295  10.586 -17.744  0.00  0.00      P0   C\nATOM   4718  HG1 ARG A 328      -2.982  10.541 -17.028  0.00  0.00      P0   H\nATOM   4719  HG2 ARG A 328      -2.244  11.505 -18.119  0.00  0.00      P0   H\nATOM   4720  CD  ARG A 328      -0.948  10.248 -17.130  0.00  0.00      P0   C\nATOM   4721  HD1 ARG A 328      -1.067   9.449 -16.545  0.00  0.00      P0   H\nATOM   4722  HD2 ARG A 328      -0.652  11.028 -16.584  0.00  0.00      P0   H\nATOM   4723  NE  ARG A 328       0.062   9.958 -18.145  0.00  0.00      P0   N\nATOM   4724  HE  ARG A 328       0.153   9.006 -18.459  0.00  0.00      P0   H\nATOM   4725  CZ  ARG A 328       0.869  10.869 -18.680  0.00  0.00      P0   C\nATOM   4726  NH1 ARG A 328       0.787  12.137 -18.300  0.00  0.00      P0   N\nATOM   4727 HH11 ARG A 328       0.137  12.415 -17.600  0.00  0.00      P0   H\nATOM   4728 HH12 ARG A 328       1.393  12.823 -18.729  0.00  0.00      P0   H\nATOM   4729  NH2 ARG A 328       1.759  10.511 -19.596  0.00  0.00      P0   N\nATOM   4730 HH21 ARG A 328       1.837   9.548 -19.868  0.00  0.00      P0   H\nATOM   4731 HH22 ARG A 328       2.354  11.193 -20.014  0.00  0.00      P0   H\nATOM   4732  C   ARG A 328      -4.199   8.918 -20.669  0.00  1.00      P0   C\nATOM   4733  O   ARG A 328      -4.069   9.457 -21.774  0.00  1.00      P0   O\nATOM   4734  N   SER A 329      -4.451   7.622 -20.541  0.00  1.00      P0   N\nATOM   4735  HN  SER A 329      -4.518   7.281 -19.567  0.00  0.00      P0   H\nATOM   4736  CA  SER A 329      -4.616   6.773 -21.711  0.00  8.47      P0   C\nATOM   4737  HA  SER A 329      -3.949   7.057 -22.402  0.00  0.00      P0   H\nATOM   4738  CB  SER A 329      -4.406   5.311 -21.346  0.00  0.00      P0   C\nATOM   4739  HB1 SER A 329      -5.048   5.061 -20.628  0.00  0.00      P0   H\nATOM   4740  HB2 SER A 329      -3.470   5.186 -21.032  0.00  0.00      P0   H\nATOM   4741  OG  SER A 329      -4.629   4.479 -22.471  0.00  0.00      P0   O\nATOM   4742  HG1 SER A 329      -4.395   4.977 -23.305  0.00  0.00      P0   H\nATOM   4743  C   SER A 329      -6.009   6.968 -22.295  0.00  1.00      P0   C\nATOM   4744  O   SER A 329      -7.001   6.732 -21.595  0.00  1.00      P0   O\nATOM   4745  N   PRO A 330      -6.132   7.394 -23.556  0.00  1.00      P0   N\nATOM   4746  CD  PRO A 330      -5.064   7.830 -24.471  0.00  0.00      P0   C\nATOM   4747  HD1 PRO A 330      -4.369   8.351 -23.975  0.00  0.00      P0   H\nATOM   4748  HD2 PRO A 330      -4.639   7.042 -24.914  0.00  0.00      P0   H\nATOM   4749  CA  PRO A 330      -7.471   7.562 -24.143  0.00  8.48      P0   C\nATOM   4750  HA  PRO A 330      -7.984   8.286 -23.643  0.00  0.00      P0   H\nATOM   4751  CB  PRO A 330      -7.174   8.100 -25.550  0.00  0.00      P0   C\nATOM   4752  HB1 PRO A 330      -7.846   8.798 -25.811  0.00  0.00      P0   H\nATOM   4753  HB2 PRO A 330      -7.201   7.356 -26.225  0.00  0.00      P0   H\nATOM   4754  CG  PRO A 330      -5.800   8.687 -25.457  0.00  0.00      P0   C\nATOM   4755  HG1 PRO A 330      -5.849   9.641 -25.141  0.00  0.00      P0   H\nATOM   4756  HG2 PRO A 330      -5.351   8.671 -26.356  0.00  0.00      P0   H\nATOM   4757  C   PRO A 330      -8.274   6.274 -24.200  0.00  1.00      P0   C\nATOM   4758  O   PRO A 330      -9.507   6.338 -24.275  0.00  1.00      P0   O\nATOM   4759  N   ASP A 331      -7.619   5.112 -24.165  0.00  1.00      P0   N\nATOM   4760  HN  ASP A 331      -6.592   5.184 -24.146  0.00  0.00      P0   H\nATOM   4761  CA  ASP A 331      -8.353   3.850 -24.156  0.00  8.49      P0   C\nATOM   4762  HA  ASP A 331      -9.029   3.894 -24.901  0.00  0.00      P0   H\nATOM   4763  CB  ASP A 331      -7.392   2.682 -24.372  0.00  0.00      P0   C\nATOM   4764  HB1 ASP A 331      -7.932   1.864 -24.530  0.00  0.00      P0   H\nATOM   4765  HB2 ASP A 331      -6.840   2.582 -23.551  0.00  0.00      P0   H\nATOM   4766  CG  ASP A 331      -6.470   2.896 -25.556  0.00  0.00      P0   C\nATOM   4767  OD1 ASP A 331      -6.899   2.635 -26.700  0.00  0.00      P0   O\nATOM   4768  OD2 ASP A 331      -5.317   3.326 -25.342  0.00  0.00      P0   O\nATOM   4769  C   ASP A 331      -9.130   3.677 -22.857  0.00  1.00      P0   C\nATOM   4770  O   ASP A 331     -10.299   3.273 -22.873  0.00  1.00      P0   O\nATOM   4771  N   PHE A 332      -8.496   3.978 -21.723  0.00  1.00      P0   N\nATOM   4772  HN  PHE A 332      -7.499   4.215 -21.824  0.00  0.00      P0   H\nATOM   4773  CA  PHE A 332      -9.209   3.959 -20.450  0.00  8.50      P0   C\nATOM   4774  HA  PHE A 332      -9.781   3.129 -20.447  0.00  0.00      P0   H\nATOM   4775  CB  PHE A 332      -8.214   3.947 -19.291  0.00  0.00      P0   C\nATOM   4776  HB1 PHE A 332      -8.715   4.138 -18.460  0.00  0.00      P0   H\nATOM   4777  HB2 PHE A 332      -7.534   4.642 -19.468  0.00  0.00      P0   H\nATOM   4778  CG  PHE A 332      -7.503   2.636 -19.115  0.00  0.00      P0   C\nATOM   4779  CD1 PHE A 332      -8.169   1.440 -19.322  0.00  0.00      P0   C\nATOM   4780  HD1 PHE A 332      -9.130   1.447 -19.593  0.00  0.00      P0   H\nATOM   4781  CE1 PHE A 332      -7.520   0.232 -19.161  0.00  0.00      P0   C\nATOM   4782  HE1 PHE A 332      -8.022  -0.629 -19.315  0.00  0.00      P0   H\nATOM   4783  CZ  PHE A 332      -6.190   0.211 -18.789  0.00  0.00      P0   C\nATOM   4784  HZ  PHE A 332      -5.719  -0.666 -18.672  0.00  0.00      P0   H\nATOM   4785  CD2 PHE A 332      -6.170   2.601 -18.743  0.00  0.00      P0   C\nATOM   4786  HD2 PHE A 332      -5.676   3.460 -18.591  0.00  0.00      P0   H\nATOM   4787  CE2 PHE A 332      -5.515   1.396 -18.580  0.00  0.00      P0   C\nATOM   4788  HE2 PHE A 332      -4.538   1.389 -18.305  0.00  0.00      P0   H\nATOM   4789  C   PHE A 332     -10.153   5.145 -20.323  0.00  1.00      P0   C\nATOM   4790  O   PHE A 332     -11.235   5.015 -19.738  0.00  1.00      P0   O\nATOM   4791  N   ARG A 333      -9.768   6.300 -20.869  0.00  1.00      P0   N\nATOM   4792  HN  ARG A 333      -8.877   6.266 -21.385  0.00  0.00      P0   H\nATOM   4793  CA  ARG A 333     -10.582   7.502 -20.721  0.00  8.51      P0   C\nATOM   4794  HA  ARG A 333     -10.744   7.665 -19.738  0.00  0.00      P0   H\nATOM   4795  CB  ARG A 333      -9.824   8.709 -21.271  0.00  0.00      P0   C\nATOM   4796  HB1 ARG A 333      -9.820   8.644 -22.269  0.00  0.00      P0   H\nATOM   4797  HB2 ARG A 333      -8.883   8.665 -20.934  0.00  0.00      P0   H\nATOM   4798  CG  ARG A 333     -10.400  10.056 -20.890  0.00  0.00      P0   C\nATOM   4799  HG1 ARG A 333     -10.289  10.203 -19.917  0.00  0.00      P0   H\nATOM   4800  HG2 ARG A 333     -11.354  10.098 -21.151  0.00  0.00      P0   H\nATOM   4801  CD  ARG A 333      -9.656  11.157 -21.624  0.00  0.00      P0   C\nATOM   4802  HD1 ARG A 333      -9.904  12.028 -21.209  0.00  0.00      P0   H\nATOM   4803  HD2 ARG A 333      -9.939  11.139 -22.579  0.00  0.00      P0   H\nATOM   4804  NE  ARG A 333      -8.209  10.980 -21.546  0.00  0.00      P0   N\nATOM   4805  HE  ARG A 333      -7.853  10.279 -20.918  0.00  0.00      P0   H\nATOM   4806  CZ  ARG A 333      -7.331  11.686 -22.253  0.00  0.00      P0   C\nATOM   4807  NH1 ARG A 333      -7.755  12.616 -23.097  0.00  0.00      P0   N\nATOM   4808 HH11 ARG A 333      -8.725  12.807 -23.195  0.00  0.00      P0   H\nATOM   4809 HH12 ARG A 333      -7.079  13.133 -23.643  0.00  0.00      P0   H\nATOM   4810  NH2 ARG A 333      -6.032  11.460 -22.118  0.00  0.00      P0   N\nATOM   4811 HH21 ARG A 333      -5.710  10.768 -21.465  0.00  0.00      P0   H\nATOM   4812 HH22 ARG A 333      -5.371  11.973 -22.658  0.00  0.00      P0   H\nATOM   4813  C   ARG A 333     -11.928   7.350 -21.418  0.00  1.00      P0   C\nATOM   4814  O   ARG A 333     -12.965   7.746 -20.872  0.00  1.00      P0   O\nATOM   4815  N   ILE A 334     -11.932   6.781 -22.627  0.00  1.00      P0   N\nATOM   4816  HN  ILE A 334     -11.005   6.514 -22.988  0.00  0.00      P0   H\nATOM   4817  CA  ILE A 334     -13.183   6.573 -23.349  0.00  8.52      P0   C\nATOM   4818  HA  ILE A 334     -13.676   7.446 -23.316  0.00  0.00      P0   H\nATOM   4819  CB  ILE A 334     -12.895   6.144 -24.800  0.00  0.00      P0   C\nATOM   4820  HB  ILE A 334     -12.231   5.404 -24.775  0.00  0.00      P0   H\nATOM   4821  CG2 ILE A 334     -14.164   5.645 -25.477  0.00  0.00      P0   C\nATOM   4822 HG21 ILE A 334     -14.541   4.892 -24.942  0.00  0.00      P0   H\nATOM   4823 HG22 ILE A 334     -13.938   5.331 -26.396  0.00  0.00      P0   H\nATOM   4824 HG23 ILE A 334     -14.822   6.394 -25.523  0.00  0.00      P0   H\nATOM   4825  CG1 ILE A 334     -12.287   7.302 -25.592  0.00  0.00      P0   C\nATOM   4826 HG11 ILE A 334     -11.435   7.573 -25.145  0.00  0.00      P0   H\nATOM   4827 HG12 ILE A 334     -12.922   8.072 -25.565  0.00  0.00      P0   H\nATOM   4828  CD  ILE A 334     -11.989   6.960 -27.036  0.00  0.00      P0   C\nATOM   4829  HD1 ILE A 334     -11.340   6.202 -27.069  0.00  0.00      P0   H\nATOM   4830  HD2 ILE A 334     -11.595   7.758 -27.490  0.00  0.00      P0   H\nATOM   4831  HD3 ILE A 334     -12.836   6.697 -27.496  0.00  0.00      P0   H\nATOM   4832  C   ILE A 334     -14.054   5.553 -22.626  0.00  1.00      P0   C\nATOM   4833  O   ILE A 334     -15.273   5.732 -22.509  0.00  1.00      P0   O\nATOM   4834  N   ALA A 335     -13.447   4.473 -22.129  0.00  1.00      P0   N\nATOM   4835  HN  ALA A 335     -12.428   4.435 -22.274  0.00  0.00      P0   H\nATOM   4836  CA  ALA A 335     -14.216   3.444 -21.435  0.00  8.53      P0   C\nATOM   4837  HA  ALA A 335     -14.921   3.088 -22.063  0.00  0.00      P0   H\nATOM   4838  CB  ALA A 335     -13.308   2.273 -21.059  0.00  0.00      P0   C\nATOM   4839  HB1 ALA A 335     -13.756   1.718 -20.359  0.00  0.00      P0   H\nATOM   4840  HB2 ALA A 335     -12.443   2.626 -20.704  0.00  0.00      P0   H\nATOM   4841  HB3 ALA A 335     -13.135   1.715 -21.868  0.00  0.00      P0   H\nATOM   4842  C   ALA A 335     -14.905   4.007 -20.200  0.00  1.00      P0   C\nATOM   4843  O   ALA A 335     -16.026   3.605 -19.867  0.00  1.00      P0   O\nATOM   4844  N   PHE A 336     -14.250   4.942 -19.507  0.00  1.00      P0   N\nATOM   4845  HN  PHE A 336     -13.295   5.141 -19.827  0.00  0.00      P0   H\nATOM   4846  CA  PHE A 336     -14.895   5.606 -18.380  0.00  8.54      P0   C\nATOM   4847  HA  PHE A 336     -15.283   4.885 -17.797  0.00  0.00      P0   H\nATOM   4848  CB  PHE A 336     -13.884   6.461 -17.616  0.00  0.00      P0   C\nATOM   4849  HB1 PHE A 336     -14.358   6.886 -16.857  0.00  0.00      P0   H\nATOM   4850  HB2 PHE A 336     -13.531   7.144 -18.241  0.00  0.00      P0   H\nATOM   4851  CG  PHE A 336     -12.719   5.690 -17.063  0.00  0.00      P0   C\nATOM   4852  CD1 PHE A 336     -12.805   4.323 -16.854  0.00  0.00      P0   C\nATOM   4853  HD1 PHE A 336     -13.649   3.839 -17.074  0.00  0.00      P0   H\nATOM   4854  CE1 PHE A 336     -11.731   3.617 -16.344  0.00  0.00      P0   C\nATOM   4855  HE1 PHE A 336     -11.814   2.622 -16.198  0.00  0.00      P0   H\nATOM   4856  CZ  PHE A 336     -10.556   4.274 -16.037  0.00  0.00      P0   C\nATOM   4857  HZ  PHE A 336      -9.779   3.762 -15.669  0.00  0.00      P0   H\nATOM   4858  CD2 PHE A 336     -11.535   6.337 -16.750  0.00  0.00      P0   C\nATOM   4859  HD2 PHE A 336     -11.460   7.327 -16.896  0.00  0.00      P0   H\nATOM   4860  CE2 PHE A 336     -10.458   5.637 -16.240  0.00  0.00      P0   C\nATOM   4861  HE2 PHE A 336      -9.600   6.129 -16.016  0.00  0.00      P0   H\nATOM   4862  C   PHE A 336     -16.061   6.465 -18.851  0.00  1.00      P0   C\nATOM   4863  O   PHE A 336     -17.137   6.454 -18.240  0.00  1.00      P0   O\nATOM   4864  N   GLN A 337     -15.864   7.214 -19.939  0.00  1.00      P0   N\nATOM   4865  HN  GLN A 337     -14.933   7.115 -20.376  0.00  0.00      P0   H\nATOM   4866  CA  GLN A 337     -16.911   8.095 -20.442  0.00  8.55      P0   C\nATOM   4867  HA  GLN A 337     -17.205   8.692 -19.683  0.00  0.00      P0   H\nATOM   4868  CB  GLN A 337     -16.361   8.963 -21.573  0.00  0.00      P0   C\nATOM   4869  HB1 GLN A 337     -17.116   9.491 -21.969  0.00  0.00      P0   H\nATOM   4870  HB2 GLN A 337     -15.974   8.365 -22.278  0.00  0.00      P0   H\nATOM   4871  CG  GLN A 337     -15.281   9.938 -21.134  0.00  0.00      P0   C\nATOM   4872  HG1 GLN A 337     -14.649   9.462 -20.523  0.00  0.00      P0   H\nATOM   4873  HG2 GLN A 337     -15.713  10.695 -20.643  0.00  0.00      P0   H\nATOM   4874  CD  GLN A 337     -14.495  10.505 -22.299  0.00  0.00      P0   C\nATOM   4875  OE1 GLN A 337     -14.467   9.926 -23.385  0.00  0.00      P0   O\nATOM   4876  NE2 GLN A 337     -13.846  11.644 -22.079  0.00  0.00      P0   N\nATOM   4877 HE21 GLN A 337     -13.286  12.077 -22.812  0.00  0.00      P0   H\nATOM   4878 HE22 GLN A 337     -13.924  12.073 -21.158  0.00  0.00      P0   H\nATOM   4879  C   GLN A 337     -18.129   7.312 -20.914  0.00  1.00      P0   C\nATOM   4880  O   GLN A 337     -19.263   7.782 -20.765  0.00  1.00      P0   O\nATOM   4881  N   GLU A 338     -17.935   6.110 -21.462  0.00  1.00      P0   N\nATOM   4882  HN  GLU A 338     -16.946   5.805 -21.503  0.00  0.00      P0   H\nATOM   4883  CA  GLU A 338     -19.049   5.312 -21.955  0.00  8.56      P0   C\nATOM   4884  HA  GLU A 338     -19.656   5.878 -22.508  0.00  0.00      P0   H\nATOM   4885  CB  GLU A 338     -18.545   4.171 -22.840  0.00  0.00      P0   C\nATOM   4886  HB1 GLU A 338     -18.129   3.492 -22.255  0.00  0.00      P0   H\nATOM   4887  HB2 GLU A 338     -17.891   4.546 -23.479  0.00  0.00      P0   H\nATOM   4888  CG  GLU A 338     -19.624   3.447 -23.673  0.00  0.00      P0   C\nATOM   4889  HG1 GLU A 338     -19.172   2.975 -24.417  0.00  0.00      P0   H\nATOM   4890  HG2 GLU A 338     -20.254   4.130 -24.017  0.00  0.00      P0   H\nATOM   4891  CD  GLU A 338     -20.467   2.395 -22.916  0.00  0.00      P0   C\nATOM   4892  OE1 GLU A 338     -20.320   2.213 -21.687  0.00  0.00      P0   O\nATOM   4893  OE2 GLU A 338     -21.294   1.732 -23.579  0.00  0.00      P0   O\nATOM   4894  C   GLU A 338     -19.822   4.758 -20.756  0.00  1.00      P0   C\nATOM   4895  O   GLU A 338     -21.053   4.874 -20.691  0.00  1.00      P0   O\nATOM   4896  N   LEU A 339     -19.169   4.445 -19.650  0.00  1.00      P0   N\nATOM   4897  HN  LEU A 339     -18.148   4.634 -19.672  0.00  0.00      P0   H\nATOM   4898  CA  LEU A 339     -19.854   3.875 -18.496  0.00  8.57      P0   C\nATOM   4899  HA  LEU A 339     -20.537   3.207 -18.825  0.00  0.00      P0   H\nATOM   4900  CB  LEU A 339     -18.855   3.131 -17.608  0.00  0.00      P0   C\nATOM   4901  HB1 LEU A 339     -19.301   2.950 -16.732  0.00  0.00      P0   H\nATOM   4902  HB2 LEU A 339     -18.068   3.732 -17.464  0.00  0.00      P0   H\nATOM   4903  CG  LEU A 339     -18.318   1.799 -18.129  0.00  0.00      P0   C\nATOM   4904  HG  LEU A 339     -17.960   1.932 -19.054  0.00  0.00      P0   H\nATOM   4905  CD1 LEU A 339     -17.211   1.274 -17.229  0.00  0.00      P0   C\nATOM   4906 HD11 LEU A 339     -16.460   1.935 -17.201  0.00  0.00      P0   H\nATOM   4907 HD12 LEU A 339     -16.873   0.402 -17.586  0.00  0.00      P0   H\nATOM   4908 HD13 LEU A 339     -17.567   1.137 -16.303  0.00  0.00      P0   H\nATOM   4909  CD2 LEU A 339     -19.448   0.792 -18.228  0.00  0.00      P0   C\nATOM   4910 HD21 LEU A 339     -19.856   0.651 -17.325  0.00  0.00      P0   H\nATOM   4911 HD22 LEU A 339     -20.149   1.132 -18.857  0.00  0.00      P0   H\nATOM   4912 HD23 LEU A 339     -19.094  -0.080 -18.570  0.00  0.00      P0   H\nATOM   4913  C   LEU A 339     -20.579   4.940 -17.683  0.00  1.00      P0   C\nATOM   4914  O   LEU A 339     -21.701   4.714 -17.218  0.00  1.00      P0   O\nATOM   4915  N   LEU A 340     -19.957   6.106 -17.506  0.00  1.00      P0   N\nATOM   4916  HN  LEU A 340     -19.091   6.223 -18.074  0.00  0.00      P0   H\nATOM   4917  CA  LEU A 340     -20.458   7.126 -16.591  0.00  8.58      P0   C\nATOM   4918  HA  LEU A 340     -21.104   6.689 -15.946  0.00  0.00      P0   H\nATOM   4919  CB  LEU A 340     -19.295   7.696 -15.769  0.00  0.00      P0   C\nATOM   4920  HB1 LEU A 340     -19.496   8.663 -15.588  0.00  0.00      P0   H\nATOM   4921  HB2 LEU A 340     -18.466   7.639 -16.335  0.00  0.00      P0   H\nATOM   4922  CG  LEU A 340     -18.970   7.041 -14.424  0.00  0.00      P0   C\nATOM   4923  HG  LEU A 340     -19.661   7.324 -13.750  0.00  0.00      P0   H\nATOM   4924  CD1 LEU A 340     -18.952   5.522 -14.517  0.00  0.00      P0   C\nATOM   4925 HD11 LEU A 340     -19.850   5.194 -14.814  0.00  0.00      P0   H\nATOM   4926 HD12 LEU A 340     -18.736   5.134 -13.620  0.00  0.00      P0   H\nATOM   4927 HD13 LEU A 340     -18.258   5.235 -15.178  0.00  0.00      P0   H\nATOM   4928  CD2 LEU A 340     -17.636   7.558 -13.920  0.00  0.00      P0   C\nATOM   4929 HD21 LEU A 340     -16.917   7.336 -14.581  0.00  0.00      P0   H\nATOM   4930 HD22 LEU A 340     -17.682   8.551 -13.803  0.00  0.00      P0   H\nATOM   4931 HD23 LEU A 340     -17.419   7.132 -13.040  0.00  0.00      P0   H\nATOM   4932  C   LEU A 340     -21.195   8.248 -17.317  0.00  1.00      P0   C\nATOM   4933  O   LEU A 340     -22.398   8.438 -17.114  0.00  1.00      P0   O\nATOM   4934  N   CYS A 341     -20.486   9.001 -18.159  0.00  1.00      P0   N\nATOM   4935  HN  CYS A 341     -19.519   8.683 -18.327  0.00  0.00      P0   H\nATOM   4936  CA  CYS A 341     -21.074  10.186 -18.779  0.00  8.59      P0   C\nATOM   4937  HA  CYS A 341     -21.521  10.730 -18.057  0.00  0.00      P0   H\nATOM   4938  CB  CYS A 341     -19.975  11.038 -19.415  0.00  0.00      P0   C\nATOM   4939  HB1 CYS A 341     -20.402  11.844 -19.820  0.00  0.00      P0   H\nATOM   4940  HB2 CYS A 341     -19.533  10.495 -20.126  0.00  0.00      P0   H\nATOM   4941  SG  CYS A 341     -18.704  11.594 -18.253  0.00  0.00      P0   S\nATOM   4942  HG1 CYS A 341     -17.925  12.212 -19.142  0.00  0.00      P0   H\nATOM   4943  C   CYS A 341     -22.132   9.804 -19.808  0.00  1.00      P0   C\nATOM   4944  O   CYS A 341     -23.290  10.230 -19.715  0.00  1.00      P0   O\nATOM   4945  N   LEU A 342     -21.751   9.002 -20.802  0.00  1.00      P0   N\nATOM   4946  HN  LEU A 342     -20.765   8.707 -20.778  0.00  0.00      P0   H\nATOM   4947  CA  LEU A 342     -22.702   8.595 -21.832  0.00  0.00      P0   C\nATOM   4948  HA  LEU A 342     -23.150   9.419 -22.199  0.00  0.00      P0   H\nATOM   4949  CB  LEU A 342     -21.968   7.912 -22.989  0.00  0.00      P0   C\nATOM   4950  HB1 LEU A 342     -22.612   7.286 -23.433  0.00  0.00      P0   H\nATOM   4951  HB2 LEU A 342     -21.211   7.380 -22.599  0.00  0.00      P0   H\nATOM   4952  CG  LEU A 342     -21.374   8.802 -24.087  0.00  0.00      P0   C\nATOM   4953  HG  LEU A 342     -20.954   8.221 -24.783  0.00  0.00      P0   H\nATOM   4954  CD1 LEU A 342     -22.457   9.657 -24.727  0.00  0.00      P0   C\nATOM   4955 HD11 LEU A 342     -23.155   9.065 -25.132  0.00  0.00      P0   H\nATOM   4956 HD12 LEU A 342     -22.054  10.231 -25.440  0.00  0.00      P0   H\nATOM   4957 HD13 LEU A 342     -22.879  10.239 -24.032  0.00  0.00      P0   H\nATOM   4958  CD2 LEU A 342     -20.236   9.675 -23.569  0.00  0.00      P0   C\nATOM   4959 HD21 LEU A 342     -20.576  10.268 -22.838  0.00  0.00      P0   H\nATOM   4960 HD22 LEU A 342     -19.505   9.093 -23.212  0.00  0.00      P0   H\nATOM   4961 HD23 LEU A 342     -19.881  10.236 -24.315  0.00  0.00      P0   H\nATOM   4962  C   LEU A 342     -23.776   7.679 -21.258  0.00  1.00      P0   C\nATOM   4963  O   LEU A 342     -24.973   7.894 -21.484  0.00  1.00      P0   O\nATOM   4964  N   ARG A 343     -23.349   6.683 -20.456  0.00  1.00      P0   N\nATOM   4965  HN  ARG A 343     -22.312   6.708 -20.288  0.00  0.00      P0   H\nATOM   4966  CA  ARG A 343     -24.225   5.699 -19.897  0.00  0.00      P0   C\nATOM   4967  HA  ARG A 343     -23.694   4.905 -19.591  0.00  0.00      P0   H\nATOM   4968  CB  ARG A 343     -24.991   6.198 -18.657  0.00  0.00      P0   C\nATOM   4969  HB1 ARG A 343     -25.596   6.925 -18.940  0.00  0.00      P0   H\nATOM   4970  HB2 ARG A 343     -24.332   6.515 -17.994  0.00  0.00      P0   H\nATOM   4971  CG  ARG A 343     -25.837   5.103 -18.004  0.00  0.00      P0   C\nATOM   4972  HG1 ARG A 343     -25.254   4.303 -17.821  0.00  0.00      P0   H\nATOM   4973  HG2 ARG A 343     -26.566   4.826 -18.641  0.00  0.00      P0   H\nATOM   4974  CD  ARG A 343     -26.491   5.518 -16.691  0.00  0.00      P0   C\nATOM   4975  HD1 ARG A 343     -27.182   4.870 -16.468  0.00  0.00      P0   H\nATOM   4976  HD2 ARG A 343     -26.816   6.431 -16.778  0.00  0.00      P0   H\nATOM   4977  NE  ARG A 343     -25.432   5.476 -15.647  0.00  0.00      P0   N\nATOM   4978  HE  ARG A 343     -24.834   4.718 -15.594  0.00  0.00      P0   H\nATOM   4979  CZ  ARG A 343     -25.305   6.507 -14.765  0.00  0.00      P0   C\nATOM   4980  NH1 ARG A 343     -26.108   7.603 -14.887  0.00  0.00      P0   N\nATOM   4981 HH11 ARG A 343     -26.785   7.630 -15.601  0.00  0.00      P0   H\nATOM   4982 HH12 ARG A 343     -25.980   8.345 -14.244  0.00  0.00      P0   H\nATOM   4983  NH2 ARG A 343     -24.380   6.432 -13.763  0.00  0.00      P0   N\nATOM   4984 HH21 ARG A 343     -23.826   5.609 -13.685  0.00  0.00      P0   H\nATOM   4985 HH22 ARG A 343     -24.285   7.183 -13.151  0.00  0.00      P0   H\nATOM   4986  C   ARG A 343     -25.207   5.227 -20.975  0.00  1.00      P0   C\nATOM   4987  O   ARG A 343     -24.743   5.008 -22.126  0.00  1.00      P0   O\nATOM   4988  NT  ARG A 343     -25.817   4.540 -20.581  0.00  0.00      P0   N\nATOM   4989  HNT ARG A 343     -26.010   4.053 -19.729  0.00  0.00      P0   H\nATOM   4990  CAT ARG A 343     -26.458   4.232 -21.284  0.00  0.00      P0   C\nATOM   4991  HT1 ARG A 343     -25.942   3.835 -22.043  0.00  0.00      P0   H\nATOM   4992  HT2 ARG A 343     -27.068   3.545 -20.890  0.00  0.00      P0   H\nATOM   4993  HT3 ARG A 343     -26.989   5.015 -21.606  0.00  0.00      P0   H\nEND\n",
           "type": "blob"
          }
         ],
         "kwargs": {
          "defaultRepresentation": false,
          "ext": "pdb",
          "name": "nglview.adaptor.MDAnalysisTrajectory"
         },
         "methodName": "loadFile",
         "reconstruc_color_scheme": false,
         "target": "Stage",
         "type": "call_method"
        },
        {
         "args": [
          "cartoon"
         ],
         "component_index": 0,
         "kwargs": {
          "color": "white",
          "sele": "protein"
         },
         "methodName": "addRepresentation",
         "reconstruc_color_scheme": false,
         "target": "compList",
         "type": "call_method"
        },
        {
         "args": [
          "shape",
          [
           [
            "sphere",
            [
             19.395000457763672,
             9.020000457763672,
             -52.98099899291992
            ],
            [
             0.25098039215686274,
             0.8784313725490196,
             0.8156862745098039,
             1
            ],
            2.5,
            "VAL:242"
           ]
          ]
         ],
         "fire_embed": true,
         "kwargs": {},
         "methodName": "addShape",
         "reconstruc_color_scheme": false,
         "target": "Widget",
         "type": "call_method"
        },
        {
         "args": [
          "shape",
          [
           [
            "sphere",
            [
             1.906000018119812,
             5.718999862670898,
             -46.87799835205078
            ],
            [
             0.28464419475655434,
             0.8838951310861423,
             0.8239700374531835,
             1
            ],
            2.5,
            "GLY:257"
           ]
          ]
         ],
         "fire_embed": true,
         "kwargs": {},
         "methodName": "addShape",
         "reconstruc_color_scheme": false,
         "target": "Widget",
         "type": "call_method"
        },
        {
         "args": [
          "shape",
          [
           [
            "sphere",
            [
             3.005000114440918,
             3.3369998931884766,
             -41.933998107910156
            ],
            [
             0.29342605630429996,
             0.8853204594001743,
             0.8261310190905868,
             1
            ],
            2.5,
            "ARG:259"
           ]
          ]
         ],
         "fire_embed": true,
         "kwargs": {},
         "methodName": "addShape",
         "reconstruc_color_scheme": false,
         "target": "Widget",
         "type": "call_method"
        },
        {
         "args": [
          "shape",
          [
           [
            "sphere",
            [
             2.124000072479248,
             -11.729999542236328,
             -27.76099967956543
            ],
            [
             0.37904920639481976,
             0.8992174104619864,
             0.8472005900552698,
             1
            ],
            2.5,
            "GLN:142"
           ]
          ]
         ],
         "fire_embed": true,
         "kwargs": {},
         "methodName": "addShape",
         "reconstruc_color_scheme": false,
         "target": "Widget",
         "type": "call_method"
        },
        {
         "args": [
          "shape",
          [
           [
            "sphere",
            [
             16.801000595092773,
             3.506999969482422,
             -28.05900001525879
            ],
            [
             0.6622642413096161,
             0.9451842485895189,
             0.9168922478615286,
             1
            ],
            2.5,
            "ARG:228"
           ]
          ]
         ],
         "fire_embed": true,
         "kwargs": {},
         "methodName": "addShape",
         "reconstruc_color_scheme": false,
         "target": "Widget",
         "type": "call_method"
        },
        {
         "args": [
          "shape",
          [
           [
            "sphere",
            [
             18.493999481201172,
             8.248000144958496,
             -49.426998138427734
            ],
            [
             1,
             0.8984453576252192,
             0.7122618466047874,
             1
            ],
            2.5,
            "HIS:241"
           ]
          ]
         ],
         "fire_embed": true,
         "kwargs": {},
         "methodName": "addShape",
         "reconstruc_color_scheme": false,
         "target": "Widget",
         "type": "call_method"
        },
        {
         "args": [
          "shape",
          [
           [
            "sphere",
            [
             8.506999969482422,
             -7.741000175476074,
             -32.09400177001953
            ],
            [
             1,
             0.8984453576252192,
             0.7122618466047874,
             1
            ],
            2.5,
            "PRO:138"
           ]
          ]
         ],
         "fire_embed": true,
         "kwargs": {},
         "methodName": "addShape",
         "reconstruc_color_scheme": false,
         "target": "Widget",
         "type": "call_method"
        },
        {
         "args": [
          "shape",
          [
           [
            "sphere",
            [
             14.902000427246094,
             8.666000366210938,
             -48.42300033569336
            ],
            [
             1,
             0.871892870484784,
             0.6370297997068881,
             1
            ],
            2.5,
            "PHE:240"
           ]
          ]
         ],
         "fire_embed": true,
         "kwargs": {},
         "methodName": "addShape",
         "reconstruc_color_scheme": false,
         "target": "Widget",
         "type": "call_method"
        },
        {
         "args": [
          "shape",
          [
           [
            "sphere",
            [
             5.638000011444092,
             -10.14799976348877,
             -31.496000289916992
            ],
            [
             1,
             0.7394752722779391,
             0.2618466047874939,
             1
            ],
            2.5,
            "PHE:139"
           ]
          ]
         ],
         "fire_embed": true,
         "kwargs": {},
         "methodName": "addShape",
         "reconstruc_color_scheme": false,
         "target": "Widget",
         "type": "call_method"
        },
        {
         "args": [
          "shape",
          [
           [
            "sphere",
            [
             7.249000072479248,
             -6.804999828338623,
             -24.45599937438965
            ],
            [
             1,
             0.6470588235294118,
             0,
             1
            ],
            2.5,
            "ALA:134"
           ]
          ]
         ],
         "fire_embed": true,
         "kwargs": {},
         "methodName": "addShape",
         "reconstruc_color_scheme": false,
         "target": "Widget",
         "type": "call_method"
        },
        {
         "args": [
          "shape",
          [
           [
            "sphere",
            [
             5.429999828338623,
             7.0960001945495605,
             -29.76099967956543
            ],
            [
             1,
             0.6470588235294118,
             0,
             1
            ],
            2.5,
            "LEU:266"
           ]
          ]
         ],
         "fire_embed": true,
         "kwargs": {},
         "methodName": "addShape",
         "reconstruc_color_scheme": false,
         "target": "Widget",
         "type": "call_method"
        },
        {
         "args": [
          "shape",
          [
           [
            "sphere",
            [
             15.97700023651123,
             6.4079999923706055,
             -32.20899963378906
            ],
            [
             1,
             0.6470588235294118,
             0,
             1
            ],
            2.5,
            "GLN:231"
           ]
          ]
         ],
         "fire_embed": true,
         "kwargs": {},
         "methodName": "addShape",
         "reconstruc_color_scheme": false,
         "target": "Widget",
         "type": "call_method"
        },
        {
         "args": [
          "shape",
          [
           [
            "sphere",
            [
             14.347000122070312,
             1.965000033378601,
             -30.54400062561035
            ],
            [
             1,
             0.6470588235294118,
             0,
             1
            ],
            2.5,
            "GLN:229"
           ]
          ]
         ],
         "fire_embed": true,
         "kwargs": {},
         "methodName": "addShape",
         "reconstruc_color_scheme": false,
         "target": "Widget",
         "type": "call_method"
        },
        {
         "args": [
          "shape",
          [
           [
            "sphere",
            [
             16.05900001525879,
             3.0799999237060547,
             -21.988000869750977
            ],
            [
             1,
             0.6470588235294118,
             0,
             1
            ],
            2.5,
            "GLN:224"
           ]
          ]
         ],
         "fire_embed": true,
         "kwargs": {},
         "methodName": "addShape",
         "reconstruc_color_scheme": false,
         "target": "Widget",
         "type": "call_method"
        },
        {
         "args": [
          "shape",
          [
           [
            "sphere",
            [
             14.260000228881836,
             5.769999980926514,
             -26.334999084472656
            ],
            [
             1,
             0.6470588235294118,
             0,
             1
            ],
            2.5,
            "LYS:227"
           ]
          ]
         ],
         "fire_embed": true,
         "kwargs": {},
         "methodName": "addShape",
         "reconstruc_color_scheme": false,
         "target": "Widget",
         "type": "call_method"
        },
        {
         "args": [
          "shape",
          [
           [
            "sphere",
            [
             14.937999725341797,
             0.6159999966621399,
             -24.66200065612793
            ],
            [
             1,
             0.6470588235294118,
             0,
             1
            ],
            2.5,
            "GLU:225"
           ]
          ]
         ],
         "fire_embed": true,
         "kwargs": {},
         "methodName": "addShape",
         "reconstruc_color_scheme": false,
         "target": "Widget",
         "type": "call_method"
        },
        {
         "args": [
          "shape",
          [
           [
            "sphere",
            [
             2.3010001182556152,
             -15.39799976348877,
             -28.534000396728516
            ],
            [
             1,
             0.6470588235294118,
             0,
             1
            ],
            2.5,
            "SER:143"
           ]
          ]
         ],
         "fire_embed": true,
         "kwargs": {},
         "methodName": "addShape",
         "reconstruc_color_scheme": false,
         "target": "Widget",
         "type": "call_method"
        },
        {
         "args": [
          "shape",
          [
           [
            "sphere",
            [
             5.646999835968018,
             -11.423999786376953,
             -26.46299934387207
            ],
            [
             1,
             0.6470588235294118,
             0,
             1
            ],
            2.5,
            "TYR:141"
           ]
          ]
         ],
         "fire_embed": true,
         "kwargs": {},
         "methodName": "addShape",
         "reconstruc_color_scheme": false,
         "target": "Widget",
         "type": "call_method"
        },
        {
         "args": [
          "shape",
          [
           [
            "sphere",
            [
             1.7300000190734863,
             6.5879998207092285,
             -43.262001037597656
            ],
            [
             1,
             0.6470588235294118,
             0,
             1
            ],
            2.5,
            "LEU:258"
           ]
          ]
         ],
         "fire_embed": true,
         "kwargs": {},
         "methodName": "addShape",
         "reconstruc_color_scheme": false,
         "target": "Widget",
         "type": "call_method"
        },
        {
         "args": [
          "shape",
          [
           [
            "sphere",
            [
             12.413000106811523,
             10.12600040435791,
             -42.643001556396484
            ],
            [
             1,
             0.6470588235294118,
             0,
             1
            ],
            2.5,
            "GLY:238"
           ]
          ]
         ],
         "fire_embed": true,
         "kwargs": {},
         "methodName": "addShape",
         "reconstruc_color_scheme": false,
         "target": "Widget",
         "type": "call_method"
        }
       ],
       "_ngl_original_stage_parameters": {
        "ambientColor": 14540253,
        "ambientIntensity": 0.2,
        "backgroundColor": "white",
        "cameraEyeSep": 0.3,
        "cameraFov": 40,
        "cameraType": "perspective",
        "clipDist": 10,
        "clipFar": 100,
        "clipMode": "scene",
        "clipNear": 0,
        "clipScale": "relative",
        "fogFar": 100,
        "fogNear": 50,
        "hoverTimeout": 0,
        "impostor": true,
        "lightColor": 14540253,
        "lightIntensity": 1,
        "mousePreset": "default",
        "panSpeed": 1,
        "quality": "medium",
        "rotateSpeed": 2,
        "sampleLevel": 0,
        "tooltip": true,
        "workerDefault": true,
        "zoomSpeed": 1.2
       },
       "_ngl_repr_dict": {
        "0": {
         "0": {
          "params": {
           "aspectRatio": 5,
           "assembly": "default",
           "capped": true,
           "clipCenter": {
            "x": 0,
            "y": 0,
            "z": 0
           },
           "clipNear": 0,
           "clipRadius": 0,
           "colorMode": "hcl",
           "colorReverse": false,
           "colorScale": "RdYlBu",
           "colorScheme": "uniform",
           "colorValue": 16777215,
           "defaultAssembly": "",
           "depthWrite": true,
           "diffuse": 16777215,
           "diffuseInterior": false,
           "disablePicking": false,
           "flatShaded": false,
           "interiorColor": 2236962,
           "interiorDarkening": 0,
           "lazy": false,
           "matrix": {
            "elements": [
             1,
             0,
             0,
             0,
             0,
             1,
             0,
             0,
             0,
             0,
             1,
             0,
             0,
             0,
             0,
             1
            ]
           },
           "metalness": 0,
           "opacity": 1,
           "quality": "medium",
           "radialSegments": 10,
           "radiusData": {},
           "radiusScale": 0.7,
           "radiusSize": 1,
           "radiusType": "sstruc",
           "roughness": 0.4,
           "sele": "protein",
           "side": "double",
           "smoothSheet": false,
           "subdiv": 6,
           "tension": null,
           "useInteriorColor": true,
           "visible": true,
           "wireframe": false
          },
          "type": "cartoon"
         }
        },
        "1": {
         "0": {
          "params": {
           "clipCenter": {
            "x": 0,
            "y": 0,
            "z": 0
           },
           "clipNear": 0,
           "clipRadius": 0,
           "colorReverse": false,
           "depthWrite": true,
           "diffuse": 16777215,
           "diffuseInterior": false,
           "disablePicking": false,
           "flatShaded": false,
           "interiorColor": 2236962,
           "interiorDarkening": 0,
           "lazy": false,
           "matrix": {
            "elements": [
             1,
             0,
             0,
             0,
             0,
             1,
             0,
             0,
             0,
             0,
             1,
             0,
             0,
             0,
             0,
             1
            ]
           },
           "metalness": 0,
           "opacity": 1,
           "quality": "medium",
           "roughness": 0.4,
           "side": "double",
           "useInteriorColor": false,
           "visible": true,
           "wireframe": false
          },
          "type": "buffer"
         }
        },
        "10": {
         "0": {
          "params": {
           "clipCenter": {
            "x": 0,
            "y": 0,
            "z": 0
           },
           "clipNear": 0,
           "clipRadius": 0,
           "colorReverse": false,
           "depthWrite": true,
           "diffuse": 16777215,
           "diffuseInterior": false,
           "disablePicking": false,
           "flatShaded": false,
           "interiorColor": 2236962,
           "interiorDarkening": 0,
           "lazy": false,
           "matrix": {
            "elements": [
             1,
             0,
             0,
             0,
             0,
             1,
             0,
             0,
             0,
             0,
             1,
             0,
             0,
             0,
             0,
             1
            ]
           },
           "metalness": 0,
           "opacity": 1,
           "quality": "medium",
           "roughness": 0.4,
           "side": "double",
           "useInteriorColor": false,
           "visible": true,
           "wireframe": false
          },
          "type": "buffer"
         }
        },
        "11": {
         "0": {
          "params": {
           "clipCenter": {
            "x": 0,
            "y": 0,
            "z": 0
           },
           "clipNear": 0,
           "clipRadius": 0,
           "colorReverse": false,
           "depthWrite": true,
           "diffuse": 16777215,
           "diffuseInterior": false,
           "disablePicking": false,
           "flatShaded": false,
           "interiorColor": 2236962,
           "interiorDarkening": 0,
           "lazy": false,
           "matrix": {
            "elements": [
             1,
             0,
             0,
             0,
             0,
             1,
             0,
             0,
             0,
             0,
             1,
             0,
             0,
             0,
             0,
             1
            ]
           },
           "metalness": 0,
           "opacity": 1,
           "quality": "medium",
           "roughness": 0.4,
           "side": "double",
           "useInteriorColor": false,
           "visible": true,
           "wireframe": false
          },
          "type": "buffer"
         }
        },
        "12": {
         "0": {
          "params": {
           "clipCenter": {
            "x": 0,
            "y": 0,
            "z": 0
           },
           "clipNear": 0,
           "clipRadius": 0,
           "colorReverse": false,
           "depthWrite": true,
           "diffuse": 16777215,
           "diffuseInterior": false,
           "disablePicking": false,
           "flatShaded": false,
           "interiorColor": 2236962,
           "interiorDarkening": 0,
           "lazy": false,
           "matrix": {
            "elements": [
             1,
             0,
             0,
             0,
             0,
             1,
             0,
             0,
             0,
             0,
             1,
             0,
             0,
             0,
             0,
             1
            ]
           },
           "metalness": 0,
           "opacity": 1,
           "quality": "medium",
           "roughness": 0.4,
           "side": "double",
           "useInteriorColor": false,
           "visible": true,
           "wireframe": false
          },
          "type": "buffer"
         }
        },
        "13": {
         "0": {
          "params": {
           "clipCenter": {
            "x": 0,
            "y": 0,
            "z": 0
           },
           "clipNear": 0,
           "clipRadius": 0,
           "colorReverse": false,
           "depthWrite": true,
           "diffuse": 16777215,
           "diffuseInterior": false,
           "disablePicking": false,
           "flatShaded": false,
           "interiorColor": 2236962,
           "interiorDarkening": 0,
           "lazy": false,
           "matrix": {
            "elements": [
             1,
             0,
             0,
             0,
             0,
             1,
             0,
             0,
             0,
             0,
             1,
             0,
             0,
             0,
             0,
             1
            ]
           },
           "metalness": 0,
           "opacity": 1,
           "quality": "medium",
           "roughness": 0.4,
           "side": "double",
           "useInteriorColor": false,
           "visible": true,
           "wireframe": false
          },
          "type": "buffer"
         }
        },
        "14": {
         "0": {
          "params": {
           "clipCenter": {
            "x": 0,
            "y": 0,
            "z": 0
           },
           "clipNear": 0,
           "clipRadius": 0,
           "colorReverse": false,
           "depthWrite": true,
           "diffuse": 16777215,
           "diffuseInterior": false,
           "disablePicking": false,
           "flatShaded": false,
           "interiorColor": 2236962,
           "interiorDarkening": 0,
           "lazy": false,
           "matrix": {
            "elements": [
             1,
             0,
             0,
             0,
             0,
             1,
             0,
             0,
             0,
             0,
             1,
             0,
             0,
             0,
             0,
             1
            ]
           },
           "metalness": 0,
           "opacity": 1,
           "quality": "medium",
           "roughness": 0.4,
           "side": "double",
           "useInteriorColor": false,
           "visible": true,
           "wireframe": false
          },
          "type": "buffer"
         }
        },
        "15": {
         "0": {
          "params": {
           "clipCenter": {
            "x": 0,
            "y": 0,
            "z": 0
           },
           "clipNear": 0,
           "clipRadius": 0,
           "colorReverse": false,
           "depthWrite": true,
           "diffuse": 16777215,
           "diffuseInterior": false,
           "disablePicking": false,
           "flatShaded": false,
           "interiorColor": 2236962,
           "interiorDarkening": 0,
           "lazy": false,
           "matrix": {
            "elements": [
             1,
             0,
             0,
             0,
             0,
             1,
             0,
             0,
             0,
             0,
             1,
             0,
             0,
             0,
             0,
             1
            ]
           },
           "metalness": 0,
           "opacity": 1,
           "quality": "medium",
           "roughness": 0.4,
           "side": "double",
           "useInteriorColor": false,
           "visible": true,
           "wireframe": false
          },
          "type": "buffer"
         }
        },
        "16": {
         "0": {
          "params": {
           "clipCenter": {
            "x": 0,
            "y": 0,
            "z": 0
           },
           "clipNear": 0,
           "clipRadius": 0,
           "colorReverse": false,
           "depthWrite": true,
           "diffuse": 16777215,
           "diffuseInterior": false,
           "disablePicking": false,
           "flatShaded": false,
           "interiorColor": 2236962,
           "interiorDarkening": 0,
           "lazy": false,
           "matrix": {
            "elements": [
             1,
             0,
             0,
             0,
             0,
             1,
             0,
             0,
             0,
             0,
             1,
             0,
             0,
             0,
             0,
             1
            ]
           },
           "metalness": 0,
           "opacity": 1,
           "quality": "medium",
           "roughness": 0.4,
           "side": "double",
           "useInteriorColor": false,
           "visible": true,
           "wireframe": false
          },
          "type": "buffer"
         }
        },
        "17": {
         "0": {
          "params": {
           "clipCenter": {
            "x": 0,
            "y": 0,
            "z": 0
           },
           "clipNear": 0,
           "clipRadius": 0,
           "colorReverse": false,
           "depthWrite": true,
           "diffuse": 16777215,
           "diffuseInterior": false,
           "disablePicking": false,
           "flatShaded": false,
           "interiorColor": 2236962,
           "interiorDarkening": 0,
           "lazy": false,
           "matrix": {
            "elements": [
             1,
             0,
             0,
             0,
             0,
             1,
             0,
             0,
             0,
             0,
             1,
             0,
             0,
             0,
             0,
             1
            ]
           },
           "metalness": 0,
           "opacity": 1,
           "quality": "medium",
           "roughness": 0.4,
           "side": "double",
           "useInteriorColor": false,
           "visible": true,
           "wireframe": false
          },
          "type": "buffer"
         }
        },
        "18": {
         "0": {
          "params": {
           "clipCenter": {
            "x": 0,
            "y": 0,
            "z": 0
           },
           "clipNear": 0,
           "clipRadius": 0,
           "colorReverse": false,
           "depthWrite": true,
           "diffuse": 16777215,
           "diffuseInterior": false,
           "disablePicking": false,
           "flatShaded": false,
           "interiorColor": 2236962,
           "interiorDarkening": 0,
           "lazy": false,
           "matrix": {
            "elements": [
             1,
             0,
             0,
             0,
             0,
             1,
             0,
             0,
             0,
             0,
             1,
             0,
             0,
             0,
             0,
             1
            ]
           },
           "metalness": 0,
           "opacity": 1,
           "quality": "medium",
           "roughness": 0.4,
           "side": "double",
           "useInteriorColor": false,
           "visible": true,
           "wireframe": false
          },
          "type": "buffer"
         }
        },
        "19": {
         "0": {
          "params": {
           "clipCenter": {
            "x": 0,
            "y": 0,
            "z": 0
           },
           "clipNear": 0,
           "clipRadius": 0,
           "colorReverse": false,
           "depthWrite": true,
           "diffuse": 16777215,
           "diffuseInterior": false,
           "disablePicking": false,
           "flatShaded": false,
           "interiorColor": 2236962,
           "interiorDarkening": 0,
           "lazy": false,
           "matrix": {
            "elements": [
             1,
             0,
             0,
             0,
             0,
             1,
             0,
             0,
             0,
             0,
             1,
             0,
             0,
             0,
             0,
             1
            ]
           },
           "metalness": 0,
           "opacity": 1,
           "quality": "medium",
           "roughness": 0.4,
           "side": "double",
           "useInteriorColor": false,
           "visible": true,
           "wireframe": false
          },
          "type": "buffer"
         }
        },
        "2": {
         "0": {
          "params": {
           "clipCenter": {
            "x": 0,
            "y": 0,
            "z": 0
           },
           "clipNear": 0,
           "clipRadius": 0,
           "colorReverse": false,
           "depthWrite": true,
           "diffuse": 16777215,
           "diffuseInterior": false,
           "disablePicking": false,
           "flatShaded": false,
           "interiorColor": 2236962,
           "interiorDarkening": 0,
           "lazy": false,
           "matrix": {
            "elements": [
             1,
             0,
             0,
             0,
             0,
             1,
             0,
             0,
             0,
             0,
             1,
             0,
             0,
             0,
             0,
             1
            ]
           },
           "metalness": 0,
           "opacity": 1,
           "quality": "medium",
           "roughness": 0.4,
           "side": "double",
           "useInteriorColor": false,
           "visible": true,
           "wireframe": false
          },
          "type": "buffer"
         }
        },
        "20": {
         "0": {
          "params": {
           "clipCenter": {
            "x": 0,
            "y": 0,
            "z": 0
           },
           "clipNear": 0,
           "clipRadius": 0,
           "colorReverse": false,
           "depthWrite": true,
           "diffuse": 16777215,
           "diffuseInterior": false,
           "disablePicking": false,
           "flatShaded": false,
           "interiorColor": 2236962,
           "interiorDarkening": 0,
           "lazy": false,
           "matrix": {
            "elements": [
             1,
             0,
             0,
             0,
             0,
             1,
             0,
             0,
             0,
             0,
             1,
             0,
             0,
             0,
             0,
             1
            ]
           },
           "metalness": 0,
           "opacity": 1,
           "quality": "medium",
           "roughness": 0.4,
           "side": "double",
           "useInteriorColor": false,
           "visible": true,
           "wireframe": false
          },
          "type": "buffer"
         }
        },
        "3": {
         "0": {
          "params": {
           "clipCenter": {
            "x": 0,
            "y": 0,
            "z": 0
           },
           "clipNear": 0,
           "clipRadius": 0,
           "colorReverse": false,
           "depthWrite": true,
           "diffuse": 16777215,
           "diffuseInterior": false,
           "disablePicking": false,
           "flatShaded": false,
           "interiorColor": 2236962,
           "interiorDarkening": 0,
           "lazy": false,
           "matrix": {
            "elements": [
             1,
             0,
             0,
             0,
             0,
             1,
             0,
             0,
             0,
             0,
             1,
             0,
             0,
             0,
             0,
             1
            ]
           },
           "metalness": 0,
           "opacity": 1,
           "quality": "medium",
           "roughness": 0.4,
           "side": "double",
           "useInteriorColor": false,
           "visible": true,
           "wireframe": false
          },
          "type": "buffer"
         }
        },
        "4": {
         "0": {
          "params": {
           "clipCenter": {
            "x": 0,
            "y": 0,
            "z": 0
           },
           "clipNear": 0,
           "clipRadius": 0,
           "colorReverse": false,
           "depthWrite": true,
           "diffuse": 16777215,
           "diffuseInterior": false,
           "disablePicking": false,
           "flatShaded": false,
           "interiorColor": 2236962,
           "interiorDarkening": 0,
           "lazy": false,
           "matrix": {
            "elements": [
             1,
             0,
             0,
             0,
             0,
             1,
             0,
             0,
             0,
             0,
             1,
             0,
             0,
             0,
             0,
             1
            ]
           },
           "metalness": 0,
           "opacity": 1,
           "quality": "medium",
           "roughness": 0.4,
           "side": "double",
           "useInteriorColor": false,
           "visible": true,
           "wireframe": false
          },
          "type": "buffer"
         }
        },
        "5": {
         "0": {
          "params": {
           "clipCenter": {
            "x": 0,
            "y": 0,
            "z": 0
           },
           "clipNear": 0,
           "clipRadius": 0,
           "colorReverse": false,
           "depthWrite": true,
           "diffuse": 16777215,
           "diffuseInterior": false,
           "disablePicking": false,
           "flatShaded": false,
           "interiorColor": 2236962,
           "interiorDarkening": 0,
           "lazy": false,
           "matrix": {
            "elements": [
             1,
             0,
             0,
             0,
             0,
             1,
             0,
             0,
             0,
             0,
             1,
             0,
             0,
             0,
             0,
             1
            ]
           },
           "metalness": 0,
           "opacity": 1,
           "quality": "medium",
           "roughness": 0.4,
           "side": "double",
           "useInteriorColor": false,
           "visible": true,
           "wireframe": false
          },
          "type": "buffer"
         }
        },
        "6": {
         "0": {
          "params": {
           "clipCenter": {
            "x": 0,
            "y": 0,
            "z": 0
           },
           "clipNear": 0,
           "clipRadius": 0,
           "colorReverse": false,
           "depthWrite": true,
           "diffuse": 16777215,
           "diffuseInterior": false,
           "disablePicking": false,
           "flatShaded": false,
           "interiorColor": 2236962,
           "interiorDarkening": 0,
           "lazy": false,
           "matrix": {
            "elements": [
             1,
             0,
             0,
             0,
             0,
             1,
             0,
             0,
             0,
             0,
             1,
             0,
             0,
             0,
             0,
             1
            ]
           },
           "metalness": 0,
           "opacity": 1,
           "quality": "medium",
           "roughness": 0.4,
           "side": "double",
           "useInteriorColor": false,
           "visible": true,
           "wireframe": false
          },
          "type": "buffer"
         }
        },
        "7": {
         "0": {
          "params": {
           "clipCenter": {
            "x": 0,
            "y": 0,
            "z": 0
           },
           "clipNear": 0,
           "clipRadius": 0,
           "colorReverse": false,
           "depthWrite": true,
           "diffuse": 16777215,
           "diffuseInterior": false,
           "disablePicking": false,
           "flatShaded": false,
           "interiorColor": 2236962,
           "interiorDarkening": 0,
           "lazy": false,
           "matrix": {
            "elements": [
             1,
             0,
             0,
             0,
             0,
             1,
             0,
             0,
             0,
             0,
             1,
             0,
             0,
             0,
             0,
             1
            ]
           },
           "metalness": 0,
           "opacity": 1,
           "quality": "medium",
           "roughness": 0.4,
           "side": "double",
           "useInteriorColor": false,
           "visible": true,
           "wireframe": false
          },
          "type": "buffer"
         }
        },
        "8": {
         "0": {
          "params": {
           "clipCenter": {
            "x": 0,
            "y": 0,
            "z": 0
           },
           "clipNear": 0,
           "clipRadius": 0,
           "colorReverse": false,
           "depthWrite": true,
           "diffuse": 16777215,
           "diffuseInterior": false,
           "disablePicking": false,
           "flatShaded": false,
           "interiorColor": 2236962,
           "interiorDarkening": 0,
           "lazy": false,
           "matrix": {
            "elements": [
             1,
             0,
             0,
             0,
             0,
             1,
             0,
             0,
             0,
             0,
             1,
             0,
             0,
             0,
             0,
             1
            ]
           },
           "metalness": 0,
           "opacity": 1,
           "quality": "medium",
           "roughness": 0.4,
           "side": "double",
           "useInteriorColor": false,
           "visible": true,
           "wireframe": false
          },
          "type": "buffer"
         }
        },
        "9": {
         "0": {
          "params": {
           "clipCenter": {
            "x": 0,
            "y": 0,
            "z": 0
           },
           "clipNear": 0,
           "clipRadius": 0,
           "colorReverse": false,
           "depthWrite": true,
           "diffuse": 16777215,
           "diffuseInterior": false,
           "disablePicking": false,
           "flatShaded": false,
           "interiorColor": 2236962,
           "interiorDarkening": 0,
           "lazy": false,
           "matrix": {
            "elements": [
             1,
             0,
             0,
             0,
             0,
             1,
             0,
             0,
             0,
             0,
             1,
             0,
             0,
             0,
             0,
             1
            ]
           },
           "metalness": 0,
           "opacity": 1,
           "quality": "medium",
           "roughness": 0.4,
           "side": "double",
           "useInteriorColor": false,
           "visible": true,
           "wireframe": false
          },
          "type": "buffer"
         }
        }
       },
       "_ngl_serialize": false,
       "_ngl_version": "2.0.0-dev.39",
       "_ngl_view_id": [
        "1DE31B67-8D28-491E-96C5-49639F1684D0"
       ],
       "_player_dict": {},
       "_scene_position": {},
       "_scene_rotation": {},
       "_synced_model_ids": [],
       "_synced_repr_model_ids": [],
       "_view_height": "",
       "_view_width": "",
       "background": "white",
       "frame": 0,
       "gui_style": null,
       "layout": "IPY_MODEL_71f4389f4f0a43498af75df790252f08",
       "max_frame": 0,
       "n_components": 21,
       "picked": {}
      }
     },
     "e91f713619e84dd69fcd41dae5215635": {
      "model_module": "@jupyter-widgets/controls",
      "model_module_version": "1.5.0",
      "model_name": "DescriptionStyleModel",
      "state": {
       "description_width": ""
      }
     },
     "ea4d35840acf4bc8a07b662f24e557c5": {
      "model_module": "@jupyter-widgets/controls",
      "model_module_version": "1.5.0",
      "model_name": "LinkModel",
      "state": {
       "source": [
        "IPY_MODEL_8771c97f6ecd413bb997b52766399f39",
        "value"
       ],
       "target": [
        "IPY_MODEL_e447d089cfa243fbb190eaca0862550c",
        "frame"
       ]
      }
     }
    },
    "version_major": 2,
    "version_minor": 0
   }
  }
 },
 "nbformat": 4,
 "nbformat_minor": 5
}
